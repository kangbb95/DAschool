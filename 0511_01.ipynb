{
  "nbformat": 4,
  "nbformat_minor": 0,
  "metadata": {
    "colab": {
      "provenance": []
    },
    "kernelspec": {
      "name": "python3",
      "display_name": "Python 3"
    },
    "language_info": {
      "name": "python"
    }
  },
  "cells": [
    {
      "cell_type": "markdown",
      "source": [
        "# 1. 텍스트 파일 가공하기"
      ],
      "metadata": {
        "id": "fB6RQs7-LV9n"
      }
    },
    {
      "cell_type": "markdown",
      "source": [
        "* 파일 입출력 복습\n",
        "\n",
        "* 우리는 파일을 읽고 쓰는거 없이 데이터 분석을 할수 없습니다.\n",
        "* 당연히 코딩을 하기 위해서는 데이터를 불러와야하고, 데이터를 분석한 후에는 결과물을 저장 해야합니다.\n",
        "* 예를 들어 문서가 어디에 있는지, 텍스트 파일이냐 CSV파일이냐에 따라 읽어드리는 방식이 다르고,\n",
        "* 저장하는 방식에 따라 향후 데이터를 또 어떻게 불어와야할지가 다릅니다.\n",
        "* 다른 사람이 저장해놓은 것을 그대로 읽을수도 있습니다.\n",
        "\n",
        "* 이런 일련과정을 파일 입출력이라고 합니다."
      ],
      "metadata": {
        "id": "p5xgIzf6L6tn"
      }
    },
    {
      "cell_type": "code",
      "execution_count": null,
      "metadata": {
        "colab": {
          "base_uri": "https://localhost:8080/",
          "height": 35
        },
        "id": "AS1XOH5nJsVF",
        "outputId": "8de873b1-fe25-4172-97b0-f159cc2f4bd8"
      },
      "outputs": [
        {
          "output_type": "execute_result",
          "data": {
            "text/plain": [
              "'/content'"
            ],
            "application/vnd.google.colaboratory.intrinsic+json": {
              "type": "string"
            }
          },
          "metadata": {},
          "execution_count": 1
        }
      ],
      "source": [
        "# 파일의 현재 위치 확인\n",
        "\n",
        "import os\n",
        "os.getcwd()"
      ]
    },
    {
      "cell_type": "code",
      "source": [
        "# 폴더(경로)이동하기\n",
        "\n",
        "os.chdir('/content/sample_data')"
      ],
      "metadata": {
        "id": "AjfZaaXbMD9n"
      },
      "execution_count": null,
      "outputs": []
    },
    {
      "cell_type": "code",
      "source": [
        "# 확인하고, 안에 있는 파일 확인하기\n",
        "\n",
        "os.getcwd()"
      ],
      "metadata": {
        "colab": {
          "base_uri": "https://localhost:8080/",
          "height": 35
        },
        "id": "Bjxy3CeXM1bH",
        "outputId": "75fbf378-9d60-400e-dd23-89bcfd5c5920"
      },
      "execution_count": null,
      "outputs": [
        {
          "output_type": "execute_result",
          "data": {
            "text/plain": [
              "'/content/sample_data'"
            ],
            "application/vnd.google.colaboratory.intrinsic+json": {
              "type": "string"
            }
          },
          "metadata": {},
          "execution_count": 3
        }
      ]
    },
    {
      "cell_type": "code",
      "source": [
        "# 폴더안에 파일이 어떤게 있는지 확인하기\n",
        "os.listdir()"
      ],
      "metadata": {
        "colab": {
          "base_uri": "https://localhost:8080/"
        },
        "id": "-PqX_jpNNWon",
        "outputId": "2f95c066-ad98-493b-a2a9-82f7097087ca"
      },
      "execution_count": null,
      "outputs": [
        {
          "output_type": "execute_result",
          "data": {
            "text/plain": [
              "['README.md',\n",
              " 'anscombe.json',\n",
              " 'a.txt',\n",
              " 'test.txt',\n",
              " '한글_테스트.txt',\n",
              " 'abcde.txt',\n",
              " 'mnist_test.csv',\n",
              " 'california_housing_test.csv',\n",
              " 'california_housing_train.csv',\n",
              " 'mnist_train_small.csv']"
            ]
          },
          "metadata": {},
          "execution_count": 4
        }
      ]
    },
    {
      "cell_type": "code",
      "source": [
        "list_dir = os.listdir()\n",
        "print(list_dir)"
      ],
      "metadata": {
        "colab": {
          "base_uri": "https://localhost:8080/"
        },
        "id": "p7PHw2B7NXq_",
        "outputId": "73e287dc-fd7a-47ee-9a87-ddbc75fd29ee"
      },
      "execution_count": null,
      "outputs": [
        {
          "output_type": "stream",
          "name": "stdout",
          "text": [
            "['README.md', 'anscombe.json', 'a.txt', 'test.txt', '한글_테스트.txt', 'abcde.txt', 'mnist_test.csv', 'california_housing_test.csv', 'california_housing_train.csv', 'mnist_train_small.csv']\n"
          ]
        }
      ]
    },
    {
      "cell_type": "code",
      "source": [
        "# 파일 열고 쓰고\n",
        "# 파일 열기\n",
        "\n",
        "f = open('a.txt', 'w')"
      ],
      "metadata": {
        "id": "7gH-M2u5NdbC"
      },
      "execution_count": null,
      "outputs": []
    },
    {
      "cell_type": "code",
      "source": [
        "f.close()"
      ],
      "metadata": {
        "id": "25_5_xscNl1Q"
      },
      "execution_count": null,
      "outputs": []
    },
    {
      "cell_type": "code",
      "source": [
        "# w모드 예시\n",
        "\n",
        "f = open('a.txt','w')\n",
        "f.write('안녕하세요')"
      ],
      "metadata": {
        "colab": {
          "base_uri": "https://localhost:8080/"
        },
        "id": "nL97EqauNqBZ",
        "outputId": "56879b5a-a55b-4032-b098-e6df5eb6f01f"
      },
      "execution_count": null,
      "outputs": [
        {
          "output_type": "execute_result",
          "data": {
            "text/plain": [
              "5"
            ]
          },
          "metadata": {},
          "execution_count": 8
        }
      ]
    },
    {
      "cell_type": "code",
      "source": [
        "f.close()"
      ],
      "metadata": {
        "id": "PZrThU2INzJL"
      },
      "execution_count": null,
      "outputs": []
    },
    {
      "cell_type": "code",
      "source": [
        "# 읽기 모드 활용\n",
        "\n",
        "f = open('a.txt','r')\n",
        "f.read()"
      ],
      "metadata": {
        "colab": {
          "base_uri": "https://localhost:8080/",
          "height": 35
        },
        "id": "zHfHmGt3N1T3",
        "outputId": "09dc29e0-3957-4052-c136-e7e3d3f6b341"
      },
      "execution_count": null,
      "outputs": [
        {
          "output_type": "execute_result",
          "data": {
            "text/plain": [
              "'안녕하세요'"
            ],
            "application/vnd.google.colaboratory.intrinsic+json": {
              "type": "string"
            }
          },
          "metadata": {},
          "execution_count": 10
        }
      ]
    },
    {
      "cell_type": "code",
      "source": [
        "f.read() # 커서가 다음으로 넘어가서 아무것도 나오지 않음"
      ],
      "metadata": {
        "colab": {
          "base_uri": "https://localhost:8080/",
          "height": 35
        },
        "id": "bXpV7_LlOADM",
        "outputId": "b124f0d7-7a50-4a34-8857-16937123247c"
      },
      "execution_count": null,
      "outputs": [
        {
          "output_type": "execute_result",
          "data": {
            "text/plain": [
              "''"
            ],
            "application/vnd.google.colaboratory.intrinsic+json": {
              "type": "string"
            }
          },
          "metadata": {},
          "execution_count": 11
        }
      ]
    },
    {
      "cell_type": "code",
      "source": [
        "f.seek(0) # 커서를 초기화 해서 0번째 가져오기"
      ],
      "metadata": {
        "colab": {
          "base_uri": "https://localhost:8080/"
        },
        "id": "Z1eWWUqbOGAK",
        "outputId": "fedcb361-f669-4842-9625-2edc059a5ae7"
      },
      "execution_count": null,
      "outputs": [
        {
          "output_type": "execute_result",
          "data": {
            "text/plain": [
              "0"
            ]
          },
          "metadata": {},
          "execution_count": 12
        }
      ]
    },
    {
      "cell_type": "code",
      "source": [
        "f.read()"
      ],
      "metadata": {
        "colab": {
          "base_uri": "https://localhost:8080/",
          "height": 35
        },
        "id": "CX2OjLPPOKfe",
        "outputId": "36be7fcb-d722-4d10-8b50-b41084a05874"
      },
      "execution_count": null,
      "outputs": [
        {
          "output_type": "execute_result",
          "data": {
            "text/plain": [
              "'안녕하세요'"
            ],
            "application/vnd.google.colaboratory.intrinsic+json": {
              "type": "string"
            }
          },
          "metadata": {},
          "execution_count": 13
        }
      ]
    },
    {
      "cell_type": "code",
      "source": [
        "f.close()"
      ],
      "metadata": {
        "id": "C0r-0cm4OLw9"
      },
      "execution_count": null,
      "outputs": []
    },
    {
      "cell_type": "code",
      "source": [
        "f = open('a.txt', 'a') # 텍스트 추가 모드\n",
        "f.write('추가되는 문장이에요')\n",
        "f.close()"
      ],
      "metadata": {
        "id": "pGIPI43RONCr"
      },
      "execution_count": null,
      "outputs": []
    },
    {
      "cell_type": "code",
      "source": [
        "f = open('a.txt', 'r')\n",
        "f.read()"
      ],
      "metadata": {
        "colab": {
          "base_uri": "https://localhost:8080/",
          "height": 35
        },
        "id": "GFPAiig_PBe1",
        "outputId": "68221947-38ef-4dc9-96fd-a673a159e9ca"
      },
      "execution_count": null,
      "outputs": [
        {
          "output_type": "execute_result",
          "data": {
            "text/plain": [
              "'안녕하세요추가되는 문장이에요'"
            ],
            "application/vnd.google.colaboratory.intrinsic+json": {
              "type": "string"
            }
          },
          "metadata": {},
          "execution_count": 16
        }
      ]
    },
    {
      "cell_type": "code",
      "source": [
        "f.close()"
      ],
      "metadata": {
        "id": "WqXTRRqPPCqi"
      },
      "execution_count": null,
      "outputs": []
    },
    {
      "cell_type": "code",
      "source": [
        "# with문으로 객체를 만들지 않고 파일 출력하기\n",
        "\n",
        "f = open('abcde.txt', 'w')\n",
        "f.write('abcde')\n",
        "\n",
        "# 파일을 지우려고 하면 파일이 열려있어 꼭 close로 닫은 후에 지워야함\n",
        "# 계속 열고닫고 하면 번거로울수 있음\n",
        "\n",
        "f.close()"
      ],
      "metadata": {
        "id": "wZuXUQoOPDpG"
      },
      "execution_count": null,
      "outputs": []
    },
    {
      "cell_type": "code",
      "source": [
        "# 그래서 사용하는 방법이 with문의 사용\n",
        "\n",
        "# with open(파일 이름, 파일 열기모드) as f:\n",
        "# f에 수행할 명령"
      ],
      "metadata": {
        "id": "KfOOhxaTPFUz"
      },
      "execution_count": null,
      "outputs": []
    },
    {
      "cell_type": "code",
      "source": [
        "with open('test.txt', 'w') as f:\n",
        "    f.write('테스트 중 입니다')"
      ],
      "metadata": {
        "id": "sa6Z1XmOPLCO"
      },
      "execution_count": null,
      "outputs": []
    },
    {
      "cell_type": "code",
      "source": [
        "# 한글파일의 사용은 약간 자제하기는 하지만 사용할때가 종종 있습니다.\n",
        "\n",
        "import os, re\n",
        "f = open('한글_테스트.txt', 'w')\n",
        "f.close()"
      ],
      "metadata": {
        "id": "enCfcutdPW6S"
      },
      "execution_count": null,
      "outputs": []
    },
    {
      "cell_type": "code",
      "source": [
        "# 만약 한글 파일로 된 오류가 떳을때나 인코딩오류가 났을때\n",
        "\n",
        "import codecs \n",
        "f = codecs.open('한글_테스트.txt', 'r', 'utf-8')\n",
        "f.read()"
      ],
      "metadata": {
        "colab": {
          "base_uri": "https://localhost:8080/",
          "height": 35
        },
        "id": "zx5kjRvyPb10",
        "outputId": "adf8a667-fb2d-4c97-c67d-cd74c969b004"
      },
      "execution_count": null,
      "outputs": [
        {
          "output_type": "execute_result",
          "data": {
            "text/plain": [
              "''"
            ],
            "application/vnd.google.colaboratory.intrinsic+json": {
              "type": "string"
            }
          },
          "metadata": {},
          "execution_count": 22
        }
      ]
    },
    {
      "cell_type": "markdown",
      "source": [
        "# 2. 문자열 복습 / 처리"
      ],
      "metadata": {
        "id": "VhIdy8L4QLG_"
      }
    },
    {
      "cell_type": "markdown",
      "source": [
        "# 문자열 연결 - Join\n",
        "\n",
        "* \"구분 문자\".join([문자열1, 문자열2, 문자열3])\n",
        "\n",
        "* 문자열에서는 문자열 리스트를 특정한 문자로 연결하는 join 메서드를 제공합니다.\n",
        "\n",
        "* 공백으로 연결하거나, 쉼표로 연결할 수 있어요"
      ],
      "metadata": {
        "id": "hcYwRHCfQL1W"
      }
    },
    {
      "cell_type": "code",
      "source": [
        "# join 예제 1\n",
        "\n",
        "text_list = ['Hello', 'World', 'Python']\n",
        "test1 = ''.join(text_list)\n",
        "print(test1)"
      ],
      "metadata": {
        "colab": {
          "base_uri": "https://localhost:8080/"
        },
        "id": "wAS4dO3-Pdwd",
        "outputId": "5e7d6fd8-7453-4238-8e44-eb8dc7cd1611"
      },
      "execution_count": null,
      "outputs": [
        {
          "output_type": "stream",
          "name": "stdout",
          "text": [
            "HelloWorldPython\n"
          ]
        }
      ]
    },
    {
      "cell_type": "code",
      "source": [
        "test1 = '__'.join(text_list)\n",
        "print(test1)"
      ],
      "metadata": {
        "colab": {
          "base_uri": "https://localhost:8080/"
        },
        "id": "UkjLzTSqQeg_",
        "outputId": "54c0b53f-bce7-4ed7-cb1c-b69a6e8b0cd4"
      },
      "execution_count": null,
      "outputs": [
        {
          "output_type": "stream",
          "name": "stdout",
          "text": [
            "Hello__World__Python\n"
          ]
        }
      ]
    },
    {
      "cell_type": "markdown",
      "source": [
        "# f-string\n",
        "\n",
        "* 파이썬 3.6부터 포맷 지정 문자열인 f string이 지원된다.\n",
        "* 일반적인 문자열 앞에 f를 붙이고 중괄호로 둘러쌓아 텍스트 및 변수를 받는다."
      ],
      "metadata": {
        "id": "XUbviB8eRB8f"
      }
    },
    {
      "cell_type": "code",
      "source": [
        "a = 10 \n",
        "b = '홍길동'\n",
        "print(f'제 이름은 {b}입니다. 나이는 {a}입니다')"
      ],
      "metadata": {
        "colab": {
          "base_uri": "https://localhost:8080/"
        },
        "id": "7B-wwkVcQl7a",
        "outputId": "957b1d24-d331-40bd-8f0d-62f0adeefddf"
      },
      "execution_count": null,
      "outputs": [
        {
          "output_type": "stream",
          "name": "stdout",
          "text": [
            "제 이름은 홍길동입니다. 나이는 10입니다\n"
          ]
        }
      ]
    },
    {
      "cell_type": "code",
      "source": [
        "name = '홍길동'\n",
        "age = 10\n",
        "test = f'제 이름은 {name}입니다. 나이는 {a}세 입니다'\n",
        "print(test)"
      ],
      "metadata": {
        "colab": {
          "base_uri": "https://localhost:8080/"
        },
        "id": "8zEJUYAcRHsw",
        "outputId": "d49a9ab8-6dae-4a62-8f7c-adc6f0d20975"
      },
      "execution_count": null,
      "outputs": [
        {
          "output_type": "stream",
          "name": "stdout",
          "text": [
            "제 이름은 홍길동입니다. 나이는 10세 입니다\n"
          ]
        }
      ]
    },
    {
      "cell_type": "markdown",
      "source": [
        "# 문자열 치환하기 - replace\n",
        "\n",
        "문자열에는 replace라는 치환 메서드가 있습니다."
      ],
      "metadata": {
        "id": "AQJCR4jhRZcf"
      }
    },
    {
      "cell_type": "code",
      "source": [
        "text1 = 'Simple is Best'\n",
        "text2 = text1.replace(' ','')\n",
        "\n",
        "print(text1)\n",
        "print(text2)"
      ],
      "metadata": {
        "colab": {
          "base_uri": "https://localhost:8080/"
        },
        "id": "IiSDoTmLRU_0",
        "outputId": "41c4b029-5162-470f-f368-76f65943ba0d"
      },
      "execution_count": null,
      "outputs": [
        {
          "output_type": "stream",
          "name": "stdout",
          "text": [
            "Simple is Best\n",
            "SimpleisBest\n"
          ]
        }
      ]
    },
    {
      "cell_type": "code",
      "source": [
        "text1 = 'Simple is Best Plan'\n",
        "text2 = text1.replace(' ','__',2)\n",
        "\n",
        "print(text1)\n",
        "print(text2)"
      ],
      "metadata": {
        "colab": {
          "base_uri": "https://localhost:8080/"
        },
        "id": "cSYAkSI7Ri5k",
        "outputId": "aa6e588a-7bf5-4e1e-aff8-054225e855a1"
      },
      "execution_count": null,
      "outputs": [
        {
          "output_type": "stream",
          "name": "stdout",
          "text": [
            "Simple is Best Plan\n",
            "Simple__is__Best Plan\n"
          ]
        }
      ]
    },
    {
      "cell_type": "markdown",
      "source": [
        "# 문자열 포함 여부 확인\n",
        "\n",
        "* in은 리스트나 set에 특정요소가 포함되었는지를 판정합니다. \n",
        "* 문자열에서 사용하면 특정 문자열의 포함여부를 판정할 수 있고 bool로 반환합니다.\n",
        "* 이때 영문인 경우 대소문자를 꼭 점검해야합니다."
      ],
      "metadata": {
        "id": "reFyGpr9WPOu"
      }
    },
    {
      "cell_type": "code",
      "source": [
        "text = \"Simple is Best\"\n",
        "contains = \"book\" in text\n",
        "print(contains)"
      ],
      "metadata": {
        "colab": {
          "base_uri": "https://localhost:8080/"
        },
        "id": "TtDtzSxBR2pB",
        "outputId": "faced5ba-fcde-40a1-8169-bd5cc1b28204"
      },
      "execution_count": null,
      "outputs": [
        {
          "output_type": "stream",
          "name": "stdout",
          "text": [
            "False\n"
          ]
        }
      ]
    },
    {
      "cell_type": "code",
      "source": [
        "text = \"Simple is Best\"\n",
        "contains = \"Simple\" in text\n",
        "print(contains)"
      ],
      "metadata": {
        "colab": {
          "base_uri": "https://localhost:8080/"
        },
        "id": "vEq7HyeBXLsQ",
        "outputId": "8f316daa-67c1-43aa-939f-35231c8088a9"
      },
      "execution_count": null,
      "outputs": [
        {
          "output_type": "stream",
          "name": "stdout",
          "text": [
            "True\n"
          ]
        }
      ]
    },
    {
      "cell_type": "code",
      "source": [
        "text = \"Simple is Best\"\n",
        "contains = \"simple\" in text\n",
        "print(contains)"
      ],
      "metadata": {
        "colab": {
          "base_uri": "https://localhost:8080/"
        },
        "id": "gzCR5t83XOIc",
        "outputId": "7bdb01fc-d721-4508-9feb-a0e66f8315d2"
      },
      "execution_count": null,
      "outputs": [
        {
          "output_type": "stream",
          "name": "stdout",
          "text": [
            "False\n"
          ]
        }
      ]
    },
    {
      "cell_type": "code",
      "source": [
        "text = \"Simple is Best\"\n",
        "contains = \" \" in text\n",
        "print(contains)"
      ],
      "metadata": {
        "colab": {
          "base_uri": "https://localhost:8080/"
        },
        "id": "yk2zCl-yXP-P",
        "outputId": "cbe8141f-e797-4219-8559-6949331d4574"
      },
      "execution_count": null,
      "outputs": [
        {
          "output_type": "stream",
          "name": "stdout",
          "text": [
            "True\n"
          ]
        }
      ]
    },
    {
      "cell_type": "code",
      "source": [
        "# 영문 Kim Korea\n",
        "text = \"Simple is Best\"\n",
        "# lower() -> 대문자 -> 소문자\n",
        "contains = \"SIMPLE\".lower() in text.lower()"
      ],
      "metadata": {
        "id": "zionQMCbXRuH"
      },
      "execution_count": null,
      "outputs": []
    },
    {
      "cell_type": "code",
      "source": [
        "print(contains)"
      ],
      "metadata": {
        "colab": {
          "base_uri": "https://localhost:8080/"
        },
        "id": "mjpBRaadYMz3",
        "outputId": "dfd54f3d-bbb2-456c-d497-0248a93c4e3e"
      },
      "execution_count": null,
      "outputs": [
        {
          "output_type": "stream",
          "name": "stdout",
          "text": [
            "True\n"
          ]
        }
      ]
    },
    {
      "cell_type": "markdown",
      "source": [
        "# 문자열 일부 추출\n",
        "\n",
        "* 문자열은 시퀀스 이므로 인덱스를 지정해 문자를 추출할 수 있습니다.\n",
        "* 이때 가장 마지막 문자는 -1로 불러올 수 있습니다."
      ],
      "metadata": {
        "id": "Oxo18_o_YQG_"
      }
    },
    {
      "cell_type": "code",
      "source": [
        "text = 'abcdefg'\n",
        "x1 = text[0]\n",
        "x2 = text[3]\n",
        "x3 = text[-1]\n",
        "print(x1, x2, x3)"
      ],
      "metadata": {
        "colab": {
          "base_uri": "https://localhost:8080/"
        },
        "id": "SYd1tSFjYO37",
        "outputId": "cb6d88a4-bf0c-421d-aeb1-6bd4abc73824"
      },
      "execution_count": null,
      "outputs": [
        {
          "output_type": "stream",
          "name": "stdout",
          "text": [
            "a d g\n"
          ]
        }
      ]
    },
    {
      "cell_type": "code",
      "source": [
        "text = 'abcdefg'\n",
        "x1 = text[3:6]\n",
        "print(x1)"
      ],
      "metadata": {
        "colab": {
          "base_uri": "https://localhost:8080/"
        },
        "id": "rIvEiaZeYRBm",
        "outputId": "8c430fe3-4176-47e7-9e5f-a5ad2390c0ad"
      },
      "execution_count": null,
      "outputs": [
        {
          "output_type": "stream",
          "name": "stdout",
          "text": [
            "def\n"
          ]
        }
      ]
    },
    {
      "cell_type": "markdown",
      "source": [
        "# 문자열 공백 처리\n",
        "\n",
        "* strip함수를 사용하여 공백을 제거할 수 있습니다.\n",
        "* 앞뒤의 공백을 제거할 수 있습니다."
      ],
      "metadata": {
        "id": "75F_8EELZwnJ"
      }
    },
    {
      "cell_type": "code",
      "source": [
        "# 문자열 공백처리 예제 \n",
        "\n",
        "text = ' abcsdefd '\n",
        "stripped = text.strip()\n",
        "print('*'+ stripped +'*')"
      ],
      "metadata": {
        "colab": {
          "base_uri": "https://localhost:8080/"
        },
        "id": "pvLM-p6jZvoE",
        "outputId": "a6797a16-8421-4d24-e011-702a63c38e7f"
      },
      "execution_count": null,
      "outputs": [
        {
          "output_type": "stream",
          "name": "stdout",
          "text": [
            "*abcsdefd*\n"
          ]
        }
      ]
    },
    {
      "cell_type": "code",
      "source": [
        "text = ' abcsdefd '\n",
        "print('*'+ text +'*')"
      ],
      "metadata": {
        "colab": {
          "base_uri": "https://localhost:8080/"
        },
        "id": "nTjAfp0_ZyG9",
        "outputId": "be7ef49e-26ac-4104-d229-21d605bd7393"
      },
      "execution_count": null,
      "outputs": [
        {
          "output_type": "stream",
          "name": "stdout",
          "text": [
            "* abcsdefd *\n"
          ]
        }
      ]
    },
    {
      "cell_type": "code",
      "source": [
        "text = ' abcdefg '\n",
        "\n",
        "#오른쪽 공백 제거 \n",
        "r_stripped = text.rstrip()\n",
        "print(r_stripped)\n",
        "\n",
        "#왼쪽 공백 제거 \n",
        "l_stripped = text.lstrip()\n",
        "print(l_stripped)"
      ],
      "metadata": {
        "colab": {
          "base_uri": "https://localhost:8080/"
        },
        "id": "Pi06f1k2ZzGw",
        "outputId": "47820b3c-c8ce-4cfb-cbb4-9b49bc22c0ae"
      },
      "execution_count": null,
      "outputs": [
        {
          "output_type": "stream",
          "name": "stdout",
          "text": [
            " abcdefg\n",
            "abcdefg \n"
          ]
        }
      ]
    },
    {
      "cell_type": "markdown",
      "source": [
        "# 대소문자 구분 변환"
      ],
      "metadata": {
        "id": "pGC6EF39Z6Nv"
      }
    },
    {
      "cell_type": "code",
      "source": [
        "# 대문자 변환\n",
        "text = 'abdEDfghr'\n",
        "upper_text = text.upper()\n",
        "print(upper_text)"
      ],
      "metadata": {
        "colab": {
          "base_uri": "https://localhost:8080/"
        },
        "id": "GFxvf_EfZ0JO",
        "outputId": "eacdb8fc-a922-47ab-a9c8-b1cbe4a02e0f"
      },
      "execution_count": null,
      "outputs": [
        {
          "output_type": "stream",
          "name": "stdout",
          "text": [
            "ABDEDFGHR\n"
          ]
        }
      ]
    },
    {
      "cell_type": "code",
      "source": [
        "# 소문자 변환\n",
        "text = 'abdEDfghr'\n",
        "lower_text = text.lower()\n",
        "print(lower_text)"
      ],
      "metadata": {
        "colab": {
          "base_uri": "https://localhost:8080/"
        },
        "id": "qLqlutQBZ450",
        "outputId": "be6aa357-c11a-4a46-a28a-4abe0cf34115"
      },
      "execution_count": null,
      "outputs": [
        {
          "output_type": "stream",
          "name": "stdout",
          "text": [
            "abdedfghr\n"
          ]
        }
      ]
    },
    {
      "cell_type": "markdown",
      "source": [
        "# 문자열을 구분자로 분리하기\n",
        "\n",
        "split - 을 사용하면 지정한 구분 문자로 문자열을 분할한 리스트를 얻을 수 있습니다."
      ],
      "metadata": {
        "id": "Rj6ssnazZ9SR"
      }
    },
    {
      "cell_type": "code",
      "source": [
        "# 문장에 있는 모든 단어를 가져오고 싶을때\n",
        "\n",
        "text = \"Time is Zero. Simple is Best\"\n",
        "l = text.split(\" \")\n",
        "print(l)"
      ],
      "metadata": {
        "colab": {
          "base_uri": "https://localhost:8080/"
        },
        "id": "roB0XHzXZ8M3",
        "outputId": "53075c1a-7c3a-4231-a961-f1e49e09427b"
      },
      "execution_count": null,
      "outputs": [
        {
          "output_type": "stream",
          "name": "stdout",
          "text": [
            "['Time', 'is', 'Zero.', 'Simple', 'is', 'Best']\n"
          ]
        }
      ]
    },
    {
      "cell_type": "code",
      "source": [
        "# 문장에 있는 모든 단어를 가져오고 싶을때\n",
        "\n",
        "text = \"Time,is,Zero.,Simple,is,Best\"\n",
        "l = text.split(\",\")\n",
        "print(l)"
      ],
      "metadata": {
        "colab": {
          "base_uri": "https://localhost:8080/"
        },
        "id": "TeyqZu6ZZ--Q",
        "outputId": "61586030-c0d3-435b-f0d4-64069cae1143"
      },
      "execution_count": null,
      "outputs": [
        {
          "output_type": "stream",
          "name": "stdout",
          "text": [
            "['Time', 'is', 'Zero.', 'Simple', 'is', 'Best']\n"
          ]
        }
      ]
    },
    {
      "cell_type": "markdown",
      "source": [
        "# 문자열을 0으로 채우기\n",
        "\n",
        "zfill 메서드를 사용하면 인수로 지정한 길이가 되도록 0으로 채웁니다."
      ],
      "metadata": {
        "id": "SDqwn_yoaBcH"
      }
    },
    {
      "cell_type": "code",
      "source": [
        "# CSV 데이터를 읽어들일때;; 문자 -> 숫자 -> 문자로 받을때의 문제점\n",
        "\n",
        "# 고객식별자 / 고객정보 / Key\n",
        "# '00000002' -> 92 김진환 - '00000092' 데이터 분석가\n",
        "\n",
        "# SQL / Python -> CSV\n",
        "\n",
        "num = 92\n",
        "num_str = \"92\"\n",
        "zfilled = num_str.zfill(6)"
      ],
      "metadata": {
        "id": "WbrLmfCgaAm9"
      },
      "execution_count": null,
      "outputs": []
    },
    {
      "cell_type": "code",
      "source": [
        "zfilled"
      ],
      "metadata": {
        "colab": {
          "base_uri": "https://localhost:8080/",
          "height": 35
        },
        "id": "I3I52FTOaF6d",
        "outputId": "f4b54177-f4b8-4fb9-c533-e839b9cfa029"
      },
      "execution_count": null,
      "outputs": [
        {
          "output_type": "execute_result",
          "data": {
            "text/plain": [
              "'000092'"
            ],
            "application/vnd.google.colaboratory.intrinsic+json": {
              "type": "string"
            }
          },
          "metadata": {},
          "execution_count": 19
        }
      ]
    },
    {
      "cell_type": "code",
      "source": [
        "num = 92 \n",
        "\n",
        "# DUP -> 키값이 중복된다.\n",
        "\n",
        "# A table      B table            -> 구매데이터 \n",
        "# 92 김진환    92 김진환 기저귀      92 김진환 기저귀 \n",
        "#                                    92 김진환 맥주\n",
        "#              92 김진환 맥주"
      ],
      "metadata": {
        "id": "ayqypHNIan2O"
      },
      "execution_count": null,
      "outputs": []
    },
    {
      "cell_type": "markdown",
      "source": [
        "# 특정 문자열 포함 행만 추출하기\n",
        "\n",
        "문자열의 split과 리스트 컴프리핸션을 사용하면 특정 문자열을 포함하는 행만 추출 가능\n",
        "\n",
        "1. split을 사용하여 텍스트를 줄바꿈, 1행씩 리스트로 얻을 수 있음\n",
        "2. 리스트 컴프리핸션을 사용하여 특정 문자열을 포함하는 행 추출\n",
        "3. 원래 텍스트로부터 특정한 문자열을 포함하는 행만 추출한 텍스트를 만들 수 있다."
      ],
      "metadata": {
        "id": "fAS-T7AzcytQ"
      }
    },
    {
      "cell_type": "code",
      "source": [
        "text = \"\"\"저는 김철수 입니다.\n",
        "        반갑습니다. 저는 데이터 분석가 입니다.\n",
        "        데이터로 일하는 것은 즐거운 일인데\n",
        "        더 열심히 배우겟습니다. 감사합니다. \"\"\"\n",
        "\n",
        "# 한줄씩 리스트로 생성\n",
        "lines = text.split(\"\\n\")\n",
        "# 라인에서 데이터가 있는 라인만 가져오기\n",
        "line_list = [line for line in lines if \"데이터\" in line]\n",
        "# 문자열 리스트로 연결하기\n",
        "# enter로 연결하여 출력\n",
        "new_text = \"\\n\".join(line_list)\n",
        "print(new_text)"
      ],
      "metadata": {
        "colab": {
          "base_uri": "https://localhost:8080/"
        },
        "id": "Qg7kPc3HcrTK",
        "outputId": "edd44b68-7390-4115-bff9-94026f21e601"
      },
      "execution_count": null,
      "outputs": [
        {
          "output_type": "stream",
          "name": "stdout",
          "text": [
            "        반갑습니다. 저는 데이터 분석가 입니다.\n",
            "        데이터로 일하는 것은 즐거운 일인데\n"
          ]
        }
      ]
    },
    {
      "cell_type": "code",
      "source": [
        "# 미션 - 데이터가 있는 행을 찾고 싶다.\n",
        "\n",
        "text = \"\"\"저는 김철수 입니다.\n",
        "        반갑습니다. 저는 데이터 분석가 입니다.\n",
        "        데이터로 일하는 것은 즐거운 일인데\n",
        "        더 열심히 배우겟습니다. 감사합니다. \"\"\"\n",
        "\n",
        "# 한줄씩 리스트로 생성\n",
        "lines = text.split(\"\\n\") #enter\n",
        "# 라인에서 \"데이터\" 단어가 있는 라인만 가져오기\n",
        "line_list = [line for line in lines if \"데이터\" in line]\n",
        "# 문자열 리스트로 연결하기\n",
        "# enter로 연결하여 출력\n",
        "new_text = \"\\n\".join(line_list)\n",
        "print(new_text)"
      ],
      "metadata": {
        "colab": {
          "base_uri": "https://localhost:8080/"
        },
        "id": "k0-Xz1KTc3Ic",
        "outputId": "50f05760-a82f-494e-e6cb-d2ed618841b7"
      },
      "execution_count": null,
      "outputs": [
        {
          "output_type": "stream",
          "name": "stdout",
          "text": [
            "        반갑습니다. 저는 데이터 분석가 입니다.\n",
            "        데이터로 일하는 것은 즐거운 일인데\n"
          ]
        }
      ]
    },
    {
      "cell_type": "code",
      "source": [
        "text = \"\"\"저는 김철수 입니다.\n",
        "        반갑습니다. 저는 데이터 분석가 입니다.\n",
        "        데이터로 일하는 것은 즐거운 일인데\n",
        "        더 열심히 배우겟습니다. 감사합니다. \"\"\"\n",
        "\n",
        "# 한줄씩 리스트로 생성\n",
        "lines = text.split(\"\\n\") #enter\n",
        "print(lines)"
      ],
      "metadata": {
        "colab": {
          "base_uri": "https://localhost:8080/"
        },
        "id": "LKED3wl5e4rS",
        "outputId": "84cb60fe-7bec-4417-ee1a-654eb4437e16"
      },
      "execution_count": null,
      "outputs": [
        {
          "output_type": "stream",
          "name": "stdout",
          "text": [
            "['저는 김철수 입니다.', '        반갑습니다. 저는 데이터 분석가 입니다.', '        데이터로 일하는 것은 즐거운 일인데', '        더 열심히 배우겟습니다. 감사합니다. ']\n"
          ]
        }
      ]
    },
    {
      "cell_type": "code",
      "source": [
        "line_list = [line for line in lines if \"데이터\" in line]"
      ],
      "metadata": {
        "id": "3HZ5E_O9e6nz"
      },
      "execution_count": null,
      "outputs": []
    },
    {
      "cell_type": "code",
      "source": [
        "line_list"
      ],
      "metadata": {
        "colab": {
          "base_uri": "https://localhost:8080/"
        },
        "id": "_0vpDb9Le7hk",
        "outputId": "ec9343ad-8e05-4f3b-916d-350cdbbd7ac3"
      },
      "execution_count": null,
      "outputs": [
        {
          "output_type": "execute_result",
          "data": {
            "text/plain": [
              "['        반갑습니다. 저는 데이터 분석가 입니다.', '        데이터로 일하는 것은 즐거운 일인데']"
            ]
          },
          "metadata": {},
          "execution_count": 26
        }
      ]
    },
    {
      "cell_type": "markdown",
      "source": [
        "# 텍스트의 빈 행 삭제하기"
      ],
      "metadata": {
        "id": "KhBa7gcIfHfv"
      }
    },
    {
      "cell_type": "code",
      "source": [
        "text = \"\"\"저는 김철수 입니다.\n",
        "\n",
        "        반갑습니다. 저는 데이터 분석가 입니다.\n",
        "\n",
        "        데이터로 일하는 것은 즐거운 일인데\n",
        "        \n",
        "        더 열심히 배우겟습니다. 감사합니다. \"\"\""
      ],
      "metadata": {
        "id": "StnY4u0Ze8qL"
      },
      "execution_count": null,
      "outputs": []
    },
    {
      "cell_type": "code",
      "source": [
        "lines = text.split(\"\\n\")"
      ],
      "metadata": {
        "id": "RiDNIZtwfIpP"
      },
      "execution_count": null,
      "outputs": []
    },
    {
      "cell_type": "code",
      "source": [
        "line_list = [line for line in lines if line.strip() != \"\"] # = 같다 != 다르다."
      ],
      "metadata": {
        "id": "12aI2jz3fJgX"
      },
      "execution_count": null,
      "outputs": []
    },
    {
      "cell_type": "code",
      "source": [
        "new_text = '\\n'.join(line_list)"
      ],
      "metadata": {
        "id": "rtqfhMuKfKWv"
      },
      "execution_count": null,
      "outputs": []
    },
    {
      "cell_type": "code",
      "source": [
        "print(new_text)"
      ],
      "metadata": {
        "colab": {
          "base_uri": "https://localhost:8080/"
        },
        "id": "TIbeJfzQfLR-",
        "outputId": "bef27f9b-883c-4f3c-8f0e-fde62d0764d6"
      },
      "execution_count": null,
      "outputs": [
        {
          "output_type": "stream",
          "name": "stdout",
          "text": [
            "저는 김철수 입니다.\n",
            "        반갑습니다. 저는 데이터 분석가 입니다.\n",
            "        데이터로 일하는 것은 즐거운 일인데\n",
            "        더 열심히 배우겟습니다. 감사합니다. \n"
          ]
        }
      ]
    },
    {
      "cell_type": "markdown",
      "source": [
        "# 무작위로 문자열 생성하기"
      ],
      "metadata": {
        "id": "Gf6Gu3Vhlguo"
      }
    },
    {
      "cell_type": "code",
      "source": [
        "import random \n",
        "\n",
        "letters = 'abcdefg'\n",
        "rl = random.choices(letters, k = 4)\n",
        "print(rl)\n"
      ],
      "metadata": {
        "colab": {
          "base_uri": "https://localhost:8080/"
        },
        "id": "lT9YQkwIfMV0",
        "outputId": "659c38b2-1218-4082-873f-4a39c56038fb"
      },
      "execution_count": null,
      "outputs": [
        {
          "output_type": "stream",
          "name": "stdout",
          "text": [
            "['b', 'f', 'c', 'g']\n"
          ]
        }
      ]
    },
    {
      "cell_type": "code",
      "source": [
        "# 정규표현식 사용하기\n",
        "\n",
        "import re\n",
        "'''\n",
        "# 정규표현식 함수\n",
        "findall : 일치하는 문자열을 리스트로 반환\n",
        "split : 일치하는 문자열로 원래 문자열을 분할한 리스트로 반환\n",
        "sub : 일치하는 문자열을 치환한 문자열을 반환\n",
        "search : 일치하는 문자열이 있으면 Match 객체를 반환\n",
        "\n",
        "# 정규표현식\n",
        "# Chapter1\n",
        ". 줄바꿈 이외의 임의의 모든 문자\n",
        "... 줄바꿈 이외의 임의의 3문자 \n",
        "^ 문자열의 시작\n",
        "^... 문자열 시작에서 3문자 \n",
        "$ 문자열의 끝\n",
        "...$ 문자열 끝에서 3문자 \n",
        "* 직전 정규표현식을 0회이상 반복\n",
        "ab*c abc또는 ac에 일치\n",
        "+ 직전 정규표현식을 1회이상 반복\n",
        "ab+c abc에 일치\n",
        "? 직전 정규표현식이 0~1회 존재\n",
        "abcd? abc또는 abcd에 일치\n",
        "| 둘중 하나\n",
        "ab|cd ab또는 cd에 일치\n",
        "\n",
        "# Chapter2\n",
        "(...) 소괄호 안을 그루핑\n",
        "\n",
        "[...] 대괄호 안의 문자 중 하나\n",
        "[^...] 대괄호 안의 문자 중 하나도 없음\n",
        "\n",
        "x(ab|cd) x로 시작해 ab또는 cd에 일치 (ab|cd 그룹)\n",
        "\n",
        "\\ 직후 정규표션식 기호 무시\n",
        "\\\\ \\에 일치\n",
        "\n",
        "{n} 직전 정규표현식의 반복 횟수\n",
        "{n,} 직전 정규표현식의 최소 반복 횟수\n",
        "{n,m} 직전 정규표현식의 반복 횟수 범위\n",
        "\n",
        "A{3} A가 3회 반복되면 일치\n",
        "A{3, }A가 3회 이상 반복되면 일치\n",
        "A{3, 6}A가 3~6회 이상 반복되면 일치\n",
        "'''"
      ],
      "metadata": {
        "id": "qJSl234inaiu"
      },
      "execution_count": null,
      "outputs": []
    },
    {
      "cell_type": "markdown",
      "source": [
        "# findall 함수"
      ],
      "metadata": {
        "id": "YN0oaLM4oaF5"
      }
    },
    {
      "cell_type": "code",
      "source": [
        "# findall 함수를 사용하면 지정한 조건에 일치하는 문자열을 리스트로 얻을 수 있다.\n",
        "\n",
        "# re.함수(r) -> raw문자열이라고 \n",
        "# 이스케이프가 필요한 메타 문자를 무시하는 효과가 있음\n",
        "# 사용할때는 앞에 r을 붙이는것이 좋음"
      ],
      "metadata": {
        "id": "QD6bOrpzoTGq"
      },
      "execution_count": null,
      "outputs": []
    },
    {
      "cell_type": "code",
      "source": [
        "import re\n",
        "\n",
        "text = \"In the face of ambiguity, refuse the temptation to guess\"\n",
        "match_list = re.findall(r\"t.\", text)"
      ],
      "metadata": {
        "id": "6jB-4kPaobxS"
      },
      "execution_count": null,
      "outputs": []
    },
    {
      "cell_type": "code",
      "source": [
        "match_list"
      ],
      "metadata": {
        "colab": {
          "base_uri": "https://localhost:8080/"
        },
        "id": "c3ifUwDQocsz",
        "outputId": "1f953207-8eb1-4ea5-e784-1532de4365c0"
      },
      "execution_count": null,
      "outputs": [
        {
          "output_type": "execute_result",
          "data": {
            "text/plain": [
              "['th', 'ty', 'th', 'te', 'ta', 'ti', 'to']"
            ]
          },
          "metadata": {},
          "execution_count": 48
        }
      ]
    },
    {
      "cell_type": "code",
      "source": [
        "text2 = \"tx ti tp te t1 t2 t# t- t~\"\n",
        "match_list = re.findall(r\"t.\", text2)\n",
        "print(match_list)"
      ],
      "metadata": {
        "colab": {
          "base_uri": "https://localhost:8080/"
        },
        "id": "qnoNX5RTofTc",
        "outputId": "f41bd95d-a715-4015-b0eb-45fc468380bf"
      },
      "execution_count": null,
      "outputs": [
        {
          "output_type": "stream",
          "name": "stdout",
          "text": [
            "['tx', 'ti', 'tp', 'te', 't1', 't2', 't#', 't-', 't~']\n"
          ]
        }
      ]
    },
    {
      "cell_type": "markdown",
      "source": [
        "# sub함수"
      ],
      "metadata": {
        "id": "j1j0UDTipLlq"
      }
    },
    {
      "cell_type": "code",
      "source": [
        "# 정규표현식으로 치환하기\n",
        "\n",
        "# sub함수를 사용하면 정규표현식으로 치환할 수 있습니다.\n",
        "\n",
        "import re\n",
        "\n",
        "text = \"Beautiful is better than ugly\"\n",
        "replaced = re.sub(r\" \", \"_\", text) #공백문자는 \\s로도 쓰입니다.\n",
        "print(replaced)"
      ],
      "metadata": {
        "colab": {
          "base_uri": "https://localhost:8080/"
        },
        "id": "WCW21295pFcl",
        "outputId": "bfa9297d-5697-4fe9-b116-c1e3fbd2a829"
      },
      "execution_count": null,
      "outputs": [
        {
          "output_type": "stream",
          "name": "stdout",
          "text": [
            "Beautiful_is_better_than_ugly\n"
          ]
        }
      ]
    },
    {
      "cell_type": "code",
      "source": [
        "# 정규표현식으로 치환하기\n",
        "\n",
        "# sub함수를 사용하면 정규표현식으로 치환할 수 있습니다.\n",
        "\n",
        "import re\n",
        "\n",
        "text = \"Beautiful is better than ugly\"\n",
        "#sub(대체 해야할 문자 / 대체 할 문자 )\n",
        "replaced = re.sub(r\"\\s\", \"__\", text) #공백문자는 \\s로도 쓰입니다.\n",
        "print(replaced)"
      ],
      "metadata": {
        "colab": {
          "base_uri": "https://localhost:8080/"
        },
        "id": "D8QeGKzVpRks",
        "outputId": "ecaa484c-e184-460e-9e0a-d535baa02f62"
      },
      "execution_count": null,
      "outputs": [
        {
          "output_type": "stream",
          "name": "stdout",
          "text": [
            "Beautiful__is__better__than__ugly\n"
          ]
        }
      ]
    },
    {
      "cell_type": "markdown",
      "source": [
        "# 텍스트 분할하기"
      ],
      "metadata": {
        "id": "53mDHJ5Aqxrx"
      }
    },
    {
      "cell_type": "code",
      "source": [
        "# 정규표현식으로 텍스트 분할하기\n",
        "\n",
        "# split함수를 사용하면 정규표현식에 일치한 위치에서 분할한 문장려 리스트를 얻을 수 있습니다.\n",
        "# ^ -> 문자의 시작\n",
        "\n",
        "text = 'Simple is Best'\n",
        "# + 직전 정규표현식을 1회이상 반복\n",
        "replaced = re.split((r\"[^a-zA-Z]+\"), text)\n",
        "print(replaced)\n",
        "\n",
        "# [^a-zA-Z0-9]+는 정규 표현식(regular expression)에서 사용되는 특수한 패턴으로, \n",
        "# 알파벳 대소문자와 숫자가 아닌 문자들이 하나 이상 연속해서 나타나는 경우를 의미합니다.\n",
        "# 결국 공백을 구분자로 해서 분리"
      ],
      "metadata": {
        "colab": {
          "base_uri": "https://localhost:8080/"
        },
        "id": "nY17djS9qMFV",
        "outputId": "92838503-708c-44df-a8a0-a848fad2fd1b"
      },
      "execution_count": null,
      "outputs": [
        {
          "output_type": "stream",
          "name": "stdout",
          "text": [
            "['Simple', 'is', 'Best']\n"
          ]
        }
      ]
    },
    {
      "cell_type": "markdown",
      "source": [
        "# 정규표현식에서 그룹 이용하기"
      ],
      "metadata": {
        "id": "uJ3HatjFsKmR"
      }
    },
    {
      "cell_type": "code",
      "source": [
        "# 정규표현식의 그룹은 데이터 분석이나 ETL 도구 구현 등에서 자주 사용하는 기능으로\n",
        "# 원하는 객체를 그루핑할 수 있다라는 장점이 있습니다.\n",
        "\n",
        "# 제품 -> [0-9]+\n",
        "# 카탈로그 코드 [0-9A-Z]+\n",
        "# 제품명 .*\n",
        "# 구분 문자 공백\n",
        "\n",
        "# ([0-9]+) +([ 0-9 A-Z]+) +(.*)\n",
        "\n",
        "text = \"\"\"\n",
        "101 CF001 커피 \n",
        "102 CF002 커피(대용량)\n",
        "201 TE01 홍차\n",
        "202 TE02 홍차(대용량)\n",
        "\"\"\"\n",
        "items = re.findall(r'([0-9]+) +([ 0-9 A-Z]+) +(.*)', text)\n",
        "print(items)"
      ],
      "metadata": {
        "colab": {
          "base_uri": "https://localhost:8080/"
        },
        "id": "SSXq6nnRrN0K",
        "outputId": "10e6acab-fff3-47bb-dbe5-ad2b46842b28"
      },
      "execution_count": null,
      "outputs": [
        {
          "output_type": "stream",
          "name": "stdout",
          "text": [
            "[('101', 'CF001', '커피 '), ('102', 'CF002', '커피(대용량)'), ('201', 'TE01', '홍차'), ('202', 'TE02', '홍차(대용량)')]\n"
          ]
        }
      ]
    },
    {
      "cell_type": "markdown",
      "source": [
        "# 정규표현식에서 일치하는 부분 확인"
      ],
      "metadata": {
        "id": "YD6wItHNCPcU"
      }
    },
    {
      "cell_type": "code",
      "source": [
        "# 정규표현식과 일치하는 부분 확인\n",
        "\n",
        "# re 모듈의 serach함수는 정규표현식과 일치하는 첫 번째 위치 정보가 저장된 Match 객체를 반환\n",
        "# Match 객체를 사용하면 일치하는 위치의 문자열과 함께 시작 및 종료 위치 정보 확보 가능\n",
        "\n",
        "# match객체\n",
        "# start , end , group, groups 튜플 그룹\n",
        "\n",
        "import re\n",
        "\n",
        "text = 'Error should never pass silently'\n",
        "m_obj = re.search(r\"p...\", text)\n",
        "print(m_obj.group()) # 일치 문자열 ()로 묶인 것인 없음\n",
        "print(m_obj.start()) # 시작 인덱스\n",
        "print(m_obj.end()) # 끝 인덱스"
      ],
      "metadata": {
        "colab": {
          "base_uri": "https://localhost:8080/"
        },
        "id": "PDmxBWuQs_TF",
        "outputId": "4a2969c7-b585-490b-976f-baeb5175b0c0"
      },
      "execution_count": null,
      "outputs": [
        {
          "output_type": "stream",
          "name": "stdout",
          "text": [
            "pass\n",
            "19\n",
            "23\n"
          ]
        }
      ]
    },
    {
      "cell_type": "code",
      "source": [
        "import re\n",
        "\n",
        "text = 'Errors should never pass silently'\n",
        "# 1번 그룹 - n.... n다음에 4글자가 아무거나\n",
        "# 2번 그룹 - P... n다음에 3글자가 아무거나\n",
        "\n",
        "m_obj = re.search(r\"(n....) (p...)\", text)\n",
        "\n",
        "print(m_obj.group())\n",
        "print(m_obj.groups())"
      ],
      "metadata": {
        "colab": {
          "base_uri": "https://localhost:8080/"
        },
        "id": "jzNNYtQuCbEp",
        "outputId": "5c8a0025-b48e-451f-8b5f-f9a725633017"
      },
      "execution_count": null,
      "outputs": [
        {
          "output_type": "stream",
          "name": "stdout",
          "text": [
            "never pass\n",
            "('never', 'pass')\n"
          ]
        }
      ]
    },
    {
      "cell_type": "code",
      "source": [
        "print(m_obj.start())\n",
        "print(m_obj.end())"
      ],
      "metadata": {
        "colab": {
          "base_uri": "https://localhost:8080/"
        },
        "id": "lmMD_tvpDq7l",
        "outputId": "eef8063f-88e2-437f-fe53-13f8eac973a9"
      },
      "execution_count": null,
      "outputs": [
        {
          "output_type": "stream",
          "name": "stdout",
          "text": [
            "14\n",
            "24\n"
          ]
        }
      ]
    },
    {
      "cell_type": "markdown",
      "source": [
        "# Greedy, Lazy 개념"
      ],
      "metadata": {
        "id": "AiNY01lADWcT"
      }
    },
    {
      "cell_type": "code",
      "source": [
        "# Greedy, Lazy 사용하기\n",
        "# 정규표현식이 패턴에 일치하는 문자열을 추출할때\n",
        "# 일치하는 최대한의 범위를 추출하는 상태를 greedy(탐욕)이라고 한다.\n",
        "\n",
        "# 최소한은 Lazy라고 하는데 파이썬은 기본적으로 greedy하지만\n",
        "# ?를 붙이는 순간 Lazy해진다. \n",
        "\n",
        "import re\n",
        "\n",
        "text = 'In the face of ambiguity, refuse the temptation to guess'\n",
        "\n",
        "match_list = re.findall(r\"t.*\\s\", text) # t에서 아무문자나 해서 직전까지 0번 반복되어 공백까지\n",
        "print(match_list)"
      ],
      "metadata": {
        "colab": {
          "base_uri": "https://localhost:8080/"
        },
        "id": "znveYCfFDSVp",
        "outputId": "ae7397dc-287e-482f-85e5-db66a26334c4"
      },
      "execution_count": null,
      "outputs": [
        {
          "output_type": "stream",
          "name": "stdout",
          "text": [
            "['the face of ambiguity, refuse the temptation to ']\n"
          ]
        }
      ]
    },
    {
      "cell_type": "code",
      "source": [
        "# ?를 붙이면 t에서 가장 가까운 공백까지만 일치하는 것을 찾는다.\n",
        "\n",
        "import re\n",
        "\n",
        "text = 'In the face of ambiguity, refuse the temptation to guess'\n",
        "\n",
        "match_list = re.findall(r\"t.*?\\s\", text) # t에서 아무문자나 해서 직전까지 0번 반복되어 공백까지\n",
        "print(match_list)"
      ],
      "metadata": {
        "colab": {
          "base_uri": "https://localhost:8080/"
        },
        "id": "n84He_paD_An",
        "outputId": "31e08202-b078-4ed3-e2f3-f5110ee4936a"
      },
      "execution_count": null,
      "outputs": [
        {
          "output_type": "stream",
          "name": "stdout",
          "text": [
            "['the ', 'ty, ', 'the ', 'temptation ', 'to ']\n"
          ]
        }
      ]
    },
    {
      "cell_type": "markdown",
      "source": [
        "# 정규표현식 실습\n",
        "\n",
        "[우리가 자주 사용할 함수]\n",
        "\n",
        "* findall - 일치하는 문자열을 리스트로 반환\n",
        "* split - 일치하는 문자열로 원래 문자열을 분할한 리스트로 반환\n",
        "* sub - 일치하는 문자열을 치환한 문자열을 반환\n",
        "* search - 일치하는 문자열이 있으면 match 객체를 반환\n",
        "\n",
        "[대표적인 정규표현식]\n",
        "\n",
        "* . 줄바꿈 이외의 임의의 문자\n",
        "* ^ 문자열 시작\n",
        "* $ 문자열의 끝, 또는 문자열 끝 줄바꿈 직전\n",
        "* * 직전 정규표현식은 0회 이상 반복\n",
        "* + 직전 정규표현식을 1회 이상 반복\n",
        "* ? 직전 정규표현식이 0회 또는 1회 존재\n",
        "\n",
        "[자주 사용하는 문자 클래스]\n",
        "# 꼭 기억해야할 정규표현식\n",
        "* \\d 숫자와 매치 [0-9]와 같다.\n",
        "* \\D 숫자가 아닌것과 매치 [^0-9]와 같다.\n",
        "\n",
        "* \\s whitespace문자와 매치 [ \\t\\n\\r\\f\\v]와 같음. 맨앞의 빈칸은 공백을 의미\n",
        "* \\S whitespace문자가 아닌것과 매치 [^ \\t\\n\\r\\f\\v]와 같음.\n",
        "\n",
        "* \\w 문자+숫자와 매치 [a-zA-Z0-9_]와 같습니다.\n",
        "* \\W 문자+숫자가 아닌 문자와 매치 [^a-zA-Z0-9_]와 같습니다.\n",
        "\n",
        "* \\\\ 메타 문자가 아닌 일반 문자 역슬래시와 매치. 매타 문자 앞에 W를 붙이면 일반문자를 위미"
      ],
      "metadata": {
        "id": "3y8pj1XUGf_h"
      }
    },
    {
      "cell_type": "code",
      "source": [
        "# 주소록입니다. 이후 강의에서 모두 이 search_target을 사용합니다.\n",
        "searchtarget = '''\n",
        "hello world\n",
        "hello  world\n",
        "hello, world\n",
        "Hello World\n",
        "\n",
        "hello world hello\n",
        "\n",
        "hello\n",
        "hallo\n",
        "hollo\n",
        "heallo\n",
        "yellow\n",
        "\n",
        "Monday Tuesday Wednesday Thursday Friday Saturday Sunday\n",
        "\n",
        "abcdefghijklmnopqrstuvwxyzABCDEFGHIJKLMNOPQRSTUVWXYZ01234567891011121314151617181920\n",
        "aaabbcaaabbcabcabc\n",
        "aaa bb c aaa bb c a b c a b c\n",
        "aaa1bb2c3aaa4bb5c6\n",
        "\n",
        "[123456]\n",
        "123[456]789\n",
        "abc[def]ghij\n",
        "\n",
        "010-9091-5491\n",
        "010-5043-2901\n",
        "010-5050-40409\n",
        "010-49492-3131\n",
        "010 2913 3132\n",
        "01019133829\n",
        "064-721-3213\n",
        "010.1913.3829\n",
        "\n",
        "\n",
        "paul-korea@naver.com\n",
        "paul@naver.com\n",
        "leehojun@gmail.com\n",
        "hojun.lee@gmail.com\n",
        "test.test@go.go.go\n",
        "\n",
        "\n",
        "https://github.com/LiveCoronaDetector/livecod\n",
        "github.com/LiveCoronaDetector/livecod\n",
        "https://github.com/LiveCoronaDetector\n",
        "\n",
        "I never dreamed about success, I worked for it.\n",
        "Do not be afraid to give up the good to go for the great.\n",
        "\n",
        "hello (hello world) hello\n",
        "hello \\hello world// hello\n",
        "^^\n",
        ":)\n",
        "\n",
        "[(name, leehojun), (age, 10), (height, 180), (email, paul-lab@naver.com)]\n",
        "{name : leehojun, age : 10, height : 180, email : paul-lab@naver.com}\n",
        "\n",
        "가나다라마바사아자차카타파하\n",
        "ㄱㄴㄷㄹㅁㅂㅅㅇㅈㅊㅋㅌㅍㅎ\n",
        "안녕하세요\n",
        "안녕-하세요\n",
        "수사\n",
        "수박\n",
        "수상\n",
        "동해 물과 백두산이 마르고 닳도록 하느님이 보호하사 우리나라 만세\n",
        "'''"
      ],
      "metadata": {
        "id": "OB9RAVieEc-d"
      },
      "execution_count": null,
      "outputs": []
    },
    {
      "cell_type": "code",
      "source": [
        "print(re.findall(r'\\d',searchtarget))"
      ],
      "metadata": {
        "colab": {
          "base_uri": "https://localhost:8080/"
        },
        "id": "vT7-EPcaHzkU",
        "outputId": "656415a5-dce6-4d57-9560-517ea2670781"
      },
      "execution_count": null,
      "outputs": [
        {
          "output_type": "stream",
          "name": "stdout",
          "text": [
            "['0', '1', '2', '3', '4', '5', '6', '7', '8', '9', '1', '0', '1', '1', '1', '2', '1', '3', '1', '4', '1', '5', '1', '6', '1', '7', '1', '8', '1', '9', '2', '0', '1', '2', '3', '4', '5', '6', '1', '2', '3', '4', '5', '6', '1', '2', '3', '4', '5', '6', '7', '8', '9', '0', '1', '0', '9', '0', '9', '1', '5', '4', '9', '1', '0', '1', '0', '5', '0', '4', '3', '2', '9', '0', '1', '0', '1', '0', '5', '0', '5', '0', '4', '0', '4', '0', '9', '0', '1', '0', '4', '9', '4', '9', '2', '3', '1', '3', '1', '0', '1', '0', '2', '9', '1', '3', '3', '1', '3', '2', '0', '1', '0', '1', '9', '1', '3', '3', '8', '2', '9', '0', '6', '4', '7', '2', '1', '3', '2', '1', '3', '0', '1', '0', '1', '9', '1', '3', '3', '8', '2', '9', '1', '0', '1', '8', '0', '1', '0', '1', '8', '0']\n"
          ]
        }
      ]
    },
    {
      "cell_type": "code",
      "source": [
        "# 숫자 대표 정규표현식\n",
        "regex = r'\\d'\n",
        "\n",
        "#정규표현식과 일치하는 부분을 찾는 코드\n",
        "\n",
        "import re\n",
        "result = re.findall(regex,searchtarget)\n",
        "print('\\n'.join(result))"
      ],
      "metadata": {
        "colab": {
          "base_uri": "https://localhost:8080/"
        },
        "id": "dsvdAEb-IEmX",
        "outputId": "87514add-4a3f-4c47-d10f-80cc2f604c2f"
      },
      "execution_count": null,
      "outputs": [
        {
          "output_type": "stream",
          "name": "stdout",
          "text": [
            "0\n",
            "1\n",
            "2\n",
            "3\n",
            "4\n",
            "5\n",
            "6\n",
            "7\n",
            "8\n",
            "9\n",
            "1\n",
            "0\n",
            "1\n",
            "1\n",
            "1\n",
            "2\n",
            "1\n",
            "3\n",
            "1\n",
            "4\n",
            "1\n",
            "5\n",
            "1\n",
            "6\n",
            "1\n",
            "7\n",
            "1\n",
            "8\n",
            "1\n",
            "9\n",
            "2\n",
            "0\n",
            "1\n",
            "2\n",
            "3\n",
            "4\n",
            "5\n",
            "6\n",
            "1\n",
            "2\n",
            "3\n",
            "4\n",
            "5\n",
            "6\n",
            "1\n",
            "2\n",
            "3\n",
            "4\n",
            "5\n",
            "6\n",
            "7\n",
            "8\n",
            "9\n",
            "0\n",
            "1\n",
            "0\n",
            "9\n",
            "0\n",
            "9\n",
            "1\n",
            "5\n",
            "4\n",
            "9\n",
            "1\n",
            "0\n",
            "1\n",
            "0\n",
            "5\n",
            "0\n",
            "4\n",
            "3\n",
            "2\n",
            "9\n",
            "0\n",
            "1\n",
            "0\n",
            "1\n",
            "0\n",
            "5\n",
            "0\n",
            "5\n",
            "0\n",
            "4\n",
            "0\n",
            "4\n",
            "0\n",
            "9\n",
            "0\n",
            "1\n",
            "0\n",
            "4\n",
            "9\n",
            "4\n",
            "9\n",
            "2\n",
            "3\n",
            "1\n",
            "3\n",
            "1\n",
            "0\n",
            "1\n",
            "0\n",
            "2\n",
            "9\n",
            "1\n",
            "3\n",
            "3\n",
            "1\n",
            "3\n",
            "2\n",
            "0\n",
            "1\n",
            "0\n",
            "1\n",
            "9\n",
            "1\n",
            "3\n",
            "3\n",
            "8\n",
            "2\n",
            "9\n",
            "0\n",
            "6\n",
            "4\n",
            "7\n",
            "2\n",
            "1\n",
            "3\n",
            "2\n",
            "1\n",
            "3\n",
            "0\n",
            "1\n",
            "0\n",
            "1\n",
            "9\n",
            "1\n",
            "3\n",
            "3\n",
            "8\n",
            "2\n",
            "9\n",
            "1\n",
            "0\n",
            "1\n",
            "8\n",
            "0\n",
            "1\n",
            "0\n",
            "1\n",
            "8\n",
            "0\n"
          ]
        }
      ]
    },
    {
      "cell_type": "code",
      "source": [
        "# 글자 대표 정규표현식\n",
        "regex = r'\\w'\n",
        "\n",
        "#정규표현식과 일치하는 부분을 찾는 코드\n",
        "\n",
        "import re\n",
        "result = re.findall(regex,searchtarget)\n",
        "print('\\n'.join(result))"
      ],
      "metadata": {
        "colab": {
          "base_uri": "https://localhost:8080/"
        },
        "id": "uiWsRX4zIbrw",
        "outputId": "93a43620-2684-4aa3-bd25-cd41723950ca"
      },
      "execution_count": null,
      "outputs": [
        {
          "output_type": "stream",
          "name": "stdout",
          "text": [
            "h\n",
            "e\n",
            "l\n",
            "l\n",
            "o\n",
            "w\n",
            "o\n",
            "r\n",
            "l\n",
            "d\n",
            "h\n",
            "e\n",
            "l\n",
            "l\n",
            "o\n",
            "w\n",
            "o\n",
            "r\n",
            "l\n",
            "d\n",
            "h\n",
            "e\n",
            "l\n",
            "l\n",
            "o\n",
            "w\n",
            "o\n",
            "r\n",
            "l\n",
            "d\n",
            "H\n",
            "e\n",
            "l\n",
            "l\n",
            "o\n",
            "W\n",
            "o\n",
            "r\n",
            "l\n",
            "d\n",
            "h\n",
            "e\n",
            "l\n",
            "l\n",
            "o\n",
            "w\n",
            "o\n",
            "r\n",
            "l\n",
            "d\n",
            "h\n",
            "e\n",
            "l\n",
            "l\n",
            "o\n",
            "h\n",
            "e\n",
            "l\n",
            "l\n",
            "o\n",
            "h\n",
            "a\n",
            "l\n",
            "l\n",
            "o\n",
            "h\n",
            "o\n",
            "l\n",
            "l\n",
            "o\n",
            "h\n",
            "e\n",
            "a\n",
            "l\n",
            "l\n",
            "o\n",
            "y\n",
            "e\n",
            "l\n",
            "l\n",
            "o\n",
            "w\n",
            "M\n",
            "o\n",
            "n\n",
            "d\n",
            "a\n",
            "y\n",
            "T\n",
            "u\n",
            "e\n",
            "s\n",
            "d\n",
            "a\n",
            "y\n",
            "W\n",
            "e\n",
            "d\n",
            "n\n",
            "e\n",
            "s\n",
            "d\n",
            "a\n",
            "y\n",
            "T\n",
            "h\n",
            "u\n",
            "r\n",
            "s\n",
            "d\n",
            "a\n",
            "y\n",
            "F\n",
            "r\n",
            "i\n",
            "d\n",
            "a\n",
            "y\n",
            "S\n",
            "a\n",
            "t\n",
            "u\n",
            "r\n",
            "d\n",
            "a\n",
            "y\n",
            "S\n",
            "u\n",
            "n\n",
            "d\n",
            "a\n",
            "y\n",
            "a\n",
            "b\n",
            "c\n",
            "d\n",
            "e\n",
            "f\n",
            "g\n",
            "h\n",
            "i\n",
            "j\n",
            "k\n",
            "l\n",
            "m\n",
            "n\n",
            "o\n",
            "p\n",
            "q\n",
            "r\n",
            "s\n",
            "t\n",
            "u\n",
            "v\n",
            "w\n",
            "x\n",
            "y\n",
            "z\n",
            "A\n",
            "B\n",
            "C\n",
            "D\n",
            "E\n",
            "F\n",
            "G\n",
            "H\n",
            "I\n",
            "J\n",
            "K\n",
            "L\n",
            "M\n",
            "N\n",
            "O\n",
            "P\n",
            "Q\n",
            "R\n",
            "S\n",
            "T\n",
            "U\n",
            "V\n",
            "W\n",
            "X\n",
            "Y\n",
            "Z\n",
            "0\n",
            "1\n",
            "2\n",
            "3\n",
            "4\n",
            "5\n",
            "6\n",
            "7\n",
            "8\n",
            "9\n",
            "1\n",
            "0\n",
            "1\n",
            "1\n",
            "1\n",
            "2\n",
            "1\n",
            "3\n",
            "1\n",
            "4\n",
            "1\n",
            "5\n",
            "1\n",
            "6\n",
            "1\n",
            "7\n",
            "1\n",
            "8\n",
            "1\n",
            "9\n",
            "2\n",
            "0\n",
            "a\n",
            "a\n",
            "a\n",
            "b\n",
            "b\n",
            "c\n",
            "a\n",
            "a\n",
            "a\n",
            "b\n",
            "b\n",
            "c\n",
            "a\n",
            "b\n",
            "c\n",
            "a\n",
            "b\n",
            "c\n",
            "a\n",
            "a\n",
            "a\n",
            "b\n",
            "b\n",
            "c\n",
            "a\n",
            "a\n",
            "a\n",
            "b\n",
            "b\n",
            "c\n",
            "a\n",
            "b\n",
            "c\n",
            "a\n",
            "b\n",
            "c\n",
            "a\n",
            "a\n",
            "a\n",
            "1\n",
            "b\n",
            "b\n",
            "2\n",
            "c\n",
            "3\n",
            "a\n",
            "a\n",
            "a\n",
            "4\n",
            "b\n",
            "b\n",
            "5\n",
            "c\n",
            "6\n",
            "1\n",
            "2\n",
            "3\n",
            "4\n",
            "5\n",
            "6\n",
            "1\n",
            "2\n",
            "3\n",
            "4\n",
            "5\n",
            "6\n",
            "7\n",
            "8\n",
            "9\n",
            "a\n",
            "b\n",
            "c\n",
            "d\n",
            "e\n",
            "f\n",
            "g\n",
            "h\n",
            "i\n",
            "j\n",
            "0\n",
            "1\n",
            "0\n",
            "9\n",
            "0\n",
            "9\n",
            "1\n",
            "5\n",
            "4\n",
            "9\n",
            "1\n",
            "0\n",
            "1\n",
            "0\n",
            "5\n",
            "0\n",
            "4\n",
            "3\n",
            "2\n",
            "9\n",
            "0\n",
            "1\n",
            "0\n",
            "1\n",
            "0\n",
            "5\n",
            "0\n",
            "5\n",
            "0\n",
            "4\n",
            "0\n",
            "4\n",
            "0\n",
            "9\n",
            "0\n",
            "1\n",
            "0\n",
            "4\n",
            "9\n",
            "4\n",
            "9\n",
            "2\n",
            "3\n",
            "1\n",
            "3\n",
            "1\n",
            "0\n",
            "1\n",
            "0\n",
            "2\n",
            "9\n",
            "1\n",
            "3\n",
            "3\n",
            "1\n",
            "3\n",
            "2\n",
            "0\n",
            "1\n",
            "0\n",
            "1\n",
            "9\n",
            "1\n",
            "3\n",
            "3\n",
            "8\n",
            "2\n",
            "9\n",
            "0\n",
            "6\n",
            "4\n",
            "7\n",
            "2\n",
            "1\n",
            "3\n",
            "2\n",
            "1\n",
            "3\n",
            "0\n",
            "1\n",
            "0\n",
            "1\n",
            "9\n",
            "1\n",
            "3\n",
            "3\n",
            "8\n",
            "2\n",
            "9\n",
            "p\n",
            "a\n",
            "u\n",
            "l\n",
            "k\n",
            "o\n",
            "r\n",
            "e\n",
            "a\n",
            "n\n",
            "a\n",
            "v\n",
            "e\n",
            "r\n",
            "c\n",
            "o\n",
            "m\n",
            "p\n",
            "a\n",
            "u\n",
            "l\n",
            "n\n",
            "a\n",
            "v\n",
            "e\n",
            "r\n",
            "c\n",
            "o\n",
            "m\n",
            "l\n",
            "e\n",
            "e\n",
            "h\n",
            "o\n",
            "j\n",
            "u\n",
            "n\n",
            "g\n",
            "m\n",
            "a\n",
            "i\n",
            "l\n",
            "c\n",
            "o\n",
            "m\n",
            "h\n",
            "o\n",
            "j\n",
            "u\n",
            "n\n",
            "l\n",
            "e\n",
            "e\n",
            "g\n",
            "m\n",
            "a\n",
            "i\n",
            "l\n",
            "c\n",
            "o\n",
            "m\n",
            "t\n",
            "e\n",
            "s\n",
            "t\n",
            "t\n",
            "e\n",
            "s\n",
            "t\n",
            "g\n",
            "o\n",
            "g\n",
            "o\n",
            "g\n",
            "o\n",
            "h\n",
            "t\n",
            "t\n",
            "p\n",
            "s\n",
            "g\n",
            "i\n",
            "t\n",
            "h\n",
            "u\n",
            "b\n",
            "c\n",
            "o\n",
            "m\n",
            "L\n",
            "i\n",
            "v\n",
            "e\n",
            "C\n",
            "o\n",
            "r\n",
            "o\n",
            "n\n",
            "a\n",
            "D\n",
            "e\n",
            "t\n",
            "e\n",
            "c\n",
            "t\n",
            "o\n",
            "r\n",
            "l\n",
            "i\n",
            "v\n",
            "e\n",
            "c\n",
            "o\n",
            "d\n",
            "g\n",
            "i\n",
            "t\n",
            "h\n",
            "u\n",
            "b\n",
            "c\n",
            "o\n",
            "m\n",
            "L\n",
            "i\n",
            "v\n",
            "e\n",
            "C\n",
            "o\n",
            "r\n",
            "o\n",
            "n\n",
            "a\n",
            "D\n",
            "e\n",
            "t\n",
            "e\n",
            "c\n",
            "t\n",
            "o\n",
            "r\n",
            "l\n",
            "i\n",
            "v\n",
            "e\n",
            "c\n",
            "o\n",
            "d\n",
            "h\n",
            "t\n",
            "t\n",
            "p\n",
            "s\n",
            "g\n",
            "i\n",
            "t\n",
            "h\n",
            "u\n",
            "b\n",
            "c\n",
            "o\n",
            "m\n",
            "L\n",
            "i\n",
            "v\n",
            "e\n",
            "C\n",
            "o\n",
            "r\n",
            "o\n",
            "n\n",
            "a\n",
            "D\n",
            "e\n",
            "t\n",
            "e\n",
            "c\n",
            "t\n",
            "o\n",
            "r\n",
            "I\n",
            "n\n",
            "e\n",
            "v\n",
            "e\n",
            "r\n",
            "d\n",
            "r\n",
            "e\n",
            "a\n",
            "m\n",
            "e\n",
            "d\n",
            "a\n",
            "b\n",
            "o\n",
            "u\n",
            "t\n",
            "s\n",
            "u\n",
            "c\n",
            "c\n",
            "e\n",
            "s\n",
            "s\n",
            "I\n",
            "w\n",
            "o\n",
            "r\n",
            "k\n",
            "e\n",
            "d\n",
            "f\n",
            "o\n",
            "r\n",
            "i\n",
            "t\n",
            "D\n",
            "o\n",
            "n\n",
            "o\n",
            "t\n",
            "b\n",
            "e\n",
            "a\n",
            "f\n",
            "r\n",
            "a\n",
            "i\n",
            "d\n",
            "t\n",
            "o\n",
            "g\n",
            "i\n",
            "v\n",
            "e\n",
            "u\n",
            "p\n",
            "t\n",
            "h\n",
            "e\n",
            "g\n",
            "o\n",
            "o\n",
            "d\n",
            "t\n",
            "o\n",
            "g\n",
            "o\n",
            "f\n",
            "o\n",
            "r\n",
            "t\n",
            "h\n",
            "e\n",
            "g\n",
            "r\n",
            "e\n",
            "a\n",
            "t\n",
            "h\n",
            "e\n",
            "l\n",
            "l\n",
            "o\n",
            "h\n",
            "e\n",
            "l\n",
            "l\n",
            "o\n",
            "w\n",
            "o\n",
            "r\n",
            "l\n",
            "d\n",
            "h\n",
            "e\n",
            "l\n",
            "l\n",
            "o\n",
            "h\n",
            "e\n",
            "l\n",
            "l\n",
            "o\n",
            "h\n",
            "e\n",
            "l\n",
            "l\n",
            "o\n",
            "w\n",
            "o\n",
            "r\n",
            "l\n",
            "d\n",
            "h\n",
            "e\n",
            "l\n",
            "l\n",
            "o\n",
            "n\n",
            "a\n",
            "m\n",
            "e\n",
            "l\n",
            "e\n",
            "e\n",
            "h\n",
            "o\n",
            "j\n",
            "u\n",
            "n\n",
            "a\n",
            "g\n",
            "e\n",
            "1\n",
            "0\n",
            "h\n",
            "e\n",
            "i\n",
            "g\n",
            "h\n",
            "t\n",
            "1\n",
            "8\n",
            "0\n",
            "e\n",
            "m\n",
            "a\n",
            "i\n",
            "l\n",
            "p\n",
            "a\n",
            "u\n",
            "l\n",
            "l\n",
            "a\n",
            "b\n",
            "n\n",
            "a\n",
            "v\n",
            "e\n",
            "r\n",
            "c\n",
            "o\n",
            "m\n",
            "n\n",
            "a\n",
            "m\n",
            "e\n",
            "l\n",
            "e\n",
            "e\n",
            "h\n",
            "o\n",
            "j\n",
            "u\n",
            "n\n",
            "a\n",
            "g\n",
            "e\n",
            "1\n",
            "0\n",
            "h\n",
            "e\n",
            "i\n",
            "g\n",
            "h\n",
            "t\n",
            "1\n",
            "8\n",
            "0\n",
            "e\n",
            "m\n",
            "a\n",
            "i\n",
            "l\n",
            "p\n",
            "a\n",
            "u\n",
            "l\n",
            "l\n",
            "a\n",
            "b\n",
            "n\n",
            "a\n",
            "v\n",
            "e\n",
            "r\n",
            "c\n",
            "o\n",
            "m\n",
            "가\n",
            "나\n",
            "다\n",
            "라\n",
            "마\n",
            "바\n",
            "사\n",
            "아\n",
            "자\n",
            "차\n",
            "카\n",
            "타\n",
            "파\n",
            "하\n",
            "ㄱ\n",
            "ㄴ\n",
            "ㄷ\n",
            "ㄹ\n",
            "ㅁ\n",
            "ㅂ\n",
            "ㅅ\n",
            "ㅇ\n",
            "ㅈ\n",
            "ㅊ\n",
            "ㅋ\n",
            "ㅌ\n",
            "ㅍ\n",
            "ㅎ\n",
            "안\n",
            "녕\n",
            "하\n",
            "세\n",
            "요\n",
            "안\n",
            "녕\n",
            "하\n",
            "세\n",
            "요\n",
            "수\n",
            "사\n",
            "수\n",
            "박\n",
            "수\n",
            "상\n",
            "동\n",
            "해\n",
            "물\n",
            "과\n",
            "백\n",
            "두\n",
            "산\n",
            "이\n",
            "마\n",
            "르\n",
            "고\n",
            "닳\n",
            "도\n",
            "록\n",
            "하\n",
            "느\n",
            "님\n",
            "이\n",
            "보\n",
            "호\n",
            "하\n",
            "사\n",
            "우\n",
            "리\n",
            "나\n",
            "라\n",
            "만\n",
            "세\n"
          ]
        }
      ]
    },
    {
      "cell_type": "code",
      "source": [
        "# hello 단어 검색\n",
        "regex = r'hello'\n",
        "\n",
        "#정규표현식과 일치하는 부분을 찾는 코드\n",
        "\n",
        "import re\n",
        "result = re.findall(regex,searchtarget)\n",
        "print('\\n'.join(result))"
      ],
      "metadata": {
        "colab": {
          "base_uri": "https://localhost:8080/"
        },
        "id": "2DeUNSF8Ikrw",
        "outputId": "7fa705ed-7294-4171-a08f-cb74b4982605"
      },
      "execution_count": null,
      "outputs": [
        {
          "output_type": "stream",
          "name": "stdout",
          "text": [
            "hello\n",
            "hello\n",
            "hello\n",
            "hello\n",
            "hello\n",
            "hello\n",
            "hello\n",
            "hello\n",
            "hello\n",
            "hello\n",
            "hello\n",
            "hello\n"
          ]
        }
      ]
    },
    {
      "cell_type": "code",
      "source": [
        "# 맨처음에 와야하는 것 ^\n",
        "m1 = re.findall(\"^Life\", \"Life is too short\")\n",
        "print(\"m1 결과 : \", m1)"
      ],
      "metadata": {
        "colab": {
          "base_uri": "https://localhost:8080/"
        },
        "id": "aBxNh4ZWMQ2E",
        "outputId": "9ba34253-acab-4216-99ad-17012185148e"
      },
      "execution_count": null,
      "outputs": [
        {
          "output_type": "stream",
          "name": "stdout",
          "text": [
            "m1 결과 :  ['Life']\n"
          ]
        }
      ]
    },
    {
      "cell_type": "code",
      "source": [
        "# 맨처음에 와야하는 것 ^\n",
        "m2 = re.findall(\"^is\", \"Life is too short\")\n",
        "print(\"m2 결과 : \", m2)"
      ],
      "metadata": {
        "colab": {
          "base_uri": "https://localhost:8080/"
        },
        "id": "qxEy-plHM9nJ",
        "outputId": "7e68c513-6dc1-48a4-dba8-6e5ecae2d7f0"
      },
      "execution_count": null,
      "outputs": [
        {
          "output_type": "stream",
          "name": "stdout",
          "text": [
            "m2 결과 :  []\n"
          ]
        }
      ]
    },
    {
      "cell_type": "code",
      "source": [
        "# 맨 마지막에 와야하는 것\n",
        "m1 = re.findall(\"short$\", \"Life is too short\")\n",
        "m2 = re.findall(\"short$\", \"Life is too short. So what?\")\n",
        " \n",
        "print(\"m1 결과 : \", m1)\n",
        "print(\"m2 결과 : \", m2)"
      ],
      "metadata": {
        "colab": {
          "base_uri": "https://localhost:8080/"
        },
        "id": "dqTHNSgfM-_h",
        "outputId": "391124eb-3941-410b-8007-b302089c383e"
      },
      "execution_count": null,
      "outputs": [
        {
          "output_type": "stream",
          "name": "stdout",
          "text": [
            "m1 결과 :  ['short']\n",
            "m2 결과 :  []\n"
          ]
        }
      ]
    },
    {
      "cell_type": "code",
      "source": [
        "# 특정문자 1개\n",
        "regex = re.compile(r'ema.l')\n",
        "\n",
        "#정규표현식과 일치하는 부분을 찾는 코드\n",
        "\n",
        "import re\n",
        "result = re.findall(regex,searchtarget)\n",
        "print('\\n'.join(result))"
      ],
      "metadata": {
        "colab": {
          "base_uri": "https://localhost:8080/"
        },
        "id": "u9nZEr6yNCE1",
        "outputId": "1d8d12c6-16ab-4aad-b783-56ed99a0a4eb"
      },
      "execution_count": null,
      "outputs": [
        {
          "output_type": "stream",
          "name": "stdout",
          "text": [
            "email\n",
            "email\n"
          ]
        }
      ]
    },
    {
      "cell_type": "code",
      "source": [
        "# 특정문자 6개(공백포함)\n",
        "regex = re.compile(r'......')\n",
        "\n",
        "#정규표현식과 일치하는 부분을 찾는 코드\n",
        "\n",
        "import re\n",
        "result = re.findall(regex,searchtarget)\n",
        "print('\\n'.join(result))"
      ],
      "metadata": {
        "colab": {
          "base_uri": "https://localhost:8080/"
        },
        "id": "jsGoti5cNWcY",
        "outputId": "14de4717-d539-4b30-abd1-135db919dab2"
      },
      "execution_count": null,
      "outputs": [
        {
          "output_type": "stream",
          "name": "stdout",
          "text": [
            "hello \n",
            "hello \n",
            " world\n",
            "hello,\n",
            " world\n",
            "Hello \n",
            "hello \n",
            "world \n",
            "heallo\n",
            "yellow\n",
            "Monday\n",
            " Tuesd\n",
            "ay Wed\n",
            "nesday\n",
            " Thurs\n",
            "day Fr\n",
            "iday S\n",
            "aturda\n",
            "y Sund\n",
            "abcdef\n",
            "ghijkl\n",
            "mnopqr\n",
            "stuvwx\n",
            "yzABCD\n",
            "EFGHIJ\n",
            "KLMNOP\n",
            "QRSTUV\n",
            "WXYZ01\n",
            "234567\n",
            "891011\n",
            "121314\n",
            "151617\n",
            "181920\n",
            "aaabbc\n",
            "aaabbc\n",
            "abcabc\n",
            "aaa bb\n",
            " c aaa\n",
            " bb c \n",
            "a b c \n",
            "aaa1bb\n",
            "2c3aaa\n",
            "4bb5c6\n",
            "[12345\n",
            "123[45\n",
            "abc[de\n",
            "f]ghij\n",
            "010-90\n",
            "91-549\n",
            "010-50\n",
            "43-290\n",
            "010-50\n",
            "50-404\n",
            "010-49\n",
            "492-31\n",
            "010 29\n",
            "13 313\n",
            "010191\n",
            "064-72\n",
            "1-3213\n",
            "010.19\n",
            "13.382\n",
            "paul-k\n",
            "orea@n\n",
            "aver.c\n",
            "paul@n\n",
            "aver.c\n",
            "leehoj\n",
            "un@gma\n",
            "il.com\n",
            "hojun.\n",
            "lee@gm\n",
            "ail.co\n",
            "test.t\n",
            "est@go\n",
            ".go.go\n",
            "https:\n",
            "//gith\n",
            "ub.com\n",
            "/LiveC\n",
            "oronaD\n",
            "etecto\n",
            "r/live\n",
            "github\n",
            ".com/L\n",
            "iveCor\n",
            "onaDet\n",
            "ector/\n",
            "liveco\n",
            "https:\n",
            "//gith\n",
            "ub.com\n",
            "/LiveC\n",
            "oronaD\n",
            "etecto\n",
            "I neve\n",
            "r drea\n",
            "med ab\n",
            "out su\n",
            "ccess,\n",
            " I wor\n",
            "ked fo\n",
            "Do not\n",
            " be af\n",
            "raid t\n",
            "o give\n",
            " up th\n",
            "e good\n",
            " to go\n",
            " for t\n",
            "he gre\n",
            "hello \n",
            "(hello\n",
            " world\n",
            ") hell\n",
            "hello \n",
            "\\hello\n",
            " world\n",
            "// hel\n",
            "[(name\n",
            ", leeh\n",
            "ojun),\n",
            " (age,\n",
            " 10), \n",
            "(heigh\n",
            "t, 180\n",
            "), (em\n",
            "ail, p\n",
            "aul-la\n",
            "b@nave\n",
            "r.com)\n",
            "{name \n",
            ": leeh\n",
            "ojun, \n",
            "age : \n",
            "10, he\n",
            "ight :\n",
            " 180, \n",
            "email \n",
            ": paul\n",
            "-lab@n\n",
            "aver.c\n",
            "가나다라마바\n",
            "사아자차카타\n",
            "ㄱㄴㄷㄹㅁㅂ\n",
            "ㅅㅇㅈㅊㅋㅌ\n",
            "안녕-하세요\n",
            "동해 물과 \n",
            "백두산이 마\n",
            "르고 닳도록\n",
            " 하느님이 \n",
            "보호하사 우\n",
            "리나라 만세\n"
          ]
        }
      ]
    },
    {
      "cell_type": "code",
      "source": [
        "# 여러가지 중에 택 1해서 찾기\n",
        "regex = re.compile(r'h[aey]llo')\n",
        "\n",
        "#정규표현식과 일치하는 부분을 찾는 코드\n",
        "\n",
        "import re\n",
        "result = re.findall(regex,searchtarget)\n",
        "print('\\n'.join(result))"
      ],
      "metadata": {
        "colab": {
          "base_uri": "https://localhost:8080/"
        },
        "id": "YDaZosbYN1-f",
        "outputId": "a06f9f74-4d9a-4422-e251-41d17f68436b"
      },
      "execution_count": null,
      "outputs": [
        {
          "output_type": "stream",
          "name": "stdout",
          "text": [
            "hello\n",
            "hello\n",
            "hello\n",
            "hello\n",
            "hello\n",
            "hello\n",
            "hallo\n",
            "hello\n",
            "hello\n",
            "hello\n",
            "hello\n",
            "hello\n",
            "hello\n"
          ]
        }
      ]
    },
    {
      "cell_type": "code",
      "source": [
        "# 여러가지 중에 택 1해서 찾기\n",
        "regex = re.compile(r'h[aey]l..', re.I) #I 대소문자 구분 X\n",
        "\n",
        "#정규표현식과 일치하는 부분을 찾는 코드\n",
        "\n",
        "import re\n",
        "result = re.findall(regex,searchtarget)\n",
        "print('\\n'.join(result))"
      ],
      "metadata": {
        "colab": {
          "base_uri": "https://localhost:8080/"
        },
        "id": "wtR0yDr6Olit",
        "outputId": "5088694e-87cd-4e33-9581-9837690b04c9"
      },
      "execution_count": null,
      "outputs": [
        {
          "output_type": "stream",
          "name": "stdout",
          "text": [
            "hello\n",
            "hello\n",
            "hello\n",
            "Hello\n",
            "hello\n",
            "hello\n",
            "hello\n",
            "hallo\n",
            "hello\n",
            "hello\n",
            "hello\n",
            "hello\n",
            "hello\n",
            "hello\n"
          ]
        }
      ]
    },
    {
      "cell_type": "code",
      "source": [
        "# 여러가지 중에 택 1해서 찾기\n",
        "regex = re.compile(r'h[a-f]l..', re.I) \n",
        "\n",
        "#정규표현식과 일치하는 부분을 찾는 코드\n",
        "\n",
        "import re\n",
        "result = re.findall(regex,searchtarget)\n",
        "print('\\n'.join(result))"
      ],
      "metadata": {
        "colab": {
          "base_uri": "https://localhost:8080/"
        },
        "id": "gz8M0u5XO-iG",
        "outputId": "5d0ff9c0-10a2-4a5c-abfc-4be9c5b0fc9b"
      },
      "execution_count": null,
      "outputs": [
        {
          "output_type": "stream",
          "name": "stdout",
          "text": [
            "hello\n",
            "hello\n",
            "hello\n",
            "Hello\n",
            "hello\n",
            "hello\n",
            "hello\n",
            "hallo\n",
            "hello\n",
            "hello\n",
            "hello\n",
            "hello\n",
            "hello\n",
            "hello\n"
          ]
        }
      ]
    },
    {
      "cell_type": "code",
      "source": [
        "# 여러가지 중에 택 1해서 찾기 - 대문자\n",
        "\n",
        "regex = re.compile(r'[a-zA-Z0-9가-힣]') # a-f사이 중에 1개\n",
        "\n",
        "# 정규표현식과 일치하는 부분을 모두 찾아주는 파이썬 코드입니다.\n",
        "import re\n",
        "result = re.findall(regex, searchtarget)\n",
        "print(\"\\n\".join(result))"
      ],
      "metadata": {
        "colab": {
          "base_uri": "https://localhost:8080/"
        },
        "id": "h0c1Hrw8PHMz",
        "outputId": "69143d40-0cb6-4869-c70f-46bd1048a52e"
      },
      "execution_count": null,
      "outputs": [
        {
          "output_type": "stream",
          "name": "stdout",
          "text": [
            "h\n",
            "e\n",
            "l\n",
            "l\n",
            "o\n",
            "w\n",
            "o\n",
            "r\n",
            "l\n",
            "d\n",
            "h\n",
            "e\n",
            "l\n",
            "l\n",
            "o\n",
            "w\n",
            "o\n",
            "r\n",
            "l\n",
            "d\n",
            "h\n",
            "e\n",
            "l\n",
            "l\n",
            "o\n",
            "w\n",
            "o\n",
            "r\n",
            "l\n",
            "d\n",
            "H\n",
            "e\n",
            "l\n",
            "l\n",
            "o\n",
            "W\n",
            "o\n",
            "r\n",
            "l\n",
            "d\n",
            "h\n",
            "e\n",
            "l\n",
            "l\n",
            "o\n",
            "w\n",
            "o\n",
            "r\n",
            "l\n",
            "d\n",
            "h\n",
            "e\n",
            "l\n",
            "l\n",
            "o\n",
            "h\n",
            "e\n",
            "l\n",
            "l\n",
            "o\n",
            "h\n",
            "a\n",
            "l\n",
            "l\n",
            "o\n",
            "h\n",
            "o\n",
            "l\n",
            "l\n",
            "o\n",
            "h\n",
            "e\n",
            "a\n",
            "l\n",
            "l\n",
            "o\n",
            "y\n",
            "e\n",
            "l\n",
            "l\n",
            "o\n",
            "w\n",
            "M\n",
            "o\n",
            "n\n",
            "d\n",
            "a\n",
            "y\n",
            "T\n",
            "u\n",
            "e\n",
            "s\n",
            "d\n",
            "a\n",
            "y\n",
            "W\n",
            "e\n",
            "d\n",
            "n\n",
            "e\n",
            "s\n",
            "d\n",
            "a\n",
            "y\n",
            "T\n",
            "h\n",
            "u\n",
            "r\n",
            "s\n",
            "d\n",
            "a\n",
            "y\n",
            "F\n",
            "r\n",
            "i\n",
            "d\n",
            "a\n",
            "y\n",
            "S\n",
            "a\n",
            "t\n",
            "u\n",
            "r\n",
            "d\n",
            "a\n",
            "y\n",
            "S\n",
            "u\n",
            "n\n",
            "d\n",
            "a\n",
            "y\n",
            "a\n",
            "b\n",
            "c\n",
            "d\n",
            "e\n",
            "f\n",
            "g\n",
            "h\n",
            "i\n",
            "j\n",
            "k\n",
            "l\n",
            "m\n",
            "n\n",
            "o\n",
            "p\n",
            "q\n",
            "r\n",
            "s\n",
            "t\n",
            "u\n",
            "v\n",
            "w\n",
            "x\n",
            "y\n",
            "z\n",
            "A\n",
            "B\n",
            "C\n",
            "D\n",
            "E\n",
            "F\n",
            "G\n",
            "H\n",
            "I\n",
            "J\n",
            "K\n",
            "L\n",
            "M\n",
            "N\n",
            "O\n",
            "P\n",
            "Q\n",
            "R\n",
            "S\n",
            "T\n",
            "U\n",
            "V\n",
            "W\n",
            "X\n",
            "Y\n",
            "Z\n",
            "0\n",
            "1\n",
            "2\n",
            "3\n",
            "4\n",
            "5\n",
            "6\n",
            "7\n",
            "8\n",
            "9\n",
            "1\n",
            "0\n",
            "1\n",
            "1\n",
            "1\n",
            "2\n",
            "1\n",
            "3\n",
            "1\n",
            "4\n",
            "1\n",
            "5\n",
            "1\n",
            "6\n",
            "1\n",
            "7\n",
            "1\n",
            "8\n",
            "1\n",
            "9\n",
            "2\n",
            "0\n",
            "a\n",
            "a\n",
            "a\n",
            "b\n",
            "b\n",
            "c\n",
            "a\n",
            "a\n",
            "a\n",
            "b\n",
            "b\n",
            "c\n",
            "a\n",
            "b\n",
            "c\n",
            "a\n",
            "b\n",
            "c\n",
            "a\n",
            "a\n",
            "a\n",
            "b\n",
            "b\n",
            "c\n",
            "a\n",
            "a\n",
            "a\n",
            "b\n",
            "b\n",
            "c\n",
            "a\n",
            "b\n",
            "c\n",
            "a\n",
            "b\n",
            "c\n",
            "a\n",
            "a\n",
            "a\n",
            "1\n",
            "b\n",
            "b\n",
            "2\n",
            "c\n",
            "3\n",
            "a\n",
            "a\n",
            "a\n",
            "4\n",
            "b\n",
            "b\n",
            "5\n",
            "c\n",
            "6\n",
            "1\n",
            "2\n",
            "3\n",
            "4\n",
            "5\n",
            "6\n",
            "1\n",
            "2\n",
            "3\n",
            "4\n",
            "5\n",
            "6\n",
            "7\n",
            "8\n",
            "9\n",
            "a\n",
            "b\n",
            "c\n",
            "d\n",
            "e\n",
            "f\n",
            "g\n",
            "h\n",
            "i\n",
            "j\n",
            "0\n",
            "1\n",
            "0\n",
            "9\n",
            "0\n",
            "9\n",
            "1\n",
            "5\n",
            "4\n",
            "9\n",
            "1\n",
            "0\n",
            "1\n",
            "0\n",
            "5\n",
            "0\n",
            "4\n",
            "3\n",
            "2\n",
            "9\n",
            "0\n",
            "1\n",
            "0\n",
            "1\n",
            "0\n",
            "5\n",
            "0\n",
            "5\n",
            "0\n",
            "4\n",
            "0\n",
            "4\n",
            "0\n",
            "9\n",
            "0\n",
            "1\n",
            "0\n",
            "4\n",
            "9\n",
            "4\n",
            "9\n",
            "2\n",
            "3\n",
            "1\n",
            "3\n",
            "1\n",
            "0\n",
            "1\n",
            "0\n",
            "2\n",
            "9\n",
            "1\n",
            "3\n",
            "3\n",
            "1\n",
            "3\n",
            "2\n",
            "0\n",
            "1\n",
            "0\n",
            "1\n",
            "9\n",
            "1\n",
            "3\n",
            "3\n",
            "8\n",
            "2\n",
            "9\n",
            "0\n",
            "6\n",
            "4\n",
            "7\n",
            "2\n",
            "1\n",
            "3\n",
            "2\n",
            "1\n",
            "3\n",
            "0\n",
            "1\n",
            "0\n",
            "1\n",
            "9\n",
            "1\n",
            "3\n",
            "3\n",
            "8\n",
            "2\n",
            "9\n",
            "p\n",
            "a\n",
            "u\n",
            "l\n",
            "k\n",
            "o\n",
            "r\n",
            "e\n",
            "a\n",
            "n\n",
            "a\n",
            "v\n",
            "e\n",
            "r\n",
            "c\n",
            "o\n",
            "m\n",
            "p\n",
            "a\n",
            "u\n",
            "l\n",
            "n\n",
            "a\n",
            "v\n",
            "e\n",
            "r\n",
            "c\n",
            "o\n",
            "m\n",
            "l\n",
            "e\n",
            "e\n",
            "h\n",
            "o\n",
            "j\n",
            "u\n",
            "n\n",
            "g\n",
            "m\n",
            "a\n",
            "i\n",
            "l\n",
            "c\n",
            "o\n",
            "m\n",
            "h\n",
            "o\n",
            "j\n",
            "u\n",
            "n\n",
            "l\n",
            "e\n",
            "e\n",
            "g\n",
            "m\n",
            "a\n",
            "i\n",
            "l\n",
            "c\n",
            "o\n",
            "m\n",
            "t\n",
            "e\n",
            "s\n",
            "t\n",
            "t\n",
            "e\n",
            "s\n",
            "t\n",
            "g\n",
            "o\n",
            "g\n",
            "o\n",
            "g\n",
            "o\n",
            "h\n",
            "t\n",
            "t\n",
            "p\n",
            "s\n",
            "g\n",
            "i\n",
            "t\n",
            "h\n",
            "u\n",
            "b\n",
            "c\n",
            "o\n",
            "m\n",
            "L\n",
            "i\n",
            "v\n",
            "e\n",
            "C\n",
            "o\n",
            "r\n",
            "o\n",
            "n\n",
            "a\n",
            "D\n",
            "e\n",
            "t\n",
            "e\n",
            "c\n",
            "t\n",
            "o\n",
            "r\n",
            "l\n",
            "i\n",
            "v\n",
            "e\n",
            "c\n",
            "o\n",
            "d\n",
            "g\n",
            "i\n",
            "t\n",
            "h\n",
            "u\n",
            "b\n",
            "c\n",
            "o\n",
            "m\n",
            "L\n",
            "i\n",
            "v\n",
            "e\n",
            "C\n",
            "o\n",
            "r\n",
            "o\n",
            "n\n",
            "a\n",
            "D\n",
            "e\n",
            "t\n",
            "e\n",
            "c\n",
            "t\n",
            "o\n",
            "r\n",
            "l\n",
            "i\n",
            "v\n",
            "e\n",
            "c\n",
            "o\n",
            "d\n",
            "h\n",
            "t\n",
            "t\n",
            "p\n",
            "s\n",
            "g\n",
            "i\n",
            "t\n",
            "h\n",
            "u\n",
            "b\n",
            "c\n",
            "o\n",
            "m\n",
            "L\n",
            "i\n",
            "v\n",
            "e\n",
            "C\n",
            "o\n",
            "r\n",
            "o\n",
            "n\n",
            "a\n",
            "D\n",
            "e\n",
            "t\n",
            "e\n",
            "c\n",
            "t\n",
            "o\n",
            "r\n",
            "I\n",
            "n\n",
            "e\n",
            "v\n",
            "e\n",
            "r\n",
            "d\n",
            "r\n",
            "e\n",
            "a\n",
            "m\n",
            "e\n",
            "d\n",
            "a\n",
            "b\n",
            "o\n",
            "u\n",
            "t\n",
            "s\n",
            "u\n",
            "c\n",
            "c\n",
            "e\n",
            "s\n",
            "s\n",
            "I\n",
            "w\n",
            "o\n",
            "r\n",
            "k\n",
            "e\n",
            "d\n",
            "f\n",
            "o\n",
            "r\n",
            "i\n",
            "t\n",
            "D\n",
            "o\n",
            "n\n",
            "o\n",
            "t\n",
            "b\n",
            "e\n",
            "a\n",
            "f\n",
            "r\n",
            "a\n",
            "i\n",
            "d\n",
            "t\n",
            "o\n",
            "g\n",
            "i\n",
            "v\n",
            "e\n",
            "u\n",
            "p\n",
            "t\n",
            "h\n",
            "e\n",
            "g\n",
            "o\n",
            "o\n",
            "d\n",
            "t\n",
            "o\n",
            "g\n",
            "o\n",
            "f\n",
            "o\n",
            "r\n",
            "t\n",
            "h\n",
            "e\n",
            "g\n",
            "r\n",
            "e\n",
            "a\n",
            "t\n",
            "h\n",
            "e\n",
            "l\n",
            "l\n",
            "o\n",
            "h\n",
            "e\n",
            "l\n",
            "l\n",
            "o\n",
            "w\n",
            "o\n",
            "r\n",
            "l\n",
            "d\n",
            "h\n",
            "e\n",
            "l\n",
            "l\n",
            "o\n",
            "h\n",
            "e\n",
            "l\n",
            "l\n",
            "o\n",
            "h\n",
            "e\n",
            "l\n",
            "l\n",
            "o\n",
            "w\n",
            "o\n",
            "r\n",
            "l\n",
            "d\n",
            "h\n",
            "e\n",
            "l\n",
            "l\n",
            "o\n",
            "n\n",
            "a\n",
            "m\n",
            "e\n",
            "l\n",
            "e\n",
            "e\n",
            "h\n",
            "o\n",
            "j\n",
            "u\n",
            "n\n",
            "a\n",
            "g\n",
            "e\n",
            "1\n",
            "0\n",
            "h\n",
            "e\n",
            "i\n",
            "g\n",
            "h\n",
            "t\n",
            "1\n",
            "8\n",
            "0\n",
            "e\n",
            "m\n",
            "a\n",
            "i\n",
            "l\n",
            "p\n",
            "a\n",
            "u\n",
            "l\n",
            "l\n",
            "a\n",
            "b\n",
            "n\n",
            "a\n",
            "v\n",
            "e\n",
            "r\n",
            "c\n",
            "o\n",
            "m\n",
            "n\n",
            "a\n",
            "m\n",
            "e\n",
            "l\n",
            "e\n",
            "e\n",
            "h\n",
            "o\n",
            "j\n",
            "u\n",
            "n\n",
            "a\n",
            "g\n",
            "e\n",
            "1\n",
            "0\n",
            "h\n",
            "e\n",
            "i\n",
            "g\n",
            "h\n",
            "t\n",
            "1\n",
            "8\n",
            "0\n",
            "e\n",
            "m\n",
            "a\n",
            "i\n",
            "l\n",
            "p\n",
            "a\n",
            "u\n",
            "l\n",
            "l\n",
            "a\n",
            "b\n",
            "n\n",
            "a\n",
            "v\n",
            "e\n",
            "r\n",
            "c\n",
            "o\n",
            "m\n",
            "가\n",
            "나\n",
            "다\n",
            "라\n",
            "마\n",
            "바\n",
            "사\n",
            "아\n",
            "자\n",
            "차\n",
            "카\n",
            "타\n",
            "파\n",
            "하\n",
            "안\n",
            "녕\n",
            "하\n",
            "세\n",
            "요\n",
            "안\n",
            "녕\n",
            "하\n",
            "세\n",
            "요\n",
            "수\n",
            "사\n",
            "수\n",
            "박\n",
            "수\n",
            "상\n",
            "동\n",
            "해\n",
            "물\n",
            "과\n",
            "백\n",
            "두\n",
            "산\n",
            "이\n",
            "마\n",
            "르\n",
            "고\n",
            "닳\n",
            "도\n",
            "록\n",
            "하\n",
            "느\n",
            "님\n",
            "이\n",
            "보\n",
            "호\n",
            "하\n",
            "사\n",
            "우\n",
            "리\n",
            "나\n",
            "라\n",
            "만\n",
            "세\n"
          ]
        }
      ]
    },
    {
      "cell_type": "code",
      "source": [
        "# 여러가지 중에 택 1해서 찾기 - 대문자\n",
        "\n",
        "regex = re.compile(r'[^a-zA-Z0-9가-힣]') # a-f사이 중에 1개\n",
        "\n",
        "# 정규표현식과 일치하는 부분을 모두 찾아주는 파이썬 코드입니다.\n",
        "import re\n",
        "result = re.findall(regex, searchtarget)\n",
        "print(\"\\n\".join(result))"
      ],
      "metadata": {
        "colab": {
          "base_uri": "https://localhost:8080/"
        },
        "id": "KgumNfWiQYK2",
        "outputId": "7d381c54-9116-4abb-b77d-9e4f9747ca80"
      },
      "execution_count": null,
      "outputs": [
        {
          "output_type": "stream",
          "name": "stdout",
          "text": [
            "\n",
            "\n",
            " \n",
            "\n",
            "\n",
            " \n",
            " \n",
            "\n",
            "\n",
            ",\n",
            " \n",
            "\n",
            "\n",
            " \n",
            "\n",
            "\n",
            "\n",
            "\n",
            " \n",
            " \n",
            "\n",
            "\n",
            "\n",
            "\n",
            "\n",
            "\n",
            "\n",
            "\n",
            "\n",
            "\n",
            "\n",
            "\n",
            "\n",
            "\n",
            "\n",
            "\n",
            " \n",
            " \n",
            " \n",
            " \n",
            " \n",
            " \n",
            "\n",
            "\n",
            "\n",
            "\n",
            "\n",
            "\n",
            "\n",
            "\n",
            " \n",
            " \n",
            " \n",
            " \n",
            " \n",
            " \n",
            " \n",
            " \n",
            " \n",
            " \n",
            " \n",
            "\n",
            "\n",
            "\n",
            "\n",
            "\n",
            "\n",
            "[\n",
            "]\n",
            "\n",
            "\n",
            "[\n",
            "]\n",
            "\n",
            "\n",
            "[\n",
            "]\n",
            "\n",
            "\n",
            "\n",
            "\n",
            "-\n",
            "-\n",
            "\n",
            "\n",
            "-\n",
            "-\n",
            "\n",
            "\n",
            "-\n",
            "-\n",
            "\n",
            "\n",
            "-\n",
            "-\n",
            "\n",
            "\n",
            " \n",
            " \n",
            "\n",
            "\n",
            "\n",
            "\n",
            "-\n",
            "-\n",
            "\n",
            "\n",
            ".\n",
            ".\n",
            "\n",
            "\n",
            "\n",
            "\n",
            "\n",
            "\n",
            "-\n",
            "@\n",
            ".\n",
            "\n",
            "\n",
            "@\n",
            ".\n",
            "\n",
            "\n",
            "@\n",
            ".\n",
            "\n",
            "\n",
            ".\n",
            "@\n",
            ".\n",
            "\n",
            "\n",
            ".\n",
            "@\n",
            ".\n",
            ".\n",
            "\n",
            "\n",
            "\n",
            "\n",
            "\n",
            "\n",
            ":\n",
            "/\n",
            "/\n",
            ".\n",
            "/\n",
            "/\n",
            "\n",
            "\n",
            ".\n",
            "/\n",
            "/\n",
            "\n",
            "\n",
            ":\n",
            "/\n",
            "/\n",
            ".\n",
            "/\n",
            "\n",
            "\n",
            "\n",
            "\n",
            " \n",
            " \n",
            " \n",
            " \n",
            ",\n",
            " \n",
            " \n",
            " \n",
            " \n",
            ".\n",
            "\n",
            "\n",
            " \n",
            " \n",
            " \n",
            " \n",
            " \n",
            " \n",
            " \n",
            " \n",
            " \n",
            " \n",
            " \n",
            " \n",
            " \n",
            ".\n",
            "\n",
            "\n",
            "\n",
            "\n",
            " \n",
            "(\n",
            " \n",
            ")\n",
            " \n",
            "\n",
            "\n",
            " \n",
            "\\\n",
            " \n",
            "/\n",
            "/\n",
            " \n",
            "\n",
            "\n",
            "^\n",
            "^\n",
            "\n",
            "\n",
            ":\n",
            ")\n",
            "\n",
            "\n",
            "\n",
            "\n",
            "[\n",
            "(\n",
            ",\n",
            " \n",
            ")\n",
            ",\n",
            " \n",
            "(\n",
            ",\n",
            " \n",
            ")\n",
            ",\n",
            " \n",
            "(\n",
            ",\n",
            " \n",
            ")\n",
            ",\n",
            " \n",
            "(\n",
            ",\n",
            " \n",
            "-\n",
            "@\n",
            ".\n",
            ")\n",
            "]\n",
            "\n",
            "\n",
            "{\n",
            " \n",
            ":\n",
            " \n",
            ",\n",
            " \n",
            " \n",
            ":\n",
            " \n",
            ",\n",
            " \n",
            " \n",
            ":\n",
            " \n",
            ",\n",
            " \n",
            " \n",
            ":\n",
            " \n",
            "-\n",
            "@\n",
            ".\n",
            "}\n",
            "\n",
            "\n",
            "\n",
            "\n",
            "\n",
            "\n",
            "ㄱ\n",
            "ㄴ\n",
            "ㄷ\n",
            "ㄹ\n",
            "ㅁ\n",
            "ㅂ\n",
            "ㅅ\n",
            "ㅇ\n",
            "ㅈ\n",
            "ㅊ\n",
            "ㅋ\n",
            "ㅌ\n",
            "ㅍ\n",
            "ㅎ\n",
            "\n",
            "\n",
            "\n",
            "\n",
            "-\n",
            "\n",
            "\n",
            "\n",
            "\n",
            "\n",
            "\n",
            "\n",
            "\n",
            " \n",
            " \n",
            " \n",
            " \n",
            " \n",
            " \n",
            " \n",
            " \n",
            "\n",
            "\n"
          ]
        }
      ]
    },
    {
      "cell_type": "code",
      "source": [
        "# 서브패턴\n",
        "\n",
        "# 소괄호를 사용하면 정규식 일부 패턴을 그룹화 할 수 있습니다.\n",
        "# 이 정규식 그룹은 그룹 캡처기능이라고 불리는데\n",
        "# 정규식 그룹은 번호가 매겨진 캡처그룹을 생성하고, 괄호안에 정규식 부분과\n",
        "# 일치하는 문자열을 찾고, 저장합니다.\n",
        "# 그 캡처 번호를 사용하여 문자열 부분을 불러와 사용할 수 있습니다.\n",
        "\n",
        "# 주의할점은 캡처에 정규식 패턴이 저장된다고 착각할 수 잇지만\n",
        "# 캡처는 패턴으로 찾은 문자열을 저장한다.\n",
        " \n",
        "# ?:는 그룹이지만 캡처를 저장하지 않음 \n",
        "\n",
        "# 빈칸에 정규표현식을 적습니다.\n",
        "regex = re.compile('(on|ues|rida)') #그룹 1로 3개 중 1개 매칭되는 패턴\n",
        "\n",
        "# 그룹 안에 매칭이 된 것만 출력이 되는 형태\n",
        "\n",
        "# 정규표현식과 일치하는 부분을 모두 찾아주는 파이썬 코드입니다.\n",
        "import re\n",
        "result = re.findall(regex, searchtarget)\n",
        "print(\"\\n\".join(result))"
      ],
      "metadata": {
        "colab": {
          "base_uri": "https://localhost:8080/"
        },
        "id": "y4E6yqYEQbuF",
        "outputId": "465804b7-95ab-4c3b-8cfc-18ddec4a3ccd"
      },
      "execution_count": null,
      "outputs": [
        {
          "output_type": "stream",
          "name": "stdout",
          "text": [
            "on\n",
            "ues\n",
            "rida\n",
            "on\n",
            "on\n",
            "on\n"
          ]
        }
      ]
    },
    {
      "cell_type": "code",
      "source": [
        "# 서브패턴\n",
        "\n",
        "# 빈칸에 정규표현식을 적습니다.\n",
        "regex = re.compile('(Mon|Tues|Fri)day') #그룹 1로 3개 중 매칭되는 패턴\n",
        "\n",
        "# 정규표현식과 일치하는 부분을 모두 찾아주는 파이썬 코드입니다.\n",
        "import re\n",
        "result = re.findall(regex, searchtarget)\n",
        "print(\"\\n\".join(result))"
      ],
      "metadata": {
        "colab": {
          "base_uri": "https://localhost:8080/"
        },
        "id": "zZ2oJrKjRi0O",
        "outputId": "c6699d2e-29f5-470c-b8d2-79de9d18eaa3"
      },
      "execution_count": null,
      "outputs": [
        {
          "output_type": "stream",
          "name": "stdout",
          "text": [
            "Mon\n",
            "Tues\n",
            "Fri\n"
          ]
        }
      ]
    },
    {
      "cell_type": "code",
      "source": [
        "# 서브패턴\n",
        "\n",
        "# 빈칸에 정규표현식을 적습니다.\n",
        "regex = re.compile('(?:Mon|Tues|Fri)day') #그룹 1로 3개 중 매칭되는 패턴\n",
        "\n",
        "# 정규표현식과 일치하는 부분을 모두 찾아주는 파이썬 코드입니다.\n",
        "import re\n",
        "result = re.findall(regex, searchtarget)\n",
        "print(\"\\n\".join(result))"
      ],
      "metadata": {
        "colab": {
          "base_uri": "https://localhost:8080/"
        },
        "id": "5PDYLHVtRm-K",
        "outputId": "a6cc701e-426f-41c2-84a1-527b7d477cce"
      },
      "execution_count": null,
      "outputs": [
        {
          "output_type": "stream",
          "name": "stdout",
          "text": [
            "Monday\n",
            "Tuesday\n",
            "Friday\n"
          ]
        }
      ]
    },
    {
      "cell_type": "code",
      "source": [
        "# 서브패턴 \n",
        "\n",
        "import re\n",
        "\n",
        "text = \"tomato potato\"\n",
        "\n",
        "p1 = \"(tom|pot)ato\"    # 그룹으로 묶인건 그 단어 (tom|pot)을 출력\n",
        "p2 = \"(?:tom|pot)ato\"  # 그룹으로 묶이지 않은것은 캡처하지 않겠다고 매칭 tomato와 potato가 출력\n",
        "\n",
        "m1 = re.findall(p1, text)\n",
        "m2 = re.findall(p2, text)\n",
        "\n",
        "print(\"m1 결과 : \", m1)\n",
        "print(\"m2 결과 : \", m2)"
      ],
      "metadata": {
        "colab": {
          "base_uri": "https://localhost:8080/"
        },
        "id": "TnViNGlsSDSK",
        "outputId": "104648b1-5b52-4dbb-9b04-0f4af29388c0"
      },
      "execution_count": null,
      "outputs": [
        {
          "output_type": "stream",
          "name": "stdout",
          "text": [
            "m1 결과 :  ['tom', 'pot']\n",
            "m2 결과 :  ['tomato', 'potato']\n"
          ]
        }
      ]
    },
    {
      "cell_type": "code",
      "source": [
        "# 수량자 \n",
        "\n",
        "# 빈칸에 정규표현식을 적습니다.\n",
        "regex = re.compile('[0-9]{2,3}[-.* ][0-9]{3,4}[-.* ,][0-9]{4,5}') #\bhello 뒤에 world가 오는 것\n",
        "\n",
        "# 1. [0에서 9까지]{3개}[- 나 . 앞에 있는 문자 0~N개]\n",
        "# 2. [0에서 9까지]{4개}[- 나 . 앞에 있는 문자 0~N개]\n",
        "# 3. [0에서 9까지]{4개}[- 나 .]\n",
        "\n",
        "# 정규표현식과 일치하는 부분을 모두 찾아주는 파이썬 코드입니다.\n",
        "import re\n",
        "result = re.findall(regex, searchtarget)\n",
        "print(\"\\n\".join(result))"
      ],
      "metadata": {
        "colab": {
          "base_uri": "https://localhost:8080/"
        },
        "id": "hnc5wVtxVMbS",
        "outputId": "45f4d3c6-e9e2-418a-eba5-3055692472ca"
      },
      "execution_count": null,
      "outputs": [
        {
          "output_type": "stream",
          "name": "stdout",
          "text": [
            "010-9091-5491\n",
            "010-5043-2901\n",
            "010-5050-40409\n",
            "010 2913 3132\n",
            "064-721-3213\n",
            "010.1913.3829\n"
          ]
        }
      ]
    },
    {
      "cell_type": "code",
      "source": [
        "# 수량자\n",
        "\n",
        "# 빈칸에 정규표현식을 적습니다.\n",
        "regex = re.compile('[0-9a-zA-Z]+@[0-9a-zA-Z]+.[a-zA-Z]+') #\bhello 뒤에 world가 오는 것\n",
        "\n",
        "# 1. [0에서 9까지 + 영문자]{+@}\n",
        "# 2. [0에서 9까지 + 영문자].\n",
        "# 3. [영문자_ 1개 이상]\n",
        "\n",
        "# 정규표현식과 일치하는 부분을 모두 찾아주는 파이썬 코드입니다.\n",
        "import re\n",
        "result = re.findall(regex, searchtarget)\n",
        "print(\"\\n\".join(result))"
      ],
      "metadata": {
        "colab": {
          "base_uri": "https://localhost:8080/"
        },
        "id": "qs5buhTGVh-N",
        "outputId": "0e85098f-aee1-47be-b651-3d6d0eb28936"
      },
      "execution_count": null,
      "outputs": [
        {
          "output_type": "stream",
          "name": "stdout",
          "text": [
            "korea@naver.com\n",
            "paul@naver.com\n",
            "leehojun@gmail.com\n",
            "lee@gmail.com\n",
            "test@go.go\n",
            "lab@naver.com\n",
            "lab@naver.com\n"
          ]
        }
      ]
    },
    {
      "cell_type": "code",
      "source": [
        "# 캐릭터 클래스\n",
        "\n",
        "# 빈칸에 정규표현식을 적습니다.\n",
        "regex = re.compile('\\W') # 글자가 아닌것 \n",
        "regex = re.compile('\\D') # 숫자가 아닌것 \n",
        "regex = re.compile('\\S') # 공백이 아닌것 \n",
        "\n",
        "# 1. [0에서 9까지 + 영문자]{+@}\n",
        "# 2. [0에서 9까지 + 영문자].\n",
        "# 3. [영문자_ 1개 이상]\n",
        "\n",
        "# 정규표현식과 일치하는 부분을 모두 찾아주는 파이썬 코드입니다.\n",
        "import re\n",
        "result = re.findall(regex, searchtarget)\n",
        "print(\"\\n\".join(result))"
      ],
      "metadata": {
        "colab": {
          "base_uri": "https://localhost:8080/"
        },
        "id": "c2FdYDrTbFlB",
        "outputId": "694eaa18-6767-40c4-aac1-6074ca9b5572"
      },
      "execution_count": null,
      "outputs": [
        {
          "output_type": "stream",
          "name": "stdout",
          "text": [
            "h\n",
            "e\n",
            "l\n",
            "l\n",
            "o\n",
            "w\n",
            "o\n",
            "r\n",
            "l\n",
            "d\n",
            "h\n",
            "e\n",
            "l\n",
            "l\n",
            "o\n",
            "w\n",
            "o\n",
            "r\n",
            "l\n",
            "d\n",
            "h\n",
            "e\n",
            "l\n",
            "l\n",
            "o\n",
            ",\n",
            "w\n",
            "o\n",
            "r\n",
            "l\n",
            "d\n",
            "H\n",
            "e\n",
            "l\n",
            "l\n",
            "o\n",
            "W\n",
            "o\n",
            "r\n",
            "l\n",
            "d\n",
            "h\n",
            "e\n",
            "l\n",
            "l\n",
            "o\n",
            "w\n",
            "o\n",
            "r\n",
            "l\n",
            "d\n",
            "h\n",
            "e\n",
            "l\n",
            "l\n",
            "o\n",
            "h\n",
            "e\n",
            "l\n",
            "l\n",
            "o\n",
            "h\n",
            "a\n",
            "l\n",
            "l\n",
            "o\n",
            "h\n",
            "o\n",
            "l\n",
            "l\n",
            "o\n",
            "h\n",
            "e\n",
            "a\n",
            "l\n",
            "l\n",
            "o\n",
            "y\n",
            "e\n",
            "l\n",
            "l\n",
            "o\n",
            "w\n",
            "M\n",
            "o\n",
            "n\n",
            "d\n",
            "a\n",
            "y\n",
            "T\n",
            "u\n",
            "e\n",
            "s\n",
            "d\n",
            "a\n",
            "y\n",
            "W\n",
            "e\n",
            "d\n",
            "n\n",
            "e\n",
            "s\n",
            "d\n",
            "a\n",
            "y\n",
            "T\n",
            "h\n",
            "u\n",
            "r\n",
            "s\n",
            "d\n",
            "a\n",
            "y\n",
            "F\n",
            "r\n",
            "i\n",
            "d\n",
            "a\n",
            "y\n",
            "S\n",
            "a\n",
            "t\n",
            "u\n",
            "r\n",
            "d\n",
            "a\n",
            "y\n",
            "S\n",
            "u\n",
            "n\n",
            "d\n",
            "a\n",
            "y\n",
            "a\n",
            "b\n",
            "c\n",
            "d\n",
            "e\n",
            "f\n",
            "g\n",
            "h\n",
            "i\n",
            "j\n",
            "k\n",
            "l\n",
            "m\n",
            "n\n",
            "o\n",
            "p\n",
            "q\n",
            "r\n",
            "s\n",
            "t\n",
            "u\n",
            "v\n",
            "w\n",
            "x\n",
            "y\n",
            "z\n",
            "A\n",
            "B\n",
            "C\n",
            "D\n",
            "E\n",
            "F\n",
            "G\n",
            "H\n",
            "I\n",
            "J\n",
            "K\n",
            "L\n",
            "M\n",
            "N\n",
            "O\n",
            "P\n",
            "Q\n",
            "R\n",
            "S\n",
            "T\n",
            "U\n",
            "V\n",
            "W\n",
            "X\n",
            "Y\n",
            "Z\n",
            "0\n",
            "1\n",
            "2\n",
            "3\n",
            "4\n",
            "5\n",
            "6\n",
            "7\n",
            "8\n",
            "9\n",
            "1\n",
            "0\n",
            "1\n",
            "1\n",
            "1\n",
            "2\n",
            "1\n",
            "3\n",
            "1\n",
            "4\n",
            "1\n",
            "5\n",
            "1\n",
            "6\n",
            "1\n",
            "7\n",
            "1\n",
            "8\n",
            "1\n",
            "9\n",
            "2\n",
            "0\n",
            "a\n",
            "a\n",
            "a\n",
            "b\n",
            "b\n",
            "c\n",
            "a\n",
            "a\n",
            "a\n",
            "b\n",
            "b\n",
            "c\n",
            "a\n",
            "b\n",
            "c\n",
            "a\n",
            "b\n",
            "c\n",
            "a\n",
            "a\n",
            "a\n",
            "b\n",
            "b\n",
            "c\n",
            "a\n",
            "a\n",
            "a\n",
            "b\n",
            "b\n",
            "c\n",
            "a\n",
            "b\n",
            "c\n",
            "a\n",
            "b\n",
            "c\n",
            "a\n",
            "a\n",
            "a\n",
            "1\n",
            "b\n",
            "b\n",
            "2\n",
            "c\n",
            "3\n",
            "a\n",
            "a\n",
            "a\n",
            "4\n",
            "b\n",
            "b\n",
            "5\n",
            "c\n",
            "6\n",
            "[\n",
            "1\n",
            "2\n",
            "3\n",
            "4\n",
            "5\n",
            "6\n",
            "]\n",
            "1\n",
            "2\n",
            "3\n",
            "[\n",
            "4\n",
            "5\n",
            "6\n",
            "]\n",
            "7\n",
            "8\n",
            "9\n",
            "a\n",
            "b\n",
            "c\n",
            "[\n",
            "d\n",
            "e\n",
            "f\n",
            "]\n",
            "g\n",
            "h\n",
            "i\n",
            "j\n",
            "0\n",
            "1\n",
            "0\n",
            "-\n",
            "9\n",
            "0\n",
            "9\n",
            "1\n",
            "-\n",
            "5\n",
            "4\n",
            "9\n",
            "1\n",
            "0\n",
            "1\n",
            "0\n",
            "-\n",
            "5\n",
            "0\n",
            "4\n",
            "3\n",
            "-\n",
            "2\n",
            "9\n",
            "0\n",
            "1\n",
            "0\n",
            "1\n",
            "0\n",
            "-\n",
            "5\n",
            "0\n",
            "5\n",
            "0\n",
            "-\n",
            "4\n",
            "0\n",
            "4\n",
            "0\n",
            "9\n",
            "0\n",
            "1\n",
            "0\n",
            "-\n",
            "4\n",
            "9\n",
            "4\n",
            "9\n",
            "2\n",
            "-\n",
            "3\n",
            "1\n",
            "3\n",
            "1\n",
            "0\n",
            "1\n",
            "0\n",
            "2\n",
            "9\n",
            "1\n",
            "3\n",
            "3\n",
            "1\n",
            "3\n",
            "2\n",
            "0\n",
            "1\n",
            "0\n",
            "1\n",
            "9\n",
            "1\n",
            "3\n",
            "3\n",
            "8\n",
            "2\n",
            "9\n",
            "0\n",
            "6\n",
            "4\n",
            "-\n",
            "7\n",
            "2\n",
            "1\n",
            "-\n",
            "3\n",
            "2\n",
            "1\n",
            "3\n",
            "0\n",
            "1\n",
            "0\n",
            ".\n",
            "1\n",
            "9\n",
            "1\n",
            "3\n",
            ".\n",
            "3\n",
            "8\n",
            "2\n",
            "9\n",
            "p\n",
            "a\n",
            "u\n",
            "l\n",
            "-\n",
            "k\n",
            "o\n",
            "r\n",
            "e\n",
            "a\n",
            "@\n",
            "n\n",
            "a\n",
            "v\n",
            "e\n",
            "r\n",
            ".\n",
            "c\n",
            "o\n",
            "m\n",
            "p\n",
            "a\n",
            "u\n",
            "l\n",
            "@\n",
            "n\n",
            "a\n",
            "v\n",
            "e\n",
            "r\n",
            ".\n",
            "c\n",
            "o\n",
            "m\n",
            "l\n",
            "e\n",
            "e\n",
            "h\n",
            "o\n",
            "j\n",
            "u\n",
            "n\n",
            "@\n",
            "g\n",
            "m\n",
            "a\n",
            "i\n",
            "l\n",
            ".\n",
            "c\n",
            "o\n",
            "m\n",
            "h\n",
            "o\n",
            "j\n",
            "u\n",
            "n\n",
            ".\n",
            "l\n",
            "e\n",
            "e\n",
            "@\n",
            "g\n",
            "m\n",
            "a\n",
            "i\n",
            "l\n",
            ".\n",
            "c\n",
            "o\n",
            "m\n",
            "t\n",
            "e\n",
            "s\n",
            "t\n",
            ".\n",
            "t\n",
            "e\n",
            "s\n",
            "t\n",
            "@\n",
            "g\n",
            "o\n",
            ".\n",
            "g\n",
            "o\n",
            ".\n",
            "g\n",
            "o\n",
            "h\n",
            "t\n",
            "t\n",
            "p\n",
            "s\n",
            ":\n",
            "/\n",
            "/\n",
            "g\n",
            "i\n",
            "t\n",
            "h\n",
            "u\n",
            "b\n",
            ".\n",
            "c\n",
            "o\n",
            "m\n",
            "/\n",
            "L\n",
            "i\n",
            "v\n",
            "e\n",
            "C\n",
            "o\n",
            "r\n",
            "o\n",
            "n\n",
            "a\n",
            "D\n",
            "e\n",
            "t\n",
            "e\n",
            "c\n",
            "t\n",
            "o\n",
            "r\n",
            "/\n",
            "l\n",
            "i\n",
            "v\n",
            "e\n",
            "c\n",
            "o\n",
            "d\n",
            "g\n",
            "i\n",
            "t\n",
            "h\n",
            "u\n",
            "b\n",
            ".\n",
            "c\n",
            "o\n",
            "m\n",
            "/\n",
            "L\n",
            "i\n",
            "v\n",
            "e\n",
            "C\n",
            "o\n",
            "r\n",
            "o\n",
            "n\n",
            "a\n",
            "D\n",
            "e\n",
            "t\n",
            "e\n",
            "c\n",
            "t\n",
            "o\n",
            "r\n",
            "/\n",
            "l\n",
            "i\n",
            "v\n",
            "e\n",
            "c\n",
            "o\n",
            "d\n",
            "h\n",
            "t\n",
            "t\n",
            "p\n",
            "s\n",
            ":\n",
            "/\n",
            "/\n",
            "g\n",
            "i\n",
            "t\n",
            "h\n",
            "u\n",
            "b\n",
            ".\n",
            "c\n",
            "o\n",
            "m\n",
            "/\n",
            "L\n",
            "i\n",
            "v\n",
            "e\n",
            "C\n",
            "o\n",
            "r\n",
            "o\n",
            "n\n",
            "a\n",
            "D\n",
            "e\n",
            "t\n",
            "e\n",
            "c\n",
            "t\n",
            "o\n",
            "r\n",
            "I\n",
            "n\n",
            "e\n",
            "v\n",
            "e\n",
            "r\n",
            "d\n",
            "r\n",
            "e\n",
            "a\n",
            "m\n",
            "e\n",
            "d\n",
            "a\n",
            "b\n",
            "o\n",
            "u\n",
            "t\n",
            "s\n",
            "u\n",
            "c\n",
            "c\n",
            "e\n",
            "s\n",
            "s\n",
            ",\n",
            "I\n",
            "w\n",
            "o\n",
            "r\n",
            "k\n",
            "e\n",
            "d\n",
            "f\n",
            "o\n",
            "r\n",
            "i\n",
            "t\n",
            ".\n",
            "D\n",
            "o\n",
            "n\n",
            "o\n",
            "t\n",
            "b\n",
            "e\n",
            "a\n",
            "f\n",
            "r\n",
            "a\n",
            "i\n",
            "d\n",
            "t\n",
            "o\n",
            "g\n",
            "i\n",
            "v\n",
            "e\n",
            "u\n",
            "p\n",
            "t\n",
            "h\n",
            "e\n",
            "g\n",
            "o\n",
            "o\n",
            "d\n",
            "t\n",
            "o\n",
            "g\n",
            "o\n",
            "f\n",
            "o\n",
            "r\n",
            "t\n",
            "h\n",
            "e\n",
            "g\n",
            "r\n",
            "e\n",
            "a\n",
            "t\n",
            ".\n",
            "h\n",
            "e\n",
            "l\n",
            "l\n",
            "o\n",
            "(\n",
            "h\n",
            "e\n",
            "l\n",
            "l\n",
            "o\n",
            "w\n",
            "o\n",
            "r\n",
            "l\n",
            "d\n",
            ")\n",
            "h\n",
            "e\n",
            "l\n",
            "l\n",
            "o\n",
            "h\n",
            "e\n",
            "l\n",
            "l\n",
            "o\n",
            "\\\n",
            "h\n",
            "e\n",
            "l\n",
            "l\n",
            "o\n",
            "w\n",
            "o\n",
            "r\n",
            "l\n",
            "d\n",
            "/\n",
            "/\n",
            "h\n",
            "e\n",
            "l\n",
            "l\n",
            "o\n",
            "^\n",
            "^\n",
            ":\n",
            ")\n",
            "[\n",
            "(\n",
            "n\n",
            "a\n",
            "m\n",
            "e\n",
            ",\n",
            "l\n",
            "e\n",
            "e\n",
            "h\n",
            "o\n",
            "j\n",
            "u\n",
            "n\n",
            ")\n",
            ",\n",
            "(\n",
            "a\n",
            "g\n",
            "e\n",
            ",\n",
            "1\n",
            "0\n",
            ")\n",
            ",\n",
            "(\n",
            "h\n",
            "e\n",
            "i\n",
            "g\n",
            "h\n",
            "t\n",
            ",\n",
            "1\n",
            "8\n",
            "0\n",
            ")\n",
            ",\n",
            "(\n",
            "e\n",
            "m\n",
            "a\n",
            "i\n",
            "l\n",
            ",\n",
            "p\n",
            "a\n",
            "u\n",
            "l\n",
            "-\n",
            "l\n",
            "a\n",
            "b\n",
            "@\n",
            "n\n",
            "a\n",
            "v\n",
            "e\n",
            "r\n",
            ".\n",
            "c\n",
            "o\n",
            "m\n",
            ")\n",
            "]\n",
            "{\n",
            "n\n",
            "a\n",
            "m\n",
            "e\n",
            ":\n",
            "l\n",
            "e\n",
            "e\n",
            "h\n",
            "o\n",
            "j\n",
            "u\n",
            "n\n",
            ",\n",
            "a\n",
            "g\n",
            "e\n",
            ":\n",
            "1\n",
            "0\n",
            ",\n",
            "h\n",
            "e\n",
            "i\n",
            "g\n",
            "h\n",
            "t\n",
            ":\n",
            "1\n",
            "8\n",
            "0\n",
            ",\n",
            "e\n",
            "m\n",
            "a\n",
            "i\n",
            "l\n",
            ":\n",
            "p\n",
            "a\n",
            "u\n",
            "l\n",
            "-\n",
            "l\n",
            "a\n",
            "b\n",
            "@\n",
            "n\n",
            "a\n",
            "v\n",
            "e\n",
            "r\n",
            ".\n",
            "c\n",
            "o\n",
            "m\n",
            "}\n",
            "가\n",
            "나\n",
            "다\n",
            "라\n",
            "마\n",
            "바\n",
            "사\n",
            "아\n",
            "자\n",
            "차\n",
            "카\n",
            "타\n",
            "파\n",
            "하\n",
            "ㄱ\n",
            "ㄴ\n",
            "ㄷ\n",
            "ㄹ\n",
            "ㅁ\n",
            "ㅂ\n",
            "ㅅ\n",
            "ㅇ\n",
            "ㅈ\n",
            "ㅊ\n",
            "ㅋ\n",
            "ㅌ\n",
            "ㅍ\n",
            "ㅎ\n",
            "안\n",
            "녕\n",
            "하\n",
            "세\n",
            "요\n",
            "안\n",
            "녕\n",
            "-\n",
            "하\n",
            "세\n",
            "요\n",
            "수\n",
            "사\n",
            "수\n",
            "박\n",
            "수\n",
            "상\n",
            "동\n",
            "해\n",
            "물\n",
            "과\n",
            "백\n",
            "두\n",
            "산\n",
            "이\n",
            "마\n",
            "르\n",
            "고\n",
            "닳\n",
            "도\n",
            "록\n",
            "하\n",
            "느\n",
            "님\n",
            "이\n",
            "보\n",
            "호\n",
            "하\n",
            "사\n",
            "우\n",
            "리\n",
            "나\n",
            "라\n",
            "만\n",
            "세\n"
          ]
        }
      ]
    },
    {
      "cell_type": "code",
      "source": [
        "# 이스케이프 문자\n",
        "\n",
        "# 빈칸에 정규표현식을 적습니다.\n",
        "regex = re.compile('\\[.*]') #대괄호([]) 안에 감싸여진 문자열 0~N개\n",
        "\n",
        "# 정규표현식과 일치하는 부분을 모두 찾아주는 파이썬 코드입니다.\n",
        "import re\n",
        "result = re.findall(regex, searchtarget)\n",
        "print(\"\\n\".join(result))"
      ],
      "metadata": {
        "colab": {
          "base_uri": "https://localhost:8080/"
        },
        "id": "TOGQ4Cc1c0BQ",
        "outputId": "9c64853a-9549-4ebe-86c2-9ad7e4222513"
      },
      "execution_count": null,
      "outputs": [
        {
          "output_type": "stream",
          "name": "stdout",
          "text": [
            "[123456]\n",
            "[456]\n",
            "[def]\n",
            "[(name, leehojun), (age, 10), (height, 180), (email, paul-lab@naver.com)]\n"
          ]
        }
      ]
    },
    {
      "cell_type": "code",
      "source": [
        "# 이스케이프 문자\n",
        "\n",
        "# 빈칸에 정규표현식을 적습니다.\n",
        "regex = re.compile('-.*-') #대괄호([]) 안에 감싸여진 문자열 0~N개\n",
        "\n",
        "# 정규표현식과 일치하는 부분을 모두 찾아주는 파이썬 코드입니다.\n",
        "import re\n",
        "result = re.findall(regex, searchtarget)\n",
        "print(\"\\n\".join(result))"
      ],
      "metadata": {
        "colab": {
          "base_uri": "https://localhost:8080/"
        },
        "id": "f9mBP_mfdM-2",
        "outputId": "519d55a2-6df3-4d81-8ef2-6ede2aff3f06"
      },
      "execution_count": null,
      "outputs": [
        {
          "output_type": "stream",
          "name": "stdout",
          "text": [
            "-9091-\n",
            "-5043-\n",
            "-5050-\n",
            "-49492-\n",
            "-721-\n"
          ]
        }
      ]
    },
    {
      "cell_type": "code",
      "source": [
        "# 이스케이프 문자\n",
        "\n",
        "# 빈칸에 정규표현식을 적습니다.\n",
        "regex = re.compile('\\^\\^') #대괄호([]) 안에 감싸여진 문자열 0~N개\n",
        "\n",
        "# 정규표현식과 일치하는 부분을 모두 찾아주는 파이썬 코드입니다.\n",
        "import re\n",
        "result = re.findall(regex, searchtarget)\n",
        "print(\"\\n\".join(result))"
      ],
      "metadata": {
        "colab": {
          "base_uri": "https://localhost:8080/"
        },
        "id": "CpKlVWxXdrhd",
        "outputId": "7db66452-1ad4-4111-ce32-9f550c16ed4c"
      },
      "execution_count": null,
      "outputs": [
        {
          "output_type": "stream",
          "name": "stdout",
          "text": [
            "^^\n"
          ]
        }
      ]
    },
    {
      "cell_type": "code",
      "source": [
        "# 이스케이프 문자\n",
        "\n",
        "# 빈칸에 정규표현식을 적습니다.\n",
        "regex = re.compile(':\\)') #대괄호([]) 안에 감싸여진 문자열 0~N개\n",
        "\n",
        "# 정규표현식과 일치하는 부분을 모두 찾아주는 파이썬 코드입니다.\n",
        "import re\n",
        "result = re.findall(regex, searchtarget)\n",
        "print(\"\\n\".join(result))"
      ],
      "metadata": {
        "colab": {
          "base_uri": "https://localhost:8080/"
        },
        "id": "O9nGCos2eBcV",
        "outputId": "ffa0b853-34ff-44a3-d882-d3b738f4444b"
      },
      "execution_count": null,
      "outputs": [
        {
          "output_type": "stream",
          "name": "stdout",
          "text": [
            ":)\n"
          ]
        }
      ]
    },
    {
      "cell_type": "markdown",
      "source": [
        "# 정규표현식 실습하기"
      ],
      "metadata": {
        "id": "Wuo4iXeJfdvf"
      }
    },
    {
      "cell_type": "code",
      "source": [
        "# 여러분들이 논문을 쓸때 나중에 참고자료에 대한 인용구를 많이 활용하게 될것입니다.\n",
        "# 이를 쉽게 모으고 싶을때.. 있지 않으신가요?\n",
        "# 논문 보기\n",
        "\n",
        "import re\n",
        "\n",
        "example = '앞서 논문은 이러한 연구를 진행하였습니다(홍길동, 2019). 하지만 그런 것들을 개량하여 다음 논문이 나오게 되었고(임꺽정, 2020), 마지막으로 두가지를 모두 결합한 새로운 연구가 개발되었습니다.(심청이, 2021)'"
      ],
      "metadata": {
        "id": "StztXSPneIUR"
      },
      "execution_count": null,
      "outputs": []
    },
    {
      "cell_type": "code",
      "source": [
        "print(example)"
      ],
      "metadata": {
        "colab": {
          "base_uri": "https://localhost:8080/"
        },
        "id": "tog9U0T9ffxD",
        "outputId": "d18b0ea1-fe7f-4def-cfa9-ca0941cdff19"
      },
      "execution_count": null,
      "outputs": [
        {
          "output_type": "stream",
          "name": "stdout",
          "text": [
            "앞서 논문은 이러한 연구를 진행하였습니다(홍길동, 2019). 하지만 그런 것들을 개량하여 다음 논문이 나오게 되었고(임꺽정, 2020), 마지막으로 두가지를 모두 결합한 새로운 연구가 개발되었습니다.(심청이, 2021)\n"
          ]
        }
      ]
    },
    {
      "cell_type": "code",
      "source": [
        "import re\n",
        "\n",
        "result = re.findall(r'\\([A-Za-z가-힣]+, \\d+\\)', example)\n",
        "\n",
        "print(result)"
      ],
      "metadata": {
        "colab": {
          "base_uri": "https://localhost:8080/"
        },
        "id": "haC5Kgr3fgBb",
        "outputId": "2cacfc52-b379-461f-a58c-6df83a980d6c"
      },
      "execution_count": null,
      "outputs": [
        {
          "output_type": "stream",
          "name": "stdout",
          "text": [
            "['(홍길동, 2019)', '(임꺽정, 2020)', '(심청이, 2021)']\n"
          ]
        }
      ]
    },
    {
      "cell_type": "markdown",
      "source": [
        "[문자열 규칙에 r을 붙이는 이유]\n",
        "\n",
        "정규표현식에서 문자열을 사용할 때는 앞에 r을 붙이는 것을 추천\n",
        "만약 문자열이 \\문자가 있다면 파이썬은 그 다음 문자를 그대로 인식하지 않고, 컴퓨터에 명령하기 위한 명령어로 인식 그렇기 때문에 \\와 함께 사용하는 문자를 이스케이프문자라고 합니다.\n",
        "\n",
        "이스케이프 문자를 사용하고 싶지 않다면 \\앞에 \\를 하나 더 붙여서 \\를 일반문자로 인식시키면되고\n",
        "\n",
        "만약에 그렇게 하기 어렵다면 r을 붙이는 방법이 있다. r을 붙이면 그 뒤에 나오는 문자열에 들어 있는 문자를 모두 일반 문자로 인식합니다."
      ],
      "metadata": {
        "id": "LMCKQB0fhGvf"
      }
    },
    {
      "cell_type": "code",
      "source": [
        "# 정규표현식에서 .는 모든 문자를 의미하죠? \n",
        "# 그래서 필요한 문자 외에 다른 문자들도 집어삼켜버립니다.\n",
        "\n",
        "# 만약에 이런글을 썼다고 해보죠\n",
        "import re\n",
        "example = '저희 첫째아들은 2020년에 태어났구요. 저희 둘째 아들은 23년에 태어났는데 셋째는 26년에 가질 예정이에요'\n",
        "\n",
        "re.findall(r'\\d.+년', example)"
      ],
      "metadata": {
        "id": "w3vUP_THf78F",
        "colab": {
          "base_uri": "https://localhost:8080/"
        },
        "outputId": "68f3ef15-c776-4df6-87bf-bc6902c71b70"
      },
      "execution_count": 157,
      "outputs": [
        {
          "output_type": "execute_result",
          "data": {
            "text/plain": [
              "['2020년에 태어났구요. 저희 둘째 아들은 23년에 태어났는데 셋째는 26년']"
            ]
          },
          "metadata": {},
          "execution_count": 157
        }
      ]
    },
    {
      "cell_type": "code",
      "source": [
        "# 정규표현식에서 .는 모든 문자를 의미하죠? \n",
        "# 그래서 필요한 문자 외에 다른 문자들도 집어삼켜버립니다.\n",
        "\n",
        "# 만약에 이런글을 썼다고 해보죠\n",
        "import re\n",
        "example = '저희 첫째아들은 2020년에 태어났구요. 저희 둘째 아들은 23년에 태어났는데 셋째는 26년에 가질 예정이에요'\n",
        "\n",
        "re.findall(r'\\d+.년', example)"
      ],
      "metadata": {
        "colab": {
          "base_uri": "https://localhost:8080/"
        },
        "id": "QU9Utuf1h5wm",
        "outputId": "8818333f-e839-4e21-b429-8ff6d2c48ada"
      },
      "execution_count": 159,
      "outputs": [
        {
          "output_type": "execute_result",
          "data": {
            "text/plain": [
              "['2020년', '23년', '26년']"
            ]
          },
          "metadata": {},
          "execution_count": 159
        }
      ]
    },
    {
      "cell_type": "code",
      "source": [
        "# 정규표현식에서 .는 모든 문자를 의미하죠? \n",
        "# 그래서 필요한 문자 외에 다른 문자들도 집어삼켜버립니다.\n",
        "\n",
        "# 만약에 이런글을 썼다고 해보죠\n",
        "import re\n",
        "example = '저희 첫째아들은 2020년에 태어났구요. 저희 둘째 아들은 23년에 태어났는데 셋째는 26년에 가질 예정이에요'\n",
        "\n",
        "re.findall(r'\\d.+?년', example)"
      ],
      "metadata": {
        "colab": {
          "base_uri": "https://localhost:8080/"
        },
        "id": "kkEL7VIBisuj",
        "outputId": "8505a0f9-fa28-4712-8199-facb46760400"
      },
      "execution_count": 160,
      "outputs": [
        {
          "output_type": "execute_result",
          "data": {
            "text/plain": [
              "['2020년', '23년', '26년']"
            ]
          },
          "metadata": {},
          "execution_count": 160
        }
      ]
    },
    {
      "cell_type": "code",
      "source": [
        "# split\n",
        "\n",
        "sentense = '나는 집에 갔습니다. 그리고 밥은 먹었어요. 또 청소를 했어요. 그리고 잠을 잤어요.'\n",
        "re.split(r'[.]', sentense)"
      ],
      "metadata": {
        "colab": {
          "base_uri": "https://localhost:8080/"
        },
        "id": "oT9soBDOivfy",
        "outputId": "a3afeb8a-df06-4f92-eb1d-b8d943c8cd3a"
      },
      "execution_count": 162,
      "outputs": [
        {
          "output_type": "execute_result",
          "data": {
            "text/plain": [
              "['나는 집에 갔습니다', ' 그리고 밥은 먹었어요', ' 또 청소를 했어요', ' 그리고 잠을 잤어요', '']"
            ]
          },
          "metadata": {},
          "execution_count": 162
        }
      ]
    },
    {
      "cell_type": "code",
      "source": [
        "# , ;\n",
        "data = 'a:3;b:4;c:5'\n",
        "for i in re.split(r';', data):\n",
        "    print(re.split(r':',i))"
      ],
      "metadata": {
        "colab": {
          "base_uri": "https://localhost:8080/"
        },
        "id": "nCt5kQwZiy72",
        "outputId": "e299c238-6fab-4dd9-f19f-9a7c871554da"
      },
      "execution_count": 164,
      "outputs": [
        {
          "output_type": "stream",
          "name": "stdout",
          "text": [
            "['a', '3']\n",
            "['b', '4']\n",
            "['c', '5']\n"
          ]
        }
      ]
    },
    {
      "cell_type": "code",
      "source": [
        "sentence = '나는 동물 키우는것을 좋아합니다. 그 중 강아지를 키우는데 이름은 꽃님이에요. 날씨가 화창한 날이면 꽃님이와 산책가고 싶어져요'"
      ],
      "metadata": {
        "id": "JSjdVRlxjGvp"
      },
      "execution_count": 165,
      "outputs": []
    },
    {
      "cell_type": "code",
      "source": [
        "print(sentence)"
      ],
      "metadata": {
        "colab": {
          "base_uri": "https://localhost:8080/"
        },
        "id": "HJCOa-wSjmWV",
        "outputId": "2ec8e0ca-3b61-4a8c-86af-b3e5709bf9f4"
      },
      "execution_count": 166,
      "outputs": [
        {
          "output_type": "stream",
          "name": "stdout",
          "text": [
            "나는 동물 키우는것을 좋아합니다. 그 중 강아지를 키우는데 이름은 꽃님이에요. 날씨가 화창한 날이면 꽃님이와 산책가고 싶어져요\n"
          ]
        }
      ]
    },
    {
      "cell_type": "code",
      "source": [
        "re.sub(r'꽃님이', '또리', sentence)"
      ],
      "metadata": {
        "colab": {
          "base_uri": "https://localhost:8080/",
          "height": 54
        },
        "id": "Ly16I6lIjnhM",
        "outputId": "72385929-c01d-4e95-aece-a308150b0214"
      },
      "execution_count": 167,
      "outputs": [
        {
          "output_type": "execute_result",
          "data": {
            "text/plain": [
              "'나는 동물 키우는것을 좋아합니다. 그 중 강아지를 키우는데 이름은 또리에요. 날씨가 화창한 날이면 또리와 산책가고 싶어져요'"
            ],
            "application/vnd.google.colaboratory.intrinsic+json": {
              "type": "string"
            }
          },
          "metadata": {},
          "execution_count": 167
        }
      ]
    },
    {
      "cell_type": "code",
      "source": [
        "# 만약에 다음과 같이 공백이 있으면 어떻게 처리하면 좋을까요 공백만 다 제거해도 좋을거같아요\n",
        "sentence = '\\n\\n 나는 동물 키우는것을 좋아합니다. \\n\\n 그 중 강아지를 키우는데 이름은 꽃님이에요. \\n\\n날씨가 화창한 날이면 꽃님이와 산책가고 싶어져요 \\n\\n'"
      ],
      "metadata": {
        "id": "bZ9z5JWejoXa"
      },
      "execution_count": 168,
      "outputs": []
    },
    {
      "cell_type": "code",
      "source": [
        "print(sentence)"
      ],
      "metadata": {
        "colab": {
          "base_uri": "https://localhost:8080/"
        },
        "id": "RMSi_V28j7La",
        "outputId": "69d096f7-de37-4e65-810d-ca26746b07d6"
      },
      "execution_count": 169,
      "outputs": [
        {
          "output_type": "stream",
          "name": "stdout",
          "text": [
            "\n",
            "\n",
            " 나는 동물 키우는것을 좋아합니다. \n",
            "\n",
            " 그 중 강아지를 키우는데 이름은 꽃님이에요. \n",
            "\n",
            "날씨가 화창한 날이면 꽃님이와 산책가고 싶어져요 \n",
            "\n",
            "\n"
          ]
        }
      ]
    },
    {
      "cell_type": "code",
      "source": [
        "# 실제로 내가 띄워놓았던 공백을 제외하고는 모든 공백이 처리된것을 볼 수 있어요\n",
        "print(re.sub('\\n', '', sentence))"
      ],
      "metadata": {
        "colab": {
          "base_uri": "https://localhost:8080/"
        },
        "id": "yQxFA1T7j8wl",
        "outputId": "9196e3e6-4852-4608-e374-df65956bb521"
      },
      "execution_count": 172,
      "outputs": [
        {
          "output_type": "stream",
          "name": "stdout",
          "text": [
            " 나는 동물 키우는것을 좋아합니다.  그 중 강아지를 키우는데 이름은 꽃님이에요. 날씨가 화창한 날이면 꽃님이와 산책가고 싶어져요 \n"
          ]
        }
      ]
    },
    {
      "cell_type": "code",
      "source": [],
      "metadata": {
        "id": "w51DlkSdkhIK"
      },
      "execution_count": null,
      "outputs": []
    }
  ]
}