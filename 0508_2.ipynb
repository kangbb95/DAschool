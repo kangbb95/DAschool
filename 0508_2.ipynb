{
  "nbformat": 4,
  "nbformat_minor": 0,
  "metadata": {
    "colab": {
      "provenance": []
    },
    "kernelspec": {
      "name": "python3",
      "display_name": "Python 3"
    },
    "language_info": {
      "name": "python"
    }
  },
  "cells": [
    {
      "cell_type": "markdown",
      "source": [
        "# 1. 파일\n",
        "\n",
        "* 컴퓨터를 실행할때 가장 기본이 되는 단위.\n",
        "* 보통 프로그램 실행할때 파일을 실행한다.\n",
        "* 그 중의 우리는 csv, Excel, txt 파일을 사용"
      ],
      "metadata": {
        "id": "qAOsQ4lvw7hh"
      }
    },
    {
      "cell_type": "code",
      "execution_count": 9,
      "metadata": {
        "id": "omSuNEvsw1rO"
      },
      "outputs": [],
      "source": [
        "# 1. 파일 읽기 예제\n",
        "\n",
        "#f = open(\"파일명\", \"파일 열기 모드\")\n",
        "#f.close\n",
        "\n",
        "# 파일 여는 모드는 읽기, 쓰기, 추가 등등이 있음\n",
        "# 읽기모드 -> r / 쓰기 w / 추가 a\n",
        "\n",
        "f = open('song_new.txt', 'w')"
      ]
    },
    {
      "cell_type": "code",
      "source": [
        "f.write('''\n",
        "이윽고 내가 한눈에 너를 알아봤을 때\n",
        "모든 건 분명 달라지고 있었어\n",
        "내 세상은 널 알기 전과 후로 나뉘어\n",
        "니가 숨 쉬면 따스한 바람이 불어와\n",
        "니가 웃으면 눈부신 햇살이 비춰\n",
        "거기 있어줘서 그게 너라서\n",
        "가끔 내 어깨에 가만히 기대주어서\n",
        "나는 있잖아 정말 빈틈없이 행복해\n",
        "너를 따라서 시간은 흐르고 멈춰\n",
        "물끄러미 너를 들여다 보곤 해\n",
        "그것 말고는 아무것도 할 수 없어서\n",
        "너의 모든 순간 그게 나였으면 좋겠다\n",
        "생각만 해도 가슴이 차올라 나는 온통 너로\n",
        "보고 있으면 왠지 꿈처럼 아득한 것\n",
        "몇 광년 동안 날 향해 날아온 별빛 또 지금의 너\n",
        "*거기 있어줘서 그게 너라서\n",
        "가끔 나에게 조용하게 안겨주어서\n",
        "나는 있잖아 정말 남김없이 고마워\n",
        "너를 따라서 시간은 흐르고 멈춰\n",
        "물끄러미 너를 들여다보곤 해\n",
        "너를 보는 게 나에게는 사랑이니까\n",
        "너의 모든 순간 그게 나였으면 좋겠다... 펼쳐보기\n",
        "''')"
      ],
      "metadata": {
        "colab": {
          "base_uri": "https://localhost:8080/",
          "height": 0
        },
        "id": "O2AoMhmByxhr",
        "outputId": "40c01811-b59d-4e03-d46e-1c5558c26037"
      },
      "execution_count": 10,
      "outputs": [
        {
          "output_type": "execute_result",
          "data": {
            "text/plain": [
              "434"
            ]
          },
          "metadata": {},
          "execution_count": 10
        }
      ]
    },
    {
      "cell_type": "code",
      "source": [
        "f.close()"
      ],
      "metadata": {
        "id": "Q2Ve_SNYy-Ys"
      },
      "execution_count": 12,
      "outputs": []
    },
    {
      "cell_type": "code",
      "source": [
        "f = open('song_new.txt', 'r')\n",
        "contents = f.read()\n",
        "print(contents)\n",
        "f.close()\n",
        "\n",
        "# 1행에서 open()함수 다음에 파일명 다음에 읽기 모드 r을 입력해서 파일에 대한 값을 f에 저장\n",
        "# 2행에서 f를 이용해서 Read()함수를 실행하면 해당 파일의 텍스트들이 contents에 할당이 되고\n",
        "print()"
      ],
      "metadata": {
        "colab": {
          "base_uri": "https://localhost:8080/",
          "height": 0
        },
        "id": "XIfREanizG2o",
        "outputId": "e396d9f7-3d0e-4a4c-c17a-a23c875890ea"
      },
      "execution_count": 14,
      "outputs": [
        {
          "output_type": "stream",
          "name": "stdout",
          "text": [
            "\n",
            "이윽고 내가 한눈에 너를 알아봤을 때\n",
            "모든 건 분명 달라지고 있었어\n",
            "내 세상은 널 알기 전과 후로 나뉘어\n",
            "니가 숨 쉬면 따스한 바람이 불어와\n",
            "니가 웃으면 눈부신 햇살이 비춰\n",
            "거기 있어줘서 그게 너라서\n",
            "가끔 내 어깨에 가만히 기대주어서\n",
            "나는 있잖아 정말 빈틈없이 행복해\n",
            "너를 따라서 시간은 흐르고 멈춰\n",
            "물끄러미 너를 들여다 보곤 해\n",
            "그것 말고는 아무것도 할 수 없어서\n",
            "너의 모든 순간 그게 나였으면 좋겠다\n",
            "생각만 해도 가슴이 차올라 나는 온통 너로\n",
            "보고 있으면 왠지 꿈처럼 아득한 것\n",
            "몇 광년 동안 날 향해 날아온 별빛 또 지금의 너\n",
            "*거기 있어줘서 그게 너라서\n",
            "가끔 나에게 조용하게 안겨주어서\n",
            "나는 있잖아 정말 남김없이 고마워\n",
            "너를 따라서 시간은 흐르고 멈춰\n",
            "물끄러미 너를 들여다보곤 해\n",
            "너를 보는 게 나에게는 사랑이니까\n",
            "너의 모든 순간 그게 나였으면 좋겠다... 펼쳐보기\n",
            "\n",
            "\n"
          ]
        }
      ]
    },
    {
      "cell_type": "code",
      "source": [
        "# with문\n",
        "\n",
        "# with을 활용해서 Open()함수를 대체 할 수 있다\n",
        "# with 문은 들여쓰기를 잘해야함\n",
        "# 결론적으로 close()를 쓰지 않아도 되는 장점이 있다\n",
        "\n",
        "with open('song_new.txt', 'r') as my_song_list:\n",
        "    content = my_song_list.read()\n",
        "    print(content)"
      ],
      "metadata": {
        "colab": {
          "base_uri": "https://localhost:8080/",
          "height": 0
        },
        "id": "TvdV2fEgz3We",
        "outputId": "531a9e56-2883-4bf7-fd84-0417a9334fb4"
      },
      "execution_count": 15,
      "outputs": [
        {
          "output_type": "stream",
          "name": "stdout",
          "text": [
            "\n",
            "이윽고 내가 한눈에 너를 알아봤을 때\n",
            "모든 건 분명 달라지고 있었어\n",
            "내 세상은 널 알기 전과 후로 나뉘어\n",
            "니가 숨 쉬면 따스한 바람이 불어와\n",
            "니가 웃으면 눈부신 햇살이 비춰\n",
            "거기 있어줘서 그게 너라서\n",
            "가끔 내 어깨에 가만히 기대주어서\n",
            "나는 있잖아 정말 빈틈없이 행복해\n",
            "너를 따라서 시간은 흐르고 멈춰\n",
            "물끄러미 너를 들여다 보곤 해\n",
            "그것 말고는 아무것도 할 수 없어서\n",
            "너의 모든 순간 그게 나였으면 좋겠다\n",
            "생각만 해도 가슴이 차올라 나는 온통 너로\n",
            "보고 있으면 왠지 꿈처럼 아득한 것\n",
            "몇 광년 동안 날 향해 날아온 별빛 또 지금의 너\n",
            "*거기 있어줘서 그게 너라서\n",
            "가끔 나에게 조용하게 안겨주어서\n",
            "나는 있잖아 정말 남김없이 고마워\n",
            "너를 따라서 시간은 흐르고 멈춰\n",
            "물끄러미 너를 들여다보곤 해\n",
            "너를 보는 게 나에게는 사랑이니까\n",
            "너의 모든 순간 그게 나였으면 좋겠다... 펼쳐보기\n",
            "\n"
          ]
        }
      ]
    },
    {
      "cell_type": "code",
      "source": [
        "# 한줄로 읽어오는 방법\n",
        "# 파일 전체의 텍스트를 문자열로 반환하는 read 대신에 readlines함수를 사용하면\n",
        "# 한줄의 기준 \\n\n",
        "\n",
        "with open('song_new.txt', 'r') as my_song_list:\n",
        "    content_list = my_song_list.readlines()\n",
        "    print(content_list)"
      ],
      "metadata": {
        "colab": {
          "base_uri": "https://localhost:8080/",
          "height": 0
        },
        "id": "rLmlhi6U0ZAI",
        "outputId": "3eab3bc1-5ac6-4918-90fd-00f7f12a692a"
      },
      "execution_count": 16,
      "outputs": [
        {
          "output_type": "stream",
          "name": "stdout",
          "text": [
            "['\\n', '이윽고 내가 한눈에 너를 알아봤을 때\\n', '모든 건 분명 달라지고 있었어\\n', '내 세상은 널 알기 전과 후로 나뉘어\\n', '니가 숨 쉬면 따스한 바람이 불어와\\n', '니가 웃으면 눈부신 햇살이 비춰\\n', '거기 있어줘서 그게 너라서\\n', '가끔 내 어깨에 가만히 기대주어서\\n', '나는 있잖아 정말 빈틈없이 행복해\\n', '너를 따라서 시간은 흐르고 멈춰\\n', '물끄러미 너를 들여다 보곤 해\\n', '그것 말고는 아무것도 할 수 없어서\\n', '너의 모든 순간 그게 나였으면 좋겠다\\n', '생각만 해도 가슴이 차올라 나는 온통 너로\\n', '보고 있으면 왠지 꿈처럼 아득한 것\\n', '몇 광년 동안 날 향해 날아온 별빛 또 지금의 너\\n', '*거기 있어줘서 그게 너라서\\n', '가끔 나에게 조용하게 안겨주어서\\n', '나는 있잖아 정말 남김없이 고마워\\n', '너를 따라서 시간은 흐르고 멈춰\\n', '물끄러미 너를 들여다보곤 해\\n', '너를 보는 게 나에게는 사랑이니까\\n', '너의 모든 순간 그게 나였으면 좋겠다... 펼쳐보기\\n']\n"
          ]
        }
      ]
    },
    {
      "cell_type": "code",
      "source": [
        "content_list[2]"
      ],
      "metadata": {
        "colab": {
          "base_uri": "https://localhost:8080/",
          "height": 35
        },
        "id": "iblFm_51002v",
        "outputId": "29825a76-611e-4dae-cd9e-4d3bfff2bbdc"
      },
      "execution_count": 17,
      "outputs": [
        {
          "output_type": "execute_result",
          "data": {
            "text/plain": [
              "'모든 건 분명 달라지고 있었어\\n'"
            ],
            "application/vnd.google.colaboratory.intrinsic+json": {
              "type": "string"
            }
          },
          "metadata": {},
          "execution_count": 17
        }
      ]
    },
    {
      "cell_type": "code",
      "source": [
        "song_list_new = []\n",
        "with open('song_new.txt', 'r') as my_song_list:\n",
        "    i = 0\n",
        "    while True:\n",
        "        line = my_song_list.readline()\n",
        "        if not line:\n",
        "            break\n",
        "        song_list_new.append(line.replace(\"\\n\",\"\"))\n",
        "        i += 1"
      ],
      "metadata": {
        "id": "7OJbVzz303mY"
      },
      "execution_count": 20,
      "outputs": []
    },
    {
      "cell_type": "code",
      "source": [
        "song_list_new"
      ],
      "metadata": {
        "colab": {
          "base_uri": "https://localhost:8080/",
          "height": 0
        },
        "id": "wGFd8WE91Fwb",
        "outputId": "e73f4e84-8c22-4210-eab3-a924c4bc29f6"
      },
      "execution_count": 21,
      "outputs": [
        {
          "output_type": "execute_result",
          "data": {
            "text/plain": [
              "['',\n",
              " '이윽고 내가 한눈에 너를 알아봤을 때',\n",
              " '모든 건 분명 달라지고 있었어',\n",
              " '내 세상은 널 알기 전과 후로 나뉘어',\n",
              " '니가 숨 쉬면 따스한 바람이 불어와',\n",
              " '니가 웃으면 눈부신 햇살이 비춰',\n",
              " '거기 있어줘서 그게 너라서',\n",
              " '가끔 내 어깨에 가만히 기대주어서',\n",
              " '나는 있잖아 정말 빈틈없이 행복해',\n",
              " '너를 따라서 시간은 흐르고 멈춰',\n",
              " '물끄러미 너를 들여다 보곤 해',\n",
              " '그것 말고는 아무것도 할 수 없어서',\n",
              " '너의 모든 순간 그게 나였으면 좋겠다',\n",
              " '생각만 해도 가슴이 차올라 나는 온통 너로',\n",
              " '보고 있으면 왠지 꿈처럼 아득한 것',\n",
              " '몇 광년 동안 날 향해 날아온 별빛 또 지금의 너',\n",
              " '*거기 있어줘서 그게 너라서',\n",
              " '가끔 나에게 조용하게 안겨주어서',\n",
              " '나는 있잖아 정말 남김없이 고마워',\n",
              " '너를 따라서 시간은 흐르고 멈춰',\n",
              " '물끄러미 너를 들여다보곤 해',\n",
              " '너를 보는 게 나에게는 사랑이니까',\n",
              " '너의 모든 순간 그게 나였으면 좋겠다... 펼쳐보기']"
            ]
          },
          "metadata": {},
          "execution_count": 21
        }
      ]
    },
    {
      "cell_type": "code",
      "source": [
        "with open('song_new.txt','r') as my_song_list:\n",
        "  contents = my_song_list.read()\n",
        "  word_list = contents.split(\" \")\n",
        "  line_list = contents.split(\"\\n\")\n",
        "\n",
        "  print(f\"총 글자수는 {len(content)} 입니다\")\n",
        "  print(f\"총 단어수는 {len(word_list)} 입니다\")\n",
        "  print(f\"총 줄수는 {len(line_list)} 입니다\")"
      ],
      "metadata": {
        "colab": {
          "base_uri": "https://localhost:8080/",
          "height": 0
        },
        "id": "HCZ9u2pV1dPk",
        "outputId": "61163e91-3322-4fa6-a35c-140ca28a89b7"
      },
      "execution_count": 23,
      "outputs": [
        {
          "output_type": "stream",
          "name": "stdout",
          "text": [
            "총 글자수는 434 입니다\n",
            "총 단어수는 101 입니다\n",
            "총 줄수는 24 입니다\n"
          ]
        }
      ]
    },
    {
      "cell_type": "code",
      "source": [
        "# 파일 쓰기\n",
        "# 앞서 파일쓰기 중에서 인코딩 utf-8 / cp949 / euc-kr\n",
        "# 인코딩 실습\n",
        "\n",
        "f = open(\"count_list.txt\", \"w\", encoding = 'utf-8')"
      ],
      "metadata": {
        "id": "IXCfzLfF2R7x"
      },
      "execution_count": 24,
      "outputs": []
    },
    {
      "cell_type": "code",
      "source": [
        "for i in range(1,11):\n",
        "    data = f'{i}번째 입니다.'\n",
        "    f.write(data)\n",
        "f.close()"
      ],
      "metadata": {
        "id": "CMwA3Bpj3F8A"
      },
      "execution_count": 26,
      "outputs": []
    },
    {
      "cell_type": "code",
      "source": [
        "with open('count_list_new.txt', 'w', encoding = 'utf-8') as f:\n",
        "    for i in range(1,11):\n",
        "        data = f'{i}번째 입니다'\n",
        "        f.write(data)"
      ],
      "metadata": {
        "id": "jqtSE_YG3PlF"
      },
      "execution_count": 27,
      "outputs": []
    },
    {
      "cell_type": "code",
      "source": [
        "# Piokle 모듈\n",
        "\n",
        "# 파이썬 프로그램을 실행할때마다 변수 객체를 메모리에 저장하고,\n",
        "# 컴퓨터를 종료하면 모두 증발\n",
        "\n",
        "# 파이썬은 pickle 모듈 제공\n",
        "\n",
        "# 메모리에 로딩된 객체들을 연속적으로 사용할 수 있게\n",
        "\n",
        "# 예를 들어 데이터, 클래스, 함수, 프로그램 저장 가능"
      ],
      "metadata": {
        "id": "yaXwJ2w93jTy"
      },
      "execution_count": 28,
      "outputs": []
    },
    {
      "cell_type": "code",
      "source": [
        "# pickle 모듈 사용 import 저장하고자하는 객체를 넘기면 됨\n",
        "\n",
        "# 파일 열때 r, 파일쓸때 w\n",
        "# pickle에서는 파일 열때 rb, 파일 쓸때 wb\n",
        "\n",
        "import pickle"
      ],
      "metadata": {
        "id": "8FiM6WvO4zew"
      },
      "execution_count": 29,
      "outputs": []
    },
    {
      "cell_type": "code",
      "source": [
        "f = open('list.pickle', 'wb')\n",
        "test = [1,2,3,4,5]\n",
        "pickle.dump(test, f)\n",
        "f.close()"
      ],
      "metadata": {
        "id": "dgyYaNVI5E0I"
      },
      "execution_count": 30,
      "outputs": []
    },
    {
      "cell_type": "code",
      "source": [
        "f = open('list.pickle', 'rb')\n",
        "test_pickle = pickle.load(f)\n",
        "print(test_pickle)"
      ],
      "metadata": {
        "colab": {
          "base_uri": "https://localhost:8080/",
          "height": 0
        },
        "id": "QpaYtyec5O7T",
        "outputId": "90070795-aeb2-4180-bf41-789eacb2f03a"
      },
      "execution_count": 31,
      "outputs": [
        {
          "output_type": "stream",
          "name": "stdout",
          "text": [
            "[1, 2, 3, 4, 5]\n"
          ]
        }
      ]
    },
    {
      "cell_type": "code",
      "source": [
        "# pickle은 클래스도 저장가능하다.\n",
        "\n",
        "class Multiply(object):\n",
        "  def __init__(self, multi):\n",
        "    self.multi = multi\n",
        "  def multiply(self, number):\n",
        "    return number * self.multi\n",
        "\n",
        "multi_test = Multiply(5)\n",
        "multi_test.multiply(10)"
      ],
      "metadata": {
        "colab": {
          "base_uri": "https://localhost:8080/",
          "height": 0
        },
        "id": "2FXCWP4b5e7N",
        "outputId": "2f0f8714-62f7-4362-b9da-d9fad0b14526"
      },
      "execution_count": 32,
      "outputs": [
        {
          "output_type": "execute_result",
          "data": {
            "text/plain": [
              "50"
            ]
          },
          "metadata": {},
          "execution_count": 32
        }
      ]
    },
    {
      "cell_type": "code",
      "source": [
        "f = open('multiply_object.pickle', 'wb')\n",
        "pickle.dump(multi_test,f)"
      ],
      "metadata": {
        "id": "pSZ0v76v8rVy"
      },
      "execution_count": 33,
      "outputs": []
    },
    {
      "cell_type": "code",
      "source": [
        "f.close()"
      ],
      "metadata": {
        "id": "E3l74R7K_B7h"
      },
      "execution_count": 34,
      "outputs": []
    },
    {
      "cell_type": "code",
      "source": [
        "f = open('multiply_object.pickle', 'rb')\n",
        "multi_pickle = pickle.load(f)\n"
      ],
      "metadata": {
        "id": "gJOdpXaH_E8D"
      },
      "execution_count": 35,
      "outputs": []
    },
    {
      "cell_type": "code",
      "source": [
        "multi_pickle.multiply(10)"
      ],
      "metadata": {
        "colab": {
          "base_uri": "https://localhost:8080/",
          "height": 0
        },
        "id": "eorcCpe-_RGO",
        "outputId": "6b612dd5-6a00-4c8c-fd4e-7842ffbc08d1"
      },
      "execution_count": 36,
      "outputs": [
        {
          "output_type": "execute_result",
          "data": {
            "text/plain": [
              "50"
            ]
          },
          "metadata": {},
          "execution_count": 36
        }
      ]
    },
    {
      "cell_type": "markdown",
      "source": [
        "## CSV 데이터\n",
        "\n",
        "* 데이터 분석의 대부분은 통계프로그램이 아니라 엑셀작업이 주\n",
        "* 그만큼 우리는 스트레드시트 데이터를 많이보게되고\n",
        "* Excel 잘 다뤄도 -> 데이터분석 잘한다."
      ],
      "metadata": {
        "id": "VAi0GrV0_rAC"
      }
    },
    {
      "cell_type": "markdown",
      "source": [
        "* CSV 쉼표로 나누진 데이터인데\n",
        "* 1,2,3,4,5 -> test.csv / txt\n",
        "* .xlsx -> .csv\n",
        "* 읽기에도 좋고, 용량도 excel파일보다 작고, 콤마로 구분되어서 사용하기 편하거나 전처리하기 좋다.\n",
        "* Python -> excel -> python"
      ],
      "metadata": {
        "id": "CBuN-T5PAzBL"
      }
    },
    {
      "cell_type": "code",
      "source": [
        "import csv\n",
        "import os #경로 지정"
      ],
      "metadata": {
        "id": "DIquOcXv_Tda"
      },
      "execution_count": 37,
      "outputs": []
    },
    {
      "cell_type": "code",
      "source": [
        "# 경로지정\n",
        "\n",
        "os.chdir(\"/content/sample_data\")"
      ],
      "metadata": {
        "id": "R4UzxKs_A9GE"
      },
      "execution_count": 40,
      "outputs": []
    },
    {
      "cell_type": "code",
      "source": [
        "f = open('song_new.txt', 'w')\n",
        "f.write('''\n",
        "이윽고 내가 한눈에 너를 알아봤을 때\n",
        "모든 건 분명 달라지고 있었어\n",
        "내 세상은 널 알기 전과 후로 나뉘어\n",
        "니가 숨 쉬면 따스한 바람이 불어와\n",
        "니가 웃으면 눈부신 햇살이 비춰\n",
        "거기 있어줘서 그게 너라서\n",
        "가끔 내 어깨에 가만히 기대주어서\n",
        "나는 있잖아 정말 빈틈없이 행복해\n",
        "너를 따라서 시간은 흐르고 멈춰\n",
        "물끄러미 너를 들여다 보곤 해\n",
        "그것 말고는 아무것도 할 수 없어서\n",
        "너의 모든 순간 그게 나였으면 좋겠다\n",
        "생각만 해도 가슴이 차올라 나는 온통 너로\n",
        "보고 있으면 왠지 꿈처럼 아득한 것\n",
        "몇 광년 동안 날 향해 날아온 별빛 또 지금의 너\n",
        "*거기 있어줘서 그게 너라서\n",
        "가끔 나에게 조용하게 안겨주어서\n",
        "나는 있잖아 정말 남김없이 고마워\n",
        "너를 따라서 시간은 흐르고 멈춰\n",
        "물끄러미 너를 들여다보곤 해\n",
        "너를 보는 게 나에게는 사랑이니까\n",
        "너의 모든 순간 그게 나였으면 좋겠다...\n",
        "''')\n",
        "f.close()"
      ],
      "metadata": {
        "id": "yXqhddahBV7k"
      },
      "execution_count": 41,
      "outputs": []
    },
    {
      "cell_type": "code",
      "source": [
        "# open\n",
        "\n",
        "f = open('test.csv', 'r', encoding = 'utf-8')"
      ],
      "metadata": {
        "id": "7pbsLDr-BzT-"
      },
      "execution_count": 42,
      "outputs": []
    },
    {
      "cell_type": "code",
      "source": [
        "new = csv.reader(f)\n",
        "new"
      ],
      "metadata": {
        "colab": {
          "base_uri": "https://localhost:8080/",
          "height": 0
        },
        "id": "7EDcmOLFDTRb",
        "outputId": "35278d66-d4cc-4e7b-966d-5fb9b333db09"
      },
      "execution_count": 43,
      "outputs": [
        {
          "output_type": "execute_result",
          "data": {
            "text/plain": [
              "<_csv.reader at 0x7fd76edd4430>"
            ]
          },
          "metadata": {},
          "execution_count": 43
        }
      ]
    },
    {
      "cell_type": "code",
      "source": [
        "print(new)"
      ],
      "metadata": {
        "colab": {
          "base_uri": "https://localhost:8080/",
          "height": 0
        },
        "id": "Z5ovHwAbDYYu",
        "outputId": "a871d2d2-3c1c-4f63-a568-917126f3f32e"
      },
      "execution_count": 44,
      "outputs": [
        {
          "output_type": "stream",
          "name": "stdout",
          "text": [
            "<_csv.reader object at 0x7fd76edd4430>\n"
          ]
        }
      ]
    },
    {
      "cell_type": "code",
      "source": [
        "# csv 파일 출력하기\n",
        "\n",
        "a_list = []\n",
        "for i in new:\n",
        "    if i != '':\n",
        "        print(i)\n",
        "        a_list.append(i)"
      ],
      "metadata": {
        "colab": {
          "base_uri": "https://localhost:8080/",
          "height": 0
        },
        "id": "e_dYQm3DDaGA",
        "outputId": "dca60c76-3258-4741-8271-fb1e4847b3a8"
      },
      "execution_count": 45,
      "outputs": [
        {
          "output_type": "stream",
          "name": "stdout",
          "text": [
            "['국어', '영어', '수학', '', '', '', '']\n",
            "['50', '80', '90', '', '', '', '']\n"
          ]
        }
      ]
    },
    {
      "cell_type": "code",
      "source": [
        "# 함수화 하기\n",
        "\n",
        "def opencsv(filename):\n",
        "  f = open(filename, 'r')\n",
        "  reader = csv.reader(f)\n",
        "  output = []\n",
        "  for i in reader:\n",
        "    output.append(i)\n",
        "  return output"
      ],
      "metadata": {
        "id": "p8yk66fHDuaa"
      },
      "execution_count": 49,
      "outputs": []
    },
    {
      "cell_type": "code",
      "source": [
        "opencsv('test.csv')"
      ],
      "metadata": {
        "colab": {
          "base_uri": "https://localhost:8080/",
          "height": 0
        },
        "id": "yNg2Cw6DEhtv",
        "outputId": "a0644802-9ee7-4ed9-83c9-1966f753333b"
      },
      "execution_count": 50,
      "outputs": [
        {
          "output_type": "execute_result",
          "data": {
            "text/plain": [
              "[['국어', '영어', '수학', '', '', '', ''], ['50', '80', '90', '', '', '', '']]"
            ]
          },
          "metadata": {},
          "execution_count": 50
        }
      ]
    },
    {
      "cell_type": "code",
      "source": [
        "# 새로운 데이터 읽기 예제\n",
        "\n",
        "a = [['구', '전체', '내국인', '외국인'], \n",
        "     ['관악구','519864','502089','17775'], \n",
        "     ['강남구','547602','542498','5104'], \n",
        "     ['송파구','686181', '679247', '6934'], \n",
        "     ['강동구','428547','424235','4312']]"
      ],
      "metadata": {
        "id": "O4YEXl_hFC6n"
      },
      "execution_count": 51,
      "outputs": []
    },
    {
      "cell_type": "code",
      "source": [
        "a"
      ],
      "metadata": {
        "colab": {
          "base_uri": "https://localhost:8080/",
          "height": 0
        },
        "id": "cVM8bgyTFP8N",
        "outputId": "e1f1605f-6671-4d1c-f985-ee042310efd1"
      },
      "execution_count": 52,
      "outputs": [
        {
          "output_type": "execute_result",
          "data": {
            "text/plain": [
              "[['구', '전체', '내국인', '외국인'],\n",
              " ['관악구', '519864', '502089', '17775'],\n",
              " ['강남구', '547602', '542498', '5104'],\n",
              " ['송파구', '686181', '679247', '6934'],\n",
              " ['강동구', '428547', '424235', '4312']]"
            ]
          },
          "metadata": {},
          "execution_count": 52
        }
      ]
    },
    {
      "cell_type": "code",
      "source": [
        "f = open('abc.csv', 'w', newline = '')"
      ],
      "metadata": {
        "id": "mnfJYnZWFSE7"
      },
      "execution_count": 53,
      "outputs": []
    },
    {
      "cell_type": "code",
      "source": [
        "new_csv = csv.writer(f, delimiter = ',')"
      ],
      "metadata": {
        "id": "Q9kC4lTlFZZw"
      },
      "execution_count": 55,
      "outputs": []
    },
    {
      "cell_type": "code",
      "source": [
        "new_csv.writerows(a)"
      ],
      "metadata": {
        "id": "-o59n4gbFgNt"
      },
      "execution_count": 56,
      "outputs": []
    },
    {
      "cell_type": "code",
      "source": [
        "f.close()"
      ],
      "metadata": {
        "id": "JNKBs7JIFmEf"
      },
      "execution_count": 58,
      "outputs": []
    },
    {
      "cell_type": "code",
      "source": [
        "opencsv('abc.csv')"
      ],
      "metadata": {
        "colab": {
          "base_uri": "https://localhost:8080/",
          "height": 0
        },
        "id": "iCVYSowwFnwD",
        "outputId": "cd7e311a-16fa-40a0-b70d-222fad76491e"
      },
      "execution_count": 59,
      "outputs": [
        {
          "output_type": "execute_result",
          "data": {
            "text/plain": [
              "[['구', '전체', '내국인', '외국인'],\n",
              " ['관악구', '519864', '502089', '17775'],\n",
              " ['강남구', '547602', '542498', '5104'],\n",
              " ['송파구', '686181', '679247', '6934'],\n",
              " ['강동구', '428547', '424235', '4312']]"
            ]
          },
          "metadata": {},
          "execution_count": 59
        }
      ]
    },
    {
      "cell_type": "code",
      "source": [
        "# 새로운 데이터 쓰기 예제\n",
        "\n",
        "b = [['구', '전체', '내국인', '외국인'], \n",
        "     ['관악구','519864','502089','17775'], \n",
        "     ['강남구','547602','542498','5104'], \n",
        "     ['송파구','686181', '679247', '6934'], \n",
        "     ['강동구','428547','424235','4312']]"
      ],
      "metadata": {
        "id": "FMNbRWq4FvZw"
      },
      "execution_count": 60,
      "outputs": []
    },
    {
      "cell_type": "code",
      "source": [
        "# 함수화하기\n",
        "\n",
        "def writecsv(filename, list):\n",
        "    with open(filename, 'w', newline ='') as f:\n",
        "        a = csv.writer(f, delimiter = ',')\n",
        "        a.writerows(list)\n"
      ],
      "metadata": {
        "id": "WYv9a3LOGKvK"
      },
      "execution_count": 61,
      "outputs": []
    },
    {
      "cell_type": "code",
      "source": [
        "writecsv('new_abc.csv', b)"
      ],
      "metadata": {
        "id": "7YkfhsxeGdrj"
      },
      "execution_count": 63,
      "outputs": []
    },
    {
      "cell_type": "code",
      "source": [],
      "metadata": {
        "id": "NductgCkGhHT"
      },
      "execution_count": null,
      "outputs": []
    }
  ]
}