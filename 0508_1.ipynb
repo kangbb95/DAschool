{
  "nbformat": 4,
  "nbformat_minor": 0,
  "metadata": {
    "colab": {
      "provenance": []
    },
    "kernelspec": {
      "name": "python3",
      "display_name": "Python 3"
    },
    "language_info": {
      "name": "python"
    }
  },
  "cells": [
    {
      "cell_type": "markdown",
      "source": [
        "# *args **kwargs 사용하는 이유"
      ],
      "metadata": {
        "id": "O8vvIYl_vVqM"
      }
    },
    {
      "cell_type": "code",
      "execution_count": 3,
      "metadata": {
        "colab": {
          "base_uri": "https://localhost:8080/",
          "height": 137
        },
        "id": "qfEgH5N1tzu5",
        "outputId": "260a2f62-1cbc-4261-ee66-0a06205f0ba7"
      },
      "outputs": [
        {
          "output_type": "error",
          "ename": "SyntaxError",
          "evalue": "ignored",
          "traceback": [
            "\u001b[0;36m  File \u001b[0;32m\"<ipython-input-3-114393adba48>\"\u001b[0;36m, line \u001b[0;32m1\u001b[0m\n\u001b[0;31m    def test(*arg, **kwarg)\u001b[0m\n\u001b[0m                           ^\u001b[0m\n\u001b[0;31mSyntaxError\u001b[0m\u001b[0;31m:\u001b[0m expected ':'\n"
          ]
        }
      ],
      "source": [
        "def test(*arg, **kwarg)"
      ]
    },
    {
      "cell_type": "code",
      "source": [
        "# 어떤 입력이든 에러가 없이 어떤 값이든 받도록 도와주기 위함"
      ],
      "metadata": {
        "id": "kJRdtgsowBub"
      },
      "execution_count": 2,
      "outputs": []
    },
    {
      "cell_type": "code",
      "source": [
        "# *arg 예제 1.\n",
        "def add(x, y):\n",
        "    return x * y\n",
        "\n",
        "add(3,4)"
      ],
      "metadata": {
        "colab": {
          "base_uri": "https://localhost:8080/"
        },
        "id": "xJO2xoAYwFJx",
        "outputId": "119983e3-0038-48d7-a1e5-06f6f61644fb"
      },
      "execution_count": 4,
      "outputs": [
        {
          "output_type": "execute_result",
          "data": {
            "text/plain": [
              "12"
            ]
          },
          "metadata": {},
          "execution_count": 4
        }
      ]
    },
    {
      "cell_type": "code",
      "source": [
        "add(3,4,7)"
      ],
      "metadata": {
        "colab": {
          "base_uri": "https://localhost:8080/",
          "height": 174
        },
        "id": "MaEoTbv8wS7U",
        "outputId": "22ce092d-f18f-445f-b574-8a511ecb93f6"
      },
      "execution_count": 5,
      "outputs": [
        {
          "output_type": "error",
          "ename": "TypeError",
          "evalue": "ignored",
          "traceback": [
            "\u001b[0;31m---------------------------------------------------------------------------\u001b[0m",
            "\u001b[0;31mTypeError\u001b[0m                                 Traceback (most recent call last)",
            "\u001b[0;32m<ipython-input-5-f8c829071e07>\u001b[0m in \u001b[0;36m<cell line: 1>\u001b[0;34m()\u001b[0m\n\u001b[0;32m----> 1\u001b[0;31m \u001b[0madd\u001b[0m\u001b[0;34m(\u001b[0m\u001b[0;36m3\u001b[0m\u001b[0;34m,\u001b[0m\u001b[0;36m4\u001b[0m\u001b[0;34m,\u001b[0m\u001b[0;36m7\u001b[0m\u001b[0;34m)\u001b[0m\u001b[0;34m\u001b[0m\u001b[0;34m\u001b[0m\u001b[0m\n\u001b[0m",
            "\u001b[0;31mTypeError\u001b[0m: add() takes 2 positional arguments but 3 were given"
          ]
        }
      ]
    },
    {
      "cell_type": "code",
      "source": [
        "def add(*x):\n",
        "    return sum(x)"
      ],
      "metadata": {
        "id": "AAchDKtJwUpW"
      },
      "execution_count": 6,
      "outputs": []
    },
    {
      "cell_type": "code",
      "source": [
        "add(3,4,5,6)"
      ],
      "metadata": {
        "colab": {
          "base_uri": "https://localhost:8080/"
        },
        "id": "2EnGTpGYw7j4",
        "outputId": "96f9a82b-213b-44c8-9615-ccff676fcb09"
      },
      "execution_count": 7,
      "outputs": [
        {
          "output_type": "execute_result",
          "data": {
            "text/plain": [
              "18"
            ]
          },
          "metadata": {},
          "execution_count": 7
        }
      ]
    },
    {
      "cell_type": "code",
      "source": [
        "# **는??\n",
        "\n",
        "def add_2(*x, y = 0):\n",
        "    return sum(x) + int(y)\n",
        "\n",
        "add_2(1,2, y = \"3\")"
      ],
      "metadata": {
        "colab": {
          "base_uri": "https://localhost:8080/"
        },
        "id": "qRojk-I1w9iB",
        "outputId": "43cb3622-0f18-4aec-c68a-0cbcbd9d2175"
      },
      "execution_count": 9,
      "outputs": [
        {
          "output_type": "execute_result",
          "data": {
            "text/plain": [
              "6"
            ]
          },
          "metadata": {},
          "execution_count": 9
        }
      ]
    },
    {
      "cell_type": "code",
      "source": [
        "# 2. **의 사용방법\n",
        "\n",
        "def param(**kwargs):\n",
        "    print(kwargs)\n",
        "\n",
        "\n",
        "param(max_depth = 1.5, gamma = 4)"
      ],
      "metadata": {
        "colab": {
          "base_uri": "https://localhost:8080/"
        },
        "id": "_geXXsuCyDpO",
        "outputId": "6dcfb4e6-6bc5-4cc4-91ff-02c03f999413"
      },
      "execution_count": 16,
      "outputs": [
        {
          "output_type": "stream",
          "name": "stdout",
          "text": [
            "{'max_depth': 1.5, 'gamma': 4}\n"
          ]
        }
      ]
    },
    {
      "cell_type": "code",
      "source": [
        "## 그래서 두가지를 같이 쓰게 되면\n",
        "\n",
        "def function(*a, **b):\n",
        "  print(a)\n",
        "  print(b)\n",
        "\n",
        "# 어떻게든 오류가 나지 않고, 값을 받아오겠다.\n",
        "\n",
        "# 1. 어떤 값이 나올까? \n",
        "# 2. 이 값은 어떤 자료형태인가? 리스트, 튜플, 셋, 딕셔너리\n",
        "\n",
        "function(41) \n",
        "\n"
      ],
      "metadata": {
        "colab": {
          "base_uri": "https://localhost:8080/"
        },
        "id": "kirGFDKay2t2",
        "outputId": "c36388e2-4abc-4a2e-e42f-d4dbfb5d0f28"
      },
      "execution_count": 20,
      "outputs": [
        {
          "output_type": "stream",
          "name": "stdout",
          "text": [
            "(41,)\n",
            "{}\n"
          ]
        }
      ]
    },
    {
      "cell_type": "code",
      "source": [
        "function(1,2,3,4,5)"
      ],
      "metadata": {
        "colab": {
          "base_uri": "https://localhost:8080/"
        },
        "id": "GsAMg_k-zu1m",
        "outputId": "90ae6827-0099-49a1-db75-75014d98c6ef"
      },
      "execution_count": 21,
      "outputs": [
        {
          "output_type": "stream",
          "name": "stdout",
          "text": [
            "(1, 2, 3, 4, 5)\n",
            "{}\n"
          ]
        }
      ]
    },
    {
      "cell_type": "code",
      "source": [
        "function(x=3)"
      ],
      "metadata": {
        "colab": {
          "base_uri": "https://localhost:8080/"
        },
        "id": "ZYqPtOHK0uA7",
        "outputId": "89c9d61e-a90e-45ed-9056-5de597de8a67"
      },
      "execution_count": 22,
      "outputs": [
        {
          "output_type": "stream",
          "name": "stdout",
          "text": [
            "()\n",
            "{'x': 3}\n"
          ]
        }
      ]
    },
    {
      "cell_type": "code",
      "source": [
        "function(x=3, y=4)"
      ],
      "metadata": {
        "colab": {
          "base_uri": "https://localhost:8080/"
        },
        "id": "O-E96DMS0u3H",
        "outputId": "0852d9e9-8c96-45c3-e880-3b351c4ff554"
      },
      "execution_count": 23,
      "outputs": [
        {
          "output_type": "stream",
          "name": "stdout",
          "text": [
            "()\n",
            "{'x': 3, 'y': 4}\n"
          ]
        }
      ]
    },
    {
      "cell_type": "code",
      "source": [
        "function(1,2,3,4,5,x=3,y=4)"
      ],
      "metadata": {
        "colab": {
          "base_uri": "https://localhost:8080/"
        },
        "id": "yPVwk7ip0xKN",
        "outputId": "60c61f7a-808a-49ce-db17-a2125bdf9cb9"
      },
      "execution_count": 25,
      "outputs": [
        {
          "output_type": "stream",
          "name": "stdout",
          "text": [
            "(1, 2, 3, 4, 5)\n",
            "{'x': 3, 'y': 4}\n"
          ]
        }
      ]
    },
    {
      "cell_type": "code",
      "source": [
        "function(x=1,1,2,2)"
      ],
      "metadata": {
        "colab": {
          "base_uri": "https://localhost:8080/",
          "height": 137
        },
        "id": "wP8KMvXl0zd7",
        "outputId": "48f7a0f0-91f6-4c5f-9d35-08d23cd0d905"
      },
      "execution_count": 26,
      "outputs": [
        {
          "output_type": "error",
          "ename": "SyntaxError",
          "evalue": "ignored",
          "traceback": [
            "\u001b[0;36m  File \u001b[0;32m\"<ipython-input-26-368c3170d3e4>\"\u001b[0;36m, line \u001b[0;32m1\u001b[0m\n\u001b[0;31m    function(x=1,1,2,2)\u001b[0m\n\u001b[0m                      ^\u001b[0m\n\u001b[0;31mSyntaxError\u001b[0m\u001b[0;31m:\u001b[0m positional argument follows keyword argument\n"
          ]
        }
      ]
    },
    {
      "cell_type": "code",
      "source": [
        "function(a=4) "
      ],
      "metadata": {
        "colab": {
          "base_uri": "https://localhost:8080/"
        },
        "id": "9jKeTEHA08MI",
        "outputId": "9bf75f00-836b-4a83-b3bf-5ecf885416cb"
      },
      "execution_count": 27,
      "outputs": [
        {
          "output_type": "stream",
          "name": "stdout",
          "text": [
            "()\n",
            "{'a': 4}\n"
          ]
        }
      ]
    },
    {
      "cell_type": "markdown",
      "source": [
        "# args / kwangs\n",
        "\n",
        "https://engineer-mole.tistory.com/279\n",
        "\n",
        "파이썬 함수에서는 인수 개수를 변경할 수 있다.\n",
        "위치 인수에 대해 첫번째, 두번째는 필수, 세번째 이후는 선택으로 정할 수 있는데, 임의로 개수가 변하는 인수를 가변 길이 인수라 부르고, *를 붙이면 가변 길이 인수가 된다. 지정한 인수가 튜플로 지정이 되고, args라는 변수명을 많이 사용한다.\n",
        "\n",
        "* 결국 동시에 여러 입력값을 주고 싶을때 사용한다.\n",
        "* 아무 이름이나 사용해도 되긴한다. *만 붙이면\n",
        "* Tuple처럼 사용이 가능하다. 굳이 리스트나 튜플로 변경하지 않아도 된다.\n",
        "* 가변인자는 들어오는 인자의 갯수가 언제나 변할 수 있다."
      ],
      "metadata": {
        "id": "tdC5m62X6Y8s"
      }
    },
    {
      "cell_type": "code",
      "source": [
        "# args 예시 1\n",
        "def a_test(a, *args):\n",
        "  print(a, args)\n",
        "\n",
        "a_test(1,2,3,4,5,6)\n",
        "\n",
        "# a= 1 *args = 2-6"
      ],
      "metadata": {
        "colab": {
          "base_uri": "https://localhost:8080/"
        },
        "id": "aqEiQYJb6YGt",
        "outputId": "ebd2bffa-8bff-4535-85a7-350da41a158c"
      },
      "execution_count": 30,
      "outputs": [
        {
          "output_type": "stream",
          "name": "stdout",
          "text": [
            "1 (2, 3, 4, 5, 6)\n"
          ]
        }
      ]
    },
    {
      "cell_type": "code",
      "source": [
        "# kwargs 예시 1\n",
        "\n",
        "def b_test(a, *kwargs):\n",
        "  print(a, kwargs)\n",
        "\n",
        "b_test(1,b=2,c=3,d=4,e=5,f=6)"
      ],
      "metadata": {
        "colab": {
          "base_uri": "https://localhost:8080/",
          "height": 211
        },
        "id": "v5G4LJwD6bEt",
        "outputId": "dbe06025-f35b-4252-e3fd-dbfd8385df2e"
      },
      "execution_count": 34,
      "outputs": [
        {
          "output_type": "error",
          "ename": "TypeError",
          "evalue": "ignored",
          "traceback": [
            "\u001b[0;31m---------------------------------------------------------------------------\u001b[0m",
            "\u001b[0;31mTypeError\u001b[0m                                 Traceback (most recent call last)",
            "\u001b[0;32m<ipython-input-34-30b57ee7bc31>\u001b[0m in \u001b[0;36m<cell line: 6>\u001b[0;34m()\u001b[0m\n\u001b[1;32m      4\u001b[0m   \u001b[0mprint\u001b[0m\u001b[0;34m(\u001b[0m\u001b[0ma\u001b[0m\u001b[0;34m,\u001b[0m \u001b[0mkwargs\u001b[0m\u001b[0;34m)\u001b[0m\u001b[0;34m\u001b[0m\u001b[0;34m\u001b[0m\u001b[0m\n\u001b[1;32m      5\u001b[0m \u001b[0;34m\u001b[0m\u001b[0m\n\u001b[0;32m----> 6\u001b[0;31m \u001b[0mb_test\u001b[0m\u001b[0;34m(\u001b[0m\u001b[0;36m1\u001b[0m\u001b[0;34m,\u001b[0m\u001b[0mb\u001b[0m\u001b[0;34m=\u001b[0m\u001b[0;36m2\u001b[0m\u001b[0;34m,\u001b[0m\u001b[0mc\u001b[0m\u001b[0;34m=\u001b[0m\u001b[0;36m3\u001b[0m\u001b[0;34m,\u001b[0m\u001b[0md\u001b[0m\u001b[0;34m=\u001b[0m\u001b[0;36m4\u001b[0m\u001b[0;34m,\u001b[0m\u001b[0me\u001b[0m\u001b[0;34m=\u001b[0m\u001b[0;36m5\u001b[0m\u001b[0;34m,\u001b[0m\u001b[0mf\u001b[0m\u001b[0;34m=\u001b[0m\u001b[0;36m6\u001b[0m\u001b[0;34m)\u001b[0m\u001b[0;34m\u001b[0m\u001b[0;34m\u001b[0m\u001b[0m\n\u001b[0m",
            "\u001b[0;31mTypeError\u001b[0m: b_test() got an unexpected keyword argument 'b'"
          ]
        }
      ]
    },
    {
      "cell_type": "code",
      "source": [
        "# 변수 앞에 *은 언패킹\n",
        "# args 예시 2\n",
        "\n",
        "def c_test(a,args):\n",
        "    print(a, *args)\n",
        "\n",
        "c_test(1,(2,3,4,5,6))"
      ],
      "metadata": {
        "colab": {
          "base_uri": "https://localhost:8080/"
        },
        "id": "iJx_Z3xE6wqu",
        "outputId": "da3c2ee7-1c11-4c0b-e4d8-e070dbe5f5de"
      },
      "execution_count": 36,
      "outputs": [
        {
          "output_type": "stream",
          "name": "stdout",
          "text": [
            "1 2 3 4 5 6\n"
          ]
        }
      ]
    },
    {
      "cell_type": "code",
      "source": [
        "# 변수의 언패킹\n",
        "a, b, c =([1,2],[3,4],[5,6])"
      ],
      "metadata": {
        "id": "FSIraohr7p83"
      },
      "execution_count": 37,
      "outputs": []
    },
    {
      "cell_type": "code",
      "source": [
        "print(a)\n",
        "print(b)\n",
        "print(c)"
      ],
      "metadata": {
        "colab": {
          "base_uri": "https://localhost:8080/"
        },
        "id": "0qmkAC4B82La",
        "outputId": "992b8f5f-acb7-4456-a9f2-ed4db5840924"
      },
      "execution_count": 38,
      "outputs": [
        {
          "output_type": "stream",
          "name": "stdout",
          "text": [
            "[1, 2]\n",
            "[3, 4]\n",
            "[5, 6]\n"
          ]
        }
      ]
    },
    {
      "cell_type": "code",
      "source": [
        "data = ([1,2],[3,4],[5,6])\n",
        "print(*data)"
      ],
      "metadata": {
        "colab": {
          "base_uri": "https://localhost:8080/"
        },
        "id": "FbqtDM7C83A5",
        "outputId": "00d7cab3-a21b-4d83-ee82-b69043ba72c5"
      },
      "execution_count": 39,
      "outputs": [
        {
          "output_type": "stream",
          "name": "stdout",
          "text": [
            "[1, 2] [3, 4] [5, 6]\n"
          ]
        }
      ]
    },
    {
      "cell_type": "code",
      "source": [
        "def print_args(*args):\n",
        "  print(args)\n",
        "  for x in args:\n",
        "      print(x)\n",
        "\n",
        "print_args(100, True, 'leehojun')"
      ],
      "metadata": {
        "colab": {
          "base_uri": "https://localhost:8080/"
        },
        "id": "61FQAMFi84UP",
        "outputId": "420c9b4f-ca7d-456f-d4d7-175cd4d2b107"
      },
      "execution_count": 41,
      "outputs": [
        {
          "output_type": "stream",
          "name": "stdout",
          "text": [
            "(100, True, 'leehojun')\n",
            "100\n",
            "True\n",
            "leehojun\n"
          ]
        }
      ]
    },
    {
      "cell_type": "code",
      "source": [
        "def func(x, y, *args):\n",
        "  print(f\"첫번째값은 {x}\")\n",
        "  print(f\"두번째값은 {y}\")\n",
        "  if args:\n",
        "    print(f\"세번째 이후의 값은 {args}\")\n",
        "\n",
        "func(1,2)"
      ],
      "metadata": {
        "colab": {
          "base_uri": "https://localhost:8080/"
        },
        "id": "pwN5NHlX85YI",
        "outputId": "35f1b3f0-0624-45e1-ca18-6fa4bb572f4e"
      },
      "execution_count": 42,
      "outputs": [
        {
          "output_type": "stream",
          "name": "stdout",
          "text": [
            "첫번째값은 1\n",
            "두번째값은 2\n"
          ]
        }
      ]
    },
    {
      "cell_type": "code",
      "source": [
        "func(1,2,3,4,5)"
      ],
      "metadata": {
        "colab": {
          "base_uri": "https://localhost:8080/"
        },
        "id": "3p7Nxh-d9eUg",
        "outputId": "dfff5f31-fe7b-4834-d707-4a859be7aa14"
      },
      "execution_count": 43,
      "outputs": [
        {
          "output_type": "stream",
          "name": "stdout",
          "text": [
            "첫번째값은 1\n",
            "두번째값은 2\n",
            "세번째 이후의 값은 (3, 4, 5)\n"
          ]
        }
      ]
    },
    {
      "cell_type": "markdown",
      "source": [
        "kwargs\n",
        "\n",
        "**kwargs는 딕셔너리 형태로 가변인수를 받을 수 있는 방법입니다. \n",
        "\n",
        "사용방법은 args와 동일하고, args는 튜플형식으로 받지만\n",
        "kwargs는 딕셔너리 형태로 받는다는 특징이 있습니다."
      ],
      "metadata": {
        "id": "QKbWN1Xg9nKd"
      }
    },
    {
      "cell_type": "code",
      "source": [
        "# kwargs \n",
        "\n",
        "def print_kwargs(a, **kwargs):\n",
        "  print(a)\n",
        "  print(kwargs)\n",
        "  for i in kwargs:\n",
        "    print(i)\n",
        "\n",
        "print_kwargs(100, name = 'leehojun', age = 10)"
      ],
      "metadata": {
        "colab": {
          "base_uri": "https://localhost:8080/"
        },
        "id": "5LL1HU0k9fRY",
        "outputId": "1e064c62-6e9d-4897-abab-9161cee01b34"
      },
      "execution_count": 44,
      "outputs": [
        {
          "output_type": "stream",
          "name": "stdout",
          "text": [
            "100\n",
            "{'name': 'leehojun', 'age': 10}\n",
            "name\n",
            "age\n"
          ]
        }
      ]
    },
    {
      "cell_type": "code",
      "source": [
        "def func(x, y, **kwargs):\n",
        "  print(f\"첫번째 인자는 x\")\n",
        "  print(f\"두번째 인자는 y\")\n",
        "  if kwargs:\n",
        "    print(f\"세 번째 이후의 인수 : {kwargs}\")\n",
        "\n",
        "func(x=1, y=2)"
      ],
      "metadata": {
        "colab": {
          "base_uri": "https://localhost:8080/"
        },
        "id": "SMD9coJE97Tf",
        "outputId": "2bc52735-8dac-49b1-f4c6-786a3d5aa3cb"
      },
      "execution_count": 45,
      "outputs": [
        {
          "output_type": "stream",
          "name": "stdout",
          "text": [
            "첫번째 인자는 x\n",
            "두번째 인자는 y\n"
          ]
        }
      ]
    },
    {
      "cell_type": "code",
      "source": [
        "func(x=1, y=2, z = 3, w= 4)"
      ],
      "metadata": {
        "colab": {
          "base_uri": "https://localhost:8080/"
        },
        "id": "xrDo01_i-VY2",
        "outputId": "87ba794e-6c10-4140-e0b6-b5ce8707cdb8"
      },
      "execution_count": 46,
      "outputs": [
        {
          "output_type": "stream",
          "name": "stdout",
          "text": [
            "첫번째 인자는 x\n",
            "두번째 인자는 y\n",
            "세 번째 이후의 인수 : {'z': 3, 'w': 4}\n"
          ]
        }
      ]
    },
    {
      "cell_type": "markdown",
      "source": [
        "args와 kwargs의 응용\n",
        "\n",
        "앞에는 args형식으로 뒤에는 kwargs형식으로 받게되면 정상적으로 작동합니다. 파라미터를 넣을때 순서를 바꾸거나 혼합하면 에러가 발생됩니다."
      ],
      "metadata": {
        "id": "pQR0ED-v-rA9"
      }
    },
    {
      "cell_type": "code",
      "source": [
        "# 아래 예제는 파라미터의 값을 선언해서 보내는 형식으로 구성되어 있습니다. \n",
        "# 예제 뿐만 아니라 다양하게 실습해 보시기 바랍니다.\n",
        "\n",
        "def print_args_kwargs(*args, **kwargs):\n",
        "    print('args:', args)\n",
        "    for x in args:\n",
        "        print(x)\n",
        "    print('kwargs:', kwargs)\n",
        "    for x in kwargs:\n",
        "        print(x)\n",
        "        print(kwargs[x])\n",
        "\n",
        "inputlist=[100, True, 'leehojun']\n",
        "inputdic={'score':100, 'name':'leehojun', 'age':'10'}\n",
        "print_args_kwargs(*inputlist)\n",
        "print('--------')\n",
        "print_args_kwargs(**inputdic)\n",
        "print('--------')\n",
        "print_args_kwargs(*inputlist, **inputdic)"
      ],
      "metadata": {
        "colab": {
          "base_uri": "https://localhost:8080/"
        },
        "id": "VHWakod8-Wbl",
        "outputId": "fa29505d-3c50-47a0-a717-a2177e0490a4"
      },
      "execution_count": 47,
      "outputs": [
        {
          "output_type": "stream",
          "name": "stdout",
          "text": [
            "args: (100, True, 'leehojun')\n",
            "100\n",
            "True\n",
            "leehojun\n",
            "kwargs: {}\n",
            "--------\n",
            "args: ()\n",
            "kwargs: {'score': 100, 'name': 'leehojun', 'age': '10'}\n",
            "score\n",
            "100\n",
            "name\n",
            "leehojun\n",
            "age\n",
            "10\n",
            "--------\n",
            "args: (100, True, 'leehojun')\n",
            "100\n",
            "True\n",
            "leehojun\n",
            "kwargs: {'score': 100, 'name': 'leehojun', 'age': '10'}\n",
            "score\n",
            "100\n",
            "name\n",
            "leehojun\n",
            "age\n",
            "10\n"
          ]
        }
      ]
    },
    {
      "cell_type": "code",
      "source": [
        "# 가변 길이 위치 인수와 키워드 인수의 조합\n",
        "\n",
        "# 가변 길이 위치 인수와 키워드 인수 조합\n",
        "def func(x, *args, **kwargs):\n",
        "    print(x)\n",
        "    print(args)\n",
        "    print(kwargs)\n",
        "\n",
        "\n",
        "print(\"---첫 번째 인수만 지정한 결과---\")\n",
        "func(1)\n",
        "\n",
        "print(\"---길이가 변하는 인수를 지정한 결과---\")\n",
        "func(1, 100, 200, 300, a=\"X\", b=\"Y\", c=\"Z\")"
      ],
      "metadata": {
        "colab": {
          "base_uri": "https://localhost:8080/"
        },
        "id": "sQ3_-Q4W-sSX",
        "outputId": "81bd9f56-4888-4642-c9f7-e3e2e0ff2573"
      },
      "execution_count": 48,
      "outputs": [
        {
          "output_type": "stream",
          "name": "stdout",
          "text": [
            "---첫 번째 인수만 지정한 결과---\n",
            "1\n",
            "()\n",
            "{}\n",
            "---길이가 변하는 인수를 지정한 결과---\n",
            "1\n",
            "(100, 200, 300)\n",
            "{'a': 'X', 'b': 'Y', 'c': 'Z'}\n"
          ]
        }
      ]
    },
    {
      "cell_type": "code",
      "source": [
        "def 가격계산(할인율, *구매가_목록):\n",
        "    \"\"\"구매가 목록을 합산하고, 할인율을 반영해서 가격을 계산한다.\"\"\"\n",
        "    return (1 - 할인율) *  sum(구매가_목록)\n",
        "\n",
        "가격계산(0.25, 10000)"
      ],
      "metadata": {
        "colab": {
          "base_uri": "https://localhost:8080/"
        },
        "id": "TqYV0Yv2-3Zu",
        "outputId": "ba3bbbf6-3462-4cb6-d158-9450183d92cb"
      },
      "execution_count": 49,
      "outputs": [
        {
          "output_type": "execute_result",
          "data": {
            "text/plain": [
              "7500.0"
            ]
          },
          "metadata": {},
          "execution_count": 49
        }
      ]
    },
    {
      "cell_type": "code",
      "source": [
        "가격계산(0.25, 10000, 15000, 25000)"
      ],
      "metadata": {
        "colab": {
          "base_uri": "https://localhost:8080/"
        },
        "id": "T3hCzG14_Rkg",
        "outputId": "0c66246e-e62c-4624-badc-6ede83a598a4"
      },
      "execution_count": 50,
      "outputs": [
        {
          "output_type": "execute_result",
          "data": {
            "text/plain": [
              "37500.0"
            ]
          },
          "metadata": {},
          "execution_count": 50
        }
      ]
    },
    {
      "cell_type": "code",
      "source": [
        "# 기타 *의 활용법\n",
        "\n",
        "one, two, *three = 1,2,3,4,5\n",
        "print(one, two, three)"
      ],
      "metadata": {
        "colab": {
          "base_uri": "https://localhost:8080/"
        },
        "id": "yf1joJYP_VVx",
        "outputId": "47fab456-1701-4c02-a651-59c2b29c4aa7"
      },
      "execution_count": 51,
      "outputs": [
        {
          "output_type": "stream",
          "name": "stdout",
          "text": [
            "1 2 [3, 4, 5]\n"
          ]
        }
      ]
    },
    {
      "cell_type": "code",
      "source": [
        "# 시퀀스 언패킹 1 - 리스트 튜플\n",
        "# 함수 호출시 위치인수 지정하기 - 함수 사용시 적용할수 있음\n",
        "\n",
        "def func(x, y, z):\n",
        "  print(x, y ,z)\n",
        "  return x + y + z\n",
        "\n",
        "# 언패킹 되는 함수 x,y,z\n",
        "param = [1,2,3] # 리스트가 풀리게 된다.\n",
        "w = func(*param)\n",
        "print(w)\n"
      ],
      "metadata": {
        "colab": {
          "base_uri": "https://localhost:8080/"
        },
        "id": "gtn_b3Wz_m1v",
        "outputId": "5264b792-28e8-4c42-b7ec-8346e98cabba"
      },
      "execution_count": 58,
      "outputs": [
        {
          "output_type": "stream",
          "name": "stdout",
          "text": [
            "1 2 3\n",
            "6\n"
          ]
        }
      ]
    },
    {
      "cell_type": "code",
      "source": [
        "param = [1,2,3] # 리스트가 풀리게 된다.\n",
        "w = func(*param)\n",
        "print(w)"
      ],
      "metadata": {
        "colab": {
          "base_uri": "https://localhost:8080/"
        },
        "id": "DPFieqD9APyb",
        "outputId": "43ba023c-8f21-483a-9e5d-bf89c7511875"
      },
      "execution_count": 59,
      "outputs": [
        {
          "output_type": "stream",
          "name": "stdout",
          "text": [
            "1 2 3\n",
            "6\n"
          ]
        }
      ]
    },
    {
      "cell_type": "code",
      "source": [
        "# 키워드 인수 데이터를 받아올때\n",
        "\n",
        "def func(x,y,z):\n",
        "  print(x,y,z)\n",
        "  return x + y + z\n",
        "\n",
        "params = {\"x\" : 1, \"y\" : 2, \"z\" : 3 }\n",
        "w = func(**params)\n",
        "print(w)"
      ],
      "metadata": {
        "colab": {
          "base_uri": "https://localhost:8080/"
        },
        "id": "dXomOs-bBAhD",
        "outputId": "58ef003c-ed79-4e82-ad21-43a0210bb911"
      },
      "execution_count": 61,
      "outputs": [
        {
          "output_type": "stream",
          "name": "stdout",
          "text": [
            "1 2 3\n",
            "6\n"
          ]
        }
      ]
    },
    {
      "cell_type": "code",
      "source": [
        "# 함수 호출시 인자가 더 많은 경우\n",
        "\n",
        "def func(x, y, z, a1,b1,c1):\n",
        "  print(x,y,z,a1,b1,c1)\n",
        "  return x + y + z + a1 + b1 + c1\n",
        "\n",
        "param1 = [1,2,3]\n",
        "param2 = {\"x\" : 1, \"y\" : 2, \"z\" : 3}\n",
        "w = func(*param1, **param2)\n",
        "print(w)"
      ],
      "metadata": {
        "colab": {
          "base_uri": "https://localhost:8080/",
          "height": 229
        },
        "id": "zD-zDClxBa8S",
        "outputId": "1888fbf1-e19a-413b-d1ef-905af3917ef7"
      },
      "execution_count": 62,
      "outputs": [
        {
          "output_type": "error",
          "ename": "TypeError",
          "evalue": "ignored",
          "traceback": [
            "\u001b[0;31m---------------------------------------------------------------------------\u001b[0m",
            "\u001b[0;31mTypeError\u001b[0m                                 Traceback (most recent call last)",
            "\u001b[0;32m<ipython-input-62-cde0c1d7e549>\u001b[0m in \u001b[0;36m<cell line: 9>\u001b[0;34m()\u001b[0m\n\u001b[1;32m      7\u001b[0m \u001b[0mparam1\u001b[0m \u001b[0;34m=\u001b[0m \u001b[0;34m[\u001b[0m\u001b[0;36m1\u001b[0m\u001b[0;34m,\u001b[0m\u001b[0;36m2\u001b[0m\u001b[0;34m,\u001b[0m\u001b[0;36m3\u001b[0m\u001b[0;34m]\u001b[0m\u001b[0;34m\u001b[0m\u001b[0;34m\u001b[0m\u001b[0m\n\u001b[1;32m      8\u001b[0m \u001b[0mparam2\u001b[0m \u001b[0;34m=\u001b[0m \u001b[0;34m{\u001b[0m\u001b[0;34m\"x\"\u001b[0m \u001b[0;34m:\u001b[0m \u001b[0;36m1\u001b[0m\u001b[0;34m,\u001b[0m \u001b[0;34m\"y\"\u001b[0m \u001b[0;34m:\u001b[0m \u001b[0;36m2\u001b[0m\u001b[0;34m,\u001b[0m \u001b[0;34m\"z\"\u001b[0m \u001b[0;34m:\u001b[0m \u001b[0;36m3\u001b[0m\u001b[0;34m}\u001b[0m\u001b[0;34m\u001b[0m\u001b[0;34m\u001b[0m\u001b[0m\n\u001b[0;32m----> 9\u001b[0;31m \u001b[0mw\u001b[0m \u001b[0;34m=\u001b[0m \u001b[0mfunc\u001b[0m\u001b[0;34m(\u001b[0m\u001b[0;34m*\u001b[0m\u001b[0mparam1\u001b[0m\u001b[0;34m,\u001b[0m \u001b[0;34m**\u001b[0m\u001b[0mparam2\u001b[0m\u001b[0;34m)\u001b[0m\u001b[0;34m\u001b[0m\u001b[0;34m\u001b[0m\u001b[0m\n\u001b[0m\u001b[1;32m     10\u001b[0m \u001b[0mprint\u001b[0m\u001b[0;34m(\u001b[0m\u001b[0mw\u001b[0m\u001b[0;34m)\u001b[0m\u001b[0;34m\u001b[0m\u001b[0;34m\u001b[0m\u001b[0m\n",
            "\u001b[0;31mTypeError\u001b[0m: func() got multiple values for argument 'x'"
          ]
        }
      ]
    },
    {
      "cell_type": "code",
      "source": [
        "def func(x, y, z, a1, b1, c1):\n",
        "  print(x, y, z, a1, b1, c1)\n",
        "  return x + y + z + a1 + b1 + c1\n",
        "\n",
        "param1 = [1,2,3]\n",
        "param2 = {\"a1\" : 1, \"b1\" : 2, \"c1\" : 3}\n",
        "w = func(*param1, **param2)\n",
        "print(w)"
      ],
      "metadata": {
        "colab": {
          "base_uri": "https://localhost:8080/"
        },
        "id": "xsJ1r7yiCcqB",
        "outputId": "27cae6c9-dc8f-44a9-99c1-a9197cff57bd"
      },
      "execution_count": 63,
      "outputs": [
        {
          "output_type": "stream",
          "name": "stdout",
          "text": [
            "1 2 3 1 2 3\n",
            "12\n"
          ]
        }
      ]
    },
    {
      "cell_type": "code",
      "source": [
        "def counter(*args):\n",
        "  count = len(args)\n",
        "  return count\n",
        "\n",
        "print(counter([\"test\",\"hello\",\"python\"]))\n",
        "\n",
        "# 1. 1개\n",
        "# 2. 2개\n",
        "# 3. 3개\n",
        "# 4. 4개\n",
        "# 5. 5개"
      ],
      "metadata": {
        "colab": {
          "base_uri": "https://localhost:8080/"
        },
        "id": "Jjntw5njC2tZ",
        "outputId": "9489667f-3cb6-49c1-8b43-19cd1e504f5b"
      },
      "execution_count": 64,
      "outputs": [
        {
          "output_type": "stream",
          "name": "stdout",
          "text": [
            "1\n"
          ]
        }
      ]
    },
    {
      "cell_type": "code",
      "source": [
        "def counter(args):\n",
        "  count = len([\"test\",\"hello\",\"python\"])\n",
        "  return count\n",
        "\n",
        "print(counter([\"test\",\"hello\",\"python\"]))\n",
        "\n",
        "# 1. 1개\n",
        "# 2. 2개\n",
        "# 3. 3개\n",
        "# 4. 4개\n",
        "# 5. 5개"
      ],
      "metadata": {
        "colab": {
          "base_uri": "https://localhost:8080/"
        },
        "id": "ktyYbvN4G5XR",
        "outputId": "f167e4fb-bad6-459b-cbca-7984a0c5968e"
      },
      "execution_count": 65,
      "outputs": [
        {
          "output_type": "stream",
          "name": "stdout",
          "text": [
            "3\n"
          ]
        }
      ]
    },
    {
      "cell_type": "code",
      "source": [
        "# 날짜변수 다루기 예제\n",
        "\n",
        "def data_to_string(y,m,d):\n",
        "    \"\"\"연도, 월, 일을 입력받아서  yyyy년 mm월 dd일로 변환\"\"\"\n",
        "    return str(y) + \"년 \" + str(m) + \"월 \" +str(d) + \"일\"\n",
        "\n",
        "date = (2023,5,8)\n",
        "data_to_string(date[0], date[1], date[2])\n"
      ],
      "metadata": {
        "colab": {
          "base_uri": "https://localhost:8080/",
          "height": 35
        },
        "id": "iqSJ5Uk-Hn5M",
        "outputId": "90270540-51a9-43fb-a1d5-7b6229a4e9d0"
      },
      "execution_count": 73,
      "outputs": [
        {
          "output_type": "execute_result",
          "data": {
            "text/plain": [
              "'2023년 5월 8일'"
            ],
            "application/vnd.google.colaboratory.intrinsic+json": {
              "type": "string"
            }
          },
          "metadata": {},
          "execution_count": 73
        }
      ]
    },
    {
      "cell_type": "code",
      "source": [
        "data_to_string(*date)"
      ],
      "metadata": {
        "colab": {
          "base_uri": "https://localhost:8080/",
          "height": 35
        },
        "id": "dnkc1mXAH0ap",
        "outputId": "19a768e2-9a0c-40ea-e6b7-1888b608b1df"
      },
      "execution_count": 74,
      "outputs": [
        {
          "output_type": "execute_result",
          "data": {
            "text/plain": [
              "'2023년 5월 8일'"
            ],
            "application/vnd.google.colaboratory.intrinsic+json": {
              "type": "string"
            }
          },
          "metadata": {},
          "execution_count": 74
        }
      ]
    },
    {
      "cell_type": "code",
      "source": [
        "# 함수를 변수로 다루기\n",
        "\n",
        "def add_num(x, y):\n",
        "  return x + y\n",
        "\n",
        "# 변수에 대입할 수 있음\n",
        "x = add_num\n",
        "\n",
        "# 함수를 실행\n",
        "z = x(100, 200)\n",
        "print(z)"
      ],
      "metadata": {
        "colab": {
          "base_uri": "https://localhost:8080/"
        },
        "id": "0UcRcfLrIfa7",
        "outputId": "34112a0c-2c89-4826-c4d2-8d936c90df41"
      },
      "execution_count": 75,
      "outputs": [
        {
          "output_type": "stream",
          "name": "stdout",
          "text": [
            "300\n"
          ]
        }
      ]
    },
    {
      "cell_type": "code",
      "source": [
        "# 어떤 함수가 몇번 호출되었는지 확인 실행할때!!\n",
        "\n",
        "def outer_function():\n",
        "  \"\"\" 외부 함수 \"\"\"\n",
        "\n",
        "  def inner_function():\n",
        "    \"\"\"내부 함수\"\"\"\n",
        "    count = 0\n",
        "    count += 1   \n",
        "    print(f\"실행횟수가 {count}회 실행되었습니다.\")\n",
        "\n",
        "  return inner_function\n",
        "\n",
        "func1 = outer_function()\n",
        "\n",
        "# 함수 실행\n",
        "func1()\n",
        "func1()\n",
        "func1()"
      ],
      "metadata": {
        "colab": {
          "base_uri": "https://localhost:8080/"
        },
        "id": "WWv2hWBzJ7mp",
        "outputId": "73978074-ab55-4741-f2ae-ccfbab3b0822"
      },
      "execution_count": 83,
      "outputs": [
        {
          "output_type": "stream",
          "name": "stdout",
          "text": [
            "실행횟수가 1회 실행되었습니다.\n",
            "실행횟수가 1회 실행되었습니다.\n",
            "실행횟수가 1회 실행되었습니다.\n"
          ]
        }
      ]
    },
    {
      "cell_type": "code",
      "source": [
        "# 어떤 함수가 몇번 호출되었는지 확인 실행할때!!\n",
        "\n",
        "def outer_function():\n",
        "  \"\"\" 외부 함수 \"\"\"\n",
        "  count = 0\n",
        "  def inner_function():\n",
        "    \"\"\"내부 함수\"\"\"\n",
        "    nonlocal count # 이 nonlocal 함수는 저장이 가능한 함수 count값을 저장 \n",
        "    count += 1   \n",
        "    print(f\"실행횟수가 {count}회 실행되었습니다.\")\n",
        "\n",
        "  return inner_function\n",
        "\n",
        "func1 = outer_function()\n",
        "\n",
        "# 함수 실행\n",
        "func1()\n",
        "func1()\n",
        "func1()"
      ],
      "metadata": {
        "colab": {
          "base_uri": "https://localhost:8080/"
        },
        "id": "ICDQYcAeKhs0",
        "outputId": "a3b40843-5c40-4779-d0ea-6fb0d6973d7b"
      },
      "execution_count": 84,
      "outputs": [
        {
          "output_type": "stream",
          "name": "stdout",
          "text": [
            "실행횟수가 1회 실행되었습니다.\n",
            "실행횟수가 2회 실행되었습니다.\n",
            "실행횟수가 3회 실행되었습니다.\n"
          ]
        }
      ]
    },
    {
      "cell_type": "code",
      "source": [
        "# 데코레이터 사용\n",
        "# 데코레이터 고유 기능 - 기본 함수를 변경하지 않고 기능을 추가할 수 있다\n",
        "def add_message(f):\n",
        "    \"\"\"함수 앞뒤로 시작/종료 메세지를 추가한다\"\"\"\n",
        "\n",
        "    def new_func():\n",
        "        print(\"처리를 시작합니다.\")\n",
        "        f()\n",
        "        print(\"처리를 종료합니다\")\n",
        "    \n",
        "    return new_func\n",
        "\n",
        "def sample_func():\n",
        "    \"\"\"실행 메세지를 표시하는 함수\"\"\"\n",
        "    print(\"sample_func 함수 처리를 실행합니다.\")\n",
        "\n",
        "# sample_func에 대해 추가한 함수를 실행\n",
        "deco_func = add_message(sample_func)\n",
        "\n",
        "deco_func()"
      ],
      "metadata": {
        "colab": {
          "base_uri": "https://localhost:8080/"
        },
        "id": "sJNdAAP_L0Nm",
        "outputId": "62aceb0b-2fe2-47d1-b53a-83f08b11a900"
      },
      "execution_count": 87,
      "outputs": [
        {
          "output_type": "stream",
          "name": "stdout",
          "text": [
            "처리를 시작합니다.\n",
            "sample_func 함수 처리를 실행합니다.\n",
            "처리를 종료합니다\n"
          ]
        }
      ]
    },
    {
      "cell_type": "markdown",
      "source": [
        "# 람다식\n",
        "\n",
        "lambda()는 익명함수, 이름이 없는 함수"
      ],
      "metadata": {
        "id": "aEWrUMTGNUCO"
      }
    },
    {
      "cell_type": "code",
      "source": [
        "hojun = print\n",
        "hojun('hello world')"
      ],
      "metadata": {
        "colab": {
          "base_uri": "https://localhost:8080/"
        },
        "id": "ONwNUQiSMkC1",
        "outputId": "7aa48fb0-fb7f-4b45-8ce6-3c0e138176ee"
      },
      "execution_count": 88,
      "outputs": [
        {
          "output_type": "stream",
          "name": "stdout",
          "text": [
            "hello world\n"
          ]
        }
      ]
    },
    {
      "cell_type": "markdown",
      "source": [
        "print를 hojun으로 받고, Print함수를 호출할 수 있다.\n",
        "즉, 이름이 있는 것은 변수로 지정할 수 있다."
      ],
      "metadata": {
        "id": "hSlkNm2JOec9"
      }
    },
    {
      "cell_type": "code",
      "source": [
        "def add(x,y):\n",
        "  return x + y\n",
        "def sub():\n",
        "  pass\n",
        "def div():\n",
        "  pass\n",
        "def mul():\n",
        "  pass\n",
        "\n",
        "calculator = [add, sub, div, mul]\n",
        "print(calculator[0](10,20))"
      ],
      "metadata": {
        "colab": {
          "base_uri": "https://localhost:8080/"
        },
        "id": "1SVe3LQlNbPN",
        "outputId": "2ed5febb-00e7-4948-9c00-d5a98184fd0c"
      },
      "execution_count": 89,
      "outputs": [
        {
          "output_type": "stream",
          "name": "stdout",
          "text": [
            "30\n"
          ]
        }
      ]
    },
    {
      "cell_type": "markdown",
      "source": [
        "우선 add, sub, div, mul이라는 사칙연산을 수행하는 함수를 선언해주었습니다. 그 다음 각 함수들의 이름을 calculator라는 배열에 넣어주었고, print로 0번째 배열을 호출하였더니 함수 add의 결과값인 30이 나오게 되었습니다.\n",
        "\n",
        "우리가 일반적으로 사용할 수 있는 변수의 위치에 ( )(괄호)만 사용하지 않는다면 변수처럼 사용할 수 있으며, 호출할 때는 '( )'(괄호)를 사용해줍니다.\n",
        "\n",
        "그럼 lambda함수는 왜 익명함수 일까요? 이름이 있는 함수들과는 다르게 매우 간결하게 작성할 수 있기 때문입니다."
      ],
      "metadata": {
        "id": "kJ9qq6TCOjVf"
      }
    },
    {
      "cell_type": "code",
      "source": [
        "# 람다식 람다함수\n",
        "lambda 매개변수 : 결과"
      ],
      "metadata": {
        "colab": {
          "base_uri": "https://localhost:8080/"
        },
        "id": "wKbdCE3UOgtQ",
        "outputId": "9f422056-13bf-41b6-f22e-2930e2a0edec"
      },
      "execution_count": 90,
      "outputs": [
        {
          "output_type": "execute_result",
          "data": {
            "text/plain": [
              "<function __main__.<lambda>(매개변수)>"
            ]
          },
          "metadata": {},
          "execution_count": 90
        }
      ]
    },
    {
      "cell_type": "code",
      "source": [
        "# 예제\n",
        "# x라는 매개변수가 들어오면 x ** 2를 해서 return\n",
        "\n",
        "제곱 = lambda x : x **2\n",
        "제곱(3)"
      ],
      "metadata": {
        "colab": {
          "base_uri": "https://localhost:8080/"
        },
        "id": "G269gXj2Okak",
        "outputId": "00382e66-6315-4bfe-f133-7e7e9938d1c5"
      },
      "execution_count": 91,
      "outputs": [
        {
          "output_type": "execute_result",
          "data": {
            "text/plain": [
              "9"
            ]
          },
          "metadata": {},
          "execution_count": 91
        }
      ]
    },
    {
      "cell_type": "code",
      "source": [
        "(lambda x : x ** 2)(3)"
      ],
      "metadata": {
        "colab": {
          "base_uri": "https://localhost:8080/"
        },
        "id": "NS5L6sHFOnvT",
        "outputId": "86ad1d89-2005-43e6-a6cf-c23f10d1a7bc"
      },
      "execution_count": 92,
      "outputs": [
        {
          "output_type": "execute_result",
          "data": {
            "text/plain": [
              "9"
            ]
          },
          "metadata": {},
          "execution_count": 92
        }
      ]
    },
    {
      "cell_type": "code",
      "source": [
        "# 하나 더 보면 예제 2\n",
        "\n",
        "def f(x, y):\n",
        "  return x + y\n",
        "\n",
        "print(f(1,4))"
      ],
      "metadata": {
        "colab": {
          "base_uri": "https://localhost:8080/"
        },
        "id": "ZyotxM1_OopK",
        "outputId": "282bf00e-fefa-4be0-d2eb-813cb0a8e4cf"
      },
      "execution_count": 93,
      "outputs": [
        {
          "output_type": "stream",
          "name": "stdout",
          "text": [
            "5\n"
          ]
        }
      ]
    },
    {
      "cell_type": "code",
      "source": [
        "f = lambda x, y : x + y\n",
        "print(f(1,4))"
      ],
      "metadata": {
        "colab": {
          "base_uri": "https://localhost:8080/"
        },
        "id": "fRkFK9TRQEe8",
        "outputId": "b12293c8-dcfd-4650-f74a-7448a703829f"
      },
      "execution_count": 94,
      "outputs": [
        {
          "output_type": "stream",
          "name": "stdout",
          "text": [
            "5\n"
          ]
        }
      ]
    },
    {
      "cell_type": "code",
      "source": [
        "print(f(1))"
      ],
      "metadata": {
        "colab": {
          "base_uri": "https://localhost:8080/",
          "height": 174
        },
        "id": "3kwQ25CuQH6D",
        "outputId": "4b1c1214-a910-4a5f-df21-3ce48d3039b8"
      },
      "execution_count": 95,
      "outputs": [
        {
          "output_type": "error",
          "ename": "TypeError",
          "evalue": "ignored",
          "traceback": [
            "\u001b[0;31m---------------------------------------------------------------------------\u001b[0m",
            "\u001b[0;31mTypeError\u001b[0m                                 Traceback (most recent call last)",
            "\u001b[0;32m<ipython-input-95-6ba96ea1b5b5>\u001b[0m in \u001b[0;36m<cell line: 1>\u001b[0;34m()\u001b[0m\n\u001b[0;32m----> 1\u001b[0;31m \u001b[0mprint\u001b[0m\u001b[0;34m(\u001b[0m\u001b[0mf\u001b[0m\u001b[0;34m(\u001b[0m\u001b[0;36m1\u001b[0m\u001b[0;34m)\u001b[0m\u001b[0;34m)\u001b[0m\u001b[0;34m\u001b[0m\u001b[0;34m\u001b[0m\u001b[0m\n\u001b[0m",
            "\u001b[0;31mTypeError\u001b[0m: <lambda>() missing 1 required positional argument: 'y'"
          ]
        }
      ]
    },
    {
      "cell_type": "code",
      "source": [
        "func = lambda x : \"*\" + str(x) + \"*\"\n",
        "\n",
        "print(func(\"바나나\"))"
      ],
      "metadata": {
        "colab": {
          "base_uri": "https://localhost:8080/"
        },
        "id": "2yCVfOdoQJUh",
        "outputId": "89549cc3-5585-4184-e0df-1a9c2bac570c"
      },
      "execution_count": 96,
      "outputs": [
        {
          "output_type": "stream",
          "name": "stdout",
          "text": [
            "*바나나*\n"
          ]
        }
      ]
    },
    {
      "cell_type": "markdown",
      "source": [
        "# Map 함수\n",
        "\n",
        "lambda 함수와 가장 많이 조합되어 이용하는 함수입니다. 간단히 설명드리도록 할게요.\n",
        "\n",
        "방금 위에서 만들었던 매개변수를 제곱하여 return하는 함수를 만들어 볼겁니다. 그런데 아까 위에서 작성했던 예제는 하나의 값만 받고 하나의 값만 리턴할 수 있었죠?\n",
        "\n",
        "여러값이 들어오게 된다면 어떻게 해야할까요?"
      ],
      "metadata": {
        "id": "m0oT5XB0QK-3"
      }
    },
    {
      "cell_type": "code",
      "source": [
        "# 1번째 방법 map\n",
        "\n",
        "def 제곱(x):\n",
        "  return x ** 2\n",
        "\n",
        "list(map(제곱, [1,2,3,4]))"
      ],
      "metadata": {
        "colab": {
          "base_uri": "https://localhost:8080/"
        },
        "id": "qxpVOqO0QKfy",
        "outputId": "fef11dfa-e456-4a15-cc21-23c1666368b9"
      },
      "execution_count": 97,
      "outputs": [
        {
          "output_type": "execute_result",
          "data": {
            "text/plain": [
              "[1, 4, 9, 16]"
            ]
          },
          "metadata": {},
          "execution_count": 97
        }
      ]
    },
    {
      "cell_type": "code",
      "source": [
        "# 2번째 방법 map\n",
        "\n",
        "list(map(lambda x : x ** 2, [1,2,3,4]))"
      ],
      "metadata": {
        "colab": {
          "base_uri": "https://localhost:8080/"
        },
        "id": "b8iqNE5jQMgy",
        "outputId": "0cafe855-54ca-4b5f-f427-8752be92f05f"
      },
      "execution_count": 98,
      "outputs": [
        {
          "output_type": "execute_result",
          "data": {
            "text/plain": [
              "[1, 4, 9, 16]"
            ]
          },
          "metadata": {},
          "execution_count": 98
        }
      ]
    },
    {
      "cell_type": "code",
      "source": [
        "# 다른 예시\n",
        "\n",
        "\n",
        "ex = [1,2,3,4,5]\n",
        "f = lambda x : x ** 2\n",
        "\n",
        "print(list(map(f, ex)))"
      ],
      "metadata": {
        "colab": {
          "base_uri": "https://localhost:8080/"
        },
        "id": "4iCH7LTeQNbT",
        "outputId": "907ff29a-9cc7-4f1c-df6a-85e969c065b5"
      },
      "execution_count": 99,
      "outputs": [
        {
          "output_type": "stream",
          "name": "stdout",
          "text": [
            "[1, 4, 9, 16, 25]\n"
          ]
        }
      ]
    },
    {
      "cell_type": "code",
      "source": [
        "# 위 코드에서는 먼저 ex라는 리스트를 먼저 만들고, 입력된 값을 제곱하는 람다함수 f를 생성하였습니다.\n",
        "# 결국 Map은 mapping을 생각해보면 편한데, map(함수 이름, 리스트 데이터)라는 형태에 맞춰 함수 F에 ex의 요소를 매핑하라라는 뜻이다."
      ],
      "metadata": {
        "id": "KKdhvMmDQmp1"
      },
      "execution_count": 100,
      "outputs": []
    },
    {
      "cell_type": "code",
      "source": [
        "# 1.1 제너레이터 사용\n",
        "\n",
        "# 파이썬 3.x 버전부터는 반드시 list(map(f, ex)) 리스트를 꼭 붙여야 리스트 형태로 자료 붙여지게되요\n",
        "# map(f, ex) -> list(map(f, ex))\n",
        "# 제너레이터 장점은 시퀀스 자료형의 데이터를 처리할 때 실행 지점의 값을 생성해서 효율적으로 메모리를 관리\n"
      ],
      "metadata": {
        "id": "6GcYhjGFQnwL"
      },
      "execution_count": 101,
      "outputs": []
    },
    {
      "cell_type": "code",
      "source": [
        "# 리스트가 없으면?\n",
        "\n",
        "ex = [1,2,3,4,5]\n",
        "f = lambda x : x**2\n",
        "for value in map(f,ex):\n",
        "  print(value)"
      ],
      "metadata": {
        "colab": {
          "base_uri": "https://localhost:8080/"
        },
        "id": "1D9Xt2qZk1gx",
        "outputId": "a6375bd6-4e50-46d2-c9da-2d5c0854792a"
      },
      "execution_count": 102,
      "outputs": [
        {
          "output_type": "stream",
          "name": "stdout",
          "text": [
            "1\n",
            "4\n",
            "9\n",
            "16\n",
            "25\n"
          ]
        }
      ]
    },
    {
      "cell_type": "code",
      "source": [
        "# 무언가의 값을 추가하기 위해서는 append\n",
        "new_list = []\n",
        "ex = [1,2,3,4,5]\n",
        "f = lambda x : x**2\n",
        "for value in map(f,ex):\n",
        "  new_list.append(value)"
      ],
      "metadata": {
        "id": "CTzJoIopk17T"
      },
      "execution_count": 103,
      "outputs": []
    },
    {
      "cell_type": "code",
      "source": [
        "new_list"
      ],
      "metadata": {
        "colab": {
          "base_uri": "https://localhost:8080/"
        },
        "id": "8_nZ8Wqok36C",
        "outputId": "b9627d11-6922-4d64-9e12-69ac473c0bfe"
      },
      "execution_count": 104,
      "outputs": [
        {
          "output_type": "execute_result",
          "data": {
            "text/plain": [
              "[1, 4, 9, 16, 25]"
            ]
          },
          "metadata": {},
          "execution_count": 104
        }
      ]
    },
    {
      "cell_type": "code",
      "source": [
        "ex = [1,2,3,4,5]\n",
        "f = lambda x : x ** 2\n",
        "\n",
        "print(list(map(f,ex)))"
      ],
      "metadata": {
        "colab": {
          "base_uri": "https://localhost:8080/"
        },
        "id": "YQe4-2qWk8qU",
        "outputId": "80355db6-b3ed-4e53-d969-b2217fc6767f"
      },
      "execution_count": 107,
      "outputs": [
        {
          "output_type": "stream",
          "name": "stdout",
          "text": [
            "[1, 4, 9, 16, 25]\n"
          ]
        }
      ]
    },
    {
      "cell_type": "code",
      "source": [
        "# 리스트 컴프리헨션\n",
        "\n",
        "ex = [1,2,3,4,5]\n",
        "[x ** 2 for x in ex]"
      ],
      "metadata": {
        "colab": {
          "base_uri": "https://localhost:8080/"
        },
        "id": "FHhRw7qAlEM5",
        "outputId": "9072dee0-b2fa-4dc1-ccf2-786e9adb4c9e"
      },
      "execution_count": 108,
      "outputs": [
        {
          "output_type": "execute_result",
          "data": {
            "text/plain": [
              "[1, 4, 9, 16, 25]"
            ]
          },
          "metadata": {},
          "execution_count": 108
        }
      ]
    },
    {
      "cell_type": "code",
      "source": [
        "# lambda함수의 filter 기능\n",
        "# 조건문\n",
        "\n",
        "list(filter(lambda x : x > 50, range(100)))"
      ],
      "metadata": {
        "colab": {
          "base_uri": "https://localhost:8080/"
        },
        "id": "MU0yEYNilOhH",
        "outputId": "97e36bf4-dd0c-40d6-88d6-1a8ae30278c0"
      },
      "execution_count": 109,
      "outputs": [
        {
          "output_type": "execute_result",
          "data": {
            "text/plain": [
              "[51,\n",
              " 52,\n",
              " 53,\n",
              " 54,\n",
              " 55,\n",
              " 56,\n",
              " 57,\n",
              " 58,\n",
              " 59,\n",
              " 60,\n",
              " 61,\n",
              " 62,\n",
              " 63,\n",
              " 64,\n",
              " 65,\n",
              " 66,\n",
              " 67,\n",
              " 68,\n",
              " 69,\n",
              " 70,\n",
              " 71,\n",
              " 72,\n",
              " 73,\n",
              " 74,\n",
              " 75,\n",
              " 76,\n",
              " 77,\n",
              " 78,\n",
              " 79,\n",
              " 80,\n",
              " 81,\n",
              " 82,\n",
              " 83,\n",
              " 84,\n",
              " 85,\n",
              " 86,\n",
              " 87,\n",
              " 88,\n",
              " 89,\n",
              " 90,\n",
              " 91,\n",
              " 92,\n",
              " 93,\n",
              " 94,\n",
              " 95,\n",
              " 96,\n",
              " 97,\n",
              " 98,\n",
              " 99]"
            ]
          },
          "metadata": {},
          "execution_count": 109
        }
      ]
    },
    {
      "cell_type": "markdown",
      "source": [
        "## map 함수와 비슷하지만 자주 언급되는 reduce 함수\n",
        "* reduce 함수는 map함수와 용법은 다르고, 형제같은 함수\n",
        "* reduce 함수를 모두 적용한 다음에, 모든 값을 통합하는 함수\n"
      ],
      "metadata": {
        "id": "gqF7edwalor4"
      }
    },
    {
      "cell_type": "code",
      "source": [
        "from functools import reduce\n",
        "\n",
        "print(reduce(lambda x,y : x + y, [1,2,3,4,5]))\n",
        "\n",
        "#1번째 계산\n",
        "#x = 1 y = 2 결과 3\n",
        "\n",
        "#2번째 계산\n",
        "#x = 3 y = 3 결과 6\n",
        "\n",
        "#3번째 계산\n",
        "#x = 6 y = 4 결과 10\n",
        "\n",
        "#4번째 계산\n",
        "#x = 10 y = 5 결과 15\n"
      ],
      "metadata": {
        "colab": {
          "base_uri": "https://localhost:8080/"
        },
        "id": "DmbIoFA2laMk",
        "outputId": "7f8bb57b-191a-43d5-d565-728a4d0bc1ec"
      },
      "execution_count": 115,
      "outputs": [
        {
          "output_type": "stream",
          "name": "stdout",
          "text": [
            "15\n"
          ]
        }
      ]
    },
    {
      "cell_type": "code",
      "source": [
        "x = 0\n",
        "for y in [1,2,3,4,5]:\n",
        "    x += y\n",
        "print(x)"
      ],
      "metadata": {
        "colab": {
          "base_uri": "https://localhost:8080/"
        },
        "id": "sE_otAT4mBNG",
        "outputId": "5157b502-4e9a-4877-a233-5d9ea985cccb"
      },
      "execution_count": 116,
      "outputs": [
        {
          "output_type": "stream",
          "name": "stdout",
          "text": [
            "15\n"
          ]
        }
      ]
    },
    {
      "cell_type": "markdown",
      "source": [
        "# 1. 은행에서 적금통장을 개설하고, 입금/출금/잔액확인"
      ],
      "metadata": {
        "id": "etUAIABwnl4v"
      }
    },
    {
      "cell_type": "code",
      "source": [
        "# 1. 은행계좌 만들기\n",
        "\n",
        "def open_account():\n",
        "    print('새로운 계좌를 개설합니다.')\n",
        "\n",
        "open_account()"
      ],
      "metadata": {
        "colab": {
          "base_uri": "https://localhost:8080/"
        },
        "id": "pOx1XZf5mmLI",
        "outputId": "55376ead-0a0c-44d8-9f40-0c5dc21a952d"
      },
      "execution_count": 117,
      "outputs": [
        {
          "output_type": "stream",
          "name": "stdout",
          "text": [
            "새로운 계좌를 개설합니다.\n"
          ]
        }
      ]
    },
    {
      "cell_type": "code",
      "source": [
        "# 2. 입금하기\n",
        "\n",
        "def deposit(money, balance):\n",
        "    print(f'{money} 원이 입금되었습니다. 잔액은 {balance} 원입니다.')\n",
        "    return money + balance\n",
        "\n",
        "balance = 0\n",
        "deposit(5000, balance)"
      ],
      "metadata": {
        "colab": {
          "base_uri": "https://localhost:8080/"
        },
        "id": "ZTi4fN_fnw69",
        "outputId": "40a517ae-ed55-426d-c63d-71577790b2c7"
      },
      "execution_count": 118,
      "outputs": [
        {
          "output_type": "stream",
          "name": "stdout",
          "text": [
            "5000 원이 입금되었습니다. 잔액은 0 원입니다.\n"
          ]
        },
        {
          "output_type": "execute_result",
          "data": {
            "text/plain": [
              "5000"
            ]
          },
          "metadata": {},
          "execution_count": 118
        }
      ]
    },
    {
      "cell_type": "code",
      "source": [
        "# 3. 출금하기\n",
        "balance = 5000\n",
        "def withraw(balance, money):\n",
        "    if balance >= money:\n",
        "        print(f'{money}원을 출금했습니다. 잔액은 {balance - money}원 입니다')\n",
        "        return balance - money\n",
        "    else:\n",
        "        print(f'잔액이 부족합니다. 뽑을 수 있는 잔액은 {balance}원 입니다')\n",
        "\n",
        "balance = withraw(balance, 2000)"
      ],
      "metadata": {
        "colab": {
          "base_uri": "https://localhost:8080/"
        },
        "id": "0hEJQK_ToTlS",
        "outputId": "6dc2b50a-5f26-4cfe-dc48-2eb4690f193e"
      },
      "execution_count": 120,
      "outputs": [
        {
          "output_type": "stream",
          "name": "stdout",
          "text": [
            "2000원을 출금했습니다. 잔액은 3000원 입니다\n"
          ]
        }
      ]
    },
    {
      "cell_type": "code",
      "source": [
        "# 4. 수수료 부과하기\n",
        "balance = 5000\n",
        "def withraw_other(balance, money):\n",
        "    commission = 500\n",
        "    if balance >= money:\n",
        "        print(f'업무시간외에는 수수료가 부과됩니다. {money}를 출금하여 수수료가 {commission}만큼 발생해서 잔액은 {balance - money - commission}원 입니다')\n",
        "        return balance - money - commission\n",
        "    else:\n",
        "        print(f'잔액이 부족합니다. 뽑을 수 있는 잔액은 {balance}원 입니다')\n",
        "\n",
        "balance = withraw_other(balance, 2000)"
      ],
      "metadata": {
        "colab": {
          "base_uri": "https://localhost:8080/"
        },
        "id": "7qx8enzupW_8",
        "outputId": "40185548-bf59-4300-c651-2511b39f4eed"
      },
      "execution_count": 124,
      "outputs": [
        {
          "output_type": "stream",
          "name": "stdout",
          "text": [
            "업무시간외에는 수수료가 부과됩니다. 2000를 출금하여 수수료가 500만큼 발생해서 잔액은 2500원 입니다\n"
          ]
        }
      ]
    },
    {
      "cell_type": "markdown",
      "source": [
        "# 연습문제 1.\n",
        "철수가 은행에 취업을 해서 처음 업무지시를 받은건 새로운 적금상품에 추가로 돈을 입금할 경우 자동으로 원금과 이자가 더해지도록 로직을 구현해야하는 상황\n",
        "\n",
        "이때 함수를 사용하여서 기능을 구현하고, 모두 구현이 된 경우 입금이 완료되었습니다 메세지를 뜨게 하고\n",
        "조건 : 적금 금리는 3.0%아고, 이자 산식은 원금 * 금리(간단하게 계산)"
      ],
      "metadata": {
        "id": "WTs_HgavrUfQ"
      }
    },
    {
      "cell_type": "code",
      "source": [
        "# 연습문제 1.\n",
        "# x - 원래 있었던 금액\n",
        "# y - 새로 불입한 금액\n",
        "# z - 이자\n",
        "\n",
        "def service_sum_amount(x,y,z):\n",
        "  if y > 0:\n",
        "      return int(x + y + (y * z/100))\n",
        "\n",
        "print(service_sum_amount(0, 5000, 3.0))"
      ],
      "metadata": {
        "colab": {
          "base_uri": "https://localhost:8080/"
        },
        "id": "TgVIH1IFqEnI",
        "outputId": "423d6135-209e-4257-a35b-941c237f26b3"
      },
      "execution_count": 127,
      "outputs": [
        {
          "output_type": "stream",
          "name": "stdout",
          "text": [
            "5150\n"
          ]
        }
      ]
    },
    {
      "cell_type": "code",
      "source": [
        "def service_price():\n",
        "  service = input('서비스의 종류를 입력하세요 기본/프리미엄/올인원')\n",
        "  valueprice = input('부가세 포함여부? y/n')\n",
        "  if valueprice == 'y':\n",
        "    if service == '기본':\n",
        "      result = 300000 * 1.1\n",
        "    elif service == '프리미엄':\n",
        "      result = 600000 * 1.1\n",
        "    elif service == '올인원':\n",
        "      result = 1000000 * 1.1\n",
        "  else:\n",
        "    print(\"비용이 발생되지 않았습니다.\")\n",
        "  print(f\"{result}만원 입니다.\")\n",
        "  #print(f\"{round(result,1)}만원입니다.)"
      ],
      "metadata": {
        "id": "lV7t_u9zsDQ5"
      },
      "execution_count": 128,
      "outputs": []
    },
    {
      "cell_type": "code",
      "source": [
        "##########################################\n",
        "# 스페이스 어드벤처 게임\n",
        "# 벤 & 쉬무엘 만듦\n",
        "##########################################\n",
        " \n",
        "# 플레이어 환영 메시지\n",
        "def doWelcome():\n",
        "    # 텍스트 출력하기\n",
        "    print(\"탐험가 여러분을 환영합니다!\")\n",
        "    print(\"혼란스러운 상태에서 잠을 깬 여러분은 아무것도 떠오르지 않습니다.\")\n",
        "    print(\"방문까지 겨우 기어가 손잡이를 돌렸더니 문이 열립니다.\")\n",
        "    print(\"밖으로 나가 봐도 모든 것이 낯설기만 합니다.\")\n",
        "    print(\"바깥 풍경은 척박하고 황량한 붉은 흙만이 흩날릴 뿐입니다.\")\n",
        "    print(\"우주복을 입은 자신을 발견하곤 모든 것이 궁금해집니다.\")\n",
        " \n",
        "# 장소: 출발점\n",
        "def doStart():\n",
        "    # 텍스트 출력하기\n",
        "    print(\"주위를 둘러봐도 붉은 사막과 바위 더미와 먼지뿐입니다.\")\n",
        "    print(\"여러분 앞에는 이상하게 생긴 팔각형 구조물이 있습니다.\")\n",
        "    print(\"가까이 가니 삐 소리가 들립니다. 그리곤 멈춥니다. 아니, 계속됩니다.\")\n",
        "    # 플레이어 행동 선택 프롬프트\n",
        "    choice = \" \"\n",
        "    while not choice in \"PSBR\":\n",
        "        print(\"여러분이 할 수 있는 일:\")\n",
        "        print(\"P = 바위 더미를 조사한다\")\n",
        "        print(\"S = 구조물에 접근한다\")\n",
        "        print(\"B = 삐 소리가 나는 곳으로 간다\")\n",
        "        print(\"R = 도망간다!\")\n",
        "        choice = input(\"무엇을 하고 싶으세요? [P/S/B/R]\").strip().upper()\n",
        "    # 행동 실행하기\n",
        "    if choice == 'P':\n",
        "        doBoulders()\n",
        "    elif choice == 'S':\n",
        "        doStructure()\n",
        "    elif choice == 'B':\n",
        "        doBeeping()\n",
        "    elif choice == 'R':\n",
        "        doRun()\n",
        "\n",
        "# 장소: 바위 더미\n",
        "# 인벤토리 시스템 구현용 개발자 메모 \n",
        "# 이곳이 열쇠가 숨겨진 장소가 됩니다.\n",
        "def doBoulders():\n",
        "    # 텍스트 출력하기\n",
        "    print(\"정말인가요? 그건 바위 더미입니다.\")\n",
        "    print(\"크고 무겁고 단순한 바위입니다.\")\n",
        "    # 시작 위치로 돌아가기\n",
        "    doStart()\n",
        "\n",
        "# 장소: 구조물\n",
        "def doStructure():\n",
        "    # 텍스트 출력하기\n",
        "    print(\"여러분은 이상한 구조물을 조사합니다.\")\n",
        "    print(\"안에서는 오싹하면서도 기이한 소리가 들립니다.\")\n",
        "    print(\"문도 없고 창문도 없습니다.\")\n",
        "    print(\"아니, 문처럼 보여서 한번 열어 보려고 합니다.\")\n",
        "    print(\"그리고 삐 소리가 들립니다. 어디서 나는 소리일까요?\")\n",
        "    # 플레이어 행동 선택 프롬프트\n",
        "    choice = \" \"\n",
        "    while not choice in \"SDBR\":\n",
        "        print(\"여러분이 할 수 있는 일:\")\n",
        "        print(\"S = 시작 지점으로 돌아간다\")\n",
        "        print(\"D = 문을 연다\")\n",
        "        print(\"B = 삐 소리가 나는 곳으로 간다\")\n",
        "        print(\"R = 도망간다!\")\n",
        "        choice = input(\"무엇을 하고 싶으세요? [S/D/B/R]\").strip().upper()\n",
        "    # 행동 실행하기\n",
        "    if choice == 'S':\n",
        "        doStart()\n",
        "    elif choice == 'D':\n",
        "        doStructureDoor()\n",
        "    elif choice == 'B':\n",
        "        doBeeping()\n",
        "    elif choice == 'R':\n",
        "        doRun()\n",
        " \n",
        "# 장소: 구조물 입구\n",
        "# 인벤토리 시스템 구현용 개발자 메모 \n",
        "# 열쇠가 있을 때만 열 수 있습니다.\n",
        "def doStructureDoor():\n",
        "    # 텍스트 출력하기\n",
        "    print(\"문은 잠긴 듯합니다.\")\n",
        "    print(\"둥근 구멍이 보입니다. 열쇠 구멍일까요?\")\n",
        "    print(\"그쪽으로 손을 내밀지만 파란빛이 번쩍이며 닫혀 버립니다!\")\n",
        "    print(\"계획한 대로는 잘 안 되는군요.\")\n",
        "    # 플레이어 행동 선택 프롬프트\n",
        "    choice = \" \"\n",
        "    while not choice in \"SR\":\n",
        "        print(\"여러분이 할 수 있는 일:\")\n",
        "        print(\"S = 구조물로 돌아간다\")\n",
        "        print(\"R = 도망간다!\")\n",
        "        choice = input(\"무엇을 하고 싶으세요? [S/R]\").strip().upper()\n",
        "    # 행동 실행하기\n",
        "    if choice == 'S':\n",
        "        doStructure()\n",
        "    elif choice == 'R':\n",
        "        doRun()\n",
        " \n",
        "# 장소: 삐 소리 탐색하기\n",
        "def doBeeping():\n",
        "    pass\n",
        " \n",
        "# 플레이어가 도망가기를 선택하기\n",
        "def doRun():\n",
        "    # 텍스트 출력하기\n",
        "    print(\"한동안 달립니다.\")\n",
        "    print(\"그리곤 허공에 뜬 자신을 발견합니다. 아래로, 아래로, 아래로.\")\n",
        "    print(\"아주 깊은 골짜기로 떨어지며 다시는 빛을 보지 못하리라는 생각이 듭니다.\")\n",
        "    print(\"그리 용감한 행동은 아니었네요. 그렇죠?\")\n",
        "    # 사망, 게임 끝내기\n",
        "    gameOver()\n",
        "\n",
        "# 게임 끝내기\n",
        "def gameOver():\n",
        "    print(\"게임 오버!\")\n",
        " \n",
        "# 실제 게임 시작은 이곳에서\n",
        "# 환영 메시지 출력하기\n",
        "doWelcome()\n",
        "# 게임 시작하기\n",
        "doStart()"
      ],
      "metadata": {
        "colab": {
          "base_uri": "https://localhost:8080/"
        },
        "id": "APuflxbwwgBx",
        "outputId": "7d1b0262-00ed-4fae-dd9f-14103ea9e651"
      },
      "execution_count": 129,
      "outputs": [
        {
          "name": "stdout",
          "output_type": "stream",
          "text": [
            "탐험가 여러분을 환영합니다!\n",
            "혼란스러운 상태에서 잠을 깬 여러분은 아무것도 떠오르지 않습니다.\n",
            "방문까지 겨우 기어가 손잡이를 돌렸더니 문이 열립니다.\n",
            "밖으로 나가 봐도 모든 것이 낯설기만 합니다.\n",
            "바깥 풍경은 척박하고 황량한 붉은 흙만이 흩날릴 뿐입니다.\n",
            "우주복을 입은 자신을 발견하곤 모든 것이 궁금해집니다.\n",
            "주위를 둘러봐도 붉은 사막과 바위 더미와 먼지뿐입니다.\n",
            "여러분 앞에는 이상하게 생긴 팔각형 구조물이 있습니다.\n",
            "가까이 가니 삐 소리가 들립니다. 그리곤 멈춥니다. 아니, 계속됩니다.\n",
            "여러분이 할 수 있는 일:\n",
            "P = 바위 더미를 조사한다\n",
            "S = 구조물에 접근한다\n",
            "B = 삐 소리가 나는 곳으로 간다\n",
            "R = 도망간다!\n",
            "무엇을 하고 싶으세요? [P/S/B/R]P\n",
            "정말인가요? 그건 바위 더미입니다.\n",
            "크고 무겁고 단순한 바위입니다.\n",
            "주위를 둘러봐도 붉은 사막과 바위 더미와 먼지뿐입니다.\n",
            "여러분 앞에는 이상하게 생긴 팔각형 구조물이 있습니다.\n",
            "가까이 가니 삐 소리가 들립니다. 그리곤 멈춥니다. 아니, 계속됩니다.\n",
            "여러분이 할 수 있는 일:\n",
            "P = 바위 더미를 조사한다\n",
            "S = 구조물에 접근한다\n",
            "B = 삐 소리가 나는 곳으로 간다\n",
            "R = 도망간다!\n",
            "무엇을 하고 싶으세요? [P/S/B/R]S\n",
            "여러분은 이상한 구조물을 조사합니다.\n",
            "안에서는 오싹하면서도 기이한 소리가 들립니다.\n",
            "문도 없고 창문도 없습니다.\n",
            "아니, 문처럼 보여서 한번 열어 보려고 합니다.\n",
            "그리고 삐 소리가 들립니다. 어디서 나는 소리일까요?\n",
            "여러분이 할 수 있는 일:\n",
            "S = 시작 지점으로 돌아간다\n",
            "D = 문을 연다\n",
            "B = 삐 소리가 나는 곳으로 간다\n",
            "R = 도망간다!\n",
            "무엇을 하고 싶으세요? [S/D/B/R]D\n",
            "문은 잠긴 듯합니다.\n",
            "둥근 구멍이 보입니다. 열쇠 구멍일까요?\n",
            "그쪽으로 손을 내밀지만 파란빛이 번쩍이며 닫혀 버립니다!\n",
            "계획한 대로는 잘 안 되는군요.\n",
            "여러분이 할 수 있는 일:\n",
            "S = 구조물로 돌아간다\n",
            "R = 도망간다!\n",
            "무엇을 하고 싶으세요? [S/R]S\n",
            "여러분은 이상한 구조물을 조사합니다.\n",
            "안에서는 오싹하면서도 기이한 소리가 들립니다.\n",
            "문도 없고 창문도 없습니다.\n",
            "아니, 문처럼 보여서 한번 열어 보려고 합니다.\n",
            "그리고 삐 소리가 들립니다. 어디서 나는 소리일까요?\n",
            "여러분이 할 수 있는 일:\n",
            "S = 시작 지점으로 돌아간다\n",
            "D = 문을 연다\n",
            "B = 삐 소리가 나는 곳으로 간다\n",
            "R = 도망간다!\n",
            "무엇을 하고 싶으세요? [S/D/B/R]B\n"
          ]
        }
      ]
    },
    {
      "cell_type": "code",
      "source": [],
      "metadata": {
        "id": "EdtBrjMVwiFE"
      },
      "execution_count": null,
      "outputs": []
    }
  ]
}