{
  "nbformat": 4,
  "nbformat_minor": 0,
  "metadata": {
    "colab": {
      "provenance": []
    },
    "kernelspec": {
      "name": "python3",
      "display_name": "Python 3"
    },
    "language_info": {
      "name": "python"
    }
  },
  "cells": [
    {
      "cell_type": "code",
      "execution_count": 2,
      "metadata": {
        "id": "DSWMAiWZTCrW"
      },
      "outputs": [],
      "source": [
        "import os\n",
        "os.chdir('/content/sample_data')"
      ]
    },
    {
      "cell_type": "code",
      "source": [
        "import csv"
      ],
      "metadata": {
        "id": "Sgq8vAX5WriB"
      },
      "execution_count": 3,
      "outputs": []
    },
    {
      "cell_type": "code",
      "source": [
        "# 함수화 하기\n",
        "\n",
        "def opencsv(filename):\n",
        "  f = open(filename, 'r')\n",
        "  reader = csv.reader(f)\n",
        "  output = []\n",
        "  for i in reader:\n",
        "    output.append(i)\n",
        "  return output"
      ],
      "metadata": {
        "id": "E5BN8kYbXHw7"
      },
      "execution_count": 4,
      "outputs": []
    },
    {
      "cell_type": "code",
      "source": [
        "total = opencsv('seoul.csv')"
      ],
      "metadata": {
        "id": "mZjg6uatXEmu"
      },
      "execution_count": 5,
      "outputs": []
    },
    {
      "cell_type": "code",
      "source": [
        "total"
      ],
      "metadata": {
        "colab": {
          "base_uri": "https://localhost:8080/"
        },
        "id": "-PJxHBnuXTbZ",
        "outputId": "14c5c77a-1643-4b69-9d61-06c5d5f3908d"
      },
      "execution_count": 6,
      "outputs": [
        {
          "output_type": "execute_result",
          "data": {
            "text/plain": [
              "[['Gu', 'Korean', 'Foreigner', 'Senior'],\n",
              " ['Total', '9,740,398', '285,529', '1,468,146'],\n",
              " ['Jongrogu', '151,767', '11,093', '27,394'],\n",
              " ['Jongru', '126,409', '10,254', '23,025'],\n",
              " ['Yongsangu', '228,830', '16,159', '38,531'],\n",
              " ['Seongdonggu', '303,158', '8,132', '43,662'],\n",
              " ['Kwangjingu', '352,692', '15,645', '47,347'],\n",
              " ['Dongdaemoongu', '346,551', '17,228', '58,764'],\n",
              " ['Jungranggu', '398,812', '4,964', '64,449'],\n",
              " ['Seongbukgu', '441,590', '12,524', '70,204'],\n",
              " ['Gangbukgu', '314,090', '3,785', '59,808'],\n",
              " ['Dobonggu', '335,280', '2,314', '58,070'],\n",
              " ['Nowonggu', '535,282', '4,547', '79,968'],\n",
              " ['Eunpyonggu', '481,663', '4,496', '79,957'],\n",
              " ['Seodaemungu', '310,069', '14,020', '51,708'],\n",
              " ['Mapogu', '373,629', '11,976', '51,961'],\n",
              " ['Yangcheongu', '459,849', '4,082', '60,487'],\n",
              " ['Gangseogu', '593,708', '6,532', '82,937'],\n",
              " ['Gurogu', '406,748', '33,102', '64,952'],\n",
              " ['Guemcheongu', '233,371', '19,497', '37,191'],\n",
              " ['Youngdeungpogu', '368,402', '34,076', '57,350'],\n",
              " ['Dongjakgu', '397,618', '12,869', '61,607'],\n",
              " ['Kwanakgu', '502,117', '17,836', '74,518'],\n",
              " ['Seoucheogu', '431,027', '4,231', '56,455'],\n",
              " ['Gangnamgu', '544,028', '5,015', '70,029'],\n",
              " ['Songpagu', '677,489', '6,849', '86,062'],\n",
              " ['Gangdonggu', '426,219', '4,303', '61,710']]"
            ]
          },
          "metadata": {},
          "execution_count": 6
        }
      ]
    },
    {
      "cell_type": "code",
      "source": [
        "for i in total[:5]:\n",
        "    print(i)"
      ],
      "metadata": {
        "colab": {
          "base_uri": "https://localhost:8080/"
        },
        "id": "UZv2_jsRXUT_",
        "outputId": "3ea18336-c1b2-4737-bcae-da59f1db8cf2"
      },
      "execution_count": 8,
      "outputs": [
        {
          "output_type": "stream",
          "name": "stdout",
          "text": [
            "['Gu', 'Korean', 'Foreigner', 'Senior']\n",
            "['Total', '9,740,398', '285,529', '1,468,146']\n",
            "['Jongrogu', '151,767', '11,093', '27,394']\n",
            "['Jongru', '126,409', '10,254', '23,025']\n",
            "['Yongsangu', '228,830', '16,159', '38,531']\n"
          ]
        }
      ]
    },
    {
      "cell_type": "code",
      "source": [
        "# 숫자형이 문자형으로 되어있는 것\n",
        "\n",
        "i = '123'\n",
        "float(i)"
      ],
      "metadata": {
        "colab": {
          "base_uri": "https://localhost:8080/"
        },
        "id": "nQYQbrfGYA8U",
        "outputId": "70b5dd4d-8506-4205-c2e6-3de5af712ce4"
      },
      "execution_count": 9,
      "outputs": [
        {
          "output_type": "execute_result",
          "data": {
            "text/plain": [
              "123.0"
            ]
          },
          "metadata": {},
          "execution_count": 9
        }
      ]
    },
    {
      "cell_type": "code",
      "source": [
        "int(i)"
      ],
      "metadata": {
        "colab": {
          "base_uri": "https://localhost:8080/"
        },
        "id": "LhtaYXXmYiMa",
        "outputId": "648c2b23-1012-43fb-ad46-4eab9f75c28a"
      },
      "execution_count": 10,
      "outputs": [
        {
          "output_type": "execute_result",
          "data": {
            "text/plain": [
              "123"
            ]
          },
          "metadata": {},
          "execution_count": 10
        }
      ]
    },
    {
      "cell_type": "code",
      "source": [
        "# 문자형을 실수형으로 변경할때 ,가 있으면 오류가 남\n",
        "\n",
        "float(1,234,567)"
      ],
      "metadata": {
        "colab": {
          "base_uri": "https://localhost:8080/",
          "height": 211
        },
        "id": "vrxgbtHLYi2Y",
        "outputId": "98e7c1dd-3e7e-4480-c547-53d70a557a0f"
      },
      "execution_count": 11,
      "outputs": [
        {
          "output_type": "error",
          "ename": "TypeError",
          "evalue": "ignored",
          "traceback": [
            "\u001b[0;31m---------------------------------------------------------------------------\u001b[0m",
            "\u001b[0;31mTypeError\u001b[0m                                 Traceback (most recent call last)",
            "\u001b[0;32m<ipython-input-11-940d5418fec4>\u001b[0m in \u001b[0;36m<cell line: 3>\u001b[0;34m()\u001b[0m\n\u001b[1;32m      1\u001b[0m \u001b[0;31m# 문자형을 실수형으로 변경할때 ,가 있으면 오류가 남\u001b[0m\u001b[0;34m\u001b[0m\u001b[0;34m\u001b[0m\u001b[0m\n\u001b[1;32m      2\u001b[0m \u001b[0;34m\u001b[0m\u001b[0m\n\u001b[0;32m----> 3\u001b[0;31m \u001b[0mfloat\u001b[0m\u001b[0;34m(\u001b[0m\u001b[0;36m1\u001b[0m\u001b[0;34m,\u001b[0m\u001b[0;36m234\u001b[0m\u001b[0;34m,\u001b[0m\u001b[0;36m567\u001b[0m\u001b[0;34m)\u001b[0m\u001b[0;34m\u001b[0m\u001b[0;34m\u001b[0m\u001b[0m\n\u001b[0m",
            "\u001b[0;31mTypeError\u001b[0m: float expected at most 1 argument, got 3"
          ]
        }
      ]
    },
    {
      "cell_type": "code",
      "source": [
        "import re"
      ],
      "metadata": {
        "id": "lkw4-xp3Y0MC"
      },
      "execution_count": 12,
      "outputs": []
    },
    {
      "cell_type": "code",
      "source": [
        "# substring -> 슬라이싱\n",
        "# sub -> 대체\n",
        "\n",
        "j = '1,234,567'\n",
        "float(re.sub(',','',j))\n"
      ],
      "metadata": {
        "colab": {
          "base_uri": "https://localhost:8080/"
        },
        "id": "mid1s-heYsXV",
        "outputId": "3341726e-ea4c-4f75-8d48-7c10c1c79efa"
      },
      "execution_count": 13,
      "outputs": [
        {
          "output_type": "execute_result",
          "data": {
            "text/plain": [
              "1234567.0"
            ]
          },
          "metadata": {},
          "execution_count": 13
        }
      ]
    },
    {
      "cell_type": "code",
      "source": [
        "int(re.sub(',','',j))"
      ],
      "metadata": {
        "colab": {
          "base_uri": "https://localhost:8080/"
        },
        "id": "7Klo6BD8ZUYu",
        "outputId": "b255b922-ff8a-4484-dc8b-1f70bd517b01"
      },
      "execution_count": 14,
      "outputs": [
        {
          "output_type": "execute_result",
          "data": {
            "text/plain": [
              "1234567"
            ]
          },
          "metadata": {},
          "execution_count": 14
        }
      ]
    },
    {
      "cell_type": "code",
      "source": [
        "# 슬라이싱\n",
        "total[:5]"
      ],
      "metadata": {
        "colab": {
          "base_uri": "https://localhost:8080/"
        },
        "id": "ksYv2aXPZbtd",
        "outputId": "64feaf54-7437-4404-d0fe-74ed2f9befef"
      },
      "execution_count": 16,
      "outputs": [
        {
          "output_type": "execute_result",
          "data": {
            "text/plain": [
              "[['Gu', 'Korean', 'Foreigner', 'Senior'],\n",
              " ['Total', '9,740,398', '285,529', '1,468,146'],\n",
              " ['Jongrogu', '151,767', '11,093', '27,394'],\n",
              " ['Jongru', '126,409', '10,254', '23,025'],\n",
              " ['Yongsangu', '228,830', '16,159', '38,531']]"
            ]
          },
          "metadata": {},
          "execution_count": 16
        }
      ]
    },
    {
      "cell_type": "code",
      "source": [
        "# 인덱싱\n",
        "total[2]"
      ],
      "metadata": {
        "colab": {
          "base_uri": "https://localhost:8080/"
        },
        "id": "g5TX_AAkZqx5",
        "outputId": "e5f60ef2-9e3c-47e8-890c-6ba7adc43784"
      },
      "execution_count": 29,
      "outputs": [
        {
          "output_type": "execute_result",
          "data": {
            "text/plain": [
              "['Jongrogu', '151,767', '11,093', '27,394']"
            ]
          },
          "metadata": {},
          "execution_count": 29
        }
      ]
    },
    {
      "cell_type": "code",
      "source": [
        "# 문자와 숫자가 섞여 있다면\n",
        "# 데이터가 밀리는 경우도 많음\n",
        "\n",
        "p = ['강남구123', '456종로구', '11,093', '27,394']\n",
        "k = []\n",
        "\n",
        "for j in p:\n",
        "  if re.search('[a-z가-힣]', j): #j에서 알파멧 또는 문자가 있다면\n",
        "    k.append(j)\n",
        "  else:\n",
        "    k.append(float(re.sub(',' , '', j))) "
      ],
      "metadata": {
        "id": "3q-rKrmHZure"
      },
      "execution_count": 38,
      "outputs": []
    },
    {
      "cell_type": "code",
      "source": [
        "k"
      ],
      "metadata": {
        "colab": {
          "base_uri": "https://localhost:8080/"
        },
        "id": "SJp00BN-Z50G",
        "outputId": "4f9eb83f-ef55-4664-f17d-abee6563d32e"
      },
      "execution_count": 39,
      "outputs": [
        {
          "output_type": "execute_result",
          "data": {
            "text/plain": [
              "['강남구123', '456종로구', 11093.0, 27394.0]"
            ]
          },
          "metadata": {},
          "execution_count": 39
        }
      ]
    },
    {
      "cell_type": "code",
      "source": [
        "k = []\n",
        "for j in i:\n",
        "  if re.search('\\d', j): #j에서 숫자형을 찾았다면 \n",
        "    k.append(int(re.sub(',' , '', j)))\n",
        "  else:\n",
        "    k.append(j)    "
      ],
      "metadata": {
        "id": "OFj6F2KUuG5P"
      },
      "execution_count": 36,
      "outputs": []
    },
    {
      "cell_type": "code",
      "source": [
        "k"
      ],
      "metadata": {
        "colab": {
          "base_uri": "https://localhost:8080/"
        },
        "id": "sJJ-94JPu6XR",
        "outputId": "c8365875-9971-40db-ffd9-5b19df940125"
      },
      "execution_count": 37,
      "outputs": [
        {
          "output_type": "execute_result",
          "data": {
            "text/plain": [
              "[1, 2, 3]"
            ]
          },
          "metadata": {},
          "execution_count": 37
        }
      ]
    },
    {
      "cell_type": "code",
      "source": [
        "# 만약 특수문자가 있다면??\n",
        "\n",
        "p = ['123강남구@@', '456종로구!!', '11,093', '27,394']\n",
        "k = []\n",
        "for j in p:\n",
        "  if re.search('[a-z가-힣!@]', j): \n",
        "    k.append(j)\n",
        "  else:\n",
        "    k.append(float(re.sub(',' , '', j))) "
      ],
      "metadata": {
        "id": "4Wvuo0kUu7E0"
      },
      "execution_count": 41,
      "outputs": []
    },
    {
      "cell_type": "code",
      "source": [
        "# 예외처리\n",
        "# try - except"
      ],
      "metadata": {
        "id": "Ky338S2SwaCZ"
      },
      "execution_count": 42,
      "outputs": []
    },
    {
      "cell_type": "code",
      "source": [
        "try:\n",
        "    p = ['123강남구@@', '456종로구!!', '11,093', '27,394']\n",
        "    k = []\n",
        "    for j in p:\n",
        "        if re.search('[a-z가-힣!@], j'):\n",
        "            k.append(j)\n",
        "        else:\n",
        "            k.append(float(re.sub(',','',j)))\n",
        "except:\n",
        "    pass"
      ],
      "metadata": {
        "id": "WcSEikOOwhUT"
      },
      "execution_count": 43,
      "outputs": []
    },
    {
      "cell_type": "code",
      "source": [
        "# 많은 데이터를 처리할 수 있는 함수 만들기\n",
        "\n",
        "def switch(listname):\n",
        "    for i in listname:\n",
        "        #print(\"i :  \" + i)\n",
        "        for j in i:\n",
        "            #print(\"j :  \" + j)\n",
        "            try:\n",
        "                i[i.index(j)] = float(re.sub(',','',j))\n",
        "            except:\n",
        "                pass\n",
        "    return listname\n"
      ],
      "metadata": {
        "id": "bYbEHBvkw4AE"
      },
      "execution_count": 65,
      "outputs": []
    },
    {
      "cell_type": "code",
      "source": [
        "p = ['123강남구@@', '456종로구!!', '11,093', '27,394']\n",
        "\n",
        "switch(p)"
      ],
      "metadata": {
        "colab": {
          "base_uri": "https://localhost:8080/"
        },
        "id": "AbKEkiVExb-S",
        "outputId": "a40dcba5-8531-42bc-d114-0f7644a34a1a"
      },
      "execution_count": 45,
      "outputs": [
        {
          "output_type": "stream",
          "name": "stdout",
          "text": [
            "i :  123강남구@@\n",
            "j :  1\n",
            "j :  2\n",
            "j :  3\n",
            "j :  강\n",
            "j :  남\n",
            "j :  구\n",
            "j :  @\n",
            "j :  @\n",
            "i :  456종로구!!\n",
            "j :  4\n",
            "j :  5\n",
            "j :  6\n",
            "j :  종\n",
            "j :  로\n",
            "j :  구\n",
            "j :  !\n",
            "j :  !\n",
            "i :  11,093\n",
            "j :  1\n",
            "j :  1\n",
            "j :  ,\n",
            "j :  0\n",
            "j :  9\n",
            "j :  3\n",
            "i :  27,394\n",
            "j :  2\n",
            "j :  7\n",
            "j :  ,\n",
            "j :  3\n",
            "j :  9\n",
            "j :  4\n"
          ]
        }
      ]
    },
    {
      "cell_type": "code",
      "source": [
        "p"
      ],
      "metadata": {
        "colab": {
          "base_uri": "https://localhost:8080/"
        },
        "id": "pKfhE_7nxgfa",
        "outputId": "5d279c93-ead9-4cf3-d84f-89c41667fed1"
      },
      "execution_count": 46,
      "outputs": [
        {
          "output_type": "execute_result",
          "data": {
            "text/plain": [
              "['123강남구@@', '456종로구!!', '11,093', '27,394']"
            ]
          },
          "metadata": {},
          "execution_count": 46
        }
      ]
    },
    {
      "cell_type": "code",
      "source": [
        "import os\n",
        "import re\n",
        "import csv"
      ],
      "metadata": {
        "id": "AWjeHUbXxhvt"
      },
      "execution_count": 47,
      "outputs": []
    },
    {
      "cell_type": "code",
      "source": [
        "os.chdir('/content/sample_data')"
      ],
      "metadata": {
        "id": "bwqZMrsAyPiW"
      },
      "execution_count": 49,
      "outputs": []
    },
    {
      "cell_type": "code",
      "source": [
        "total1 = opencsv('seoul.csv')"
      ],
      "metadata": {
        "id": "CguEJ8JDydzW"
      },
      "execution_count": 61,
      "outputs": []
    },
    {
      "cell_type": "code",
      "source": [
        "total1"
      ],
      "metadata": {
        "colab": {
          "base_uri": "https://localhost:8080/"
        },
        "id": "h2d4o_WQymB7",
        "outputId": "a3b30cad-a069-4fc0-d52d-b7ed95250c47"
      },
      "execution_count": 62,
      "outputs": [
        {
          "output_type": "execute_result",
          "data": {
            "text/plain": [
              "[['Gu', 'Korean', 'Foreigner', 'Senior'],\n",
              " ['Total', '9,740,398', '285,529', '1,468,146'],\n",
              " ['Jongrogu', '151,767', '11,093', '27,394'],\n",
              " ['Jongru', '126,409', '10,254', '23,025'],\n",
              " ['Yongsangu', '228,830', '16,159', '38,531'],\n",
              " ['Seongdonggu', '303,158', '8,132', '43,662'],\n",
              " ['Kwangjingu', '352,692', '15,645', '47,347'],\n",
              " ['Dongdaemoongu', '346,551', '17,228', '58,764'],\n",
              " ['Jungranggu', '398,812', '4,964', '64,449'],\n",
              " ['Seongbukgu', '441,590', '12,524', '70,204'],\n",
              " ['Gangbukgu', '314,090', '3,785', '59,808'],\n",
              " ['Dobonggu', '335,280', '2,314', '58,070'],\n",
              " ['Nowonggu', '535,282', '4,547', '79,968'],\n",
              " ['Eunpyonggu', '481,663', '4,496', '79,957'],\n",
              " ['Seodaemungu', '310,069', '14,020', '51,708'],\n",
              " ['Mapogu', '373,629', '11,976', '51,961'],\n",
              " ['Yangcheongu', '459,849', '4,082', '60,487'],\n",
              " ['Gangseogu', '593,708', '6,532', '82,937'],\n",
              " ['Gurogu', '406,748', '33,102', '64,952'],\n",
              " ['Guemcheongu', '233,371', '19,497', '37,191'],\n",
              " ['Youngdeungpogu', '368,402', '34,076', '57,350'],\n",
              " ['Dongjakgu', '397,618', '12,869', '61,607'],\n",
              " ['Kwanakgu', '502,117', '17,836', '74,518'],\n",
              " ['Seoucheogu', '431,027', '4,231', '56,455'],\n",
              " ['Gangnamgu', '544,028', '5,015', '70,029'],\n",
              " ['Songpagu', '677,489', '6,849', '86,062'],\n",
              " ['Gangdonggu', '426,219', '4,303', '61,710']]"
            ]
          },
          "metadata": {},
          "execution_count": 62
        }
      ]
    },
    {
      "cell_type": "code",
      "source": [
        "sample = switch(total1)"
      ],
      "metadata": {
        "id": "3swdcq-2ym9X"
      },
      "execution_count": 87,
      "outputs": []
    },
    {
      "cell_type": "code",
      "source": [
        "sample"
      ],
      "metadata": {
        "colab": {
          "base_uri": "https://localhost:8080/"
        },
        "id": "dIieiDZXzbUz",
        "outputId": "9d1d0b8e-8e8e-4e7e-b84c-2839e14283bf"
      },
      "execution_count": 88,
      "outputs": [
        {
          "output_type": "execute_result",
          "data": {
            "text/plain": [
              "[['Gu', 'Korean', 'Foreigner', 'Senior'],\n",
              " ['Total', 9740398.0, 285529.0, 1468146.0],\n",
              " ['Jongrogu', 151767.0, 11093.0, 27394.0],\n",
              " ['Jongru', 126409.0, 10254.0, 23025.0],\n",
              " ['Yongsangu', 228830.0, 16159.0, 38531.0],\n",
              " ['Seongdonggu', 303158.0, 8132.0, 43662.0],\n",
              " ['Kwangjingu', 352692.0, 15645.0, 47347.0],\n",
              " ['Dongdaemoongu', 346551.0, 17228.0, 58764.0],\n",
              " ['Jungranggu', 398812.0, 4964.0, 64449.0],\n",
              " ['Seongbukgu', 441590.0, 12524.0, 70204.0],\n",
              " ['Gangbukgu', 314090.0, 3785.0, 59808.0],\n",
              " ['Dobonggu', 335280.0, 2314.0, 58070.0],\n",
              " ['Nowonggu', 535282.0, 4547.0, 79968.0],\n",
              " ['Eunpyonggu', 481663.0, 4496.0, 79957.0],\n",
              " ['Seodaemungu', 310069.0, 14020.0, 51708.0],\n",
              " ['Mapogu', 373629.0, 11976.0, 51961.0],\n",
              " ['Yangcheongu', 459849.0, 4082.0, 60487.0],\n",
              " ['Gangseogu', 593708.0, 6532.0, 82937.0],\n",
              " ['Gurogu', 406748.0, 33102.0, 64952.0],\n",
              " ['Guemcheongu', 233371.0, 19497.0, 37191.0],\n",
              " ['Youngdeungpogu', 368402.0, 34076.0, 57350.0],\n",
              " ['Dongjakgu', 397618.0, 12869.0, 61607.0],\n",
              " ['Kwanakgu', 502117.0, 17836.0, 74518.0],\n",
              " ['Seoucheogu', 431027.0, 4231.0, 56455.0],\n",
              " ['Gangnamgu', 544028.0, 5015.0, 70029.0],\n",
              " ['Songpagu', 677489.0, 6849.0, 86062.0],\n",
              " ['Gangdonggu', 426219.0, 4303.0, 61710.0]]"
            ]
          },
          "metadata": {},
          "execution_count": 88
        }
      ]
    },
    {
      "cell_type": "code",
      "source": [
        "# 첫번째 행(제목 지정하기)\n",
        "\n",
        "title = [['구', '한국인', '외국인', '외국인 비율(%)']]"
      ],
      "metadata": {
        "id": "MTS8nl6hzb-j"
      },
      "execution_count": 69,
      "outputs": []
    },
    {
      "cell_type": "code",
      "source": [
        "i = ['Jongrogu', '151,767', '11,093', '27,394']"
      ],
      "metadata": {
        "id": "HvUYvlHvz5nf"
      },
      "execution_count": 71,
      "outputs": []
    },
    {
      "cell_type": "code",
      "source": [
        "title.append([i[0], i[1], i[2], i[3]])"
      ],
      "metadata": {
        "id": "eoRLzJQIz_Ym"
      },
      "execution_count": 72,
      "outputs": []
    },
    {
      "cell_type": "code",
      "source": [
        "title"
      ],
      "metadata": {
        "colab": {
          "base_uri": "https://localhost:8080/"
        },
        "id": "HhfyWo8o0Gb4",
        "outputId": "5fd62b23-0967-4cbe-ec51-5e7a16c0a3e3"
      },
      "execution_count": 73,
      "outputs": [
        {
          "output_type": "execute_result",
          "data": {
            "text/plain": [
              "[['구', '한국인', '외국인', '외국인 비율(%)'], ['Jongrogu', '151,767', '11,093', '27,394']]"
            ]
          },
          "metadata": {},
          "execution_count": 73
        }
      ]
    },
    {
      "cell_type": "code",
      "source": [
        "# 반복작업 각 구의 외국인 비율 구하기\n",
        "# 외국인 숫자 / 외국인숫자+한국인 숫자 = 외국인 비율\n",
        "\n",
        "for i in sample:\n",
        "    foreign = 0\n",
        "    try:\n",
        "        foreign = round((i[2] / (i[1] + i[2])) * 100, 1)\n",
        "        print(i[0], foreign)\n",
        "    except:\n",
        "        pass\n"
      ],
      "metadata": {
        "colab": {
          "base_uri": "https://localhost:8080/"
        },
        "id": "CCQ9Mbze0HPz",
        "outputId": "deb6f67b-6947-4d83-f6fc-c2a6a262f21f"
      },
      "execution_count": 78,
      "outputs": [
        {
          "output_type": "stream",
          "name": "stdout",
          "text": [
            "Total 2.8\n",
            "Jongrogu 6.8\n",
            "Jongru 7.5\n",
            "Yongsangu 6.6\n",
            "Seongdonggu 2.6\n",
            "Kwangjingu 4.2\n",
            "Dongdaemoongu 4.7\n",
            "Jungranggu 1.2\n",
            "Seongbukgu 2.8\n",
            "Gangbukgu 1.2\n",
            "Dobonggu 0.7\n",
            "Nowonggu 0.8\n",
            "Eunpyonggu 0.9\n",
            "Seodaemungu 4.3\n",
            "Mapogu 3.1\n",
            "Yangcheongu 0.9\n",
            "Gangseogu 1.1\n",
            "Gurogu 7.5\n",
            "Guemcheongu 7.7\n",
            "Youngdeungpogu 8.5\n",
            "Dongjakgu 3.1\n",
            "Kwanakgu 3.4\n",
            "Seoucheogu 1.0\n",
            "Gangnamgu 0.9\n",
            "Songpagu 1.0\n",
            "Gangdonggu 1.0\n"
          ]
        }
      ]
    },
    {
      "cell_type": "code",
      "source": [
        "# 외국인 비율 3% 이상인 대상만 추출\n",
        "# 문제 풀이 \n",
        "\n",
        "for i in sample:\n",
        "  foreign = 0\n",
        "  try:\n",
        "    foreign = round(i[2] / i[1] * 100, 1)\n",
        "    if foreign > 3:\n",
        "        print(i[0], foreign)\n",
        "    else:\n",
        "        pass\n",
        "  except:\n",
        "    pass"
      ],
      "metadata": {
        "colab": {
          "base_uri": "https://localhost:8080/"
        },
        "id": "NXmXBwMk0uED",
        "outputId": "b6e92d61-de01-444e-f0af-626e80f14634"
      },
      "execution_count": 80,
      "outputs": [
        {
          "output_type": "stream",
          "name": "stdout",
          "text": [
            "Jongrogu 7.3\n",
            "Jongru 8.1\n",
            "Yongsangu 7.1\n",
            "Kwangjingu 4.4\n",
            "Dongdaemoongu 5.0\n",
            "Seodaemungu 4.5\n",
            "Mapogu 3.2\n",
            "Gurogu 8.1\n",
            "Guemcheongu 8.4\n",
            "Youngdeungpogu 9.2\n",
            "Dongjakgu 3.2\n",
            "Kwanakgu 3.6\n"
          ]
        }
      ]
    },
    {
      "cell_type": "code",
      "source": [
        "# 새로운 csv 파일 생성 외국인 비율 3% 이상인 것만\n",
        "\n",
        "new_file = [['행정구역', '한국인', '외국인' , '외국인 비율(%)']]\n",
        "\n",
        "for i in sample:\n",
        "  foreign = 0\n",
        "  try:\n",
        "    foreign = round(i[2] / i[1] * 100, 1)\n",
        "    if foreign > 3:\n",
        "        print(i)\n",
        "        new_file.append([i[0],i[1],i[2],foreign])\n",
        "    else:\n",
        "        pass\n",
        "  except:\n",
        "    pass"
      ],
      "metadata": {
        "colab": {
          "base_uri": "https://localhost:8080/"
        },
        "id": "D2pvG--K1WP2",
        "outputId": "87d50cb7-1418-4f58-c342-f94bb2042e00"
      },
      "execution_count": 92,
      "outputs": [
        {
          "output_type": "stream",
          "name": "stdout",
          "text": [
            "['Jongrogu', 151767.0, 11093.0, 27394.0]\n",
            "['Jongru', 126409.0, 10254.0, 23025.0]\n",
            "['Yongsangu', 228830.0, 16159.0, 38531.0]\n",
            "['Kwangjingu', 352692.0, 15645.0, 47347.0]\n",
            "['Dongdaemoongu', 346551.0, 17228.0, 58764.0]\n",
            "['Seodaemungu', 310069.0, 14020.0, 51708.0]\n",
            "['Mapogu', 373629.0, 11976.0, 51961.0]\n",
            "['Gurogu', 406748.0, 33102.0, 64952.0]\n",
            "['Guemcheongu', 233371.0, 19497.0, 37191.0]\n",
            "['Youngdeungpogu', 368402.0, 34076.0, 57350.0]\n",
            "['Dongjakgu', 397618.0, 12869.0, 61607.0]\n",
            "['Kwanakgu', 502117.0, 17836.0, 74518.0]\n"
          ]
        }
      ]
    },
    {
      "cell_type": "code",
      "source": [
        "new_file"
      ],
      "metadata": {
        "colab": {
          "base_uri": "https://localhost:8080/"
        },
        "id": "IA88r_d753NW",
        "outputId": "866bbf5d-e4f5-4ba4-f25d-4920840c3e58"
      },
      "execution_count": 93,
      "outputs": [
        {
          "output_type": "execute_result",
          "data": {
            "text/plain": [
              "[['행정구역', '한국인', '외국인', '외국인 비율(%)'],\n",
              " ['Jongrogu', 151767.0, 11093.0, 7.3],\n",
              " ['Jongru', 126409.0, 10254.0, 8.1],\n",
              " ['Yongsangu', 228830.0, 16159.0, 7.1],\n",
              " ['Kwangjingu', 352692.0, 15645.0, 4.4],\n",
              " ['Dongdaemoongu', 346551.0, 17228.0, 5.0],\n",
              " ['Seodaemungu', 310069.0, 14020.0, 4.5],\n",
              " ['Mapogu', 373629.0, 11976.0, 3.2],\n",
              " ['Gurogu', 406748.0, 33102.0, 8.1],\n",
              " ['Guemcheongu', 233371.0, 19497.0, 8.4],\n",
              " ['Youngdeungpogu', 368402.0, 34076.0, 9.2],\n",
              " ['Dongjakgu', 397618.0, 12869.0, 3.2],\n",
              " ['Kwanakgu', 502117.0, 17836.0, 3.6]]"
            ]
          },
          "metadata": {},
          "execution_count": 93
        }
      ]
    },
    {
      "cell_type": "code",
      "source": [
        "# 함수화 하기\n",
        "# csv를 넣지 않아도 생성은 된다.\n",
        "\n",
        "def writecsv(filename, the_list):\n",
        "  with open(filename, 'w', newline = '') as f:\n",
        "    a = csv.writer(f, delimiter = ',')\n",
        "    a.writerows(the_list)"
      ],
      "metadata": {
        "id": "UKPwDL-Y54ku"
      },
      "execution_count": 94,
      "outputs": []
    },
    {
      "cell_type": "code",
      "source": [
        "writecsv('seoul_new.csv', new_file)"
      ],
      "metadata": {
        "id": "O2Wbyq8z6Zan"
      },
      "execution_count": 95,
      "outputs": []
    },
    {
      "cell_type": "code",
      "source": [
        "opencsv('seoul_new.csv')"
      ],
      "metadata": {
        "colab": {
          "base_uri": "https://localhost:8080/"
        },
        "id": "lka3kZaT6a7F",
        "outputId": "f9e4c63b-240f-4351-9de5-91837b4ec309"
      },
      "execution_count": 96,
      "outputs": [
        {
          "output_type": "execute_result",
          "data": {
            "text/plain": [
              "[['행정구역', '한국인', '외국인', '외국인 비율(%)'],\n",
              " ['Jongrogu', '151767.0', '11093.0', '7.3'],\n",
              " ['Jongru', '126409.0', '10254.0', '8.1'],\n",
              " ['Yongsangu', '228830.0', '16159.0', '7.1'],\n",
              " ['Kwangjingu', '352692.0', '15645.0', '4.4'],\n",
              " ['Dongdaemoongu', '346551.0', '17228.0', '5.0'],\n",
              " ['Seodaemungu', '310069.0', '14020.0', '4.5'],\n",
              " ['Mapogu', '373629.0', '11976.0', '3.2'],\n",
              " ['Gurogu', '406748.0', '33102.0', '8.1'],\n",
              " ['Guemcheongu', '233371.0', '19497.0', '8.4'],\n",
              " ['Youngdeungpogu', '368402.0', '34076.0', '9.2'],\n",
              " ['Dongjakgu', '397618.0', '12869.0', '3.2'],\n",
              " ['Kwanakgu', '502117.0', '17836.0', '3.6']]"
            ]
          },
          "metadata": {},
          "execution_count": 96
        }
      ]
    },
    {
      "cell_type": "code",
      "source": [
        "# 부동산 \n",
        "\n",
        "import os\n",
        "import re\n",
        "\n",
        "apt = switch(opencsv('data_school_utf8.csv'))"
      ],
      "metadata": {
        "id": "PcpOBhj56f-t"
      },
      "execution_count": 108,
      "outputs": []
    },
    {
      "cell_type": "code",
      "source": [
        "apt[:3]"
      ],
      "metadata": {
        "colab": {
          "base_uri": "https://localhost:8080/"
        },
        "id": "c37fYdEG7SJu",
        "outputId": "f3e0f951-223c-4372-bd09-253ee0140074"
      },
      "execution_count": 99,
      "outputs": [
        {
          "output_type": "execute_result",
          "data": {
            "text/plain": [
              "[['\\ufeff\\ufeff시군구',\n",
              "  '번지',\n",
              "  '본번',\n",
              "  '부번',\n",
              "  '단지명',\n",
              "  '전용면적(㎡)',\n",
              "  '계약년월',\n",
              "  '계약일',\n",
              "  '거래금액(만원)',\n",
              "  '층',\n",
              "  '건축년도',\n",
              "  '도로명',\n",
              "  '해제사유발생일',\n",
              "  '거래유형',\n",
              "  '중개사소재지'],\n",
              " ['강원도 강릉시 견소동',\n",
              "  202.0,\n",
              "  202.0,\n",
              "  0.0,\n",
              "  '송정한신',\n",
              "  59.8,\n",
              "  202304.0,\n",
              "  3.0,\n",
              "  19000.0,\n",
              "  14.0,\n",
              "  1997.0,\n",
              "  '경강로2539번길 8',\n",
              "  '',\n",
              "  '중개거래',\n",
              "  '강원 강릉시'],\n",
              " ['강원도 강릉시 견소동',\n",
              "  202.0,\n",
              "  202.0,\n",
              "  0.0,\n",
              "  '송정한신',\n",
              "  84.93,\n",
              "  202304.0,\n",
              "  11.0,\n",
              "  25500.0,\n",
              "  6.0,\n",
              "  1997.0,\n",
              "  '경강로2539번길 8',\n",
              "  '',\n",
              "  '중개거래',\n",
              "  '강원 강릉시']]"
            ]
          },
          "metadata": {},
          "execution_count": 99
        }
      ]
    },
    {
      "cell_type": "code",
      "source": [
        "# 처음 5개 데이터의 시/군/구만 출력\n",
        " \n",
        "for i in apt[:6]:\n",
        "    print(i[0])"
      ],
      "metadata": {
        "colab": {
          "base_uri": "https://localhost:8080/"
        },
        "id": "FXJW1HPC8Q8W",
        "outputId": "7193b762-50ea-42dd-ff04-069b50f03d4e"
      },
      "execution_count": 100,
      "outputs": [
        {
          "output_type": "stream",
          "name": "stdout",
          "text": [
            "﻿﻿시군구\n",
            "강원도 강릉시 견소동\n",
            "강원도 강릉시 견소동\n",
            "강원도 강릉시 견소동\n",
            "강원도 강릉시 견소동\n",
            "강원도 강릉시 교동\n"
          ]
        }
      ]
    },
    {
      "cell_type": "code",
      "source": [
        "# 처음 5개 데이터의 시/군/구만 출력\n",
        "\n",
        "for i in apt[:6]: #0-5\n",
        "  print(i[0], i[5], i[8])"
      ],
      "metadata": {
        "colab": {
          "base_uri": "https://localhost:8080/"
        },
        "id": "b7zQoc0P9Al1",
        "outputId": "4d7c237b-0332-4b8e-ffb7-6edeb660c386"
      },
      "execution_count": 101,
      "outputs": [
        {
          "output_type": "stream",
          "name": "stdout",
          "text": [
            "﻿﻿시군구 전용면적(㎡) 거래금액(만원)\n",
            "강원도 강릉시 견소동 59.8 19000.0\n",
            "강원도 강릉시 견소동 84.93 25500.0\n",
            "강원도 강릉시 견소동 84.93 26400.0\n",
            "강원도 강릉시 견소동 59.8 19500.0\n",
            "강원도 강릉시 교동 84.9964 36300.0\n"
          ]
        }
      ]
    },
    {
      "cell_type": "code",
      "source": [
        "# 강원도에 120 제곱미터 이상 3억원 이하 아파트 검색하기\n",
        "\n",
        "for i in apt:\n",
        "    try:\n",
        "        if i[5] > 120.0 and i[8] <= 30000 and re.match('강원', i[0]):\n",
        "            print(i)\n",
        "    except:\n",
        "        pass\n",
        "    "
      ],
      "metadata": {
        "colab": {
          "base_uri": "https://localhost:8080/"
        },
        "id": "zu4iI7H79I86",
        "outputId": "6f219f10-93f6-4b7f-a2d2-11324bfc4623"
      },
      "execution_count": 114,
      "outputs": [
        {
          "output_type": "stream",
          "name": "stdout",
          "text": [
            "['강원도 강릉시 포남동', '898-17', 898.0, 17.0, '삼우골든맨션', 136.14, 202304.0, 15.0, 30000.0, 7.0, 1991.0, '용지각길20번길 8', '', '중개거래', '강원 강릉시']\n",
            "['강원도 동해시 천곡동', '1077-16', 1077.0, 16.0, '리더스빌', 123.48, 202304.0, 25.0, 14500.0, 1.0, 1995.0, '샘실3길 82-4', '', '중개거래', '강원 동해시']\n",
            "['강원도 원주시 단구동', 1520.0, 1520.0, 0.0, '두산', 134.97, 202304.0, 2.0, 22500.0, 13.0, 1997.0, '남원로 496', '', '중개거래', '강원 원주시']\n",
            "['강원도 원주시 태장동', 2210.0, 2210.0, 0.0, '우성1', 127.11, 202304.0, 14.0, 15400.0, 6.0, 1990.0, '적동1길 7', '', '중개거래', '강원 원주시']\n",
            "['강원도 춘천시 석사동', '721-2', 721.0, 2.0, '석사대우', 134.34, 202304.0, 10.0, 30000.0, 14.0, 1998.0, '우석로101번길 86', '', '중개거래', '강원 원주시']\n",
            "['강원도 춘천시 우두동', 1080.0, 1080.0, 0.0, '롯데인벤스', 122.13, 202304.0, 18.0, 29000.0, 3.0, 2006.0, '충열로 29', '', '중개거래', '강원 춘천시']\n",
            "['강원도 춘천시 후평동', 893.0, 893.0, 0.0, '동아', 135.0, 202304.0, 7.0, 27000.0, 6.0, 1995.0, '서부대성로 327', '', '중개거래', '강원 춘천시']\n"
          ]
        }
      ]
    },
    {
      "cell_type": "code",
      "source": [
        "for i in apt:\n",
        "    try:\n",
        "        if i[5] < 40.0 and i[8] <= 30000 and re.match('서울특별시 용산구', i[0]):\n",
        "            print(i)\n",
        "    except:\n",
        "        pass"
      ],
      "metadata": {
        "colab": {
          "base_uri": "https://localhost:8080/"
        },
        "id": "IjqorbVF9d2M",
        "outputId": "807b7107-9759-434c-c518-e9ce8bb8631a"
      },
      "execution_count": 116,
      "outputs": [
        {
          "output_type": "stream",
          "name": "stdout",
          "text": [
            "['서울특별시 용산구 문배동', '08월 24일', 24.0, 8.0, '프라임펠리스', 13.69, 202304.0, 12.0, 16200.0, 17.0, 2012.0, '백범로90길 38', '', '중개거래', '서울 용산구']\n"
          ]
        }
      ]
    },
    {
      "cell_type": "code",
      "source": [
        "# 임장가기 위해서 프린트 \n",
        "# CSV파일로 내보내기\n",
        "\n",
        "new_apt_list = []\n",
        "\n",
        "for i in apt:\n",
        "  try:\n",
        "    if i[5] > 84 and i[8] <= 60000 and re.match('서울', i[0]):\n",
        "      new_apt_list.append([i[0], i[4], i[5], i[8]])\n",
        "  except:\n",
        "    pass"
      ],
      "metadata": {
        "id": "5NCg9Gd__rFj"
      },
      "execution_count": 118,
      "outputs": []
    },
    {
      "cell_type": "code",
      "source": [
        "new_apt_list"
      ],
      "metadata": {
        "colab": {
          "base_uri": "https://localhost:8080/"
        },
        "id": "6xyYZdHr_0Bq",
        "outputId": "a4fbfe99-fb96-457e-cab5-4fa7f0c464d8"
      },
      "execution_count": 119,
      "outputs": [
        {
          "output_type": "execute_result",
          "data": {
            "text/plain": [
              "[['서울특별시 강동구 천호동', '즈믄촌', 84.4, 45000.0],\n",
              " ['서울특별시 강북구 미아동', '두산위브트레지움', 84.99, 51100.0],\n",
              " ['서울특별시 강북구 미아동', '에스케이북한산시티', 84.92, 58000.0],\n",
              " ['서울특별시 강북구 번동', '번동한양아파트', 84.67, 51500.0],\n",
              " ['서울특별시 강서구 내발산동', '원다벨라빌', 84.0152, 46000.0],\n",
              " ['서울특별시 강서구 화곡동', '궁전(912-1)B동', 97.65, 49000.0],\n",
              " ['서울특별시 강서구 화곡동', '천우중앙', 87.18, 35000.0],\n",
              " ['서울특별시 구로구 개봉동', '거성푸르뫼2', 84.96, 51000.0],\n",
              " ['서울특별시 구로구 개봉동', '한진', 84.96, 57000.0],\n",
              " ['서울특별시 구로구 개봉동', '한진', 84.96, 57000.0],\n",
              " ['서울특별시 구로구 구로동', '뉴홍현솔레디움', 84.69, 59900.0],\n",
              " ['서울특별시 구로구 구로동', '도림두산베어스타워', 109.25, 53000.0],\n",
              " ['서울특별시 금천구 독산동', '금천현대', 84.83, 55000.0],\n",
              " ['서울특별시 금천구 독산동', '라이프', 84.74, 54000.0],\n",
              " ['서울특별시 금천구 시흥동', '관악산벽산타운5', 84.97, 50800.0],\n",
              " ['서울특별시 금천구 시흥동', '관악산벽산타운5', 84.97, 52000.0],\n",
              " ['서울특별시 금천구 시흥동', '벽산', 84.99, 50000.0],\n",
              " ['서울특별시 금천구 시흥동', '벽산', 114.84, 55400.0],\n",
              " ['서울특별시 금천구 시흥동', '벽산', 114.84, 56500.0],\n",
              " ['서울특별시 노원구 공릉동', '건영장미아파트', 84.88, 58000.0],\n",
              " ['서울특별시 노원구 공릉동', '삼익아파트', 84.6, 58800.0],\n",
              " ['서울특별시 노원구 상계동', '동아불암', 84.86, 60000.0],\n",
              " ['서울특별시 노원구 상계동', '상계신동아', 84.99, 59000.0],\n",
              " ['서울특별시 노원구 월계동', '한진한화그랑빌', 84.97, 54000.0],\n",
              " ['서울특별시 도봉구 도봉동', '극동', 84.83, 50000.0],\n",
              " ['서울특별시 도봉구 도봉동', '극동', 84.83, 38000.0],\n",
              " ['서울특별시 도봉구 도봉동', '럭키', 84.86, 53000.0],\n",
              " ['서울특별시 도봉구 도봉동', '한신', 84.94, 54000.0],\n",
              " ['서울특별시 도봉구 도봉동', '한신', 84.94, 50000.0],\n",
              " ['서울특별시 도봉구 도봉동', '한신', 84.94, 53000.0],\n",
              " ['서울특별시 도봉구 도봉동', '한신', 84.94, 54000.0],\n",
              " ['서울특별시 도봉구 방학동', '우성아파트2', 84.98, 49800.0],\n",
              " ['서울특별시 도봉구 쌍문동', '동익미라벨', 84.53, 46500.0],\n",
              " ['서울특별시 도봉구 쌍문동', '현대1', 84.66, 49700.0],\n",
              " ['서울특별시 도봉구 쌍문동', '현대3', 84.83, 43000.0],\n",
              " ['서울특별시 도봉구 창동', '금용', 158.79, 55000.0],\n",
              " ['서울특별시 동대문구 장안동', '르메이에르장안타운6차', 84.92, 59000.0],\n",
              " ['서울특별시 동대문구 휘경동', '서울가든', 85.6, 50000.0],\n",
              " ['서울특별시 동작구 사당동', '현대주택조합', 84.99, 56000.0],\n",
              " ['서울특별시 성북구 삼선동3가', '성종그린', 84.99, 48000.0],\n",
              " ['서울특별시 성북구 석관동', '삼성', 84.72, 52200.0],\n",
              " ['서울특별시 성북구 장위동', '그린빌아파트', 84.69, 55000.0],\n",
              " ['서울특별시 성북구 정릉동', '정릉풍림아이원', 84.09, 60000.0],\n",
              " ['서울특별시 성북구 정릉동', '정릉풍림아이원', 84.09, 59400.0],\n",
              " ['서울특별시 성북구 정릉동', '정릉힐스테이트1차', 84.535, 59000.0],\n",
              " ['서울특별시 양천구 목동', '근상프리즘', 92.34, 59000.0],\n",
              " ['서울특별시 양천구 신월동', '삼성', 84.78, 45500.0],\n",
              " ['서울특별시 양천구 신월동', '우영아파트', 84.93, 44500.0],\n",
              " ['서울특별시 양천구 신정동', '마이홈', 114.99, 50000.0],\n",
              " ['서울특별시 은평구 갈현동', '한솔', 84.93, 49500.0],\n",
              " ['서울특별시 은평구 구산동', '경남아너스빌', 84.69, 53000.0],\n",
              " ['서울특별시 은평구 불광동', '태양아파트', 84.77, 56000.0],\n",
              " ['서울특별시 은평구 신사동', '뉴신사신성', 84.42, 48000.0],\n",
              " ['서울특별시 은평구 신사동', '대주파크빌', 84.8, 57000.0],\n",
              " ['서울특별시 은평구 신사동', '현대1', 84.17, 55500.0],\n",
              " ['서울특별시 중구 인현동2가', '인현상가(신성아파트)', 87.44, 56500.0],\n",
              " ['서울특별시 중랑구 묵동', '신안1', 84.99, 60000.0]]"
            ]
          },
          "metadata": {},
          "execution_count": 119
        }
      ]
    },
    {
      "cell_type": "code",
      "source": [
        "writecsv('new_apt_list.csv', new_apt_list)"
      ],
      "metadata": {
        "id": "T_Q2om3n_1NX"
      },
      "execution_count": 120,
      "outputs": []
    },
    {
      "cell_type": "code",
      "source": [
        "import csv\n",
        "f = open('CSV_example2_data.csv')\n",
        "\n",
        "data = csv.reader(f, delimiter= ',')\n",
        "\n",
        "for row in data:\n",
        "    print(row)\n",
        "f.close()"
      ],
      "metadata": {
        "colab": {
          "base_uri": "https://localhost:8080/"
        },
        "id": "Js0yp7DN_2Q2",
        "outputId": "d7e88e8e-f99b-4a69-beb0-51e488aceeba"
      },
      "execution_count": 123,
      "outputs": [
        {
          "output_type": "stream",
          "name": "stdout",
          "text": [
            "['날짜', '지점', '평균기온', '최저기온', '최고기온']\n",
            "['2023-04-08', '108', '8.8', '3.1', '14.9']\n",
            "['2023-04-09', '108', '10.8', '3.5', '17.8']\n",
            "['2023-04-10', '108', '13.2', '6.2', '19.1']\n",
            "['2023-04-11', '108', '13.1', '9.2', '17.4']\n",
            "['2023-04-12', '108', '10.1', '4.8', '15.3']\n",
            "['2023-04-13', '108', '11.9', '5.1', '17.2']\n",
            "['2023-04-14', '108', '16.2', '11.9', '21.3']\n",
            "['2023-04-15', '108', '13.5', '9.3', '16.6']\n",
            "['2023-04-16', '108', '10.8', '7.5', '16.1']\n",
            "['2023-04-17', '108', '13.1', '6.8', '18.1']\n",
            "['2023-04-18', '108', '14', '10.7', '18.4']\n",
            "['2023-04-19', '108', '19.1', '11.5', '28.4']\n",
            "['2023-04-20', '108', '15.8', '14.5', '18.9']\n",
            "['2023-04-21', '108', '16.7', '11.4', '22.8']\n",
            "['2023-04-22', '108', '16.9', '12.2', '22.5']\n",
            "['2023-04-23', '108', '16.1', '10.7', '22.1']\n",
            "['2023-04-24', '108', '15.8', '11.5', '21.3']\n",
            "['2023-04-25', '108', '10.9', '9', '13.2']\n",
            "['2023-04-26', '108', '10.2', '7.4', '13.5']\n",
            "['2023-04-27', '108', '12.9', '5.1', '20']\n",
            "['2023-04-28', '108', '15.7', '9', '21.3']\n",
            "['2023-04-29', '108', '13.2', '9.9', '15.8']\n",
            "['2023-04-30', '108', '12.7', '7.9', '17.9']\n",
            "['2023-05-01', '108', '14.6', '9.8', '20.8']\n",
            "['2023-05-02', '108', '16.7', '9.1', '23.7']\n",
            "['2023-05-03', '108', '19.5', '12.4', '26.2']\n",
            "['2023-05-04', '108', '21.4', '15.6', '25.8']\n",
            "['2023-05-05', '108', '18.4', '15.5', '21.6']\n",
            "['2023-05-06', '108', '12.6', '11.7', '15.5']\n",
            "['2023-05-07', '108', '14.4', '11.1', '18.6']\n"
          ]
        }
      ]
    },
    {
      "cell_type": "code",
      "source": [
        "######## 추가 데이터\n",
        "\n",
        "# 예제파일 1개 더 Import\n",
        "\n",
        "test_dataset = open(\"/content/sample_data/example_4_each.csv\")\n",
        "\n",
        "# 년도 리스트\n",
        "years = []\n",
        "# 인구수 리스트\n",
        "populations = []\n",
        "\n",
        "for line in test_dataset: \n",
        "  (year, population) = line.split(',')\n",
        "  if year != \"구분\":   \n",
        "    years.append(int(year))\n",
        "    populations.append(int(population))\n",
        "\n",
        "test_dataset.close() "
      ],
      "metadata": {
        "id": "MZzP_qssHW9o"
      },
      "execution_count": 125,
      "outputs": []
    },
    {
      "cell_type": "code",
      "source": [
        "print(years)\n",
        "print(populations)"
      ],
      "metadata": {
        "colab": {
          "base_uri": "https://localhost:8080/"
        },
        "id": "K9M5WpvmHYdF",
        "outputId": "5fb08efe-7e93-4329-ec7d-1e8d0751a334"
      },
      "execution_count": 126,
      "outputs": [
        {
          "output_type": "stream",
          "name": "stdout",
          "text": [
            "[1949, 1955, 1960, 1966, 1970, 1975, 1980, 1985, 1990, 1995, 2000, 2005, 2010, 2015, 2020]\n",
            "[1437670, 1568746, 2445402, 3793280, 5525262, 6879262, 8335616, 9625755, 10603250, 10217177, 9853972, 9762546, 9631482, 9643432, 9540443]\n"
          ]
        }
      ]
    },
    {
      "cell_type": "code",
      "source": [
        "# 1. 해더의 정보를 빼고 출력\n",
        "\n",
        "# next() 첫번째 데이터 행을 읽어오면서 데이터의 탐색위치를 다음행으로 이동시키는 명령어\n",
        "import csv\n",
        "f = open('CSV_example2_data.csv')\n",
        "data = csv.reader(f)\n",
        "\n",
        "header = next(data)"
      ],
      "metadata": {
        "id": "gl_ld5dXHg-0"
      },
      "execution_count": 136,
      "outputs": []
    },
    {
      "cell_type": "code",
      "source": [
        "for row in data:\n",
        "  print(row)\n"
      ],
      "metadata": {
        "colab": {
          "base_uri": "https://localhost:8080/"
        },
        "id": "EuVTKNfJJiba",
        "outputId": "ede2ffc5-e2d4-4275-80e9-a68db1561f9d"
      },
      "execution_count": 137,
      "outputs": [
        {
          "output_type": "stream",
          "name": "stdout",
          "text": [
            "['2023-04-08', '108', '8.8', '3.1', '14.9']\n",
            "['2023-04-09', '108', '10.8', '3.5', '17.8']\n",
            "['2023-04-10', '108', '13.2', '6.2', '19.1']\n",
            "['2023-04-11', '108', '13.1', '9.2', '17.4']\n",
            "['2023-04-12', '108', '10.1', '4.8', '15.3']\n",
            "['2023-04-13', '108', '11.9', '5.1', '17.2']\n",
            "['2023-04-14', '108', '16.2', '11.9', '21.3']\n",
            "['2023-04-15', '108', '13.5', '9.3', '16.6']\n",
            "['2023-04-16', '108', '10.8', '7.5', '16.1']\n",
            "['2023-04-17', '108', '13.1', '6.8', '18.1']\n",
            "['2023-04-18', '108', '14', '10.7', '18.4']\n",
            "['2023-04-19', '108', '19.1', '11.5', '28.4']\n",
            "['2023-04-20', '108', '15.8', '14.5', '18.9']\n",
            "['2023-04-21', '108', '16.7', '11.4', '22.8']\n",
            "['2023-04-22', '108', '16.9', '12.2', '22.5']\n",
            "['2023-04-23', '108', '16.1', '10.7', '22.1']\n",
            "['2023-04-24', '108', '15.8', '11.5', '21.3']\n",
            "['2023-04-25', '108', '10.9', '9', '13.2']\n",
            "['2023-04-26', '108', '10.2', '7.4', '13.5']\n",
            "['2023-04-27', '108', '12.9', '5.1', '20']\n",
            "['2023-04-28', '108', '15.7', '9', '21.3']\n",
            "['2023-04-29', '108', '13.2', '9.9', '15.8']\n",
            "['2023-04-30', '108', '12.7', '7.9', '17.9']\n",
            "['2023-05-01', '108', '14.6', '9.8', '20.8']\n",
            "['2023-05-02', '108', '16.7', '9.1', '23.7']\n",
            "['2023-05-03', '108', '19.5', '12.4', '26.2']\n",
            "['2023-05-04', '108', '21.4', '15.6', '25.8']\n",
            "['2023-05-05', '108', '18.4', '15.5', '21.6']\n",
            "['2023-05-06', '108', '12.6', '11.7', '15.5']\n",
            "['2023-05-07', '108', '14.4', '11.1', '18.6']\n"
          ]
        }
      ]
    },
    {
      "cell_type": "code",
      "source": [
        "# 가장 더웠던 날을 출력해보자!!\n",
        "import csv\n",
        "f = open('CSV_example2_data.csv')\n",
        "data = csv.reader(f)\n",
        "max_temp = 0\n",
        "header = next(data)\n",
        "for row in data:\n",
        "  row[4] = float(row[4])\n",
        "  \n",
        "  if max_temp < row[4]: #만약 지금까지 최고 기온값보다 현재 값의 최고기온 값이 더 크다면\n",
        "    max_temp = row[4]\n",
        "    max_data = row[0]\n",
        "f.close()"
      ],
      "metadata": {
        "id": "TvkGiBbUJlMP"
      },
      "execution_count": 140,
      "outputs": []
    },
    {
      "cell_type": "code",
      "source": [
        "print(max_temp, max_data)"
      ],
      "metadata": {
        "colab": {
          "base_uri": "https://localhost:8080/"
        },
        "id": "2efsQUtMJpGn",
        "outputId": "05d73b3f-6bc8-4581-8b9f-4b12916b5ac8"
      },
      "execution_count": 141,
      "outputs": [
        {
          "output_type": "stream",
          "name": "stdout",
          "text": [
            "28.4 2023-04-19\n"
          ]
        }
      ]
    },
    {
      "cell_type": "code",
      "source": [
        "# 가장 더웠던 날을 출력해보자!!\n",
        "import csv\n",
        "f = open('CSV_example2_data.csv')\n",
        "data = csv.reader(f)\n",
        "min_temp = 99\n",
        "header = next(data)\n",
        "for row in data:\n",
        "  row[4] = float(row[4])\n",
        "  \n",
        "  if min_temp > row[4]: #만약 지금까지 최고 기온값보다 현재 값의 최고기온 값이 더 크다면\n",
        "    min_temp = row[4]\n",
        "    min_data = row[0]\n",
        "f.close()"
      ],
      "metadata": {
        "id": "i9OpGn3oJ5aR"
      },
      "execution_count": 151,
      "outputs": []
    },
    {
      "cell_type": "code",
      "source": [
        "print(min_temp, min_data)"
      ],
      "metadata": {
        "colab": {
          "base_uri": "https://localhost:8080/"
        },
        "id": "Liw1LCkZKNVQ",
        "outputId": "b96711b5-22b3-4d64-c21e-b255537a9002"
      },
      "execution_count": 153,
      "outputs": [
        {
          "output_type": "stream",
          "name": "stdout",
          "text": [
            "13.2 2023-04-25\n"
          ]
        }
      ]
    },
    {
      "cell_type": "code",
      "source": [
        "import matplotlib.pyplot as plt\n",
        "plt.plot([10,20,30,40])\n",
        "plt.show()"
      ],
      "metadata": {
        "colab": {
          "base_uri": "https://localhost:8080/",
          "height": 430
        },
        "id": "2NCscf5RKREk",
        "outputId": "eede68ad-5fb9-4bcd-b481-f6603a9d301f"
      },
      "execution_count": 154,
      "outputs": [
        {
          "output_type": "display_data",
          "data": {
            "text/plain": [
              "<Figure size 640x480 with 1 Axes>"
            ],
            "image/png": "[encoded data removed]"
          },
          "metadata": {}
        }
      ]
    },
    {
      "cell_type": "code",
      "source": [
        "# 첫번째 리스트가 x축 두번째 리스트가 y축\n",
        "\n",
        "import matplotlib.pyplot as plt\n",
        "plt.plot([1,2,3,4], [12,43,25,15])#첫번째 리스트가 x축, 두번째 리스트가 y축\n",
        "plt.show()"
      ],
      "metadata": {
        "colab": {
          "base_uri": "https://localhost:8080/",
          "height": 430
        },
        "id": "BWsYseswLPM-",
        "outputId": "8dc2c19f-b928-4f6f-8f13-d5c813985b7e"
      },
      "execution_count": 161,
      "outputs": [
        {
          "output_type": "display_data",
          "data": {
            "text/plain": [
              "<Figure size 640x480 with 1 Axes>"
            ],
            "image/png": "[encoded data removed]"
          },
          "metadata": {}
        }
      ]
    },
    {
      "cell_type": "code",
      "source": [
        "# 그래프 이름 넣기\n",
        "\n",
        "plt.title('plotting')#그래프의 타이틀\n",
        "plt.plot([10,20,30,40])\n",
        "plt.show()"
      ],
      "metadata": {
        "colab": {
          "base_uri": "https://localhost:8080/",
          "height": 452
        },
        "id": "PnJAvUD2LbXR",
        "outputId": "8537aaf5-451d-4ef7-91b1-8ae4332efaaf"
      },
      "execution_count": 163,
      "outputs": [
        {
          "output_type": "display_data",
          "data": {
            "text/plain": [
              "<Figure size 640x480 with 1 Axes>"
            ],
            "image/png": "[encoded data removed]"
          },
          "metadata": {}
        }
      ]
    },
    {
      "cell_type": "code",
      "source": [
        "# 범례 지정\n",
        "\n",
        "plt.title('legend')#타이틀은 legend 로 지정\n",
        "plt.plot([10,20,30,40], label = 'asc') #상승라인은 asc로 지정\n",
        "plt.plot([40,30,20,10], label = 'desc') #하강라인은 desc로 지정\n",
        "plt.legend()#범례표시 호출\n",
        "plt.show()"
      ],
      "metadata": {
        "colab": {
          "base_uri": "https://localhost:8080/",
          "height": 452
        },
        "id": "Si8aFCvnLivF",
        "outputId": "7ea709bd-ab1c-47a1-dced-01cb9bd6f6eb"
      },
      "execution_count": 164,
      "outputs": [
        {
          "output_type": "display_data",
          "data": {
            "text/plain": [
              "<Figure size 640x480 with 1 Axes>"
            ],
            "image/png": "[encoded data removed]"
          },
          "metadata": {}
        }
      ]
    },
    {
      "cell_type": "code",
      "source": [
        "# 그래프 컬러 지정 \n",
        "plt.title('color')\n",
        "plt.plot([10,20,30,40], color = 'purple', label = 'purple')\n",
        "plt.plot([40,30,20,10], 'green', label = 'green')\n",
        "plt.legend()#범례표시 호출\n",
        "plt.show()"
      ],
      "metadata": {
        "colab": {
          "base_uri": "https://localhost:8080/",
          "height": 452
        },
        "id": "l9UIXALLLq-C",
        "outputId": "4970a69d-d64e-4f56-a4c0-742124ba4997"
      },
      "execution_count": 167,
      "outputs": [
        {
          "output_type": "display_data",
          "data": {
            "text/plain": [
              "<Figure size 640x480 with 1 Axes>"
            ],
            "image/png": "[encoded data removed]"
          },
          "metadata": {}
        }
      ]
    },
    {
      "cell_type": "code",
      "source": [
        "# 라인 스타일 변경\n",
        "\n",
        "plt.title('linestyle')\n",
        "plt.plot([10,20,30,40], color = 'r', linestyle = '--', label = 'dashed')\n",
        "plt.plot([40,30,20,10], 'g', ls = ':', label = 'dotted')\n",
        "plt.legend()#범례표시 호출\n",
        "plt.show()"
      ],
      "metadata": {
        "colab": {
          "base_uri": "https://localhost:8080/",
          "height": 452
        },
        "id": "FkyTe2KmMC4Z",
        "outputId": "298e98fd-fe61-4b39-fa46-b71356489cab"
      },
      "execution_count": 168,
      "outputs": [
        {
          "output_type": "display_data",
          "data": {
            "text/plain": [
              "<Figure size 640x480 with 1 Axes>"
            ],
            "image/png": "[encoded data removed]"
          },
          "metadata": {}
        }
      ]
    },
    {
      "cell_type": "code",
      "source": [
        "# 그래프 마커 모양 표시\n",
        "plt.title('marker')\n",
        "plt.plot([10,20,30,40], 'r.--', label = 'circle')#색상, 마커모양, 선모양(r.--)\n",
        "plt.plot([40,30,20,10], 'g^', label = 'triangle up')\n",
        "plt.legend()#범례표시 호출\n",
        "plt.show()"
      ],
      "metadata": {
        "colab": {
          "base_uri": "https://localhost:8080/",
          "height": 452
        },
        "id": "U4WWwfbBMOFe",
        "outputId": "5c373417-08c9-4bb6-e6dd-e8e879b33493"
      },
      "execution_count": 169,
      "outputs": [
        {
          "output_type": "display_data",
          "data": {
            "text/plain": [
              "<Figure size 640x480 with 1 Axes>"
            ],
            "image/png": "[encoded data removed]"
          },
          "metadata": {}
        }
      ]
    },
    {
      "cell_type": "code",
      "source": [
        "print(years)"
      ],
      "metadata": {
        "colab": {
          "base_uri": "https://localhost:8080/"
        },
        "id": "E3MXwsAvMOBO",
        "outputId": "49eae66f-da1d-4d60-cdfe-de4ff63bba2d"
      },
      "execution_count": 172,
      "outputs": [
        {
          "output_type": "stream",
          "name": "stdout",
          "text": [
            "[1949, 1955, 1960, 1966, 1970, 1975, 1980, 1985, 1990, 1995, 2000, 2005, 2010, 2015, 2020]\n"
          ]
        }
      ]
    },
    {
      "cell_type": "code",
      "source": [
        "print(populations)"
      ],
      "metadata": {
        "colab": {
          "base_uri": "https://localhost:8080/"
        },
        "id": "jtQsQHUJMTZj",
        "outputId": "8d0055c6-39f3-4ca9-eaed-b286314b114a"
      },
      "execution_count": 173,
      "outputs": [
        {
          "output_type": "stream",
          "name": "stdout",
          "text": [
            "[1437670, 1568746, 2445402, 3793280, 5525262, 6879262, 8335616, 9625755, 10603250, 10217177, 9853972, 9762546, 9631482, 9643432, 9540443]\n"
          ]
        }
      ]
    },
    {
      "cell_type": "code",
      "source": [
        "plt.title('population')\n",
        "plt.plot(years, populations,'r.--', label = 'circle')#색상, 마커모양, 선모양(r.--)\n",
        "\n",
        "plt.legend()#범례표시 호출\n",
        "plt.show()"
      ],
      "metadata": {
        "colab": {
          "base_uri": "https://localhost:8080/",
          "height": 452
        },
        "id": "JbiDo_DtMVkL",
        "outputId": "fe555c85-51f9-4df9-c5c4-ad7d7822f81f"
      },
      "execution_count": 175,
      "outputs": [
        {
          "output_type": "display_data",
          "data": {
            "text/plain": [
              "<Figure size 640x480 with 1 Axes>"
            ],
            "image/png": "[encoded data removed]"
          },
          "metadata": {}
        }
      ]
    },
    {
      "cell_type": "code",
      "source": [
        "# 그래프를 그릴 도화지 준비하기\n",
        "fig = plt.figure()\n",
        "ax = fig.add_subplot(1, 1, 1)\n",
        "\n",
        "# x축에 년도, y축에 인구수가 있는 선 그래프 만들기\n",
        "plt.plot(years, populations, color='fuchsia', marker='o', linestyle='solid')\n",
        "\n",
        "# 제목 더하기\n",
        "plt.title(\"Seoul Population Change\")\n",
        "\n",
        "# y축에 레이블 추가하기\n",
        "plt.ylabel(\"10Million\")\n",
        "plt.show()"
      ],
      "metadata": {
        "colab": {
          "base_uri": "https://localhost:8080/",
          "height": 452
        },
        "id": "EFLaf8iDM0Ox",
        "outputId": "72583c1d-9263-4616-bdb0-0dd86197debf"
      },
      "execution_count": 180,
      "outputs": [
        {
          "output_type": "display_data",
          "data": {
            "text/plain": [
              "<Figure size 640x480 with 1 Axes>"
            ],
            "image/png": "[encoded data removed]"
          },
          "metadata": {}
        }
      ]
    },
    {
      "cell_type": "code",
      "source": [
        "# 최고기온 데이터\n",
        "\n",
        "import csv\n",
        "f = open('CSV_example2_data.csv')\n",
        "data = csv.reader(f)\n",
        "next(data)\n",
        "\n",
        "result = []\n",
        "\n",
        "for row in data:\n",
        "    result.append(float(row[4]))\n",
        "f.close()"
      ],
      "metadata": {
        "id": "Xnl0h23RM6Vi"
      },
      "execution_count": 181,
      "outputs": []
    },
    {
      "cell_type": "code",
      "source": [
        "result"
      ],
      "metadata": {
        "colab": {
          "base_uri": "https://localhost:8080/"
        },
        "id": "wFwPkaN3Nz_d",
        "outputId": "8781275e-4c08-40ba-92e5-828fac218819"
      },
      "execution_count": 182,
      "outputs": [
        {
          "output_type": "execute_result",
          "data": {
            "text/plain": [
              "[14.9,\n",
              " 17.8,\n",
              " 19.1,\n",
              " 17.4,\n",
              " 15.3,\n",
              " 17.2,\n",
              " 21.3,\n",
              " 16.6,\n",
              " 16.1,\n",
              " 18.1,\n",
              " 18.4,\n",
              " 28.4,\n",
              " 18.9,\n",
              " 22.8,\n",
              " 22.5,\n",
              " 22.1,\n",
              " 21.3,\n",
              " 13.2,\n",
              " 13.5,\n",
              " 20.0,\n",
              " 21.3,\n",
              " 15.8,\n",
              " 17.9,\n",
              " 20.8,\n",
              " 23.7,\n",
              " 26.2,\n",
              " 25.8,\n",
              " 21.6,\n",
              " 15.5,\n",
              " 18.6]"
            ]
          },
          "metadata": {},
          "execution_count": 182
        }
      ]
    },
    {
      "cell_type": "code",
      "source": [
        "plt.figure(figsize = (10,2)) #가로길이 10 세로길이2\n",
        "\n",
        "plt.plot(result, 'crimson')\n",
        "plt.show()"
      ],
      "metadata": {
        "colab": {
          "base_uri": "https://localhost:8080/",
          "height": 214
        },
        "id": "B_7AkeDqN0oQ",
        "outputId": "0ff5f822-7f61-455c-ec1b-c9acb05c283d"
      },
      "execution_count": 183,
      "outputs": [
        {
          "output_type": "display_data",
          "data": {
            "text/plain": [
              "<Figure size 1000x200 with 1 Axes>"
            ],
            "image/png": "[encoded data removed]"
          },
          "metadata": {}
        }
      ]
    },
    {
      "cell_type": "code",
      "source": [
        "# 4월 5월 데이터를 비교하는 그래프\n",
        "\n",
        "import csv\n",
        "f = open('CSV_example2_data.csv')\n",
        "data = csv.reader(f)\n",
        "next(data)\n",
        "\n",
        "result_04 = []\n",
        "result_05 = []\n",
        "\n",
        "for row in data:\n",
        "    # 2023-04-19 -> \n",
        "    month = row[0].split(\"-\")[1]\n",
        "    if month == '04':\n",
        "        result_04.append(float(row[4]))\n",
        "    if month == '05':\n",
        "        result_05.append(float(row[4]))\n",
        "f.close()"
      ],
      "metadata": {
        "id": "dk5-4iDUOSSG"
      },
      "execution_count": 188,
      "outputs": []
    },
    {
      "cell_type": "code",
      "source": [
        "plt.figure(figsize = (10,5)) #가로길이 10 세로길이2\n",
        "\n",
        "plt.plot(result_04, 'cyan', label = \"April\")\n",
        "plt.plot(result_05, 'greenyellow', label = 'March')\n",
        "plt.show()"
      ],
      "metadata": {
        "colab": {
          "base_uri": "https://localhost:8080/",
          "height": 445
        },
        "id": "OORUzSs0Ph2i",
        "outputId": "262357b0-4955-4464-c583-2ec2f2a9a747"
      },
      "execution_count": 198,
      "outputs": [
        {
          "output_type": "display_data",
          "data": {
            "text/plain": [
              "<Figure size 1000x500 with 1 Axes>"
            ],
            "image/png": "[encoded data removed]"
          },
          "metadata": {}
        }
      ]
    },
    {
      "cell_type": "code",
      "source": [],
      "metadata": {
        "id": "kF2Kj1zEPrO0"
      },
      "execution_count": null,
      "outputs": []
    }
  ]
}