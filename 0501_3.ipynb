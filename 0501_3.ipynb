{
  "nbformat": 4,
  "nbformat_minor": 0,
  "metadata": {
    "colab": {
      "provenance": []
    },
    "kernelspec": {
      "name": "python3",
      "display_name": "Python 3"
    },
    "language_info": {
      "name": "python"
    }
  },
  "cells": [
    {
      "cell_type": "markdown",
      "source": [
        "#1.1 조건문을 만들때 주의사항\n",
        "\n",
        "* 어떤 조건을 설정할것인가?\n",
        "* 어떤 예외가 발생할것인가?(테스트, 검증)\n",
        "* (조건문이 작성된 뒤에는) 최소 5~10번정도는 테스트 해봐라\n"
      ],
      "metadata": {
        "id": "f_KM7h7t_USK"
      }
    },
    {
      "cell_type": "markdown",
      "source": [
        "#1.2 조건문 복습\n",
        "\n",
        "조건문은 다음과 같이 복습하려고 합니다.\n",
        "\n",
        "1. 단일 조건문\n",
        "2. If - else 조건문\n",
        "3. If - elif - else 조건문\n",
        "4. 다중 중첩 조건문\n",
        "5. input과 함께 사용하는 조건문\n",
        "\n",
        "[기억해야할것]\n",
        "\n",
        "1. if 뒤에는 참과 거짓을 판단하는 조건이 와야함\n",
        "2. 조건문이 끝나면 반드시 콜론으로 끝나야함\n",
        "3. if 다음 문장은 들여쓰기를 사용해야함\n",
        "4. if 조건에 부합하지 않으면 elif나 else를 사용한다. 보통 조건에 모두 부합하지 않을때 else를 사용한다.\n",
        "\n",
        "[연산자]\n",
        "\n",
        "* x < x가 작다\n",
        "* x > x가 크다\n",
        "* x == y 같다\n",
        "* x != y 다르다\n",
        "* x >= y 크거나 같다\n",
        "* x <= y 작거나 같다\n",
        "\n",
        "[논리연산자]\n",
        "2개이상의 조건을 사용하고 싶을때 사용\n",
        "\n",
        "* and\n",
        "* or\n",
        "* not"
      ],
      "metadata": {
        "id": "qmvXkRBh_V16"
      }
    },
    {
      "cell_type": "code",
      "source": [
        "# if문 예제\n",
        "\n",
        "x = 2\n",
        "if x > 1 and x < 10:\n",
        "    print('True')"
      ],
      "metadata": {
        "colab": {
          "base_uri": "https://localhost:8080/"
        },
        "id": "CANWmjLh_XU6",
        "outputId": "7adc84b8-8968-42b8-d1c7-bf80ac7cfee6"
      },
      "execution_count": null,
      "outputs": [
        {
          "output_type": "stream",
          "name": "stdout",
          "text": [
            "True\n"
          ]
        }
      ]
    },
    {
      "cell_type": "code",
      "source": [
        "if True:\n",
        "  print('True')"
      ],
      "metadata": {
        "colab": {
          "base_uri": "https://localhost:8080/"
        },
        "id": "CBohDU3L_fR3",
        "outputId": "0633a26a-e5ac-432a-cdde-7bf61ee7709b"
      },
      "execution_count": null,
      "outputs": [
        {
          "output_type": "stream",
          "name": "stdout",
          "text": [
            "True\n"
          ]
        }
      ]
    },
    {
      "cell_type": "code",
      "source": [
        "if True:\n",
        "    print('hello') \n",
        "print('one')\n",
        "\n",
        "if False:\n",
        "    print('world')\n",
        "print('two')"
      ],
      "metadata": {
        "colab": {
          "base_uri": "https://localhost:8080/"
        },
        "id": "CO3UiaUNAedp",
        "outputId": "b05b4db5-dba4-43a0-c45e-2712b5a4e35e"
      },
      "execution_count": null,
      "outputs": [
        {
          "output_type": "stream",
          "name": "stdout",
          "text": [
            "hello\n",
            "one\n",
            "two\n"
          ]
        }
      ]
    },
    {
      "cell_type": "code",
      "source": [
        "x = 10\n",
        "\n",
        "if x > 5:\n",
        "  print('hello')\n",
        "print('end')\n",
        "\n",
        "if x != 5:\n",
        "  print('hello')"
      ],
      "metadata": {
        "colab": {
          "base_uri": "https://localhost:8080/"
        },
        "id": "0DIYDigwAf9g",
        "outputId": "8e3b92ce-629d-46fd-a5bc-425649e8312c"
      },
      "execution_count": null,
      "outputs": [
        {
          "output_type": "stream",
          "name": "stdout",
          "text": [
            "hello\n",
            "end\n",
            "hello\n"
          ]
        }
      ]
    },
    {
      "cell_type": "code",
      "source": [
        "if 1: # 1 = True\n",
        "  print('hello')\n",
        "print('end')"
      ],
      "metadata": {
        "colab": {
          "base_uri": "https://localhost:8080/"
        },
        "id": "iOuyKpTfDPop",
        "outputId": "ae74a56a-a951-42dd-be9a-3fb019e867a9"
      },
      "execution_count": null,
      "outputs": [
        {
          "output_type": "stream",
          "name": "stdout",
          "text": [
            "hello\n",
            "end\n"
          ]
        }
      ]
    },
    {
      "cell_type": "code",
      "source": [
        "if 0:\n",
        "  print('hello')\n",
        "print('end')"
      ],
      "metadata": {
        "colab": {
          "base_uri": "https://localhost:8080/"
        },
        "id": "9ZDaL3zXDQ78",
        "outputId": "cfc66d3b-9688-4023-9406-70865dbff712"
      },
      "execution_count": null,
      "outputs": [
        {
          "output_type": "stream",
          "name": "stdout",
          "text": [
            "end\n"
          ]
        }
      ]
    },
    {
      "cell_type": "code",
      "source": [
        "if -1:\n",
        "  print('hello')\n",
        "print('end')"
      ],
      "metadata": {
        "colab": {
          "base_uri": "https://localhost:8080/"
        },
        "id": "gnMN9Og-DSLO",
        "outputId": "2a4dd8f5-ffc0-4104-847a-e9f66b1ca880"
      },
      "execution_count": null,
      "outputs": [
        {
          "output_type": "stream",
          "name": "stdout",
          "text": [
            "hello\n",
            "end\n"
          ]
        }
      ]
    },
    {
      "cell_type": "code",
      "source": [
        "#공백이 있는 문자열\n",
        "if  ' ':\n",
        "  print('hello')\n",
        "print('end')"
      ],
      "metadata": {
        "colab": {
          "base_uri": "https://localhost:8080/"
        },
        "id": "AvnuT5bpDTVg",
        "outputId": "085afa27-fc93-4674-ae2f-c5a282643f82"
      },
      "execution_count": null,
      "outputs": [
        {
          "output_type": "stream",
          "name": "stdout",
          "text": [
            "hello\n",
            "end\n"
          ]
        }
      ]
    },
    {
      "cell_type": "code",
      "source": [
        "#공백이 없는 문자열\n",
        "if  '':\n",
        "  print('hello')\n",
        "print('end')"
      ],
      "metadata": {
        "colab": {
          "base_uri": "https://localhost:8080/"
        },
        "id": "3bvcfmpYDUdm",
        "outputId": "53373745-15b1-47f8-d73e-2f0b4a87c731"
      },
      "execution_count": null,
      "outputs": [
        {
          "output_type": "stream",
          "name": "stdout",
          "text": [
            "end\n"
          ]
        }
      ]
    },
    {
      "cell_type": "code",
      "source": [
        "if not '':\n",
        "    print('hello')\n",
        "print('end')"
      ],
      "metadata": {
        "colab": {
          "base_uri": "https://localhost:8080/"
        },
        "id": "cZo1ANSTDWHC",
        "outputId": "e6a0547b-c8e2-493c-fc1d-aaafefc34aeb"
      },
      "execution_count": null,
      "outputs": [
        {
          "output_type": "stream",
          "name": "stdout",
          "text": [
            "hello\n",
            "end\n"
          ]
        }
      ]
    },
    {
      "cell_type": "code",
      "source": [
        "if not None: #None은 False와 같은의미라고 생각하시면 됩니다.\n",
        "    print('hello')\n",
        "print('end')"
      ],
      "metadata": {
        "colab": {
          "base_uri": "https://localhost:8080/"
        },
        "id": "wHS5Lb5jDXJy",
        "outputId": "2080d42f-eba9-4c0b-c42a-9e986075642b"
      },
      "execution_count": null,
      "outputs": [
        {
          "output_type": "stream",
          "name": "stdout",
          "text": [
            "hello\n",
            "end\n"
          ]
        }
      ]
    },
    {
      "cell_type": "code",
      "source": [
        "if None: \n",
        "    print('hello')\n",
        "print('end')"
      ],
      "metadata": {
        "colab": {
          "base_uri": "https://localhost:8080/"
        },
        "id": "ir9wrChZDZAt",
        "outputId": "200371b4-2b08-44f9-8dc5-414a74f6cd01"
      },
      "execution_count": null,
      "outputs": [
        {
          "output_type": "stream",
          "name": "stdout",
          "text": [
            "end\n"
          ]
        }
      ]
    },
    {
      "cell_type": "code",
      "source": [
        "# if, else 문\n",
        "\n",
        "x = int(input('비교할 수를 입력하세요 : '))\n",
        "y = int(input('비교할 수를 입력하세요 : '))\n",
        "\n",
        "if x > y:\n",
        "  print(\"x가 y보다 큽니다\")\n",
        "else:\n",
        "  print(\"xRk \")"
      ],
      "metadata": {
        "colab": {
          "base_uri": "https://localhost:8080/"
        },
        "id": "-NZAMxEiDZ46",
        "outputId": "67da4a70-4909-4b05-b832-269be431e3c4"
      },
      "execution_count": null,
      "outputs": [
        {
          "output_type": "stream",
          "name": "stdout",
          "text": [
            "비교할 수를 입력하세요 : 20\n",
            "비교할 수를 입력하세요 : 10\n",
            "x가 y보다 큽니다\n"
          ]
        }
      ]
    },
    {
      "cell_type": "code",
      "source": [
        "# if, elif, else \n",
        "if 조건문:\n",
        "  수행문장1\n",
        "else 조건문:\n",
        "  수행문장2\n",
        "else:\n",
        "  수행문장3\n"
      ],
      "metadata": {
        "id": "UTXSAaWnDawE"
      },
      "execution_count": null,
      "outputs": []
    },
    {
      "cell_type": "code",
      "source": [
        "if x > y: # False\n",
        "  print(\"x가 y보다 큽니다\")\n",
        "elif x < y: #True\n",
        "  print(\"x가 y보다 작습니다.\")\n",
        "else: # 실행 x\n",
        "  print(\"같습니다\") "
      ],
      "metadata": {
        "colab": {
          "base_uri": "https://localhost:8080/"
        },
        "id": "feer_QV2EIYx",
        "outputId": "9824ceee-9e7e-45d7-ddb4-0f243d77c324"
      },
      "execution_count": null,
      "outputs": [
        {
          "output_type": "stream",
          "name": "stdout",
          "text": [
            "x가 y보다 큽니다\n"
          ]
        }
      ]
    },
    {
      "cell_type": "code",
      "source": [
        "score = 81\n",
        "money = 0\n",
        "\n",
        "if score >= 90:\n",
        "    print('mom : i\\'m so happy!')\n",
        "    money += 1000000\n",
        "elif score >= 80:\n",
        "    print('mom : i\\'m happy!')\n",
        "    money += 100000\n",
        "elif score >= 70 and score < 80:\n",
        "    print('mom : i\\'m so...!')\n",
        "    money += 10000\n",
        "elif score >= 60 and score < 70:\n",
        "    print('mom : i\\'m so...!')\n",
        "    money += 1000\n",
        "else:\n",
        "    print('mom : i\\'m...!')\n",
        "print(money)"
      ],
      "metadata": {
        "colab": {
          "base_uri": "https://localhost:8080/"
        },
        "id": "fdADz_n-EKCL",
        "outputId": "6f812748-1209-49c4-a286-41b29e3e38e2"
      },
      "execution_count": null,
      "outputs": [
        {
          "output_type": "stream",
          "name": "stdout",
          "text": [
            "mom : i'm happy!\n",
            "100000\n"
          ]
        }
      ]
    },
    {
      "cell_type": "code",
      "source": [
        "# 중첩 조건문\n",
        "\n",
        "#if를 중첩해서 사용하기\n",
        "score = 98\n",
        "\n",
        "if score >= 90:\n",
        "    print('mom : i\\'m so happy!')\n",
        "    money += 1000000\n",
        "    if score > 95:\n",
        "        print('hello world')\n",
        "        if score > 97:\n",
        "            print('hello!!!')\n",
        "elif score >= 80:\n",
        "    print('mom : i\\'m happy!')\n",
        "    money += 100000"
      ],
      "metadata": {
        "id": "u1oseOsREjbw",
        "outputId": "9e201a26-a6ee-4f6b-dae9-83e8e2b6e11a",
        "colab": {
          "base_uri": "https://localhost:8080/"
        }
      },
      "execution_count": null,
      "outputs": [
        {
          "output_type": "stream",
          "name": "stdout",
          "text": [
            "mom : i'm so happy!\n",
            "hello world\n",
            "hello!!!\n"
          ]
        }
      ]
    },
    {
      "cell_type": "markdown",
      "source": [
        "#1.1.1 단일 조건문\n",
        "\n",
        "* 조건이 하나일때 사용하는 조건문"
      ],
      "metadata": {
        "id": "ll7CDCG72bcs"
      }
    },
    {
      "cell_type": "code",
      "source": [
        "# 1.1.1 단일 조건문 예시\n",
        "# if 조건:\n",
        "#   실행할 명령\n",
        "\n",
        "# 예제1. 숫자열 입력할 경우\n",
        "\n",
        "total = 5\n",
        "\n",
        "if total > 0:\n",
        "  print(f'{total} 인이 입장하였습니다.')"
      ],
      "metadata": {
        "id": "dY3jZXK5ElLk",
        "colab": {
          "base_uri": "https://localhost:8080/"
        },
        "outputId": "0f6753bd-26a5-4688-e9d2-f3106d5c601c"
      },
      "execution_count": 1,
      "outputs": [
        {
          "output_type": "stream",
          "name": "stdout",
          "text": [
            "5 인이 입장하였습니다.\n"
          ]
        }
      ]
    },
    {
      "cell_type": "code",
      "source": [
        "# 예제2. 숫자열 입력시 오류\n",
        "\n",
        "total = input('몇명이 들어왔나요?')\n",
        "\n",
        "if total > 0:\n",
        "  print(f'{total} 인이 입장하였습니다.')"
      ],
      "metadata": {
        "id": "ZjcrWFMr2c4L"
      },
      "execution_count": null,
      "outputs": []
    },
    {
      "cell_type": "code",
      "source": [
        "# 예제3. 문자열 입력할때\n",
        "\n",
        "whether = input(\"오늘 날씨는 어떤가요?\")\n",
        "\n",
        "if whether != \"\":\n",
        "  print(f\"오늘 날씨는 {whether}입니다.\")"
      ],
      "metadata": {
        "colab": {
          "base_uri": "https://localhost:8080/"
        },
        "id": "Cs56ipN62euc",
        "outputId": "7b7347ec-ee1a-4323-d90d-3e2d239fa6f9"
      },
      "execution_count": 2,
      "outputs": [
        {
          "output_type": "stream",
          "name": "stdout",
          "text": [
            "오늘 날씨는 어떤가요?맑음\n",
            "오늘 날씨는 맑음입니다.\n"
          ]
        }
      ]
    },
    {
      "cell_type": "code",
      "source": [
        "# 예제4. 2개 이상 조건일때? and\n",
        "\n",
        "# if 조건1 and 조건2\n",
        "\n",
        "# 1. 오늘 날씨가 어떤가요? \"\"이 아닐때\n",
        "# 2. 오늘 기온이 어떤가요? 0도 이상일때 따뜻합니다.\n",
        "\n",
        "whether1 = input(\"오늘 날씨는 어떤가요?\")\n",
        "whether2 = int(input(\"오늘 기온은 어떤가요?\"))\n",
        "\n",
        "if whether1 != \"\" and whether2 > 0:\n",
        "  print(f\"오늘 날씨는 {whether1}입니다. 오늘 기온은 {whether2}입니다.\")"
      ],
      "metadata": {
        "colab": {
          "base_uri": "https://localhost:8080/"
        },
        "id": "KqTHn0dN2gQS",
        "outputId": "134fe2fa-17fe-4047-d94f-adb46ccad4e8"
      },
      "execution_count": 4,
      "outputs": [
        {
          "output_type": "stream",
          "name": "stdout",
          "text": [
            "오늘 날씨는 어떤가요?맑음\n",
            "오늘 기온은 어떤가요?15\n",
            "오늘 날씨는 맑음입니다. 오늘 기온은 15입니다.\n"
          ]
        }
      ]
    },
    {
      "cell_type": "code",
      "source": [
        "# 예제5. if문을 쓸때 헷갈리는 것\n",
        "\n",
        "job = input(\"직업이 있나요?\")\n",
        "\n",
        "if job == \"예\":\n",
        "  print(\"직업이 있습니다.\")"
      ],
      "metadata": {
        "colab": {
          "base_uri": "https://localhost:8080/"
        },
        "id": "TijCsOC-2308",
        "outputId": "28bb132e-1450-49fd-c7bb-16f7546b685c"
      },
      "execution_count": 5,
      "outputs": [
        {
          "output_type": "stream",
          "name": "stdout",
          "text": [
            "직업이 있나요?예\n",
            "직업이 있습니다.\n"
          ]
        }
      ]
    },
    {
      "cell_type": "code",
      "source": [
        "# 연습문제 1\n",
        "# 몇번이 답일까요?\n",
        "\n",
        "1) if (x == 10)\n",
        "    print('10입니다.')\n",
        "2) if x == 10\n",
        "    print('10입니다.')\n",
        "3) if x == 10:\n",
        "    print('10입니다.')\n",
        "4) if x == 10:\n",
        "print('10입니다')\n",
        "5) if x = 10:\n",
        "    print('10입니다')"
      ],
      "metadata": {
        "id": "RWD_KvRV41mw"
      },
      "execution_count": null,
      "outputs": []
    },
    {
      "cell_type": "markdown",
      "source": [
        "### 1.1.2 다중 조건문 - if else문\n",
        "\n",
        "조건이 2개인 경우에는 보통 if else사용하지만 if elif사용하기도 합니다.\n",
        "\n",
        "[주의]\n",
        "* else사용할때는 누락되는 조건이 없는지 확인해봐야한다."
      ],
      "metadata": {
        "id": "iB08rMu_4s49"
      }
    },
    {
      "cell_type": "code",
      "source": [
        "# if 조건1:\n",
        "#   실행 문장 1\n",
        "# else:\n",
        "#   실행 문장 2\n",
        "\n",
        "total = int(input(\"몇명이 들어왔나요?\"))\n",
        "\n",
        "if total > 0:\n",
        "  print(f'{total} 명이 들어왔습니다.')\n",
        "else:\n",
        "  print(\"잘못된 정보를 입력하였습니다.\")"
      ],
      "metadata": {
        "colab": {
          "base_uri": "https://localhost:8080/"
        },
        "id": "scnRid0U4qga",
        "outputId": "3eabdca5-b28f-4624-e791-84bd660acb75"
      },
      "execution_count": 10,
      "outputs": [
        {
          "output_type": "stream",
          "name": "stdout",
          "text": [
            "몇명이 들어왔나요?0\n",
            "잘못된 정보를 입력하였습니다.\n"
          ]
        }
      ]
    },
    {
      "cell_type": "code",
      "source": [
        "#예제2. 문자열 입력시\n",
        "\n",
        "whether = input(\"오늘 날씨는 어떤가요?\")\n",
        "\n",
        "if whether != \"\":\n",
        "  print(f'오늘 날씨는 {whether} 입니다')\n",
        "else:\n",
        "  print(\"날씨가 입력되지 않았습니다.\")"
      ],
      "metadata": {
        "colab": {
          "base_uri": "https://localhost:8080/"
        },
        "id": "viz82M2a4wwt",
        "outputId": "aefe3bdb-200f-4e13-a3db-e7c335f6b869"
      },
      "execution_count": 11,
      "outputs": [
        {
          "output_type": "stream",
          "name": "stdout",
          "text": [
            "오늘 날씨는 어떤가요?\n",
            "날씨가 입력되지 않았습니다.\n"
          ]
        }
      ]
    },
    {
      "cell_type": "code",
      "source": [
        "whether = input(\"오늘 날씨는 어떤가요?\")\n",
        "\n",
        "if whether != \"\":\n",
        "  print(f'오늘 날씨는 {whether} 입니다')"
      ],
      "metadata": {
        "colab": {
          "base_uri": "https://localhost:8080/"
        },
        "id": "cHSBuOtK6OZG",
        "outputId": "10b12091-55b4-47a0-cd41-602b41f85293"
      },
      "execution_count": 12,
      "outputs": [
        {
          "name": "stdout",
          "output_type": "stream",
          "text": [
            "오늘 날씨는 어떤가요?\n"
          ]
        }
      ]
    },
    {
      "cell_type": "markdown",
      "source": [
        "### 1.1.3 다중 조건문 - if elif else문\n",
        "\n",
        "조건이 3개 이상인 경우 사용이 되고, else대신에 elif 마무리는 else하는 것을 추천"
      ],
      "metadata": {
        "id": "fg_jqABj6Tnp"
      }
    },
    {
      "cell_type": "code",
      "source": [
        "# 조건 1 100 이상 조건 2는 50~100사이 \n",
        "\n",
        "# if 조건1:\n",
        "#   실행 문장 1\n",
        "#   문장\n",
        "# elif 조건2:\n",
        "#   실행 문장 2\n",
        "#   문장\n",
        "# else:\n",
        "#   실행 문장 3\n",
        "\n",
        "total = int(input(\"몇명이 들어왔나요?\"))\n",
        "\n",
        "if total > 5:\n",
        "  print(f'{total} 명이 들어왔습니다. 만')\n",
        "else:\n",
        "  print(\"잘못된 정보를 입력하였습니다.\")"
      ],
      "metadata": {
        "colab": {
          "base_uri": "https://localhost:8080/"
        },
        "id": "UGy_3Vce6QdS",
        "outputId": "0371b8d7-67d3-4254-ed43-522598b16f73"
      },
      "execution_count": 14,
      "outputs": [
        {
          "output_type": "stream",
          "name": "stdout",
          "text": [
            "몇명이 들어왔나요?6\n",
            "6 명이 들어왔습니다. 만\n"
          ]
        }
      ]
    },
    {
      "cell_type": "code",
      "source": [
        "#예제2. 문자열 입력시\n",
        "\n",
        "whether = input(\"오늘 날씨는 어떤가요?\")\n",
        "\n",
        "if whether == \"맑음\":\n",
        "  print(f'오늘 날씨는 {whether} 입니다 옷을 얇게 입고 가세요')\n",
        "elif whether == \"미세먼지\":\n",
        "  print(f'오늘 날씨는 {whether} 입니다 마스크를 착용하세요')\n",
        "else:\n",
        "  print(\"날씨가 입력되지 않았습니다.\")"
      ],
      "metadata": {
        "colab": {
          "base_uri": "https://localhost:8080/"
        },
        "id": "Dxpl9Duo6Ux5",
        "outputId": "3aefaa7f-ff6a-4bc0-e968-5c76236d26db"
      },
      "execution_count": 15,
      "outputs": [
        {
          "output_type": "stream",
          "name": "stdout",
          "text": [
            "오늘 날씨는 어떤가요?미세먼지\n",
            "오늘 날씨는 미세먼지 입니다 마스크를 착용하세요\n"
          ]
        }
      ]
    },
    {
      "cell_type": "code",
      "source": [
        "#예제3. 코드를 짜다가 생각이 나지 않아서.. \n",
        "\n",
        "# 코드\n",
        "\n",
        "# 역할 무언가있다 \n",
        "number = 0\n",
        "\n",
        "if number > 0:\n",
        "  pass\n",
        "else:\n",
        "  pass\n",
        "\n",
        "# 코드"
      ],
      "metadata": {
        "id": "_ISsHJps7EeI"
      },
      "execution_count": 16,
      "outputs": []
    },
    {
      "cell_type": "code",
      "source": [
        "number = 0\n",
        "\n",
        "if number > 0:\n",
        "  raise NotImplementedError\n",
        "else:\n",
        "  raise NotImplementedError"
      ],
      "metadata": {
        "id": "3elvBr-oAmkk"
      },
      "execution_count": null,
      "outputs": []
    },
    {
      "cell_type": "markdown",
      "source": [
        "### 1.1.4 삼항 연산자\n",
        "\n",
        "[사용방법]\n",
        "* 참일때의 값 / if / 조건식 / else / 거짓일때 값\n",
        "* 변수로 바로 할당할 수 있음 "
      ],
      "metadata": {
        "id": "RgE4bzLXAoU5"
      }
    },
    {
      "cell_type": "code",
      "source": [
        "# 삼항 연산자 예시\n",
        "\n",
        "age = 21\n",
        "\n",
        "# 참일때의 값 / if / 조건식 / else / 거짓일때 값\n",
        "is_adult = \"성인입니다.\" if age > 20 else \"미성년자입니다.\"\n",
        "\n",
        "print(is_adult)"
      ],
      "metadata": {
        "colab": {
          "base_uri": "https://localhost:8080/"
        },
        "id": "5Z6l5B3NAnz5",
        "outputId": "80645cf3-9bc6-4990-f547-103c29c39742"
      },
      "execution_count": 17,
      "outputs": [
        {
          "output_type": "stream",
          "name": "stdout",
          "text": [
            "성인입니다.\n"
          ]
        }
      ]
    },
    {
      "cell_type": "markdown",
      "source": [
        "#1.1.5 중첩 조건문\n",
        "\n",
        "* if안에 또 다른 if를 넣어서 다양한 Case를 만족 시키는 방법"
      ],
      "metadata": {
        "id": "Y6GiAkCaB_GV"
      }
    },
    {
      "cell_type": "code",
      "source": [
        "# 중첩 조건문 예시\n",
        "\n",
        "apple = input(\"사과의 상태를 입력하세요(좋음, 나쁨)\")\n",
        "\n",
        "if apple == \"좋음\":\n",
        "  appleprice = int(input(\"사과 한개당 가격 입력\"))\n",
        "  if appleprice < 1000:\n",
        "    print(\"10개를 산다\")\n",
        "    print(f\"사과 가격은 {appleprice * 10}원 입니다\")\n",
        "  else :\n",
        "    print(\"5개를 산다\")\n",
        "    print(f\"사과 가격은 {appleprice * 5}원 입니다\")\n",
        "else :\n",
        "  print(\"사과를 안산다\")"
      ],
      "metadata": {
        "colab": {
          "base_uri": "https://localhost:8080/"
        },
        "id": "WEyoyZEcB5f_",
        "outputId": "43529ef6-d98d-4c9c-efde-2eef00fdea6c"
      },
      "execution_count": 20,
      "outputs": [
        {
          "output_type": "stream",
          "name": "stdout",
          "text": [
            "사과의 상태를 입력하세요(좋음, 나쁨)나쁨\n",
            "사과를 안산다\n"
          ]
        }
      ]
    },
    {
      "cell_type": "code",
      "source": [
        "# (True False)\n",
        "# True = 1 False 0\n",
        "\n",
        "if 0:\n",
        "  print(\"0은 True로 변환합니다.\")\n",
        "else:\n",
        "  print(\"0은 False로 변환합니다.\")"
      ],
      "metadata": {
        "colab": {
          "base_uri": "https://localhost:8080/"
        },
        "id": "b44c-denCave",
        "outputId": "a20e9986-5b34-4c16-934f-54c305e3300b"
      },
      "execution_count": 21,
      "outputs": [
        {
          "output_type": "stream",
          "name": "stdout",
          "text": [
            "0은 False로 변환합니다.\n"
          ]
        }
      ]
    },
    {
      "cell_type": "code",
      "source": [
        "if \"\":\n",
        "  print(\"0은 True로 변환합니다.\")\n",
        "else:\n",
        "  print(\"0은 False로 변환합니다.\")"
      ],
      "metadata": {
        "colab": {
          "base_uri": "https://localhost:8080/"
        },
        "id": "kGarPNrJDLwH",
        "outputId": "52f49839-40f9-427d-9a15-8935391869d6"
      },
      "execution_count": 22,
      "outputs": [
        {
          "output_type": "stream",
          "name": "stdout",
          "text": [
            "0은 False로 변환합니다.\n"
          ]
        }
      ]
    },
    {
      "cell_type": "code",
      "source": [
        "# 조건문 문제 1. 맞는 것을 선택해주세요\n",
        "\n",
        "# 1. 하나의 조건문에서 if는 한번만 사용할 수 있다.\n",
        "# 2. 하나의 조건문에서 elif는 여러번 사용할 수 있다.\n",
        "# 3. else문은 모든 조건을 만족하지 않을때 사용된다.\n",
        "# 4. else문은 생략할 수 없다."
      ],
      "metadata": {
        "id": "VrACMCeqDMug"
      },
      "execution_count": 23,
      "outputs": []
    },
    {
      "cell_type": "code",
      "source": [
        "# 조건문 문제 2. 어떤게 답일지 적어주세요.\n",
        "if 4 == '4':\n",
        "  print(True)\n",
        "else:\n",
        "  print(False)\n",
        "\n",
        "# A. True\n",
        "# B. False\n",
        "# C. SyntaxError\n",
        "# D. ValueError\n",
        "# E. None"
      ],
      "metadata": {
        "id": "bRizt6v2IBcC"
      },
      "execution_count": null,
      "outputs": []
    },
    {
      "cell_type": "code",
      "source": [
        "if 4 == '4':\n",
        "  print(True)\n",
        "else:\n",
        "  print(False)"
      ],
      "metadata": {
        "id": "j0nFV7eWICdL"
      },
      "execution_count": null,
      "outputs": []
    },
    {
      "cell_type": "code",
      "source": [
        "# 문제3. 테킷 숙소에는 객실당 4인에 10만원을 내야하고,\n",
        "# 1인이 추가 될때마다 추가비용이 발생되는데 실행결과로 올바른것은?\n",
        "\n",
        "total = 2 # 총인원\n",
        "if total <= 4:\n",
        "  print(\"숙소비용 10만원\")\n",
        "else:\n",
        "  print(\"추가 비용 발생\")\n",
        "print(\"이용해 주셔서 감사합니다.\")\n",
        "\n",
        "# 1. 숙소비용 10만원\n",
        "#    추가비용 발생\n",
        "#    이용해 주셔서 감사합니다.\n",
        "\n",
        "# 2. 추가 비용 발생\n",
        "#    이용해주셔서 감사합니다. \n",
        "\n",
        "# 3. 추가 비용 발생\n",
        "#     \n",
        "\n",
        "# 4. 숙소비용 10만원\n",
        "#    이용해주셔서 감사합니다.   "
      ],
      "metadata": {
        "colab": {
          "base_uri": "https://localhost:8080/"
        },
        "id": "RF9raCX-IDS0",
        "outputId": "971c48ac-295c-4e58-e4ba-ab2afa3c6c02"
      },
      "execution_count": 24,
      "outputs": [
        {
          "output_type": "stream",
          "name": "stdout",
          "text": [
            "숙소비용 10만원\n",
            "이용해 주셔서 감사합니다.\n"
          ]
        }
      ]
    },
    {
      "cell_type": "code",
      "source": [
        "#문제 4. 다음 코드의 실행결과로 맞는 것은?\n",
        "# 입력된 나이에 따라 학교를 구분하는 조건문\n",
        "# 나이로 7을 입력했을때의 결과는?\n",
        "\n",
        "year = input('나이를 입력하세요')\n",
        "\n",
        "if 1 <= year <= 7:\n",
        "  print(\"미취학 아동입니다.\")\n",
        "elif 8 <= year <= 13:\n",
        "  print(\"초등학생입니다.\")\n",
        "elif 14 <= year <= 16:\n",
        "  print(\"중학생입니다.\")\n",
        "elif 17 <= year <= 19:\n",
        "  print(\"고등학생입니다.\")\n",
        "elif 20 <= year <= 26:\n",
        "  print(\"대학생입니다.\")\n",
        "else:\n",
        "  print(\"정수를 입력해주세요\")\n",
        "\n",
        "# 1. 정수를 입력해주세요\n",
        "# 2. 대학생입니다.\n",
        "# 3. 중학생입니다.\n",
        "# 4. 미취학 아동입니다.\n",
        "# 5. error 발생"
      ],
      "metadata": {
        "colab": {
          "base_uri": "https://localhost:8080/",
          "height": 266
        },
        "id": "Vm9SQKAHIEdQ",
        "outputId": "b9fe390d-88df-4e94-9971-f247e15e5b41"
      },
      "execution_count": 25,
      "outputs": [
        {
          "name": "stdout",
          "output_type": "stream",
          "text": [
            "나이를 입력하세요5\n"
          ]
        },
        {
          "output_type": "error",
          "ename": "TypeError",
          "evalue": "ignored",
          "traceback": [
            "\u001b[0;31m---------------------------------------------------------------------------\u001b[0m",
            "\u001b[0;31mTypeError\u001b[0m                                 Traceback (most recent call last)",
            "\u001b[0;32m<ipython-input-25-44274f9953a5>\u001b[0m in \u001b[0;36m<cell line: 7>\u001b[0;34m()\u001b[0m\n\u001b[1;32m      5\u001b[0m \u001b[0myear\u001b[0m \u001b[0;34m=\u001b[0m \u001b[0minput\u001b[0m\u001b[0;34m(\u001b[0m\u001b[0;34m'나이를 입력하세요'\u001b[0m\u001b[0;34m)\u001b[0m\u001b[0;34m\u001b[0m\u001b[0;34m\u001b[0m\u001b[0m\n\u001b[1;32m      6\u001b[0m \u001b[0;34m\u001b[0m\u001b[0m\n\u001b[0;32m----> 7\u001b[0;31m \u001b[0;32mif\u001b[0m \u001b[0;36m1\u001b[0m \u001b[0;34m<=\u001b[0m \u001b[0myear\u001b[0m \u001b[0;34m<=\u001b[0m \u001b[0;36m7\u001b[0m\u001b[0;34m:\u001b[0m\u001b[0;34m\u001b[0m\u001b[0;34m\u001b[0m\u001b[0m\n\u001b[0m\u001b[1;32m      8\u001b[0m   \u001b[0mprint\u001b[0m\u001b[0;34m(\u001b[0m\u001b[0;34m\"미취학 아동입니다.\"\u001b[0m\u001b[0;34m)\u001b[0m\u001b[0;34m\u001b[0m\u001b[0;34m\u001b[0m\u001b[0m\n\u001b[1;32m      9\u001b[0m \u001b[0;32melif\u001b[0m \u001b[0;36m8\u001b[0m \u001b[0;34m<=\u001b[0m \u001b[0myear\u001b[0m \u001b[0;34m<=\u001b[0m \u001b[0;36m13\u001b[0m\u001b[0;34m:\u001b[0m\u001b[0;34m\u001b[0m\u001b[0;34m\u001b[0m\u001b[0m\n",
            "\u001b[0;31mTypeError\u001b[0m: '<=' not supported between instances of 'int' and 'str'"
          ]
        }
      ]
    },
    {
      "cell_type": "code",
      "source": [
        "# 문제 5번. 문자열로 ABC\n",
        "\n",
        "year = int(input('나이를 입력하세요'))\n",
        "\n",
        "if 1 <= year <= 7:\n",
        "  print(\"미취학 아동입니다.\")\n",
        "elif 8 <= year <= 13:\n",
        "  print(\"초등학생입니다.\")\n",
        "elif 14 <= year <= 16:\n",
        "  print(\"중학생입니다.\")\n",
        "elif 17 <= year <= 19:\n",
        "  print(\"고등학생입니다.\")\n",
        "elif 20 <= year <= 26:\n",
        "  print(\"대학생입니다.\")\n",
        "else:\n",
        "  print(\"정수를 입력해주세요\")\n",
        "\n",
        "# 1. 정수를 입력해주세요\n",
        "# 2. 대학생입니다.\n",
        "# 3. 중학생입니다.\n",
        "# 4. 미취학 아동입니다.\n",
        "# 5. error 발생"
      ],
      "metadata": {
        "colab": {
          "base_uri": "https://localhost:8080/"
        },
        "id": "ESYOkP_DIFZa",
        "outputId": "aae56256-c722-4a83-d16b-2289d80bc38b"
      },
      "execution_count": 26,
      "outputs": [
        {
          "output_type": "stream",
          "name": "stdout",
          "text": [
            "나이를 입력하세요15\n",
            "중학생입니다.\n"
          ]
        }
      ]
    },
    {
      "cell_type": "code",
      "source": [
        "year = int(input('나이를 입력하세요'))\n",
        "\n",
        "if 1 <= year <= 7:\n",
        "  print(\"미취학 아동입니다.\")\n",
        "elif 8 <= year <= 13:\n",
        "  print(\"초등학생입니다.\")\n",
        "elif 14 <= year <= 16:\n",
        "  print(\"중학생입니다.\")\n",
        "elif 17 <= year <= 19:\n",
        "  print(\"고등학생입니다.\")\n",
        "elif 20 <= year <= 26:\n",
        "  print(\"대학생입니다.\")\n",
        "else:\n",
        "  print(\"정수를 입력해주세요\")"
      ],
      "metadata": {
        "id": "-J3gRR0jIHUj"
      },
      "execution_count": null,
      "outputs": []
    },
    {
      "cell_type": "code",
      "source": [
        "year = int(input('나이를 입력하세요'))\n",
        "\n",
        "if 1 <= year <= 7:\n",
        "  print(\"미취학 아동입니다.\")\n",
        "elif 8 <= year <= 13:\n",
        "  print(\"초등학생입니다.\")\n",
        "elif 14 <= year <= 16:\n",
        "  print(\"중학생입니다.\")\n",
        "elif 17 <= year <= 19:\n",
        "  print(\"고등학생입니다.\")\n",
        "elif 20 <= year <= 26:\n",
        "  print(\"대학생입니다.\")\n",
        "else:\n",
        "  print(\"정수를 입력해주세요\")\n"
      ],
      "metadata": {
        "id": "ej89VmTOIJxv"
      },
      "execution_count": null,
      "outputs": []
    },
    {
      "cell_type": "code",
      "source": [
        "# 문제 6번. 입력값과 결과값이 동일하게 나오려면 어떤 값을 입력해야 할까요?\n",
        "\n",
        "x = int(input())\n",
        "if 15 < x < 20:\n",
        "  print(x + 3)\n",
        "elif 21 < x < 30:\n",
        "  print(x - 5)\n",
        "else:\n",
        "  print(f'{x}입니다.')\n",
        "\n",
        "# 1. 26\n",
        "# 2. 17\n",
        "# 3. 10\n",
        "# 4. 20\n",
        "# 5. 30"
      ],
      "metadata": {
        "colab": {
          "base_uri": "https://localhost:8080/"
        },
        "id": "bkplHFi7IKIj",
        "outputId": "0f261d9f-16b6-4975-e9d1-8f55edfbcca0"
      },
      "execution_count": 27,
      "outputs": [
        {
          "output_type": "stream",
          "name": "stdout",
          "text": [
            "30\n",
            "30입니다.\n"
          ]
        }
      ]
    },
    {
      "cell_type": "code",
      "source": [
        "# 문제 7번. 다음과 같이 코드를 작성했을때, 실행결과로 알맞은 것은?\n",
        "\n",
        "my_list = ['i','like','to','study','python']\n",
        "new_list = []\n",
        "\n",
        "i = len(my_list)\n",
        "if i == 5:\n",
        "  new_list.append(my_list[::2])\n",
        "print(new_list)\n",
        "\n",
        "# 1. [['i','to','python']]\n",
        "# 2. [['like','study']]\n",
        "# 3. ['i','to','python']\n",
        "# 4. ['like','study']\n",
        "# 5. ['i','like']\n",
        "# 6. [['i', 'like']]\n",
        "# 7. None"
      ],
      "metadata": {
        "colab": {
          "base_uri": "https://localhost:8080/"
        },
        "id": "VNDwjsy2ILUZ",
        "outputId": "ff6a7570-5d83-4144-b40d-8c848d195df5"
      },
      "execution_count": 28,
      "outputs": [
        {
          "output_type": "stream",
          "name": "stdout",
          "text": [
            "[['i', 'to', 'python']]\n"
          ]
        }
      ]
    },
    {
      "cell_type": "code",
      "source": [
        "# 문제 8번. 다음과 같이 코드를 작성했을때, 실행결과로 알맞은 것은?\n",
        "\n",
        "my_list = ['i','like','to','study','python']\n",
        "new_list = []\n",
        "\n",
        "i = len(my_list)\n",
        "if i == 5:\n",
        "  new_list.append(my_list[0:2])\n",
        "print(new_list)\n",
        "\n",
        "# 1. [['i','to','python']]\n",
        "# 2. [['like','study']]\n",
        "# 3. ['i','to','python']\n",
        "# 4. ['like','study']\n",
        "# 5. ['i','like']\n",
        "# 6. [['i', 'like']]\n",
        "# 7. None"
      ],
      "metadata": {
        "colab": {
          "base_uri": "https://localhost:8080/"
        },
        "id": "NNiXWt6lINpR",
        "outputId": "fa430c44-0ea3-40b3-8630-9505fa3a6fdf"
      },
      "execution_count": 29,
      "outputs": [
        {
          "output_type": "stream",
          "name": "stdout",
          "text": [
            "[['i', 'like']]\n"
          ]
        }
      ]
    },
    {
      "cell_type": "code",
      "source": [
        "# 문제 9번. 다음과 같이 코드를 작성했을때, 실행결과로 알맞은 것은?\n",
        "\n",
        "my_list = ['i','like','to','study','python']\n",
        "new_list = []\n",
        "\n",
        "i = len(my_list)\n",
        "if i == 5:\n",
        "  new_list.extend(my_list[::2])\n",
        "print(new_list)\n",
        "\n",
        "# 1. [['i','to','python']]\n",
        "# 2. [['like','study']]\n",
        "# 3. ['i','to','python']\n",
        "# 4. ['like','study']\n",
        "# 5. ['i','like']\n",
        "# 6. [['i', 'like']]\n",
        "# 7. None"
      ],
      "metadata": {
        "colab": {
          "base_uri": "https://localhost:8080/"
        },
        "id": "NZNvzax4Invf",
        "outputId": "4ef36ac8-18a6-4379-9324-a0aaa7816f47"
      },
      "execution_count": 31,
      "outputs": [
        {
          "output_type": "stream",
          "name": "stdout",
          "text": [
            "['i', 'to', 'python']\n"
          ]
        }
      ]
    },
    {
      "cell_type": "markdown",
      "source": [
        "# 실습 문제 풀어보기"
      ],
      "metadata": {
        "id": "rtD7ce9KNT-B"
      }
    },
    {
      "cell_type": "markdown",
      "source": [
        "문제 1. 대학교 학점은 다음과 같이 되어있음\n",
        "\n",
        "* A - 90점 이상 \n",
        "* B - 80점 이상\n",
        "* C - 60점 이상\n",
        "* D - 40졈 이상\n",
        "* F - 40점 이하 \n",
        "* 결석이 3번인 경우 무조건 F\n",
        "\n",
        "중첩 조건문 또는 연산자를 활용하여 if문을 작성해보세요"
      ],
      "metadata": {
        "id": "E0akl2qqNVLh"
      }
    },
    {
      "cell_type": "code",
      "source": [
        "# 1) 학점을 조건으로 어떻게 나눌까?\n",
        "# 2) else에는 어떤것을 할당할까?\n",
        "# 3) 값을 어떻게 받을까? \n",
        "\n",
        "결석 = int(input(\"결석\"))\n",
        "점수 = int(input(\"점수\"))\n",
        "\n",
        "\n",
        "\n",
        "if 결석 >= 3 :\n",
        "   학점 = 'F'\n",
        "elif 점수 >= 90 :\n",
        "    학점 = 'A'\n",
        "elif 점수 >= 80 :\n",
        "    학점 = 'B'\n",
        "elif 점수 >= 60 :\n",
        "    학점 = 'C'\n",
        "elif 점수 >= 40 :\n",
        "    학점 = 'D'\n",
        "else :\n",
        "    학점 = 'F'\n",
        "\n",
        "print(학점)"
      ],
      "metadata": {
        "colab": {
          "base_uri": "https://localhost:8080/"
        },
        "id": "ftWGyt9lJE5p",
        "outputId": "44c5e094-0437-4d16-81bb-ce99ac70eaba"
      },
      "execution_count": 37,
      "outputs": [
        {
          "output_type": "stream",
          "name": "stdout",
          "text": [
            "결석2\n",
            "점수90\n",
            "A\n"
          ]
        }
      ]
    },
    {
      "cell_type": "code",
      "source": [
        "숫자 = int(input('숫자'))\n",
        "\n",
        "def 홀짝(x):\n",
        "    if 숫자 % 2 == 1 :\n",
        "       print('홀수')\n",
        "    else:\n",
        "       print('짝수') \n",
        "\n",
        "홀짝(숫자)\n",
        "\n"
      ],
      "metadata": {
        "colab": {
          "base_uri": "https://localhost:8080/"
        },
        "id": "NpjqzGDtOUdf",
        "outputId": "c382f01e-4db8-4f8a-80ac-07d7f2532800"
      },
      "execution_count": 40,
      "outputs": [
        {
          "output_type": "stream",
          "name": "stdout",
          "text": [
            "숫자50\n",
            "짝수\n"
          ]
        }
      ]
    },
    {
      "cell_type": "code",
      "source": [
        "def 거스름돈(money,coffe):\n",
        "    if coffe > money :\n",
        "      print('금액이 부족합니다')\n",
        "    else:\n",
        "      print(f'거스름돈 {money - coffe}원 입니다')\n",
        "\n",
        "money = int(input('투입할 금액을 입력하세요   '))\n",
        "\n",
        "coffe_choice = int(input('1번 커피(600원) / 2번 커피(1000원) / 3번 커피(1500원)   '))\n",
        "\n",
        "if coffe_choice == 1:\n",
        "   거스름돈(money,600)\n",
        "elif coffe_choice == 2:\n",
        "   거스름돈(money,1000)\n",
        "elif coffe_choice == 3:\n",
        "   거스름돈(money,1500)\n",
        "else:\n",
        "  print('존재하지 않는 커피입니다.')\n"
      ],
      "metadata": {
        "colab": {
          "base_uri": "https://localhost:8080/"
        },
        "id": "h0C1CyniOuGh",
        "outputId": "bb449fb1-f023-4575-f643-5f09884930d0"
      },
      "execution_count": 48,
      "outputs": [
        {
          "output_type": "stream",
          "name": "stdout",
          "text": [
            "투입할 금액을 입력하세요   4000\n",
            "1번 커피(600원) / 2번 커피(1000원) / 3번 커피(1500원)   2\n",
            "거스름돈 3000원 입니다\n"
          ]
        }
      ]
    },
    {
      "cell_type": "markdown",
      "source": [
        "문제 4. 태어난 연도를 입력받아 생애주기 받기\n",
        "2023년 6월 28일 부터 만나이로 변경이 되면서 나이에 혼선이 생기고 있는 가운데\n",
        "정부 연령기준에 맞춰 자신이 어떤 나이대 인지 찾아보자\n",
        "\n",
        "https://www.gosims.go.kr/hh/hh001/retrieveLfcySearch.do\n",
        "\n",
        "* 정부기준으로 영유아는 0~5 / 아동은 6~12 / 청소년 13~18 / 청년 19~29 / 중년 30~49 / 장년 50~64 / 노년 65세 이상 / 연령대 무관으로 나눈다.\n",
        "* 태어난 연도를 입력 받는다.\n",
        "* 만나이 적용 날짜를 산출한다.\n",
        "* if문을 통해 어떤 종류의 생애주기 인지를 출력한다.\n",
        "* 만나이를 계산하고, 만나이 기준 생애주기를 출력하세요"
      ],
      "metadata": {
        "id": "ee468MuZoPvt"
      }
    },
    {
      "cell_type": "code",
      "source": [
        "import datetime\n",
        "from datetime import timedelta, timezone\n",
        "\n"
      ],
      "metadata": {
        "id": "ME6V68XxTjc1"
      },
      "execution_count": 49,
      "outputs": []
    },
    {
      "cell_type": "code",
      "source": [
        "datetime.datetime.now().year"
      ],
      "metadata": {
        "colab": {
          "base_uri": "https://localhost:8080/"
        },
        "id": "OpwcLEI6oZOE",
        "outputId": "9b1868e9-ee14-41f9-d3a3-fe8b77b23f28"
      },
      "execution_count": 57,
      "outputs": [
        {
          "output_type": "execute_result",
          "data": {
            "text/plain": [
              "2023"
            ]
          },
          "metadata": {},
          "execution_count": 57
        }
      ]
    },
    {
      "cell_type": "code",
      "source": [
        "birth_year = int(input('태어난 년도를 입력하세요 :  '))\n",
        "\n",
        "now_year = datetime.datetime.now().year \n",
        "\n",
        "age = now_year - birth_year\n",
        "\n",
        "if 0 <= age <= 5:\n",
        "    life_cycle = '영유아'\n",
        "    print(f'정부 기준으로 당신의 현재 생애주기는 {life_cycle}입니다.')\n",
        "elif 6 <= age <= 12:\n",
        "    life_cycle = '아동'\n",
        "    print(f'정부 기준으로 당신의 현재 생애주기는 {life_cycle}입니다.') \n",
        "elif 13 <= age <= 18:\n",
        "    life_cycle = '청소년'\n",
        "    print(f'정부 기준으로 당신의 현재 생애주기는 {life_cycle}입니다.') \n",
        "elif 19 <= age <= 29:\n",
        "    life_cycle = '청년'\n",
        "    print(f'정부 기준으로 당신의 현재 생애주기는 {life_cycle}입니다.') \n",
        "elif 30 <= age <= 49:\n",
        "    life_cycle = '중년'\n",
        "    print(f'정부 기준으로 당신의 현재 생애주기는 {life_cycle}입니다.') \n",
        "elif 50 <= age <= 64:\n",
        "    life_cycle = '장년'\n",
        "    print(f'정부 기준으로 당신의 현재 생애주기는 {life_cycle}입니다.') \n",
        "elif 32 <= age:\n",
        "    life_cycle = '노년'\n",
        "    print(f'정부 기준으로 당신의 현재 생애주기는 {life_cycle}입니다.') \n",
        "else:\n",
        "    life_cycle = '연령대 무관'\n",
        "    print(f'{life_cycle}로 나와 당신의 현재 생애주기를 알 수 없습니다.') "
      ],
      "metadata": {
        "colab": {
          "base_uri": "https://localhost:8080/"
        },
        "id": "y45ZO2fXoRgH",
        "outputId": "f3c4b148-0330-4d47-8a90-15eeeaac7054"
      },
      "execution_count": 60,
      "outputs": [
        {
          "output_type": "stream",
          "name": "stdout",
          "text": [
            "태어난 년도를 입력하세요 :  1995\n",
            "정부 기준으로 당신의 현재 생애주기는 청년입니다.\n"
          ]
        }
      ]
    },
    {
      "cell_type": "code",
      "source": [],
      "metadata": {
        "id": "6sAAoEmCo9Yq"
      },
      "execution_count": null,
      "outputs": []
    }
  ]
}