{
  "nbformat": 4,
  "nbformat_minor": 0,
  "metadata": {
    "colab": {
      "provenance": []
    },
    "kernelspec": {
      "name": "python3",
      "display_name": "Python 3"
    },
    "language_info": {
      "name": "python"
    }
  },
  "cells": [
    {
      "cell_type": "markdown",
      "source": [
        "# 난수 생성 함수"
      ],
      "metadata": {
        "id": "DKVuUXuOBvo1"
      }
    },
    {
      "cell_type": "code",
      "execution_count": 1,
      "metadata": {
        "id": "5ilADJzM7vUy"
      },
      "outputs": [],
      "source": [
        "import numpy as np"
      ]
    },
    {
      "cell_type": "code",
      "source": [
        "a = np.random.rand(2, 2) # 0 ~ 1 사이의 값 랜덤\n",
        "print(a)"
      ],
      "metadata": {
        "colab": {
          "base_uri": "https://localhost:8080/"
        },
        "id": "cA5tzlWJCDO_",
        "outputId": "f2c16959-345a-4c86-a90f-17eebf3d3edc"
      },
      "execution_count": 2,
      "outputs": [
        {
          "output_type": "stream",
          "name": "stdout",
          "text": [
            "[[0.29683843 0.92386619]\n",
            " [0.92822779 0.98519301]]\n"
          ]
        }
      ]
    },
    {
      "cell_type": "code",
      "source": [
        "b = np.random.randn(2, 2) # 평균이 0, 분산이 1 : 표준 정규 분포\n",
        "print(b)"
      ],
      "metadata": {
        "colab": {
          "base_uri": "https://localhost:8080/"
        },
        "id": "nD63pJayCdw3",
        "outputId": "4ff453d0-edf6-4341-c57d-81dbc675f537"
      },
      "execution_count": 6,
      "outputs": [
        {
          "output_type": "stream",
          "name": "stdout",
          "text": [
            "[[-0.97427205 -0.91975207]\n",
            " [ 0.43358752  0.96414324]]\n"
          ]
        }
      ]
    },
    {
      "cell_type": "code",
      "source": [
        "c = np.random.randint(0, 10, size = 5)\n",
        "print(c)"
      ],
      "metadata": {
        "colab": {
          "base_uri": "https://localhost:8080/"
        },
        "id": "QLMSTAfBDD7q",
        "outputId": "2c4dfd6b-4583-484e-9ea8-68133a79406e"
      },
      "execution_count": 8,
      "outputs": [
        {
          "output_type": "stream",
          "name": "stdout",
          "text": [
            "[2 7 3 2 6]\n"
          ]
        }
      ]
    },
    {
      "cell_type": "code",
      "source": [
        "c2 = np.random.randint(0, 10, size = (5, 5)) # 랜덤한 정수값 생성\n",
        "print(c2)"
      ],
      "metadata": {
        "colab": {
          "base_uri": "https://localhost:8080/"
        },
        "id": "DkefLfjYDb15",
        "outputId": "0555c91f-a399-4db3-be47-d0eca4e0159e"
      },
      "execution_count": 33,
      "outputs": [
        {
          "output_type": "stream",
          "name": "stdout",
          "text": [
            "[[1 4 8 1 7]\n",
            " [6 5 5 3 9]\n",
            " [1 8 6 4 0]\n",
            " [4 8 0 2 5]\n",
            " [0 9 7 2 1]]\n"
          ]
        }
      ]
    },
    {
      "cell_type": "code",
      "source": [
        "d = np.arange(10)\n",
        "np.random.shuffle(d) # 복사본 생성 X 원본 값이 변함\n",
        "\n",
        "print(d)"
      ],
      "metadata": {
        "colab": {
          "base_uri": "https://localhost:8080/"
        },
        "id": "uafG2Fb4FbMM",
        "outputId": "eca55778-b582-4bb7-9971-3f256974de28"
      },
      "execution_count": 39,
      "outputs": [
        {
          "output_type": "stream",
          "name": "stdout",
          "text": [
            "[9 6 5 2 7 0 4 3 1 8]\n"
          ]
        }
      ]
    },
    {
      "cell_type": "code",
      "source": [
        "d = np.arange(10)\n",
        "\n",
        "print(d)"
      ],
      "metadata": {
        "colab": {
          "base_uri": "https://localhost:8080/"
        },
        "id": "zshDNxleINN6",
        "outputId": "f1332811-4064-4dfb-8752-dd4a0fd372bf"
      },
      "execution_count": 38,
      "outputs": [
        {
          "output_type": "stream",
          "name": "stdout",
          "text": [
            "[0 1 2 3 4 5 6 7 8 9]\n"
          ]
        }
      ]
    },
    {
      "cell_type": "code",
      "source": [
        "# 중복을 허용\n",
        "choice = np.random.choice(d, 5)\n",
        "\n",
        "print(choice)"
      ],
      "metadata": {
        "colab": {
          "base_uri": "https://localhost:8080/"
        },
        "id": "7m9cVvdPIhiI",
        "outputId": "8a3c6dbe-46ef-4976-9581-ed437587ef4f"
      },
      "execution_count": 41,
      "outputs": [
        {
          "output_type": "stream",
          "name": "stdout",
          "text": [
            "[7 9 4 8 4]\n"
          ]
        }
      ]
    },
    {
      "cell_type": "code",
      "source": [
        "# 중복을 허용 하지 않음\n",
        "choice = np.random.choice(d, 5, replace = False)\n",
        "\n",
        "print(choice)"
      ],
      "metadata": {
        "colab": {
          "base_uri": "https://localhost:8080/"
        },
        "id": "l9e7K5JnJtwE",
        "outputId": "20280e88-0965-4fcb-b378-9eb5395141d4"
      },
      "execution_count": 42,
      "outputs": [
        {
          "output_type": "stream",
          "name": "stdout",
          "text": [
            "[1 5 0 7 4]\n"
          ]
        }
      ]
    },
    {
      "cell_type": "code",
      "source": [
        "# 각 값이 나올 확률 지정\n",
        "e = np.arange(5)\n",
        "\n",
        "choice = np.random.choice(e, 2, p = [0.3, 0.1, 0.1, 0.4, 0.1])\n",
        "\n",
        "print(choice)"
      ],
      "metadata": {
        "colab": {
          "base_uri": "https://localhost:8080/"
        },
        "id": "RT1b9HSeIy_a",
        "outputId": "fa95f112-b226-4d8b-8d4b-a7a86a42e158"
      },
      "execution_count": 84,
      "outputs": [
        {
          "output_type": "stream",
          "name": "stdout",
          "text": [
            "[0 2]\n"
          ]
        }
      ]
    },
    {
      "cell_type": "code",
      "source": [
        "# permutation 순열\n",
        "a = np.arange(10)\n",
        "a_p = np.random.permutation(a)\n",
        "\n",
        "print('a', a)\n",
        "print('a_p', a_p)"
      ],
      "metadata": {
        "colab": {
          "base_uri": "https://localhost:8080/"
        },
        "id": "_OL4-ieoJ516",
        "outputId": "eeca3392-544b-4a9d-cd1e-5dbd95b78d83"
      },
      "execution_count": 66,
      "outputs": [
        {
          "output_type": "stream",
          "name": "stdout",
          "text": [
            "a [0 1 2 3 4 5 6 7 8 9]\n",
            "a_p [9 5 3 8 0 4 2 6 7 1]\n"
          ]
        }
      ]
    },
    {
      "cell_type": "code",
      "source": [
        "# 정규분포를 따르는 난수 생성\n",
        "# a = np.random.normal('평균', '표준편차', '갯수')\n",
        "a = np.random.normal(0, 1, 3)\n",
        "print(a)"
      ],
      "metadata": {
        "colab": {
          "base_uri": "https://localhost:8080/"
        },
        "id": "_gXU8IHFLM6f",
        "outputId": "21f15ab5-2ca6-4803-aaa4-77f826dfe860"
      },
      "execution_count": 62,
      "outputs": [
        {
          "output_type": "stream",
          "name": "stdout",
          "text": [
            "[ 0.38691751 -0.24315726 -0.82505654]\n"
          ]
        }
      ]
    },
    {
      "cell_type": "markdown",
      "source": [
        "# 판다스(Pandas)\n",
        "\n",
        "- 데이터 자체를 분석, 파악\n",
        "- 표 \n",
        "- 데이터 다루는데 초점\n",
        "- 정렬, 필터링, 그룹화, 집계\n"
      ],
      "metadata": {
        "id": "dID4n0duYyzN"
      }
    },
    {
      "cell_type": "markdown",
      "source": [
        "- 데이터 로딩 및 저장\n",
        "- 데이터 인덱싱 및 슬라이싱\n",
        "- 결측치 처리\n",
        "- 데이터 변환\n",
        "- 데이터 집계 및 그룹화\n",
        "---\n",
        "- 시계열 데이터 처리\n",
        "- 데이터 시각화"
      ],
      "metadata": {
        "id": "WBqpulpTZ2O1"
      }
    },
    {
      "cell_type": "markdown",
      "source": [
        "## 1. Series(시리즈)\n",
        "\n",
        "- 인덱스를 지정할 수 있음\n"
      ],
      "metadata": {
        "id": "yJxiI-LWbn29"
      }
    },
    {
      "cell_type": "code",
      "source": [
        "import pandas as pd"
      ],
      "metadata": {
        "id": "QbcTeGVrNHpC"
      },
      "execution_count": 88,
      "outputs": []
    },
    {
      "cell_type": "code",
      "source": [
        "s = pd.Series([1, 2, 3, 4]) # 리스트\n",
        "print(s)"
      ],
      "metadata": {
        "colab": {
          "base_uri": "https://localhost:8080/"
        },
        "id": "bWOMBroTbuog",
        "outputId": "44f8093f-81cd-49f2-9a54-a227a5817a34"
      },
      "execution_count": 93,
      "outputs": [
        {
          "output_type": "stream",
          "name": "stdout",
          "text": [
            "0    1\n",
            "1    2\n",
            "2    3\n",
            "3    4\n",
            "dtype: int64\n"
          ]
        }
      ]
    },
    {
      "cell_type": "code",
      "source": [
        "s2 = pd.Series({'a' : 1, 'b' : 2, 'c' : 3, 'd' : 4}) # 딕셔너리\n",
        "print(s2)"
      ],
      "metadata": {
        "colab": {
          "base_uri": "https://localhost:8080/"
        },
        "id": "SJ5G9wX6b_Ls",
        "outputId": "f69ad547-abe4-4f07-f0de-877fa2612a3c"
      },
      "execution_count": 94,
      "outputs": [
        {
          "output_type": "stream",
          "name": "stdout",
          "text": [
            "a    1\n",
            "b    2\n",
            "c    3\n",
            "d    4\n",
            "dtype: int64\n"
          ]
        }
      ]
    },
    {
      "cell_type": "code",
      "source": [
        "s3 = pd.Series(5, index = [0, 2, 4]) # 스칼라\n",
        "print(s3)"
      ],
      "metadata": {
        "colab": {
          "base_uri": "https://localhost:8080/"
        },
        "id": "dAlC1llRc3Fn",
        "outputId": "993f13f9-08a4-4923-aca5-1d6bd0e24e4f"
      },
      "execution_count": 96,
      "outputs": [
        {
          "output_type": "stream",
          "name": "stdout",
          "text": [
            "0    5\n",
            "2    5\n",
            "4    5\n",
            "dtype: int64\n"
          ]
        }
      ]
    },
    {
      "cell_type": "code",
      "source": [
        "data = [1, 2, 3, 4, 5]\n",
        "index = ['a', 'b', 'c', 'd', 'e']\n",
        "series = pd.Series(data, index = index)\n",
        "print(series)"
      ],
      "metadata": {
        "colab": {
          "base_uri": "https://localhost:8080/"
        },
        "id": "dleTaPtQc9bz",
        "outputId": "f06ece56-447b-4e0d-c64a-d1ef4a0d8bfd"
      },
      "execution_count": 97,
      "outputs": [
        {
          "output_type": "stream",
          "name": "stdout",
          "text": [
            "a    1\n",
            "b    2\n",
            "c    3\n",
            "d    4\n",
            "e    5\n",
            "dtype: int64\n"
          ]
        }
      ]
    },
    {
      "cell_type": "code",
      "source": [
        "s = pd.Series(data)\n",
        "print(s)"
      ],
      "metadata": {
        "colab": {
          "base_uri": "https://localhost:8080/"
        },
        "id": "K-egBCO_dkza",
        "outputId": "37c99988-d03e-441e-b9b5-707f4b1c9790"
      },
      "execution_count": 98,
      "outputs": [
        {
          "output_type": "stream",
          "name": "stdout",
          "text": [
            "0    1\n",
            "1    2\n",
            "2    3\n",
            "3    4\n",
            "4    5\n",
            "dtype: int64\n"
          ]
        }
      ]
    },
    {
      "cell_type": "code",
      "source": [
        "series[:4]"
      ],
      "metadata": {
        "colab": {
          "base_uri": "https://localhost:8080/"
        },
        "id": "i3k5RxpueChw",
        "outputId": "45726ebe-4f9a-4323-cc9a-c3c0192358ca"
      },
      "execution_count": 103,
      "outputs": [
        {
          "output_type": "execute_result",
          "data": {
            "text/plain": [
              "a    1\n",
              "b    2\n",
              "c    3\n",
              "d    4\n",
              "dtype: int64"
            ]
          },
          "metadata": {},
          "execution_count": 103
        }
      ]
    },
    {
      "cell_type": "markdown",
      "source": [
        "#### Boolean Indexing"
      ],
      "metadata": {
        "id": "6NlZOzIF1a6m"
      }
    },
    {
      "cell_type": "code",
      "source": [
        "print(series[series < 2]) # a[a조건]"
      ],
      "metadata": {
        "colab": {
          "base_uri": "https://localhost:8080/"
        },
        "id": "idvPfjp80Klk",
        "outputId": "ae898ca1-d447-4ff5-f693-a3edbc3d95c7"
      },
      "execution_count": 104,
      "outputs": [
        {
          "output_type": "stream",
          "name": "stdout",
          "text": [
            "a    1\n",
            "dtype: int64\n"
          ]
        }
      ]
    },
    {
      "cell_type": "code",
      "source": [
        "# 5보다 작은 시리즈 만들기\n",
        "\n",
        "print(series[series < 5])"
      ],
      "metadata": {
        "colab": {
          "base_uri": "https://localhost:8080/"
        },
        "id": "XQWhG0hu2chr",
        "outputId": "e68b0083-6bde-4aef-da23-5d9d49efdf57"
      },
      "execution_count": 106,
      "outputs": [
        {
          "output_type": "stream",
          "name": "stdout",
          "text": [
            "a    1\n",
            "b    2\n",
            "c    3\n",
            "d    4\n",
            "dtype: int64\n"
          ]
        }
      ]
    },
    {
      "cell_type": "markdown",
      "source": [
        "#### Series 산술연산"
      ],
      "metadata": {
        "id": "MIrkNfLk35Jm"
      }
    },
    {
      "cell_type": "code",
      "source": [
        "print(series + 100)\n",
        "print(series - 100)\n",
        "# 곱하기: *, 제곱 : **, 나누기 : /, 나머지 : %, 몫 : //\n",
        "print(series * 100)\n",
        "print(series ** 2)\n",
        "print(series / 2)\n",
        "print(series % 2)\n",
        "print(series //2)"
      ],
      "metadata": {
        "colab": {
          "base_uri": "https://localhost:8080/"
        },
        "id": "pFWv5HzT2hRH",
        "outputId": "78d8f808-ec11-4902-8e1e-f4b40fd7198c"
      },
      "execution_count": 108,
      "outputs": [
        {
          "output_type": "stream",
          "name": "stdout",
          "text": [
            "a    101\n",
            "b    102\n",
            "c    103\n",
            "d    104\n",
            "e    105\n",
            "dtype: int64\n",
            "a   -99\n",
            "b   -98\n",
            "c   -97\n",
            "d   -96\n",
            "e   -95\n",
            "dtype: int64\n",
            "a    100\n",
            "b    200\n",
            "c    300\n",
            "d    400\n",
            "e    500\n",
            "dtype: int64\n",
            "a     1\n",
            "b     4\n",
            "c     9\n",
            "d    16\n",
            "e    25\n",
            "dtype: int64\n",
            "a    0.5\n",
            "b    1.0\n",
            "c    1.5\n",
            "d    2.0\n",
            "e    2.5\n",
            "dtype: float64\n",
            "a    1\n",
            "b    0\n",
            "c    1\n",
            "d    0\n",
            "e    1\n",
            "dtype: int64\n",
            "a    0\n",
            "b    1\n",
            "c    1\n",
            "d    2\n",
            "e    2\n",
            "dtype: int64\n"
          ]
        }
      ]
    },
    {
      "cell_type": "markdown",
      "source": [
        "## Series 객체에 접근\n",
        "- keys -> index\n",
        "- values"
      ],
      "metadata": {
        "id": "9hT4NjRX53S-"
      }
    },
    {
      "cell_type": "code",
      "source": [
        "print(series.keys)"
      ],
      "metadata": {
        "colab": {
          "base_uri": "https://localhost:8080/"
        },
        "id": "9ivwaG1D4AV_",
        "outputId": "dee0f7ee-de36-41a2-bb2b-8fd0295cf711"
      },
      "execution_count": 109,
      "outputs": [
        {
          "output_type": "stream",
          "name": "stdout",
          "text": [
            "<bound method Series.keys of a    1\n",
            "b    2\n",
            "c    3\n",
            "d    4\n",
            "e    5\n",
            "dtype: int64>\n"
          ]
        }
      ]
    },
    {
      "cell_type": "code",
      "source": [
        "print(series.values)"
      ],
      "metadata": {
        "colab": {
          "base_uri": "https://localhost:8080/"
        },
        "id": "EWigEEUF6DeG",
        "outputId": "24e914c8-19b4-47e9-de22-e72f25af44c3"
      },
      "execution_count": 110,
      "outputs": [
        {
          "output_type": "stream",
          "name": "stdout",
          "text": [
            "[1 2 3 4 5]\n"
          ]
        }
      ]
    },
    {
      "cell_type": "code",
      "source": [
        "series.index"
      ],
      "metadata": {
        "colab": {
          "base_uri": "https://localhost:8080/"
        },
        "id": "H7C5vkE96Kub",
        "outputId": "81df5c9a-aa41-496f-bc98-910fe89b251f"
      },
      "execution_count": 111,
      "outputs": [
        {
          "output_type": "execute_result",
          "data": {
            "text/plain": [
              "Index(['a', 'b', 'c', 'd', 'e'], dtype='object')"
            ]
          },
          "metadata": {},
          "execution_count": 111
        }
      ]
    },
    {
      "cell_type": "code",
      "source": [
        "print(series.keys())"
      ],
      "metadata": {
        "colab": {
          "base_uri": "https://localhost:8080/"
        },
        "id": "5o7QejWa7TT1",
        "outputId": "4036754d-1c14-49e8-a324-546887913d8c"
      },
      "execution_count": 112,
      "outputs": [
        {
          "output_type": "stream",
          "name": "stdout",
          "text": [
            "Index(['a', 'b', 'c', 'd', 'e'], dtype='object')\n"
          ]
        }
      ]
    },
    {
      "cell_type": "code",
      "source": [
        "# items\n",
        "\n",
        "print(series.items()) # zip ->순회가 가능, 쌍으로 이루어짐\n"
      ],
      "metadata": {
        "colab": {
          "base_uri": "https://localhost:8080/"
        },
        "id": "nqPjhRya8JS0",
        "outputId": "58b84be9-f36d-4f30-c866-fbfadfba095c"
      },
      "execution_count": 113,
      "outputs": [
        {
          "output_type": "stream",
          "name": "stdout",
          "text": [
            "<zip object at 0x7f3efabc88c0>\n"
          ]
        }
      ]
    },
    {
      "cell_type": "code",
      "source": [
        "for index, value in series.items():\n",
        "    print(f'인덱스 : {index}, 데이터 {value}')"
      ],
      "metadata": {
        "colab": {
          "base_uri": "https://localhost:8080/"
        },
        "id": "ArbYU7_4_kaq",
        "outputId": "570440d9-d0ec-45d0-dce0-8443f80624c5"
      },
      "execution_count": 116,
      "outputs": [
        {
          "output_type": "stream",
          "name": "stdout",
          "text": [
            "인덱스 : a, 데이터 1\n",
            "인덱스 : b, 데이터 2\n",
            "인덱스 : c, 데이터 3\n",
            "인덱스 : d, 데이터 4\n",
            "인덱스 : e, 데이터 5\n"
          ]
        }
      ]
    },
    {
      "cell_type": "code",
      "source": [
        "series[0]"
      ],
      "metadata": {
        "colab": {
          "base_uri": "https://localhost:8080/"
        },
        "id": "GdnlIgvEAWtc",
        "outputId": "f59a9348-36c6-445c-c631-0acd8ae7865a"
      },
      "execution_count": 117,
      "outputs": [
        {
          "output_type": "execute_result",
          "data": {
            "text/plain": [
              "1"
            ]
          },
          "metadata": {},
          "execution_count": 117
        }
      ]
    },
    {
      "cell_type": "code",
      "source": [
        "series.values[0]"
      ],
      "metadata": {
        "colab": {
          "base_uri": "https://localhost:8080/"
        },
        "id": "elmtSyNXBHKs",
        "outputId": "3d0e6fa9-9f5a-49ba-9106-f0f0e0e7f778"
      },
      "execution_count": 126,
      "outputs": [
        {
          "output_type": "execute_result",
          "data": {
            "text/plain": [
              "1"
            ]
          },
          "metadata": {},
          "execution_count": 126
        }
      ]
    },
    {
      "cell_type": "code",
      "source": [
        "s = pd.Series([10, 20, 30, 40], index = ['a', 'b', 'c', 'd'])"
      ],
      "metadata": {
        "id": "I77TRAsEBJQn"
      },
      "execution_count": 119,
      "outputs": []
    },
    {
      "cell_type": "code",
      "source": [
        "print(s)"
      ],
      "metadata": {
        "colab": {
          "base_uri": "https://localhost:8080/"
        },
        "id": "Gsj6NpwwB6jQ",
        "outputId": "64c64c8f-5317-4d92-a829-e9b5e39c612b"
      },
      "execution_count": 120,
      "outputs": [
        {
          "output_type": "stream",
          "name": "stdout",
          "text": [
            "a    10\n",
            "b    20\n",
            "c    30\n",
            "d    40\n",
            "dtype: int64\n"
          ]
        }
      ]
    },
    {
      "cell_type": "code",
      "source": [
        "print(s.loc['b']) # loc : 행에 접근 -> 레이블(특정 인덱스)에 접근하기 위해서\n",
        "\n",
        "print(s.loc['b':'d']) "
      ],
      "metadata": {
        "colab": {
          "base_uri": "https://localhost:8080/"
        },
        "id": "hskErJuQB7EJ",
        "outputId": "c47132a0-1f99-4d2e-aec2-acb0d0c3477a"
      },
      "execution_count": 123,
      "outputs": [
        {
          "output_type": "stream",
          "name": "stdout",
          "text": [
            "20\n",
            "b    20\n",
            "c    30\n",
            "d    40\n",
            "dtype: int64\n"
          ]
        }
      ]
    },
    {
      "cell_type": "code",
      "source": [
        "print(s.iloc[1]) # (행에 기반한 : )열에 접근"
      ],
      "metadata": {
        "colab": {
          "base_uri": "https://localhost:8080/"
        },
        "id": "WrLCiuo6CEp6",
        "outputId": "e789b442-31f0-4107-833a-2503999c0aa3"
      },
      "execution_count": 127,
      "outputs": [
        {
          "output_type": "stream",
          "name": "stdout",
          "text": [
            "20\n"
          ]
        }
      ]
    },
    {
      "cell_type": "code",
      "source": [
        "print(s.iloc[1:4])"
      ],
      "metadata": {
        "colab": {
          "base_uri": "https://localhost:8080/"
        },
        "id": "QoDU4S_sC06R",
        "outputId": "52157dbc-34a1-469a-d614-583bd0b98571"
      },
      "execution_count": 129,
      "outputs": [
        {
          "output_type": "stream",
          "name": "stdout",
          "text": [
            "b    20\n",
            "c    30\n",
            "d    40\n",
            "dtype: int64\n"
          ]
        }
      ]
    },
    {
      "cell_type": "code",
      "source": [
        "print(s.at['a']) # at loc 비슷. 하나의 값만 가져올 때"
      ],
      "metadata": {
        "colab": {
          "base_uri": "https://localhost:8080/"
        },
        "id": "nCL0OiNYC48a",
        "outputId": "b145eae2-e069-4ed2-c70d-c3cae001601f"
      },
      "execution_count": 130,
      "outputs": [
        {
          "output_type": "stream",
          "name": "stdout",
          "text": [
            "10\n"
          ]
        }
      ]
    },
    {
      "cell_type": "code",
      "source": [
        "print(s.iat[0])  # at에 기반"
      ],
      "metadata": {
        "colab": {
          "base_uri": "https://localhost:8080/"
        },
        "id": "7Ih-pRG8DiI_",
        "outputId": "857a2861-5d72-4ffd-ac61-b8fb6d2ef6ab"
      },
      "execution_count": 132,
      "outputs": [
        {
          "output_type": "stream",
          "name": "stdout",
          "text": [
            "10\n"
          ]
        }
      ]
    },
    {
      "cell_type": "code",
      "source": [
        "print(s.get('e'))  # 없는 값에 대한 처리 방법 / 에러가 나지 않고 없다는 걸 알려줌"
      ],
      "metadata": {
        "colab": {
          "base_uri": "https://localhost:8080/"
        },
        "id": "sXkZOkltDvK-",
        "outputId": "986de8bf-30f7-4e9c-a015-e5c256eb6e3d"
      },
      "execution_count": 135,
      "outputs": [
        {
          "output_type": "stream",
          "name": "stdout",
          "text": [
            "None\n"
          ]
        }
      ]
    },
    {
      "cell_type": "code",
      "source": [
        "print(s.get('e', default = -1))"
      ],
      "metadata": {
        "colab": {
          "base_uri": "https://localhost:8080/"
        },
        "id": "f4EzFV-pEWr_",
        "outputId": "bbb3eb4e-abce-4a9f-b49a-f1c81a43574b"
      },
      "execution_count": 137,
      "outputs": [
        {
          "output_type": "stream",
          "name": "stdout",
          "text": [
            "-1\n"
          ]
        }
      ]
    },
    {
      "cell_type": "markdown",
      "source": [
        "## 결측값 (Nan, None)\n",
        "\n",
        "- isna()\n",
        "- isnull()\n",
        "\n",
        "Nan(Not a number) -> float\n",
        "None -> none"
      ],
      "metadata": {
        "id": "Z7KugHPHQNIf"
      }
    },
    {
      "cell_type": "code",
      "source": [
        "data = [1, 2, 3,  None]\n",
        "\n",
        "print(np.array(data))"
      ],
      "metadata": {
        "colab": {
          "base_uri": "https://localhost:8080/"
        },
        "id": "siKEMwdBEp9i",
        "outputId": "8201a9fc-12a7-4764-c2b8-dc1c4425956b"
      },
      "execution_count": 138,
      "outputs": [
        {
          "output_type": "stream",
          "name": "stdout",
          "text": [
            "[1 2 3 None]\n"
          ]
        }
      ]
    },
    {
      "cell_type": "code",
      "source": [
        "print(pd.Series(data))"
      ],
      "metadata": {
        "colab": {
          "base_uri": "https://localhost:8080/"
        },
        "id": "qluU1UyfRKRC",
        "outputId": "54fb6049-03ba-4033-8959-b53fecb2bb3a"
      },
      "execution_count": 139,
      "outputs": [
        {
          "output_type": "stream",
          "name": "stdout",
          "text": [
            "0    1.0\n",
            "1    2.0\n",
            "2    3.0\n",
            "3    NaN\n",
            "dtype: float64\n"
          ]
        }
      ]
    },
    {
      "cell_type": "code",
      "source": [
        "s = pd.Series(data) # isna(), isnull()\n",
        "\n",
        "print(s.isna())"
      ],
      "metadata": {
        "colab": {
          "base_uri": "https://localhost:8080/"
        },
        "id": "20LeY5efRMy0",
        "outputId": "c28e6322-8280-43c1-eb7f-9201988b48c1"
      },
      "execution_count": 142,
      "outputs": [
        {
          "output_type": "stream",
          "name": "stdout",
          "text": [
            "0    False\n",
            "1    False\n",
            "2    False\n",
            "3     True\n",
            "dtype: bool\n"
          ]
        }
      ]
    },
    {
      "cell_type": "code",
      "source": [
        "print(s.isnull())"
      ],
      "metadata": {
        "colab": {
          "base_uri": "https://localhost:8080/"
        },
        "id": "GQDWdYfFSQ5e",
        "outputId": "8735a3d0-b0af-432a-eff7-31b67c4cf092"
      },
      "execution_count": 143,
      "outputs": [
        {
          "output_type": "stream",
          "name": "stdout",
          "text": [
            "0    False\n",
            "1    False\n",
            "2    False\n",
            "3     True\n",
            "dtype: bool\n"
          ]
        }
      ]
    },
    {
      "cell_type": "code",
      "source": [
        "print(s.notnull().sum())"
      ],
      "metadata": {
        "colab": {
          "base_uri": "https://localhost:8080/"
        },
        "id": "RkfuHIzASZzL",
        "outputId": "ec49ea6a-8213-44a0-e93a-2820f2211b05"
      },
      "execution_count": 144,
      "outputs": [
        {
          "output_type": "stream",
          "name": "stdout",
          "text": [
            "3\n"
          ]
        }
      ]
    },
    {
      "cell_type": "markdown",
      "source": [
        "결측치 제거"
      ],
      "metadata": {
        "id": "R3XUPG6IUUO3"
      }
    },
    {
      "cell_type": "code",
      "source": [
        "s.dropna()"
      ],
      "metadata": {
        "colab": {
          "base_uri": "https://localhost:8080/"
        },
        "id": "YVtDzvgoUThB",
        "outputId": "46a853cb-4f0d-4860-b80f-5079bb4a1e55"
      },
      "execution_count": 145,
      "outputs": [
        {
          "output_type": "execute_result",
          "data": {
            "text/plain": [
              "0    1.0\n",
              "1    2.0\n",
              "2    3.0\n",
              "dtype: float64"
            ]
          },
          "metadata": {},
          "execution_count": 145
        }
      ]
    },
    {
      "cell_type": "markdown",
      "source": [
        "결측치를 0으로 치환"
      ],
      "metadata": {
        "id": "-p9bk7VPUaL-"
      }
    },
    {
      "cell_type": "code",
      "source": [
        "s.fillna(0)"
      ],
      "metadata": {
        "colab": {
          "base_uri": "https://localhost:8080/"
        },
        "id": "bGA4N8cJUYWP",
        "outputId": "68468009-efae-48cd-cc39-17dcbe546f46"
      },
      "execution_count": 147,
      "outputs": [
        {
          "output_type": "execute_result",
          "data": {
            "text/plain": [
              "0    1.0\n",
              "1    2.0\n",
              "2    3.0\n",
              "3    0.0\n",
              "dtype: float64"
            ]
          },
          "metadata": {},
          "execution_count": 147
        }
      ]
    },
    {
      "cell_type": "markdown",
      "source": [
        "## Series 함수"
      ],
      "metadata": {
        "id": "Fiu9s92hVqDP"
      }
    },
    {
      "cell_type": "code",
      "source": [
        "s = pd.Series([1, 2, 3, 4, 5, 6, 7, 8, 9, 10, 11, 12, 13])"
      ],
      "metadata": {
        "id": "jY9kcfZyVMGy"
      },
      "execution_count": 150,
      "outputs": []
    },
    {
      "cell_type": "code",
      "source": [
        "s.count() # 카운트 함수"
      ],
      "metadata": {
        "colab": {
          "base_uri": "https://localhost:8080/"
        },
        "id": "K1sRUkghV3vX",
        "outputId": "59b980dd-7f3b-4c51-e75c-4147651049ee"
      },
      "execution_count": 151,
      "outputs": [
        {
          "output_type": "execute_result",
          "data": {
            "text/plain": [
              "13"
            ]
          },
          "metadata": {},
          "execution_count": 151
        }
      ]
    },
    {
      "cell_type": "code",
      "source": [
        "s.min() # 최소값"
      ],
      "metadata": {
        "colab": {
          "base_uri": "https://localhost:8080/"
        },
        "id": "NCV_CbnHV40F",
        "outputId": "2916d21e-aed3-4db8-f999-a62cc49fc350"
      },
      "execution_count": 153,
      "outputs": [
        {
          "output_type": "execute_result",
          "data": {
            "text/plain": [
              "1"
            ]
          },
          "metadata": {},
          "execution_count": 153
        }
      ]
    },
    {
      "cell_type": "code",
      "source": [
        "s.max() # 최대값"
      ],
      "metadata": {
        "colab": {
          "base_uri": "https://localhost:8080/"
        },
        "id": "t36fmdPxV7Hx",
        "outputId": "254fd90b-f959-4eaf-fd68-47935823b572"
      },
      "execution_count": 154,
      "outputs": [
        {
          "output_type": "execute_result",
          "data": {
            "text/plain": [
              "13"
            ]
          },
          "metadata": {},
          "execution_count": 154
        }
      ]
    },
    {
      "cell_type": "code",
      "source": [
        "print(s.mean())\n",
        "print(s.median())\n",
        "print(s.std())\n",
        "print(s.var())"
      ],
      "metadata": {
        "colab": {
          "base_uri": "https://localhost:8080/"
        },
        "id": "dhc2qTz2WVjg",
        "outputId": "6a5edeba-a6d5-4f42-978f-f3451ee48c65"
      },
      "execution_count": 155,
      "outputs": [
        {
          "output_type": "stream",
          "name": "stdout",
          "text": [
            "7.0\n",
            "7.0\n",
            "3.8944404818493075\n",
            "15.166666666666666\n"
          ]
        }
      ]
    },
    {
      "cell_type": "code",
      "source": [
        "s.describe() # 기초 통계 내용"
      ],
      "metadata": {
        "colab": {
          "base_uri": "https://localhost:8080/"
        },
        "id": "dLXvIjOdWdVz",
        "outputId": "d595c25c-5697-4365-ee6e-6cf6e9cf5a5c"
      },
      "execution_count": 156,
      "outputs": [
        {
          "output_type": "execute_result",
          "data": {
            "text/plain": [
              "count    13.00000\n",
              "mean      7.00000\n",
              "std       3.89444\n",
              "min       1.00000\n",
              "25%       4.00000\n",
              "50%       7.00000\n",
              "75%      10.00000\n",
              "max      13.00000\n",
              "dtype: float64"
            ]
          },
          "metadata": {},
          "execution_count": 156
        }
      ]
    },
    {
      "cell_type": "code",
      "source": [],
      "metadata": {
        "id": "Q6ePL_zOWxx6"
      },
      "execution_count": null,
      "outputs": []
    }
  ]
}