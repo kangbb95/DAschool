{
  "nbformat": 4,
  "nbformat_minor": 0,
  "metadata": {
    "colab": {
      "provenance": []
    },
    "kernelspec": {
      "name": "python3",
      "display_name": "Python 3"
    },
    "language_info": {
      "name": "python"
    }
  },
  "cells": [
    {
      "cell_type": "markdown",
      "source": [
        "#1. 함수_복습"
      ],
      "metadata": {
        "id": "Ag7qdajWOd3j"
      }
    },
    {
      "cell_type": "code",
      "execution_count": null,
      "metadata": {
        "colab": {
          "base_uri": "https://localhost:8080/"
        },
        "id": "EDvJYGUGKQ7l",
        "outputId": "26a37bd0-41a8-4dac-f020-e5ebb8d4f1ef"
      },
      "outputs": [
        {
          "output_type": "execute_result",
          "data": {
            "text/plain": [
              "7"
            ]
          },
          "metadata": {},
          "execution_count": 1
        }
      ],
      "source": [
        "# 함수 정의\n",
        "\n",
        "def add(x, y):\n",
        "\tvalue = x + y\n",
        "\treturn value\n",
        "\n",
        "add(3,4)"
      ]
    },
    {
      "cell_type": "code",
      "source": [
        "# 가장 선호\n",
        "x = add(3,4)\n",
        "print(x)"
      ],
      "metadata": {
        "colab": {
          "base_uri": "https://localhost:8080/"
        },
        "id": "MmkH-yiKOfQ3",
        "outputId": "dcdaca81-0017-4568-c184-e6a3af2c68d8"
      },
      "execution_count": null,
      "outputs": [
        {
          "output_type": "stream",
          "name": "stdout",
          "text": [
            "7\n"
          ]
        }
      ]
    },
    {
      "cell_type": "code",
      "source": [
        "print(add(3,4))"
      ],
      "metadata": {
        "colab": {
          "base_uri": "https://localhost:8080/"
        },
        "id": "mvhecqMYOgFq",
        "outputId": "4c965cf0-aa52-4039-fa4f-d65c84b0f7f1"
      },
      "execution_count": null,
      "outputs": [
        {
          "output_type": "stream",
          "name": "stdout",
          "text": [
            "7\n"
          ]
        }
      ]
    },
    {
      "cell_type": "code",
      "source": [
        "# 위치 인수의 예시\n",
        "\n",
        "def sum_tax(price, unit, fee, tax_rate):\n",
        "  return price + unit + fee + tax_rate\n",
        "\n",
        "x = sum_tax(1000,2000,3000,4000)\n",
        "\n",
        "print(x)"
      ],
      "metadata": {
        "colab": {
          "base_uri": "https://localhost:8080/"
        },
        "id": "lIi6jNzVOiql",
        "outputId": "c0366f9b-69cd-488d-a8cb-579a049b0279"
      },
      "execution_count": null,
      "outputs": [
        {
          "output_type": "stream",
          "name": "stdout",
          "text": [
            "10000\n"
          ]
        }
      ]
    },
    {
      "cell_type": "code",
      "source": [
        "def sum_tax(price, unit, fee, tax_rate):\n",
        "  return price * unit + fee + tax_rate\n",
        "\n",
        "x = sum_tax(3000,1000,2000,4000)\n",
        "\n",
        "\n",
        "print(x)"
      ],
      "metadata": {
        "colab": {
          "base_uri": "https://localhost:8080/"
        },
        "id": "WttaOru7OlCt",
        "outputId": "78bcc2f2-53f0-426f-cdce-d99cd009ba2d"
      },
      "execution_count": null,
      "outputs": [
        {
          "output_type": "stream",
          "name": "stdout",
          "text": [
            "3006000\n"
          ]
        }
      ]
    },
    {
      "cell_type": "code",
      "source": [
        "# 키워드 인수 예제 \n",
        "x = sum_tax(price = 1000, unit = 2000,fee = 3000,tax_rate = 4000)\n",
        "\n",
        "print(x)"
      ],
      "metadata": {
        "colab": {
          "base_uri": "https://localhost:8080/"
        },
        "id": "XTDKKaowPsx7",
        "outputId": "80c816eb-11a8-4bfe-a330-916c826fc9d9"
      },
      "execution_count": null,
      "outputs": [
        {
          "output_type": "stream",
          "name": "stdout",
          "text": [
            "2007000\n"
          ]
        }
      ]
    },
    {
      "cell_type": "code",
      "source": [
        "# 키워드 인수 + 위치 인수 예제 \n",
        "x = sum_tax(1000, 200, fee = 3000, 4000)\n",
        "\n",
        "print(x)\n"
      ],
      "metadata": {
        "colab": {
          "base_uri": "https://localhost:8080/",
          "height": 137
        },
        "id": "5gS1vogCPwzo",
        "outputId": "7e1348b3-3795-4d81-fe56-3574d3060056"
      },
      "execution_count": null,
      "outputs": [
        {
          "output_type": "error",
          "ename": "SyntaxError",
          "evalue": "ignored",
          "traceback": [
            "\u001b[0;36m  File \u001b[0;32m\"<ipython-input-8-bcc00e66bb06>\"\u001b[0;36m, line \u001b[0;32m2\u001b[0m\n\u001b[0;31m    x = sum_tax(1000, 200, fee = 3000, 4000)\u001b[0m\n\u001b[0m                                           ^\u001b[0m\n\u001b[0;31mSyntaxError\u001b[0m\u001b[0;31m:\u001b[0m positional argument follows keyword argument\n"
          ]
        }
      ]
    },
    {
      "cell_type": "code",
      "source": [
        "# * arg의 예시\n",
        "\n",
        "def func(x, y , *args):\n",
        "  print(x)\n",
        "  print(y)\n",
        "  if args:\n",
        "    print(args)\n",
        "\n",
        "func(1, 2)\n",
        "print()\n",
        "func(1,2,3,4,5)"
      ],
      "metadata": {
        "colab": {
          "base_uri": "https://localhost:8080/"
        },
        "id": "WvaycPHPPyHj",
        "outputId": "4014c732-a43d-4424-aaa6-1967d0443d55"
      },
      "execution_count": null,
      "outputs": [
        {
          "output_type": "stream",
          "name": "stdout",
          "text": [
            "1\n",
            "2\n",
            "\n",
            "1\n",
            "2\n",
            "(3, 4, 5)\n"
          ]
        }
      ]
    },
    {
      "cell_type": "code",
      "source": [
        "## **kwargs\n",
        "\n",
        "def func(x, y , **kwargs):\n",
        "  print(x)\n",
        "  print(y)\n",
        "  if kwargs:\n",
        "    print(kwargs)\n",
        "\n",
        "func(x = 1, y = 2)\n",
        "print()\n",
        "func(x = 1,y = 2,z = 3,w = 4,r = 5)"
      ],
      "metadata": {
        "colab": {
          "base_uri": "https://localhost:8080/"
        },
        "id": "gLggtAsUP0_s",
        "outputId": "126ddeee-7452-4147-a30a-12ed1e59db3d"
      },
      "execution_count": null,
      "outputs": [
        {
          "output_type": "stream",
          "name": "stdout",
          "text": [
            "1\n",
            "2\n",
            "\n",
            "1\n",
            "2\n",
            "{'z': 3, 'w': 4, 'r': 5}\n"
          ]
        }
      ]
    },
    {
      "cell_type": "code",
      "source": [
        "# *과 **의 조합\n",
        "\n",
        "def func(a, *args, **kwargs):\n",
        "  print(a)\n",
        "  print(args)\n",
        "  print(kwargs)\n",
        "\n",
        "func(1, 100, 200 ,x = 1, y = 2)\n",
        "print()\n",
        "func(1, 100, 200, x = 1,y = 2,z = 3,w = 4,r = 5)"
      ],
      "metadata": {
        "colab": {
          "base_uri": "https://localhost:8080/"
        },
        "id": "6OxhJFwQQnJA",
        "outputId": "bba860f6-b18d-4505-bc60-9dc8bdad1657"
      },
      "execution_count": null,
      "outputs": [
        {
          "output_type": "stream",
          "name": "stdout",
          "text": [
            "1\n",
            "(100, 200)\n",
            "{'x': 1, 'y': 2}\n",
            "\n",
            "1\n",
            "(100, 200)\n",
            "{'x': 1, 'y': 2, 'z': 3, 'w': 4, 'r': 5}\n"
          ]
        }
      ]
    },
    {
      "cell_type": "code",
      "source": [
        "# 함수 바깥에서의 *와 **는 언패킹이 된다.\n",
        "\n",
        "# [리스트, 튜플 언패킹]\n",
        "\n",
        "def func(x, y, z):\n",
        "  print(x, y, z)\n",
        "  return x + y + z\n",
        "\n",
        "params = [1,2,3]\n",
        "\n",
        "\n",
        "\n",
        "w = func(*params)\n",
        "print(w)"
      ],
      "metadata": {
        "colab": {
          "base_uri": "https://localhost:8080/"
        },
        "id": "a30KUwDPSb_F",
        "outputId": "440ee708-e510-4c46-a26f-da338eeb9119"
      },
      "execution_count": null,
      "outputs": [
        {
          "output_type": "stream",
          "name": "stdout",
          "text": [
            "1 2 3\n",
            "6\n"
          ]
        }
      ]
    },
    {
      "cell_type": "code",
      "source": [
        "# 딕셔너리 언패킹\n",
        "\n",
        "def func(x,y,z):\n",
        "  print(x,y,z)\n",
        "  return x + y+ z\n",
        "\n",
        "params = {\"y\" : 1, \"x\" : 2, \"z\" : 3} # -> func(1,2,3)\n",
        "w = func(**params)\n",
        "print(w)"
      ],
      "metadata": {
        "colab": {
          "base_uri": "https://localhost:8080/"
        },
        "id": "sFo0yRiJSdIq",
        "outputId": "bcef4d29-46bd-4eca-a550-4d2f130cfd39"
      },
      "execution_count": null,
      "outputs": [
        {
          "output_type": "stream",
          "name": "stdout",
          "text": [
            "2 1 3\n",
            "6\n"
          ]
        }
      ]
    },
    {
      "cell_type": "code",
      "source": [
        "# 언패킹 결합\n",
        "\n",
        "def func(x,y,z,a,b):\n",
        "  print(x,y,z,a,b)\n",
        "  return x+y+z+a+b\n",
        "\n",
        "params1 = [1,2,3]\n",
        "params2 = {\"a\" : 4, \"b\" : 5}\n",
        "w = func(*params1, **params2)\n",
        "print(w)"
      ],
      "metadata": {
        "colab": {
          "base_uri": "https://localhost:8080/"
        },
        "id": "t8la2g5WTI1f",
        "outputId": "891b2243-13a1-4dd7-f325-22a2f1829b2f"
      },
      "execution_count": null,
      "outputs": [
        {
          "output_type": "stream",
          "name": "stdout",
          "text": [
            "1 2 3 4 5\n",
            "15\n"
          ]
        }
      ]
    },
    {
      "cell_type": "code",
      "source": [
        "# 함수의 변수화\n",
        "\n",
        "def add_num(x,y):\n",
        "  return x+y\n",
        "\n",
        "f = add_num\n",
        "\n",
        "y = add_num(100,200)\n",
        "print(y)\n",
        "\n",
        "x = f(100,200)\n",
        "print(x)"
      ],
      "metadata": {
        "colab": {
          "base_uri": "https://localhost:8080/"
        },
        "id": "LofxIWsqYwGm",
        "outputId": "a3a06b61-d533-4f84-fdcc-73344de35285"
      },
      "execution_count": null,
      "outputs": [
        {
          "output_type": "stream",
          "name": "stdout",
          "text": [
            "300\n",
            "300\n"
          ]
        }
      ]
    },
    {
      "cell_type": "code",
      "source": [
        "# 데코레이터\n",
        "def uppercase_decorator(func):\n",
        "    def wrapper():\n",
        "        result = func().upper()\n",
        "        return result\n",
        "    return wrapper\n",
        "\n",
        "def say_hello():\n",
        "    return \"hello\"\n",
        "\n",
        "print(say_hello())  # 출력: HELLO"
      ],
      "metadata": {
        "colab": {
          "base_uri": "https://localhost:8080/"
        },
        "id": "9PMjZN-yYxXs",
        "outputId": "20f34fbd-dcf7-4e7f-98dc-36c36bd5578c"
      },
      "execution_count": null,
      "outputs": [
        {
          "output_type": "stream",
          "name": "stdout",
          "text": [
            "hello\n"
          ]
        }
      ]
    },
    {
      "cell_type": "code",
      "source": [
        "def uppercase_decorator(func):\n",
        "    def wrapper():\n",
        "        result = func().upper()\n",
        "        return result\n",
        "    return wrapper\n",
        "\n",
        "@uppercase_decorator\n",
        "def say_hello():\n",
        "    return \"hello\"\n",
        "\n",
        "print(say_hello())  # 출력: HELLO"
      ],
      "metadata": {
        "colab": {
          "base_uri": "https://localhost:8080/"
        },
        "id": "5J9EewNcYyJQ",
        "outputId": "cd3b4c6b-27c9-404d-9cc9-0cca19abb581"
      },
      "execution_count": null,
      "outputs": [
        {
          "output_type": "stream",
          "name": "stdout",
          "text": [
            "HELLO\n"
          ]
        }
      ]
    },
    {
      "cell_type": "code",
      "source": [
        "# 제너레이터 예시\n",
        "\n",
        "# 파이썬에서는 제너레이터라는 기능도 제공합니다. \n",
        "# 제너레이터를 사용하면 함수를 처리하는 도중에 잠시 중단하고, \n",
        "# 값을 반환할 수 있으며, 이를 yield라고도 부릅니다. \n",
        "# 이후 필요에 따라 처리를 할 수도 있습니다.\n",
        "\n",
        "# 제너레이터 함수의 반환값은 generator 타입 변수입니다. \n",
        "# 제너레이터 객체는 next함수를 이용해 다음 값을 반환할 수 있습니다."
      ],
      "metadata": {
        "id": "hjm1ISHLYy5x"
      },
      "execution_count": null,
      "outputs": []
    },
    {
      "cell_type": "code",
      "source": [
        "def sample_generator():\n",
        "  \"\"\"제너레이터 함수\"\"\"\n",
        "  print(\"처리 시작\")\n",
        "  print(\"처리 재개\")\n",
        "  print(\"처리 재개\")\n",
        "\n",
        "gen_obj = sample_generator() #제너레이터 객체 생성"
      ],
      "metadata": {
        "colab": {
          "base_uri": "https://localhost:8080/"
        },
        "id": "q2S2n62FZ-JM",
        "outputId": "a578ad5f-413d-4d7d-b433-35dd7659fe1d"
      },
      "execution_count": null,
      "outputs": [
        {
          "output_type": "stream",
          "name": "stdout",
          "text": [
            "처리 시작\n",
            "처리 재개\n",
            "처리 재개\n"
          ]
        }
      ]
    },
    {
      "cell_type": "code",
      "source": [
        "def sample_generator():\n",
        "  \"\"\"제너레이터 함수\"\"\"\n",
        "  print(\"처리 시작\")\n",
        "  yield \"아침 먹자\"\n",
        "  print(\"처리 재개\")\n",
        "  yield \"점심 먹자\"\n",
        "  print(\"처리 재개\")\n",
        "  yield \"저녁 먹자\"\n",
        "\n",
        "gen_obj = sample_generator() #제너레이터 객체 생성\n",
        "print(next(gen_obj))"
      ],
      "metadata": {
        "colab": {
          "base_uri": "https://localhost:8080/"
        },
        "id": "-XDDP9H0Z_h9",
        "outputId": "04570b29-8a01-40a2-e9e1-8720c81112e5"
      },
      "execution_count": null,
      "outputs": [
        {
          "output_type": "stream",
          "name": "stdout",
          "text": [
            "처리 시작\n",
            "아침 먹자\n"
          ]
        }
      ]
    },
    {
      "cell_type": "code",
      "source": [
        "print(next(gen_obj))"
      ],
      "metadata": {
        "colab": {
          "base_uri": "https://localhost:8080/"
        },
        "id": "DRxPca4gaA8x",
        "outputId": "bfa085e4-6502-4390-c0db-e7382bd05f7c"
      },
      "execution_count": null,
      "outputs": [
        {
          "output_type": "stream",
          "name": "stdout",
          "text": [
            "처리 재개\n",
            "점심 먹자\n"
          ]
        }
      ]
    },
    {
      "cell_type": "code",
      "source": [
        "print(next(gen_obj))"
      ],
      "metadata": {
        "colab": {
          "base_uri": "https://localhost:8080/"
        },
        "id": "BjGhb9dZaB9j",
        "outputId": "e5585369-8a27-4676-8bca-2aaf3fa4f7d1"
      },
      "execution_count": null,
      "outputs": [
        {
          "output_type": "stream",
          "name": "stdout",
          "text": [
            "처리 재개\n",
            "저녁 먹자\n"
          ]
        }
      ]
    },
    {
      "cell_type": "code",
      "source": [
        "# next로 호출될때까지 실행이 중단되는것을 볼 수 있습니다. \n",
        "# 그리고 다시 next로 실행하면 yield가 실행되는것까지 재개되는것을 볼 수 있습니다. "
      ],
      "metadata": {
        "id": "loQF63R8aDbN"
      },
      "execution_count": null,
      "outputs": []
    },
    {
      "cell_type": "markdown",
      "source": [
        "# 클래스 복습"
      ],
      "metadata": {
        "id": "SyHWlpPMau3x"
      }
    },
    {
      "cell_type": "code",
      "source": [
        "class 클래스명:\n",
        "  def __init__(self, 인수):\n",
        "    초기화 처리\n",
        "\n",
        "  def 메서드명(self,인수):\n",
        "    메서드 행동"
      ],
      "metadata": {
        "id": "Oj5xzdRZawC9"
      },
      "execution_count": null,
      "outputs": []
    },
    {
      "cell_type": "code",
      "source": [
        "# 객체 = 클래스명(인수) - 객체 생성\n",
        "# 객체.인스턴스변수 인스턴스변수에 접근\n",
        "# 객체.메서드명(인수) 메서드 호출"
      ],
      "metadata": {
        "id": "83MQ26X-bJEo"
      },
      "execution_count": null,
      "outputs": []
    },
    {
      "cell_type": "code",
      "source": [
        "class User:\n",
        "\n",
        "  def __init__(self, name, mail):\n",
        "    \"\"\" 초기화 처리\"\"\"\n",
        "    self.name = name\n",
        "    self.mail = mail\n",
        "\n",
        "  def print_user_info(self):\n",
        "    \"\"\" 사용자 정보를 Print로 출력\"\"\"\n",
        "    print(self.name)\n",
        "    print(self.mail)"
      ],
      "metadata": {
        "id": "TysYolnBcNkU"
      },
      "execution_count": null,
      "outputs": []
    },
    {
      "cell_type": "code",
      "source": [
        "# 객체 생성\n",
        "# 객체 = 클래스명(인수) - 객체 생성\n",
        "user = User(\"User1\", \"222@naver.com\")"
      ],
      "metadata": {
        "id": "z_3EfKN2cOSf"
      },
      "execution_count": null,
      "outputs": []
    },
    {
      "cell_type": "code",
      "source": [
        "# 인스턴스 변수 호출\n",
        "user.mail"
      ],
      "metadata": {
        "colab": {
          "base_uri": "https://localhost:8080/",
          "height": 35
        },
        "id": "-f6_6qEadKbe",
        "outputId": "a45d187b-c61d-490d-f30a-37b2bc103e6a"
      },
      "execution_count": null,
      "outputs": [
        {
          "output_type": "execute_result",
          "data": {
            "text/plain": [
              "'222@naver.com'"
            ],
            "application/vnd.google.colaboratory.intrinsic+json": {
              "type": "string"
            }
          },
          "metadata": {},
          "execution_count": 30
        }
      ]
    },
    {
      "cell_type": "code",
      "source": [
        "#메서드 호출\n",
        "user.print_user_info()"
      ],
      "metadata": {
        "colab": {
          "base_uri": "https://localhost:8080/"
        },
        "id": "ZqbS4UQ7dMzM",
        "outputId": "dab8a152-2def-4605-8c2c-a92af45a7634"
      },
      "execution_count": null,
      "outputs": [
        {
          "output_type": "stream",
          "name": "stdout",
          "text": [
            "User1\n",
            "222@naver.com\n"
          ]
        }
      ]
    },
    {
      "cell_type": "code",
      "source": [
        "\n",
        "# 인스턴스 변수 호출\n",
        "user.name\n",
        "#메서드 호출\n",
        "user.print_user_info()\n",
        "#인스턴스 변수 갱신\n",
        "user.name = \"User2\"\n",
        "#메서드 재호출 - 갱신 확인\n",
        "user.print_user_info()"
      ],
      "metadata": {
        "colab": {
          "base_uri": "https://localhost:8080/"
        },
        "id": "-IC7kFgIdNcB",
        "outputId": "c5ef633c-a8f3-4f34-c957-da0e406a2f3a"
      },
      "execution_count": null,
      "outputs": [
        {
          "output_type": "stream",
          "name": "stdout",
          "text": [
            "User1\n",
            "222@naver.com\n",
            "User2\n",
            "222@naver.com\n"
          ]
        }
      ]
    },
    {
      "cell_type": "code",
      "source": [
        "#인스턴스 변수 갱신\n",
        "user.name = \"User2\"\n",
        "#메서드 재호출 - 갱신 확인\n",
        "user.print_user_info()"
      ],
      "metadata": {
        "colab": {
          "base_uri": "https://localhost:8080/"
        },
        "id": "VE4RygAZdOGM",
        "outputId": "8fbe3d02-262d-45af-d619-3a0537dff999"
      },
      "execution_count": null,
      "outputs": [
        {
          "output_type": "stream",
          "name": "stdout",
          "text": [
            "User2\n",
            "222@naver.com\n"
          ]
        }
      ]
    },
    {
      "cell_type": "code",
      "source": [
        "# 클래스 예시\n",
        "class User:\n",
        "\n",
        "  def __init__(self, name, mail):\n",
        "    \"\"\" 초기화 처리\"\"\"\n",
        "    self.name = name\n",
        "    self.mail = mail\n",
        "\n",
        "  def print_user_info(self, address):\n",
        "    \"\"\" 사용자 정보를 Print로 출력\"\"\"\n",
        "    print(self.name) \n",
        "    print(self.mail)\n",
        "    print(address)"
      ],
      "metadata": {
        "id": "8UuUiYj8dmNL"
      },
      "execution_count": null,
      "outputs": []
    },
    {
      "cell_type": "code",
      "source": [
        "# 객체 생성\n",
        "# 객체 = 클래스명(인수) - 객체 생성\n",
        "user = User(\"User1\", \"222@naver.com\")"
      ],
      "metadata": {
        "id": "IcK1eml3dnN5"
      },
      "execution_count": null,
      "outputs": []
    },
    {
      "cell_type": "code",
      "source": [
        "user.print_user_info('서울특별시')"
      ],
      "metadata": {
        "colab": {
          "base_uri": "https://localhost:8080/"
        },
        "id": "FlVt7vH6drWD",
        "outputId": "160a40e0-e6e9-404c-c936-24775e9ba7d7"
      },
      "execution_count": null,
      "outputs": [
        {
          "output_type": "stream",
          "name": "stdout",
          "text": [
            "User1\n",
            "222@naver.com\n",
            "서울특별시\n"
          ]
        }
      ]
    },
    {
      "cell_type": "code",
      "source": [
        "# 클래스 상속\n",
        "\n",
        "class 클래스명(상속할 클래스):\n",
        "    def __init__(self, 인수):\n",
        "        super().__init__(인수)\n",
        "        상속받은 클래스에서의 초기화 처리\n",
        "        "
      ],
      "metadata": {
        "id": "PEjKTYI6dtM-"
      },
      "execution_count": null,
      "outputs": []
    },
    {
      "cell_type": "code",
      "source": [
        "# 부모클래스\n",
        "class User:\n",
        "\n",
        "  def __init__(self, name, mail):\n",
        "    \"\"\" 초기화 처리\"\"\"\n",
        "    self.name = name\n",
        "    self.mail = mail\n",
        "\n",
        "  def print_user_info(self):\n",
        "    \"\"\" 사용자 정보를 Print로 출력\"\"\"\n",
        "    print(self.name)\n",
        "    print(self.mail)"
      ],
      "metadata": {
        "id": "eJO-2DbDeD8x"
      },
      "execution_count": null,
      "outputs": []
    },
    {
      "cell_type": "code",
      "source": [
        "class StudentUser(User):\n",
        "  def __init__(self, name, mail, grade):\n",
        "    super().__init__(name, mail)\n",
        "    self.grade = grade\n",
        "\n",
        "  def answer_question(self):\n",
        "    print(\"문제에 대답합니다.\")\n",
        "\n",
        "  def print_grade(self):\n",
        "    print(self.grade, self.name, self.mail)"
      ],
      "metadata": {
        "id": "oz89Qx09elap"
      },
      "execution_count": null,
      "outputs": []
    },
    {
      "cell_type": "code",
      "source": [
        "# 상속 받을 자녀 클래스\n",
        "class StudentUser(User): # StudentUser가 상속 받음\n",
        "  def __init__(self, name, mail, grade):\n",
        "    super().__init__(name, mail)\n",
        "    self.grade = grade\n",
        "\n",
        "  def answer_question(self):\n",
        "    print(\"문제에 대답합니다.\")\n",
        "\n",
        "  def print_grade(self):\n",
        "    print(self.grade, self.name, self.mail)"
      ],
      "metadata": {
        "id": "bA5VTGbYemWo"
      },
      "execution_count": null,
      "outputs": []
    },
    {
      "cell_type": "code",
      "source": [
        "student = StudentUser(\"Student1\", \"Student1@1.1\", 3)"
      ],
      "metadata": {
        "id": "4axAEdk2eqmG"
      },
      "execution_count": null,
      "outputs": []
    },
    {
      "cell_type": "code",
      "source": [
        "#상속받은 User메서드 실행\n",
        "student.print_user_info()"
      ],
      "metadata": {
        "colab": {
          "base_uri": "https://localhost:8080/"
        },
        "id": "o3ZvWv6-fwd9",
        "outputId": "482a0d77-2ce5-4e02-cae2-2ef6db7c1ad8"
      },
      "execution_count": null,
      "outputs": [
        {
          "output_type": "stream",
          "name": "stdout",
          "text": [
            "Student1\n",
            "Student1@1.1\n"
          ]
        }
      ]
    },
    {
      "cell_type": "code",
      "source": [
        "#StudentUser메서드 실행\n",
        "student.answer_question()\n",
        "student.print_grade()"
      ],
      "metadata": {
        "colab": {
          "base_uri": "https://localhost:8080/"
        },
        "id": "neqKbOAsfxUX",
        "outputId": "ed1b7097-964f-4f89-dd5c-744aac7774e6"
      },
      "execution_count": null,
      "outputs": [
        {
          "output_type": "stream",
          "name": "stdout",
          "text": [
            "문제에 대답합니다.\n",
            "3 Student1 Student1@1.1\n"
          ]
        }
      ]
    },
    {
      "cell_type": "code",
      "source": [
        "# 메서드 종류"
      ],
      "metadata": {
        "id": "ia-AgpMIfyDz"
      },
      "execution_count": null,
      "outputs": []
    },
    {
      "cell_type": "markdown",
      "source": [
        "로드 중...\n",
        "로드 중...\n",
        "파이썬_복습_최종.ipynb\n",
        "파이썬_복습_최종.ipynb_노트북 별표 삭제됨\n",
        "1. 함수_복습\n",
        "[ ]\n",
        "# 함수 정의\n",
        "\n",
        "def add(x, y):\n",
        "    value = x + y\n",
        "    return value\n",
        "\n",
        "add(3,4)\n",
        "7\n",
        "[ ]\n",
        "# 가장 선호\n",
        "x = add(3,4)\n",
        "print(x)\n",
        "7\n",
        "[ ]\n",
        "print(add(3,4))\n",
        "7\n",
        "[ ]\n",
        "# 위치 인수의 예시\n",
        "\n",
        "def sum_tax(price, unit, fee, tax_rate):\n",
        "  return price * unit + fee + tax_rate\n",
        "\n",
        "x = sum_tax(1000,2000,3000,4000)\n",
        "\n",
        "print(x)\n",
        "2007000\n",
        "[ ]\n",
        "def sum_tax(price, unit, fee, tax_rate):\n",
        "  return price * unit + fee + tax_rate\n",
        "\n",
        "x = sum_tax(3000,1000,2000,4000)\n",
        "\n",
        "print(x)\n",
        "3006000\n",
        "[ ]\n",
        "# 키워드 인수 예제 \n",
        "x = sum_tax(price = 1000, unit = 2000,fee = 3000,tax_rate = 4000)\n",
        "\n",
        "print(x)\n",
        "2007000\n",
        "[ ]\n",
        "# 키워드 인수 + 위치 인수 예제 \n",
        "x = sum_tax(1000, 200, fee = 3000, 4000)\n",
        "\n",
        "print(x)\n",
        "\n",
        "[ ]\n",
        "# * arg의 예시\n",
        "\n",
        "def func(x, y , *args):\n",
        "  print(x)\n",
        "  print(y)\n",
        "  if args:\n",
        "    print(args)\n",
        "\n",
        "func(1, 2)\n",
        "\n",
        "# *args를 사용하면 3,4,5에 대해서 패킹한다.\n",
        "func(1,2,3,4,5)\n",
        "1\n",
        "2\n",
        "1\n",
        "2\n",
        "(3, 4, 5)\n",
        "[ ]\n",
        "## **kwargs 예제 \n",
        "\n",
        "def func(x, y , **kwargs):\n",
        "  print(x)\n",
        "  print(y)\n",
        "  if kwargs:\n",
        "    print(kwargs)\n",
        "\n",
        "func(x = 1, y = 2, z = 3)\n",
        "print()\n",
        "# 딕셔너리 형태로 패킹\n",
        "func(x = 1,y = 2,z = 3,w = 4,r = 5)\n",
        "1\n",
        "2\n",
        "{'z': 3}\n",
        "\n",
        "1\n",
        "2\n",
        "{'z': 3, 'w': 4, 'r': 5}\n",
        "[ ]\n",
        "# *과 **의 조합\n",
        "\n",
        "def func(a, *args, **kwargs):\n",
        "  print(a)\n",
        "  print(args)\n",
        "  print(kwargs)\n",
        "\n",
        "func(1, 100, 200 ,x = 1, y = 2)\n",
        "print()\n",
        "func(1, 100, 200, x = 1,y = 2,z = 3,w = 4,r = 5)\n",
        "1\n",
        "(100, 200)\n",
        "{'x': 1, 'y': 2}\n",
        "\n",
        "1\n",
        "(100, 200)\n",
        "{'x': 1, 'y': 2, 'z': 3, 'w': 4, 'r': 5}\n",
        "[ ]\n",
        "# 함수 바깥에서의 *와 **는 언패킹이 된다.\n",
        "\n",
        "# [리스트, 튜플 언패킹]\n",
        "\n",
        "def func(x, y, z):\n",
        "  print(x, y, z)\n",
        "  return x + y + z\n",
        "\n",
        "params = [1,2,3] # -> func(1,2,3)\n",
        "\n",
        "w = func(*params)\n",
        "print(w)\n",
        "1 2 3\n",
        "6\n",
        "[ ]\n",
        "# 딕셔너리 언패킹\n",
        "\n",
        "def func(x,y,z):\n",
        "  print(x,y,z)\n",
        "  return x + y+ z\n",
        "\n",
        "params = {\"x\" : 1, \"y\" : 2, \"z\" : 3} # -> func(1,2,3)\n",
        "w = func(**params)\n",
        "print(w)\n",
        "1 2 3\n",
        "6\n",
        "[ ]\n",
        "# 언패킹 결합\n",
        "\n",
        "def func(x,y,z,a,b):\n",
        "  print(x,y,z,a,b)\n",
        "  return x+y+z+a+b\n",
        "\n",
        "params1 = [1,2,3]\n",
        "params2 = {\"a\" : 4, \"b\" : 5}\n",
        "w = func(*params1, **params2)\n",
        "print(w)\n",
        "1 2 3 4 5\n",
        "15\n",
        "[ ]\n",
        "# 함수의 변수화\n",
        "\n",
        "def add_num(x,y):\n",
        "  return x+y\n",
        "\n",
        "f = add_num\n",
        "\n",
        "y = add_num(100,200)\n",
        "print(y)\n",
        "\n",
        "x = f(100,200)\n",
        "print(x)\n",
        "300\n",
        "300\n",
        "[ ]\n",
        "# 데코레이터\n",
        "def uppercase_decorator(func):\n",
        "    def wrapper():\n",
        "        result = func().upper()\n",
        "        return result\n",
        "    return wrapper\n",
        "\n",
        "def say_hello():\n",
        "    return \"hello\"\n",
        "\n",
        "print(say_hello())  # 출력: HELLO\n",
        "hello\n",
        "[ ]\n",
        "def uppercase_decorator(func):\n",
        "    def wrapper():\n",
        "        result = func().upper()\n",
        "        return result\n",
        "    return wrapper\n",
        "\n",
        "@uppercase_decorator\n",
        "def say_hello():\n",
        "    return \"hello\"\n",
        "\n",
        "print(say_hello())  # 출력: HELLO\n",
        "HELLO\n",
        "[ ]\n",
        "# 제너레이터 예시\n",
        "\n",
        "# 파이썬에서는 제너레이터라는 기능도 제공합니다. \n",
        "# 제너레이터를 사용하면 함수를 처리하는 도중에 잠시 중단하고, \n",
        "# 값을 반환할 수 있으며, 이를 yield라고도 부릅니다. \n",
        "# 이후 필요에 따라 처리를 할 수도 있습니다.\n",
        "\n",
        "# 제너레이터 함수의 반환값은 generator 타입 변수입니다. \n",
        "# 제너레이터 객체는 next함수를 이용해 다음 값을 반환할 수 있습니다.\n",
        "[ ]\n",
        "def sample_generator():\n",
        "  \"\"\"제너레이터 함수\"\"\"\n",
        "  print(\"처리 시작\")\n",
        "  print(\"처리 재개\")\n",
        "  print(\"처리 재개\")\n",
        "\n",
        "gen_obj = sample_generator() #제너레이터 객체 생성\n",
        "처리 시작\n",
        "처리 재개\n",
        "처리 재개\n",
        "[ ]\n",
        "def sample_generator():\n",
        "  \"\"\"제너레이터 함수\"\"\"\n",
        "  print(\"처리 시작\")\n",
        "  yield \"아침 먹자\"\n",
        "  print(\"처리 재개\")\n",
        "  yield \"점심 먹자\"\n",
        "  print(\"처리 재개\")\n",
        "  yield \"저녁 먹자\"\n",
        "\n",
        "gen_obj = sample_generator() #제너레이터 객체 생성\n",
        "print(next(gen_obj))\n",
        "처리 시작\n",
        "아침 먹자\n",
        "[ ]\n",
        "print(next(gen_obj))\n",
        "처리 재개\n",
        "점심 먹자\n",
        "[ ]\n",
        "print(next(gen_obj))\n",
        "처리 재개\n",
        "저녁 먹자\n",
        "[ ]\n",
        "# next로 호출될때까지 실행이 중단되는것을 볼 수 있습니다. \n",
        "# 그리고 다시 next로 실행하면 yield가 실행되는것까지 재개되는것을 볼 수 있습니다. \n",
        "클래스 복습\n",
        "[ ]\n",
        "class 클래스명:\n",
        "  def __init__(self, 인수):\n",
        "    self.인수 = 인수\n",
        "    self.인수1 = 인수1\n",
        "\n",
        "  def 메서드명(self,인수):\n",
        "    메서드 행동\n",
        "[ ]\n",
        "# 객체 = 클래스명(인수) - 객체 생성\n",
        "# 객체.인스턴스변수 인스턴스변수에 접근\n",
        "# 객체.메서드명(인수) 메서드 호출\n",
        "[ ]\n",
        "# 클래스 예시\n",
        "class User:\n",
        "\n",
        "  def __init__(self, name, mail):\n",
        "    \"\"\" 초기화 처리\"\"\"\n",
        "    self.name = name\n",
        "    self.mail = mail\n",
        "\n",
        "  def print_user_info(self):\n",
        "    \"\"\" 사용자 정보를 Print로 출력\"\"\"\n",
        "    print(self.name) \n",
        "    print(self.mail)\n",
        "[ ]\n",
        "# 객체 생성\n",
        "# 객체 = 클래스명(인수) - 객체 생성\n",
        "user = User(\"User1\", \"222@naver.com\")\n",
        "[ ]\n",
        "# 인스턴스 변수 호출\n",
        "user.mail\n",
        "\n",
        "[ ]\n",
        "#메서드 호출\n",
        "user.print_user_info()\n",
        "User1\n",
        "222@naver.com\n",
        "[ ]\n",
        "#인스턴스 변수 갱신\n",
        "user.name = \"User2\"\n",
        "#메서드 재호출 - 갱신 확인\n",
        "user.print_user_info()\n",
        "User2\n",
        "222@naver.com\n",
        "[ ]\n",
        "# 클래스 예시\n",
        "class User:\n",
        "\n",
        "  def __init__(self, name, mail):\n",
        "    \"\"\" 초기화 처리\"\"\"\n",
        "    self.name = name\n",
        "    self.mail = mail\n",
        "\n",
        "  def print_user_info(self, address):\n",
        "    \"\"\" 사용자 정보를 Print로 출력\"\"\"\n",
        "    print(self.name) \n",
        "    print(self.mail)\n",
        "    print(address)\n",
        "[ ]\n",
        "# 객체 생성\n",
        "# 객체 = 클래스명(인수) - 객체 생성\n",
        "user = User(\"User1\", \"222@naver.com\")\n",
        "[ ]\n",
        "user.print_user_info('서울특별시')\n",
        "User1\n",
        "222@naver.com\n",
        "서울특별시\n",
        "[ ]\n",
        "# 클래스 상속\n",
        "\n",
        "class 클래스명(상속할 클래스)\n",
        "  def __init__(self, 인수):\n",
        "    super().__init__(인수)\n",
        "    상속받은 클래스에서의 초기화처리\n",
        "[ ]\n",
        "# 부모 클래스\n",
        "class User:\n",
        "\n",
        "  def __init__(self, name, mail):\n",
        "    \"\"\" 초기화 처리\"\"\"\n",
        "    self.name = name\n",
        "    self.mail = mail\n",
        "\n",
        "  def print_user_info(self):\n",
        "    \"\"\" 사용자 정보를 Print로 출력\"\"\"\n",
        "    print(self.name)\n",
        "    print(self.mail)\n",
        "[ ]\n",
        "# 상속 받을 자녀 클래스\n",
        "class StudentUser(User): # StudentUser가 상속 받음\n",
        "\n",
        "  def __init__(self, name, mail, grade):\n",
        "    # 자녀클래스에서도 __init__을 통해서 초기화 메서드를 생성하려면\n",
        "    # super().__init__(인자)\n",
        "    super().__init__(name, mail)\n",
        "    self.grade = grade\n",
        "\n",
        "  def answer_question(self):\n",
        "    print(\"문제에 대답합니다.\")\n",
        "\n",
        "  def print_grade(self):\n",
        "    print(self.grade, self.name, self.mail)\n",
        "[ ]\n",
        "student = StudentUser(\"Student1\", \"Student1@1.1\", 3)\n",
        "[ ]\n",
        "#상속받은 User메서드 실행\n",
        "student.print_user_info()\n",
        "Student1\n",
        "Student1@1.1\n",
        "[ ]\n",
        "#StudentUser메서드 실행\n",
        "student.answer_question()\n",
        "student.print_grade()\n",
        "문제에 대답합니다.\n",
        "3 Student1 Student1@1.1\n",
        "[ ]\n",
        "# 메서드 종류\n",
        "인스턴스 메서드 - self로 설정한 클래스 기본 메서드 인스턴스 변수와 클래스변수에 접근가능\n",
        "\n",
        "클래스 메서드 - 인스턴스를 생성하지 않고 접근할 수 있는 메서드로 클래스 변수에 접근할 수 있지만 인스턴스 변수에는 접근할 수 없다.\n",
        "\n",
        "클래스 메서드를 정의할때는 @classmethod 데커레이터를 추가합니다. 그리고 첫번째 인수에 클래스 객체가 자동으로 설정됩니다.\n",
        "\n",
        "정적 메서드 - 클래스 메서드와 동일하게 인스턴스를 생성하지 않고 접근할 수 있지만 인스턴스 변수와 클래스변수 모두에 접근할 수 없습니다. @staticmethod 데커레이터를 추가하며, 실질적으로 함수와 같은것이라고 보면되는데, 함수를 적절한 클래스에 포함시키는 편이 설계상으로 바람직할때 사용합니다.\n",
        "\n",
        "[ ]\n",
        "Colab 유료 제품 - 여기에서 계약 취소\n"
      ],
      "metadata": {
        "id": "5bqVFQGDgkVo"
      }
    },
    {
      "cell_type": "code",
      "source": [
        "# 비공개 메서드\n",
        "\n",
        "# 팀 단위의 개발에서 객체 지향 방식으로 구현할때는 \n",
        "# 변수 및 메서드를 외부에서 조작하지 못하도록 해야할때가 있다. \n",
        "# 변수나 메서드 앞에 __를 2개 사용해서 접근을 막을 수 있다.\n",
        "\n",
        "class Sample():\n",
        "  def __init__(self, val1):\n",
        "    self.__instance_val1 = val1\n",
        "\n",
        "  def __private_method(self):\n",
        "    print(self.__instance_val1)\n",
        "\n",
        "s = Sample(10)"
      ],
      "metadata": {
        "id": "5DiYHfYLglDr"
      },
      "execution_count": null,
      "outputs": []
    },
    {
      "cell_type": "code",
      "source": [
        "# 특수 메서드\n",
        "# str 메서드 - 객체 표시용 문자열\n",
        "# repr 메서드 - 객체 정보를 나타내는 문자열\n"
      ],
      "metadata": {
        "id": "XxQjILqah113"
      },
      "execution_count": null,
      "outputs": []
    },
    {
      "cell_type": "code",
      "source": [
        "class User:\n",
        "  def __init__(self, name, mail):\n",
        "    self.name = name\n",
        "    self.mail = mail\n",
        "\n",
        "  def __str__(self):\n",
        "    return self.name + self.mail\n",
        "\n",
        "  def __repr__(self):\n",
        "    return str({'name' : self.name, 'mail' : self.mail})\n",
        "\n",
        "user = User(\"홍길동\", \"happy@naever.com\")\n",
        "print(user)\n",
        "print(repr(user))"
      ],
      "metadata": {
        "colab": {
          "base_uri": "https://localhost:8080/"
        },
        "id": "53C_Xvt4naXD",
        "outputId": "83335431-52a0-4c8c-abed-0c6b4fe238a9"
      },
      "execution_count": null,
      "outputs": [
        {
          "output_type": "stream",
          "name": "stdout",
          "text": [
            "홍길동happy@naever.com\n",
            "{'name': '홍길동', 'mail': 'happy@naever.com'}\n"
          ]
        }
      ]
    },
    {
      "cell_type": "markdown",
      "source": [
        "# 정규표현식"
      ],
      "metadata": {
        "id": "00TsHEv0r6Gw"
      }
    },
    {
      "cell_type": "code",
      "source": [
        "# 정규표현식 기본\n",
        "\n",
        "# re -> 모듈을 불러와야 수행가능\n",
        "import re\n",
        "\n",
        "# [raw 문자열 사용]\n",
        "\n",
        "# 파이썬에서는 정규표현식 문자열을 사용할때 이스케이프가 필요한 메타문자가 있다. \n",
        "# 그래서 raw문자 사용을 권한다.\n",
        "\n",
        "# 만약 \\my-host\\라는 문자가 있는 경우\\\n",
        "# raw문자열이 없으면 \\\\\\\\my-host\\\\\\\\가 되지만\n",
        "# raw문자열을 사용하면 \\\\my-host\\\\가 된다.  앞에 r을 붙이면 된다."
      ],
      "metadata": {
        "id": "ES0LP4h4na-3"
      },
      "execution_count": null,
      "outputs": []
    },
    {
      "cell_type": "code",
      "source": [
        "# findall\n",
        "\n",
        "# 지정한 정규표현식에 일치하는 문자열을 리스트로 반환\n",
        "# findall 함수를 사용하면 지정한 조건에 일치하는 문자열을 리스트로 얻을 수 있습니다."
      ],
      "metadata": {
        "id": "oxlQKXrGr7Lb"
      },
      "execution_count": null,
      "outputs": []
    },
    {
      "cell_type": "code",
      "source": [
        "import re\n",
        "\n",
        "text1 = \"In the face of ambiguity, refuse the temptation to guess\"\n",
        "match_list = re.findall(r\"t.\", text1)\n",
        "#2글자를 찾되 첫글자가 t\n",
        "\n",
        "print(match_list)"
      ],
      "metadata": {
        "colab": {
          "base_uri": "https://localhost:8080/"
        },
        "id": "ENFg-Xkpr737",
        "outputId": "2b5aa3cf-fc15-4535-f120-bf126fb3ffaa"
      },
      "execution_count": null,
      "outputs": [
        {
          "output_type": "stream",
          "name": "stdout",
          "text": [
            "['th', 'ty', 'th', 'te', 'ta', 'ti', 'to']\n"
          ]
        }
      ]
    },
    {
      "cell_type": "code",
      "source": [
        "# sub\n",
        "\n",
        "# 정규표현식으로 치환한 값을 반영하여 문자열을 반환\n",
        "\n",
        "import re\n",
        "\n",
        "text = \"Beautiful is better than ugly\"\n",
        "#sub(대체 해야할 문자 / 대체 할 문자 / 데이터)\n",
        "replaced = re.sub(r\" \", \"_\", text) #공백문자는 \\s로도 쓰입니다.\n",
        "print(replaced)"
      ],
      "metadata": {
        "colab": {
          "base_uri": "https://localhost:8080/"
        },
        "id": "GQc12-sRr9FX",
        "outputId": "e3764de2-cfce-4f9c-e548-267e5a1ec04e"
      },
      "execution_count": null,
      "outputs": [
        {
          "output_type": "stream",
          "name": "stdout",
          "text": [
            "Beautiful_is_better_than_ugly\n"
          ]
        }
      ]
    },
    {
      "cell_type": "code",
      "source": [
        "# split\n",
        "\n",
        "# 정규 표현식에 일치한 위치에서 분할한 문자열 리스트를 반환"
      ],
      "metadata": {
        "id": "cOnf-8uMr9_C"
      },
      "execution_count": null,
      "outputs": []
    },
    {
      "cell_type": "code",
      "source": [
        "# 정규표현식으로 텍스트 분할하기\n",
        "\n",
        "# split함수를 사용하면 정규 표현식에 일치한 위치에서 분할한 문자열 리스트를 얻을 수 있습니다.\n",
        "\n",
        "text = 'Simple is Best'\n",
        "# ^ -> 문자의 시작 \n",
        "# + 직전 정규표현식을 1회이상 반복\n",
        "replaced = re.split((r\"[^a-zA-Z]+\"), text)\n",
        "print(replaced)\n",
        "\n",
        "#[^a-zA-Z0-9]+는 정규 표현식(regular expression)에서 사용되는 특수한 패턴으로, \n",
        "#알파벳 대소문자와 숫자가 아닌 문자들이 하나 이상 연속해서 나타나는 경우를 의미합니다.\n",
        "# 결국 공백을 구분자로 해서 분리"
      ],
      "metadata": {
        "colab": {
          "base_uri": "https://localhost:8080/"
        },
        "id": "UT-Y10oqr_j-",
        "outputId": "91eaffd8-2e01-45b1-fcc6-f604b2c80f01"
      },
      "execution_count": null,
      "outputs": [
        {
          "output_type": "stream",
          "name": "stdout",
          "text": [
            "['Simple', 'is', 'Best']\n"
          ]
        }
      ]
    },
    {
      "cell_type": "code",
      "source": [
        "# 정규표현식으로 텍스트 분할하기\n",
        "\n",
        "# split함수를 사용하면 정규 표현식에 일치한 위치에서 분할한 문자열 리스트를 얻을 수 있습니다.\n",
        "\n",
        "text = 'Simple is Best'\n",
        "# ^ -> 문자의 시작 \n",
        "# + 직전 정규표현식을 1회이상 반복\n",
        "replaced = re.split((r\"[^a-zA-Z]+\"), text)\n",
        "print(replaced)\n",
        "\n",
        "#[^a-zA-Z0-9]+는 정규 표현식(regular expression)에서 사용되는 특수한 패턴으로, \n",
        "#알파벳 대소문자와 숫자가 아닌 문자들이 하나 이상 연속해서 나타나는 경우를 의미합니다.\n",
        "# 결국 공백을 구분자로 해서 분리"
      ],
      "metadata": {
        "colab": {
          "base_uri": "https://localhost:8080/"
        },
        "id": "BYEBM0VAr_1R",
        "outputId": "2604e671-1acc-471d-db93-c051b122591e"
      },
      "execution_count": null,
      "outputs": [
        {
          "output_type": "stream",
          "name": "stdout",
          "text": [
            "['Simple', 'is', 'Best']\n"
          ]
        }
      ]
    },
    {
      "cell_type": "code",
      "source": [
        "# 정규표현식으로 텍스트 분할하기\n",
        "\n",
        "# split함수를 사용하면 정규 표현식에 일치한 위치에서 분할한 문자열 리스트를 얻을 수 있습니다.\n",
        "\n",
        "text = 'Simple is Best'\n",
        "# ^ -> 문자의 시작 ㅁ\n",
        "# + 직전 정규표현식을 1회이상 반복\n",
        "replaced = re.split((r\"[^a-zA-Z]+\"), text)\n",
        "print(replaced)\n",
        "\n",
        "#[^a-zA-Z0-9]+는 정규 표현식(regular expression)에서 사용되는 특수한 패턴으로, \n",
        "#알파벳 대소문자와 숫자가 아닌 문자들이 하나 이상 연속해서 나타나는 경우를 의미합니다.\n",
        "# 결국 공백을 구분자로 해서 분리"
      ],
      "metadata": {
        "colab": {
          "base_uri": "https://localhost:8080/"
        },
        "id": "RnBOwwo4sA7Z",
        "outputId": "8e5626cb-6e46-48cc-f2e1-76ba100aeb38"
      },
      "execution_count": null,
      "outputs": [
        {
          "output_type": "stream",
          "name": "stdout",
          "text": [
            "['Simple', 'is', 'Best']\n"
          ]
        }
      ]
    },
    {
      "cell_type": "code",
      "source": [
        "# 정규표현식의 그룹은 데이터 분석 할때 자주 사용하는 기능으로\n",
        "# 원하는 객체를 그루핑할 수 있다라는 장점이 있습니다.\n",
        "\n",
        "# 제품 -> [0-9]+\n",
        "# 카탈로그 코드 [0-9A-Z]+\n",
        "# 제품명 .*\n",
        "# 구분 문자 공백\n",
        "\n",
        "# ([0-9]+) +([ 0-9 A-Z]+) +(.*)\n",
        "\n",
        "#홈쇼핑#\n",
        "text = \"\"\"\n",
        "101 CF001 커피 \n",
        "102 CF002 커피(대용량)\n",
        "201 TE01 홍차\n",
        "202 TE02 홍차(대용량)\n",
        "\"\"\"\n",
        "#group 1 \n",
        "#group 2\n",
        "#group 3\n",
        "items = re.findall(r'([0-9]+) +([ 0-9 A-Z]+) +(.*)', text)\n",
        "print(items)"
      ],
      "metadata": {
        "colab": {
          "base_uri": "https://localhost:8080/"
        },
        "id": "JPzobSJNuk1C",
        "outputId": "68123c56-d49b-4588-a7b4-8450e5df63d6"
      },
      "execution_count": null,
      "outputs": [
        {
          "output_type": "stream",
          "name": "stdout",
          "text": [
            "[('101', 'CF001', '커피 '), ('102', 'CF002', '커피(대용량)'), ('201', 'TE01', '홍차'), ('202', 'TE02', '홍차(대용량)')]\n"
          ]
        }
      ]
    },
    {
      "cell_type": "code",
      "source": [
        "# 정규표현식 일치하는 부분 확인\n",
        "\n",
        "# search함수 - 정규표현식과 일치하는 첫번째 위치정보가 저장된 Match객체를 반환"
      ],
      "metadata": {
        "id": "zftJaQdiuluS"
      },
      "execution_count": null,
      "outputs": []
    },
    {
      "cell_type": "code",
      "source": [
        "# 정규표현식과 일치하는 부분 확인\n",
        "\n",
        "# re 모듈의 serach함수는 정규표현식과 일치하는 첫 번째 위치 정보가 저장된 Match 객체를 반환\n",
        "# Match 객체를 사용하면 일치하는 위치의 문자열과 함께 시작 및 종료 위치 정보 확보 가능\n",
        "\n",
        "# match객체\n",
        "# start , end , group, groups 튜플 그룹\n",
        "\n",
        "import re\n",
        "\n",
        "text = 'Error should never pass silently'\n",
        "\n",
        "m_obj = re.search(r\"p...\", text)\n",
        "\n",
        "print(m_obj.group()) # 일치 문자열 ()로 묶인 것인 없음\n",
        "print(m_obj.start()) # 시작 인덱스\n",
        "print(m_obj.end()) # 끝 인덱스"
      ],
      "metadata": {
        "colab": {
          "base_uri": "https://localhost:8080/"
        },
        "id": "cUfdXwvAumx9",
        "outputId": "54f8af44-d067-43f2-c709-8d7b823ecc78"
      },
      "execution_count": null,
      "outputs": [
        {
          "output_type": "stream",
          "name": "stdout",
          "text": [
            "pass\n",
            "19\n",
            "23\n"
          ]
        }
      ]
    },
    {
      "cell_type": "code",
      "source": [
        "import re\n",
        "\n",
        "text = 'Errors should never pass silently'\n",
        "# 1번 그룹 - n.... n다음에 4글자가 아무거나\n",
        "# 2번 그룹 - P... n다음에 3글자가 아무거나\n",
        "\n",
        "m_obj = re.search(r\"(n....) (p...)\", text)\n",
        "print(m_obj.group())\n",
        "print(m_obj.groups())\n",
        "\n",
        "print(m_obj.start()) # 시작 인덱스\n",
        "print(m_obj.end()) # 끝 인덱스"
      ],
      "metadata": {
        "colab": {
          "base_uri": "https://localhost:8080/"
        },
        "id": "QlnouxYBune5",
        "outputId": "0269894c-ab9f-4c4e-d470-b0cd727e4a06"
      },
      "execution_count": null,
      "outputs": [
        {
          "output_type": "stream",
          "name": "stdout",
          "text": [
            "never pass\n",
            "('never', 'pass')\n",
            "14\n",
            "24\n"
          ]
        }
      ]
    },
    {
      "cell_type": "code",
      "source": [
        "# Greedy Lazy"
      ],
      "metadata": {
        "id": "c7DDLALAuomP"
      },
      "execution_count": null,
      "outputs": []
    },
    {
      "cell_type": "code",
      "source": [
        "# Greedy, Lazy 사용하기\n",
        "# 정규표현식이 패턴에 일치하는 문자열을 추출할때\n",
        "# 일치하는 최대한의 범위를 추출하는 상태를 greedy(탐욕)이라고 한다.\n",
        "\n",
        "# 최소한은  Lazy라고 하는데 파이썬은 기본적으로 greedy하지만\n",
        "# ?를 붙이는 순간 Lazy해진다. \n",
        "\n",
        "import re\n",
        "\n",
        "text = 'In the face of ambiguity, refuse the temptation to guess'\n",
        "\n",
        "match_list = re.findall(r\"t.*\\s\", text) # t에서 아무문자나 해서 직전까지 0번 반복되어 공백까지\n",
        "print(match_list)\n",
        "\n",
        "# ?를 붙이면 t에서 가장 가까운 공백까지만 일치하는 것을 찾는 것을 볼 수 있음"
      ],
      "metadata": {
        "colab": {
          "base_uri": "https://localhost:8080/"
        },
        "id": "AinBczcPupcs",
        "outputId": "e54f5d88-4063-4733-b8b5-4671ac61fdef"
      },
      "execution_count": null,
      "outputs": [
        {
          "output_type": "stream",
          "name": "stdout",
          "text": [
            "['the face of ambiguity, refuse the temptation to ']\n"
          ]
        }
      ]
    },
    {
      "cell_type": "code",
      "source": [
        "import re\n",
        "\n",
        "text = 'In the face of ambiguity, refuse the temptation to guess'\n",
        "\n",
        "match_list = re.findall(r\"t.*?\\s\", text) # t에서 아무문자나 해서 직전까지 0번 반복되어 공백까지\n",
        "print(match_list)"
      ],
      "metadata": {
        "colab": {
          "base_uri": "https://localhost:8080/"
        },
        "id": "01Eoi9pXuqSq",
        "outputId": "8ac22fbb-9cac-428a-d221-bc5c434a3032"
      },
      "execution_count": null,
      "outputs": [
        {
          "output_type": "stream",
          "name": "stdout",
          "text": [
            "['the ', 'ty, ', 'the ', 'temptation ', 'to ']\n"
          ]
        }
      ]
    },
    {
      "cell_type": "markdown",
      "source": [
        "[모듈이란?]\n",
        "\n",
        "파이썬에서 이미 작성된 프로그램을 모듈이라고 생각하면 쉬움\n",
        "그 프로그램의 묶음은 패키지이다.\n",
        "\n",
        "쉬운 예로 레고블럭 하나하나가 모듈이라고 생각하면 되고 그것이 모여 하나의 큰 모듈 및 패키지 완성품을 만들 수 있고, \n",
        "이러한 개념은 스마트폰이나 자동차등 생활 곳곳에서 볼 수 있음\n",
        "\n",
        "그러면 프로그래밍에서의 모듈은 무엇일까? -> 작은 프로그램의 조각을 뜻한다. 각 모듈은 저마다의 역할이 있다.\n",
        "\n",
        "우리는 이미 많은 모듈을 사용했었다. random 모듈 time 모듈 등 import를 해서 사용이 가능하고 기본적으로 파이썬에 내장되어있는 모듈을 위주로 사용했었다."
      ],
      "metadata": {
        "id": "POMZX9ucD7GY"
      }
    },
    {
      "cell_type": "markdown",
      "source": [
        "[패키지란?]\n",
        "\n",
        "# 패키지란?\n",
        "\n",
        "패키지는 쉽게 모듈의 묶음이다. from을 통해 모듈을 호출하는 경우가 있었는데\n",
        "이는 패키지는 출력하기 위한 수단이다.\n",
        "\n",
        "하나의 패키지 안에는 보통 여러 모듈이 있다.\n",
        "\n",
        "여러분들도 좋은 패키지가 많이 구현이 되어있기 때문에 앞으로 그런 패키지를 공부할것이고 데이터 분석에 활용할것임\n",
        "\n",
        "여러분들도 그러한 패키지를 만들어서 사회에 공헌했으면 하는 바램도 있음\n",
        "\n",
        "그러면 일단 우리가 사용했던 모듈과 더 살펴봐야할 모듈을 배워보고, 모듈을 직접 만들어 보자!!"
      ],
      "metadata": {
        "id": "HMCjDqiwD8HQ"
      }
    },
    {
      "cell_type": "markdown",
      "source": [
        "## 1.1 모듈과 패키지 사용하는 법\n",
        "\n",
        "지금까지 파이썬 코드를 작성하면서 input, print 등의 내장 함수(built-in function)를 주로 사용했는데, 내장 함수만으로는 할 수 있는게 별로 없습니다. 그래서 좀 더 복잡한 프로그램을 만들려면 파이썬의 모듈과 패키지를 사용해야 합니다. 우리가 책 중간 중간에 사용했던 random, turtle, pickle 등이 바로 모듈과 패키지입니다.\n",
        "\n",
        "모듈(module)은 각종 변수, 함수, 클래스를 담고 있는 파일이고, 패키지(package)는 여러 모듈을 묶은 것입니다. 파이썬을 설치할 때 다양한 모듈과 패키지가 기본으로 설치됩니다. 만약 기본 모듈과 패키지로 부족하다면 다른 사람이 만든 유명 모듈과 패키지를 설치해서 쓸 수도 있습니다."
      ],
      "metadata": {
        "id": "6p77cxqYEq9w"
      }
    },
    {
      "cell_type": "code",
      "source": [
        "# 모듈 예시 - 1\n",
        "import math\n",
        "\n",
        "math.pi"
      ],
      "metadata": {
        "colab": {
          "base_uri": "https://localhost:8080/"
        },
        "id": "RDb91viYD5oz",
        "outputId": "cf7f8001-b90a-49d0-dcfe-9efcd80cd610"
      },
      "execution_count": null,
      "outputs": [
        {
          "output_type": "execute_result",
          "data": {
            "text/plain": [
              "3.141592653589793"
            ]
          },
          "metadata": {},
          "execution_count": 62
        }
      ]
    },
    {
      "cell_type": "code",
      "source": [
        "math.sqrt(4)"
      ],
      "metadata": {
        "colab": {
          "base_uri": "https://localhost:8080/"
        },
        "id": "tf5AfnxzEsjv",
        "outputId": "af223dbd-0dba-479f-be8f-965ec61a7fcb"
      },
      "execution_count": null,
      "outputs": [
        {
          "output_type": "execute_result",
          "data": {
            "text/plain": [
              "2.0"
            ]
          },
          "metadata": {},
          "execution_count": 63
        }
      ]
    },
    {
      "cell_type": "code",
      "source": [
        "# 모듈의 에러\n",
        "\n",
        "#ModuleNotFoundError: No module named ...: \n",
        "#모듈의 이름이 잘못되었을 때 발생하는 에러입니다. 모듈 이름이 맞는지 확인해주세요.\n",
        "\n",
        "#AttributeError: module ... has no attribute ...: \n",
        "#모듈의 변수나 함수의 이름을 잘못되었을 때 발생하는 에러입니다. 변수, 함수의 이름이 맞는지 확인해주세요."
      ],
      "metadata": {
        "id": "w8uNSntkEvm9"
      },
      "execution_count": null,
      "outputs": []
    },
    {
      "cell_type": "code",
      "source": [
        "# Import as \n",
        "import 모듈 as 이름"
      ],
      "metadata": {
        "id": "4-FpW-ArFFuj"
      },
      "execution_count": null,
      "outputs": []
    },
    {
      "cell_type": "code",
      "source": [
        "import math as ma"
      ],
      "metadata": {
        "id": "7_OUuMRhFYcE"
      },
      "execution_count": null,
      "outputs": []
    },
    {
      "cell_type": "code",
      "source": [
        "ma.sqrt(4.0)"
      ],
      "metadata": {
        "colab": {
          "base_uri": "https://localhost:8080/"
        },
        "id": "CotTODxyFNCA",
        "outputId": "4c9fbec8-59b7-4130-daeb-17400ff63e6b"
      },
      "execution_count": null,
      "outputs": [
        {
          "output_type": "execute_result",
          "data": {
            "text/plain": [
              "2.0"
            ]
          },
          "metadata": {},
          "execution_count": 68
        }
      ]
    },
    {
      "cell_type": "code",
      "source": [
        "# 모듈의 일부만 가져오는\n",
        "\n",
        "from 모듈 import 함수\n",
        "from 모듈 import 클래스"
      ],
      "metadata": {
        "id": "xpuTEyqoFQau"
      },
      "execution_count": null,
      "outputs": []
    },
    {
      "cell_type": "code",
      "source": [
        "from math import sqrt"
      ],
      "metadata": {
        "id": "oJGwgOF6FbmY"
      },
      "execution_count": null,
      "outputs": []
    },
    {
      "cell_type": "code",
      "source": [
        "sqrt(4.0)"
      ],
      "metadata": {
        "colab": {
          "base_uri": "https://localhost:8080/"
        },
        "id": "hWJCt7F6FgaO",
        "outputId": "d18e59c3-5849-4489-d8cb-47d1e3ca059a"
      },
      "execution_count": null,
      "outputs": [
        {
          "output_type": "execute_result",
          "data": {
            "text/plain": [
              "2.0"
            ]
          },
          "metadata": {},
          "execution_count": 70
        }
      ]
    },
    {
      "cell_type": "code",
      "source": [
        "# 이름을 지정할 수 있다.\n",
        "from math import sqrt as sq"
      ],
      "metadata": {
        "id": "H_vSk83mFheG"
      },
      "execution_count": null,
      "outputs": []
    },
    {
      "cell_type": "code",
      "source": [
        "sq(4.0)"
      ],
      "metadata": {
        "colab": {
          "base_uri": "https://localhost:8080/"
        },
        "id": "6hw95wVtJGzF",
        "outputId": "b3c376ec-5c4f-438f-8b4c-a3fd95b3c3d1"
      },
      "execution_count": null,
      "outputs": [
        {
          "output_type": "execute_result",
          "data": {
            "text/plain": [
              "2.0"
            ]
          },
          "metadata": {},
          "execution_count": 72
        }
      ]
    },
    {
      "cell_type": "markdown",
      "source": [
        "#1.2 패키지 가져오기"
      ],
      "metadata": {
        "id": "fIKe0vlmJL9o"
      }
    },
    {
      "cell_type": "code",
      "source": [
        "import urllib.request"
      ],
      "metadata": {
        "id": "OgN2zRH6JI92"
      },
      "execution_count": null,
      "outputs": []
    },
    {
      "cell_type": "code",
      "source": [
        "response = urllib.request.urlopen('http://www.google.co.kr')"
      ],
      "metadata": {
        "id": "9UoN-5-XJO0g"
      },
      "execution_count": null,
      "outputs": []
    },
    {
      "cell_type": "code",
      "source": [
        "response.status"
      ],
      "metadata": {
        "colab": {
          "base_uri": "https://localhost:8080/"
        },
        "id": "S8MGaNgmJPkO",
        "outputId": "5c874189-af86-4280-c33a-cd04187368be"
      },
      "execution_count": null,
      "outputs": [
        {
          "output_type": "execute_result",
          "data": {
            "text/plain": [
              "200"
            ]
          },
          "metadata": {},
          "execution_count": 75
        }
      ]
    },
    {
      "cell_type": "code",
      "source": [
        "import urllib.request as r"
      ],
      "metadata": {
        "id": "60NeXfleJQnA"
      },
      "execution_count": null,
      "outputs": []
    },
    {
      "cell_type": "code",
      "source": [
        "from urllib.request import Request, urlopen"
      ],
      "metadata": {
        "id": "-xEEwFn2JeIw"
      },
      "execution_count": null,
      "outputs": []
    },
    {
      "cell_type": "code",
      "source": [
        "from urllib.request import *"
      ],
      "metadata": {
        "id": "nwIaZDUvJeU3"
      },
      "execution_count": null,
      "outputs": []
    },
    {
      "cell_type": "code",
      "source": [
        "from 패키지.모듈 import 변수 as 이름, 함수 as 이름, 클래스 as 이름"
      ],
      "metadata": {
        "id": "6p7LVQknJmSM"
      },
      "execution_count": null,
      "outputs": []
    },
    {
      "cell_type": "code",
      "source": [
        "!pip install Faker"
      ],
      "metadata": {
        "colab": {
          "base_uri": "https://localhost:8080/"
        },
        "id": "QQRxvb0NJwOZ",
        "outputId": "3a9c63a8-0a0b-4b67-8809-2a1a3dbc56b4"
      },
      "execution_count": null,
      "outputs": [
        {
          "output_type": "stream",
          "name": "stdout",
          "text": [
            "Looking in indexes: https://pypi.org/simple, https://us-python.pkg.dev/colab-wheels/public/simple/\n",
            "Collecting Faker\n",
            "  Downloading Faker-18.9.0-py3-none-any.whl (1.7 MB)\n",
            "\u001b[2K     \u001b[90m━━━━━━━━━━━━━━━━━━━━━━━━━━━━━━━━━━━━━━━━\u001b[0m \u001b[32m1.7/1.7 MB\u001b[0m \u001b[31m19.2 MB/s\u001b[0m eta \u001b[36m0:00:00\u001b[0m\n",
            "\u001b[?25hRequirement already satisfied: python-dateutil>=2.4 in /usr/local/lib/python3.10/dist-packages (from Faker) (2.8.2)\n",
            "Requirement already satisfied: six>=1.5 in /usr/local/lib/python3.10/dist-packages (from python-dateutil>=2.4->Faker) (1.16.0)\n",
            "Installing collected packages: Faker\n",
            "Successfully installed Faker-18.9.0\n"
          ]
        }
      ]
    },
    {
      "cell_type": "code",
      "source": [
        "# 이번에는 pip을 사용하여 유용한 외부 라이브러리중 하나인 faker를 설치하고 사용해 보자. \n",
        "# faker는 테스트용 가짜 데이터를 생성할 때 사용하는 라이브러리이다.\n",
        "\n",
        "# 만약 다음과 같은 형식의 테스트 데이터 30건이 필요하다고 가정해 보자. \n",
        "# 직접 데이터를 작성하지 말고 좀 더 편리한 방법으로 테스트 데이터를 만들려면 어떻게 해야 할까?"
      ],
      "metadata": {
        "id": "hBZebxCZJxMr"
      },
      "execution_count": null,
      "outputs": []
    },
    {
      "cell_type": "code",
      "source": [
        "[(이름1, 주소1), (이름2, 주소2), ..., (이름30, 주소30)]"
      ],
      "metadata": {
        "id": "SQB7Hnn4J8Z_"
      },
      "execution_count": null,
      "outputs": []
    },
    {
      "cell_type": "code",
      "source": [
        "from faker import Faker\n",
        "fake = Faker()\n",
        "fake.name()"
      ],
      "metadata": {
        "colab": {
          "base_uri": "https://localhost:8080/",
          "height": 35
        },
        "id": "MGvZb2YeKgOH",
        "outputId": "16e8cd1a-1f1d-436a-bc11-ade34076a7cc"
      },
      "execution_count": null,
      "outputs": [
        {
          "output_type": "execute_result",
          "data": {
            "text/plain": [
              "'Lonnie Christensen'"
            ],
            "application/vnd.google.colaboratory.intrinsic+json": {
              "type": "string"
            }
          },
          "metadata": {},
          "execution_count": 78
        }
      ]
    },
    {
      "cell_type": "code",
      "source": [
        "fake = Faker('ko-KR')\n",
        "fake.name()"
      ],
      "metadata": {
        "colab": {
          "base_uri": "https://localhost:8080/",
          "height": 35
        },
        "id": "YNOt88ZsKhS4",
        "outputId": "036a389c-9884-48c9-e8dc-3916e58054c2"
      },
      "execution_count": null,
      "outputs": [
        {
          "output_type": "execute_result",
          "data": {
            "text/plain": [
              "'김영희'"
            ],
            "application/vnd.google.colaboratory.intrinsic+json": {
              "type": "string"
            }
          },
          "metadata": {},
          "execution_count": 80
        }
      ]
    },
    {
      "cell_type": "code",
      "source": [
        "fake.address()"
      ],
      "metadata": {
        "colab": {
          "base_uri": "https://localhost:8080/",
          "height": 35
        },
        "id": "-xJxzLBnKmdB",
        "outputId": "23ad6e57-990b-4ad7-e11e-852de2badb31"
      },
      "execution_count": null,
      "outputs": [
        {
          "output_type": "execute_result",
          "data": {
            "text/plain": [
              "'울산광역시 강남구 백제고분2로 (성훈장우리)'"
            ],
            "application/vnd.google.colaboratory.intrinsic+json": {
              "type": "string"
            }
          },
          "metadata": {},
          "execution_count": 81
        }
      ]
    },
    {
      "cell_type": "code",
      "source": [
        "test_data = [(fake.name(), fake.address(), fake.phone_number()) for i in range (30)]"
      ],
      "metadata": {
        "id": "R3O00K71KqEz"
      },
      "execution_count": null,
      "outputs": []
    },
    {
      "cell_type": "code",
      "source": [
        "fake.catch_phrase()"
      ],
      "metadata": {
        "colab": {
          "base_uri": "https://localhost:8080/",
          "height": 35
        },
        "id": "fTepuEzQMOTI",
        "outputId": "2b8d1daa-df0e-4a2f-825d-889ffa84e354"
      },
      "execution_count": null,
      "outputs": [
        {
          "output_type": "execute_result",
          "data": {
            "text/plain": [
              "'줄어든 작동 데이터베이스'"
            ],
            "application/vnd.google.colaboratory.intrinsic+json": {
              "type": "string"
            }
          },
          "metadata": {},
          "execution_count": 93
        }
      ]
    },
    {
      "cell_type": "code",
      "source": [
        "test_data"
      ],
      "metadata": {
        "colab": {
          "base_uri": "https://localhost:8080/"
        },
        "id": "OEI4ILpAKzs8",
        "outputId": "05abd6c1-ab9b-46a6-f008-47236b061b02"
      },
      "execution_count": null,
      "outputs": [
        {
          "output_type": "execute_result",
          "data": {
            "text/plain": [
              "[('이상호', '대구광역시 마포구 가락로 (지은박면)', '054-668-9343'),\n",
              " ('김지연', '전라남도 청주시 서원구 반포대98가 (서영강이읍)', '042-645-6262'),\n",
              " ('김은영', '광주광역시 은평구 잠실거리 (정남이읍)', '02-1272-5650'),\n",
              " ('류경자', '대구광역시 도봉구 강남대거리 (은지김읍)', '051-006-0195'),\n",
              " ('우지은', '부산광역시 성북구 학동거리 (지연김이면)', '02-9514-6022'),\n",
              " ('김준호', '전라북도 화성시 잠실로 (현주이장리)', '052-410-3625'),\n",
              " ('김준서', '강원도 연천군 테헤란9가', '052-095-1946'),\n",
              " ('이수민', '경상북도 성남시 중원구 잠실로', '063-170-8766'),\n",
              " ('박민재', '대구광역시 서구 압구정0거리', '011-922-1241'),\n",
              " ('김영철', '대구광역시 용산구 영동대01거리 (성현윤마을)', '011-022-8750'),\n",
              " ('윤민재', '충청북도 부천시 오정구 가락가', '033-267-6168'),\n",
              " ('김정수', '울산광역시 강북구 언주3거리 (도현최황마을)', '062-980-1753'),\n",
              " ('최미경', '경상북도 서산시 압구정449길', '018-474-5075'),\n",
              " ('이정호', '대구광역시 강서구 강남대891길', '062-577-0541'),\n",
              " ('김영호', '광주광역시 성북구 테헤란7가 (서윤김최리)', '042-570-7894'),\n",
              " ('김성훈', '대구광역시 관악구 압구정452거리', '017-574-1599'),\n",
              " ('박민수', '세종특별자치시 양천구 오금9가', '043-143-9024'),\n",
              " ('김준영', '서울특별시 송파구 봉은사길', '043-878-1390'),\n",
              " ('김옥자', '서울특별시 강서구 가락64가', '019-433-5671'),\n",
              " ('박서윤', '울산광역시 강북구 선릉로', '016-929-0620'),\n",
              " ('김지혜', '충청남도 아산시 서초중앙917가 (보람서동)', '018-682-6255'),\n",
              " ('안건우', '강원도 가평군 학동길', '033-230-0414'),\n",
              " ('이성진', '제주특별자치도 아산시 압구정거리 (영수한박면)', '055-165-3899'),\n",
              " ('김상철', '인천광역시 송파구 테헤란50길 (영자김동)', '031-721-6007'),\n",
              " ('김미영', '세종특별자치시 도봉구 석촌호수길', '042-234-1809'),\n",
              " ('최동현', '제주특별자치도 고양시 잠실179가', '044-872-5417'),\n",
              " ('조정수', '전라북도 고양시 반포대가', '054-908-7050'),\n",
              " ('배미정', '대전광역시 동구 테헤란37길 (병철진면)', '042-832-8154'),\n",
              " ('박하은', '세종특별자치시 종로구 선릉9로', '044-475-2234'),\n",
              " ('이지현', '충청남도 의정부시 역삼4가 (은영이이면)', '053-975-4931')]"
            ]
          },
          "metadata": {},
          "execution_count": 94
        }
      ]
    },
    {
      "cell_type": "code",
      "source": [
        "항목\t설명\n",
        "fake.name()\t이름\n",
        "fake.address()\t주소\n",
        "fake.postcode()\t우편 번호\n",
        "fake.country()\t국가명\n",
        "fake.company()\t회사명\n",
        "fake.job()\t직업명\n",
        "fake.phone_number()\t휴대 전화 번호\n",
        "fake.email()\t이메일 주소\n",
        "fake.user_name()\t사용자명\n",
        "fake.pyint(min_value=0, max_value=100)\t0부터 100 사이의 임의의 숫자\n",
        "fake.ipv4_private()\tIP 주소\n",
        "fake.text()\t임의의 문장 (한글 임의의 문장은 fake.catch_phrase() 사용)\n",
        "fake.color_name()\t색상명"
      ],
      "metadata": {
        "id": "MjToqooTK4qn"
      },
      "execution_count": null,
      "outputs": []
    },
    {
      "cell_type": "code",
      "source": [
        "# [모듈 만들기]\n",
        "\n",
        "theater_module.py 라는 파이썬 파일을 만들어서 이 파일에 사람수에 따른 영화표 가격을 계산하는 함수 3개를 정의하려고한다.\n",
        "코드는 다음과 같다. \n",
        "이 파일은 사람 수에 따른 영화표 가격을 계산하는 함수 3개입니다.\n",
        "첫번째 price는 1인당 영화표 1만원, 두번째는 학생할인으로 20% 할인, 세번째는 VIP석으로 1.5만원으로 출력합니다."
      ],
      "metadata": {
        "id": "LRYjjTryRrfv"
      },
      "execution_count": null,
      "outputs": []
    },
    {
      "cell_type": "code",
      "source": [
        "#경로설정\n",
        "import os\n",
        "os.chdir(\"/content/sample_data\")"
      ],
      "metadata": {
        "id": "M_6AJEkeRuuQ"
      },
      "execution_count": null,
      "outputs": []
    },
    {
      "cell_type": "code",
      "source": [
        "import theater_module_test as th"
      ],
      "metadata": {
        "id": "uXGsuGbIRw67"
      },
      "execution_count": null,
      "outputs": []
    },
    {
      "cell_type": "code",
      "source": [
        "th.price(6)"
      ],
      "metadata": {
        "colab": {
          "base_uri": "https://localhost:8080/"
        },
        "id": "KV49kDuWR1Oe",
        "outputId": "4ff7f66c-27d6-4864-af90-11c4c52b95f8"
      },
      "execution_count": null,
      "outputs": [
        {
          "output_type": "stream",
          "name": "stdout",
          "text": [
            "영화표 가격은 60000 입니다.\n"
          ]
        }
      ]
    },
    {
      "cell_type": "code",
      "source": [
        "th.price_student(4)"
      ],
      "metadata": {
        "colab": {
          "base_uri": "https://localhost:8080/"
        },
        "id": "BRNvxNeOR-f2",
        "outputId": "ee14ec50-710d-4e0c-d962-b000d8c9d193"
      },
      "execution_count": null,
      "outputs": [
        {
          "output_type": "stream",
          "name": "stdout",
          "text": [
            "영화표 가격은 8000.0 입니다.\n"
          ]
        }
      ]
    },
    {
      "cell_type": "code",
      "source": [
        "th.price_vip(8)"
      ],
      "metadata": {
        "colab": {
          "base_uri": "https://localhost:8080/"
        },
        "id": "7Xh41VG5SDur",
        "outputId": "5a4f815d-418d-4fda-aa62-a3f9179325b7"
      },
      "execution_count": null,
      "outputs": [
        {
          "output_type": "stream",
          "name": "stdout",
          "text": [
            "영화표 가격은 120000 입니다.\n"
          ]
        }
      ]
    },
    {
      "cell_type": "code",
      "source": [
        "from theater_module_test import *"
      ],
      "metadata": {
        "id": "N66P0OhsSHwe"
      },
      "execution_count": null,
      "outputs": []
    },
    {
      "cell_type": "code",
      "source": [
        "price(10)"
      ],
      "metadata": {
        "colab": {
          "base_uri": "https://localhost:8080/"
        },
        "id": "NyOL9SdsSa9Z",
        "outputId": "6dd9f07e-1f32-4452-8059-fa9addaed1ac"
      },
      "execution_count": null,
      "outputs": [
        {
          "output_type": "stream",
          "name": "stdout",
          "text": [
            "영화표 가격은 100000 입니다.\n"
          ]
        }
      ]
    },
    {
      "cell_type": "code",
      "source": [
        "# 패키지 만들기"
      ],
      "metadata": {
        "id": "1pKgGFgqScXe"
      },
      "execution_count": null,
      "outputs": []
    },
    {
      "cell_type": "code",
      "source": [
        "import os\n",
        "os.chdir(\"/content/sample_data\")"
      ],
      "metadata": {
        "id": "5BGswoe0S9aZ"
      },
      "execution_count": 1,
      "outputs": []
    },
    {
      "cell_type": "code",
      "source": [
        "import pkg_ex.pkg_kr"
      ],
      "metadata": {
        "id": "-WAgdH2HU4lG"
      },
      "execution_count": null,
      "outputs": []
    },
    {
      "cell_type": "code",
      "source": [
        "trip = pkg_ex.pkg_kr.SeoulPkg()"
      ],
      "metadata": {
        "id": "cGp17gAGVKWX"
      },
      "execution_count": null,
      "outputs": []
    },
    {
      "cell_type": "code",
      "source": [
        "trip.detail()"
      ],
      "metadata": {
        "colab": {
          "base_uri": "https://localhost:8080/"
        },
        "id": "mRmoevU-VcUr",
        "outputId": "fd380e6d-4678-4b86-d44a-bbad1e9e1355"
      },
      "execution_count": null,
      "outputs": [
        {
          "output_type": "stream",
          "name": "stdout",
          "text": [
            "[서울 도심 패키지] 호캉스 100만원\n"
          ]
        }
      ]
    },
    {
      "cell_type": "code",
      "source": [
        "import pkg_ex.pkg_jp as jp"
      ],
      "metadata": {
        "id": "NuqDh6_0VeoB"
      },
      "execution_count": null,
      "outputs": []
    },
    {
      "cell_type": "code",
      "source": [
        "trip_jp = jp.OsakaPkg()\n",
        "trip_jp.detail()"
      ],
      "metadata": {
        "colab": {
          "base_uri": "https://localhost:8080/"
        },
        "id": "gi5u1LfiVmGa",
        "outputId": "20a91513-021b-4640-94fb-0c39fd01704d"
      },
      "execution_count": null,
      "outputs": [
        {
          "output_type": "stream",
          "name": "stdout",
          "text": [
            "[오사카] 유니버셜 패키지 100만원\n"
          ]
        }
      ]
    },
    {
      "cell_type": "markdown",
      "source": [
        "#모듈 공개 설정"
      ],
      "metadata": {
        "id": "zIhgjjKVWJRI"
      }
    },
    {
      "cell_type": "code",
      "source": [
        "# 우리는 보통 모든 패키지를 불러올때 다음과 같이 사용하죠\n",
        "from random import *"
      ],
      "metadata": {
        "id": "YsAejTkSVvxv"
      },
      "execution_count": null,
      "outputs": []
    },
    {
      "cell_type": "code",
      "source": [
        "from pkg_ex import *"
      ],
      "metadata": {
        "id": "JiBPg72SWM9S"
      },
      "execution_count": 2,
      "outputs": []
    },
    {
      "cell_type": "code",
      "source": [
        "trip_ex = pkg_kr.SeoulPkg() #서울의 서울 패키지\n",
        "trip_ex.detail()"
      ],
      "metadata": {
        "colab": {
          "base_uri": "https://localhost:8080/"
        },
        "id": "RZ5vVghwWN2C",
        "outputId": "04752eda-5e27-4ce4-8f28-6acc4516cb65"
      },
      "execution_count": 6,
      "outputs": [
        {
          "output_type": "stream",
          "name": "stdout",
          "text": [
            "[서울 도심 패키지] 호캉스 100만원\n"
          ]
        }
      ]
    },
    {
      "cell_type": "code",
      "source": [
        "trip_ex = pkg_jp.OsakaPkg() #오사카의 서울 패키지\n",
        "trip_ex.detail()"
      ],
      "metadata": {
        "colab": {
          "base_uri": "https://localhost:8080/"
        },
        "id": "5vvVGuACW2fw",
        "outputId": "c8c07236-5078-4bb1-a526-2dd209a989bd"
      },
      "execution_count": 3,
      "outputs": [
        {
          "output_type": "stream",
          "name": "stdout",
          "text": [
            "[오사카] 유니버셜 패키지 100만원\n"
          ]
        }
      ]
    },
    {
      "cell_type": "code",
      "source": [
        "# 아까와 같이 실행했는데 다음과 같이 오류가 뜨게 됩니다. import 할때 *로 표시한다는 것은\n",
        "# pkg_ex에 있는 모든 기능을 가져다 쓴다는 뜻인데 왜 실행이 안됐을까요?\n",
        "\n",
        "# 아직 공개설정이 안되서 그렇습니다.\n",
        "# 패키지는 공개범위를 설정할 수 있습니다.\n",
        "# 여러분께서도 공개하고 싶지 않은 것에 대해서는 사용할 수 없게 비공개로 둘수도 있어요\n",
        "\n",
        "# 앞서 아무 기능을 하지 않았던 __init__.py를 기억할텐데 다음과 같이 설정하면 공개설정을 할 수 있어요"
      ],
      "metadata": {
        "id": "ZmWWGudHWX40"
      },
      "execution_count": null,
      "outputs": []
    },
    {
      "cell_type": "code",
      "source": [
        "# 재정의 후 다시 실행\n",
        "\n",
        "from pkg_ex import *\n",
        "\n",
        "trip_ex2 = pkg_jp.OsakaPkg() #일본의 오사카 패키지\n",
        "trip_ex2.detail()"
      ],
      "metadata": {
        "id": "UKWeNgZTWaNv",
        "colab": {
          "base_uri": "https://localhost:8080/"
        },
        "outputId": "39e0fe58-57aa-4e3d-821c-df9aa70c87f4"
      },
      "execution_count": 4,
      "outputs": [
        {
          "output_type": "stream",
          "name": "stdout",
          "text": [
            "[오사카] 유니버셜 패키지 100만원\n"
          ]
        }
      ]
    },
    {
      "cell_type": "code",
      "source": [
        "if __name__ == \"__main__\":\n",
        "  pass\n",
        "else:\n",
        "  pass"
      ],
      "metadata": {
        "id": "9RKC31sBXb80"
      },
      "execution_count": 10,
      "outputs": []
    },
    {
      "cell_type": "code",
      "source": [
        "#__name__은 현재 모듈의 이름을 값으로 가지는 내장 변수입니다. \n",
        "#그래서 앞의 코드와 같이 작성하면 파일이 실행될때 if문이 실행되게 되고, \n",
        "#__main__이 아닌 그 모듈의 이름을 가져오게 됩니다."
      ],
      "metadata": {
        "id": "buCeAE87XgGN"
      },
      "execution_count": 6,
      "outputs": []
    },
    {
      "cell_type": "code",
      "source": [
        "# pkg_ex 패키지의 seoul.py에서 SeoulPkg() 클래스 정의 아래에 다음과 같이 코드를 쓰면\n",
        "# __name__변수가 __main__일때 \n",
        "# 모듈을 직접 실행하는 경우에는 if문에서 출력문과 함께 detail() 메서드를 호출하고\n",
        "# 그렇지 않으면 else문으로 호출 안내 문구를 넣어봅시다."
      ],
      "metadata": {
        "id": "UCIMCUumXjBf"
      },
      "execution_count": 7,
      "outputs": []
    },
    {
      "cell_type": "code",
      "source": [
        "#파일명 seoul_new.py\n",
        "\n",
        "class SeoulPkg:\n",
        "  def detail(self):\n",
        "    print(\"[서울 도심 패키지] 호캉스 100만원\")\n",
        "\n",
        "if __name__ == \"__main__\":\n",
        "  print(\"seoul 모듈 직접 실행되었습니다.\")\n",
        "  trip_seoul = SeoulPkg()\n",
        "  trip_seoul.detail()\n",
        "else:\n",
        "  print(\"외부에서 seoul 모듈 실행되었습니다.\")"
      ],
      "metadata": {
        "colab": {
          "base_uri": "https://localhost:8080/"
        },
        "id": "ivSrI5fUYaHH",
        "outputId": "5ee1e4ab-af57-48c3-d557-faa14fd6f7cc"
      },
      "execution_count": 8,
      "outputs": [
        {
          "output_type": "stream",
          "name": "stdout",
          "text": [
            "seoul 모듈 직접 실행되었습니다.\n",
            "[서울 도심 패키지] 호캉스 100만원\n"
          ]
        }
      ]
    },
    {
      "cell_type": "code",
      "source": [
        "import pkg_ex.seoul_new"
      ],
      "metadata": {
        "colab": {
          "base_uri": "https://localhost:8080/"
        },
        "id": "d7FaTXrLYad-",
        "outputId": "28eaba8b-ad4e-4b8e-8069-2376b339aa05"
      },
      "execution_count": 2,
      "outputs": [
        {
          "output_type": "stream",
          "name": "stdout",
          "text": [
            "외부에서 seoul 모듈 실행되었습니다.\n"
          ]
        }
      ]
    },
    {
      "cell_type": "code",
      "source": [],
      "metadata": {
        "id": "DsdqTNFZYwZB"
      },
      "execution_count": null,
      "outputs": []
    }
  ]
}